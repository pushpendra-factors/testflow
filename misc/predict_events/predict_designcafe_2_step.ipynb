{
  "cells": [
    {
      "cell_type": "markdown",
      "source": [
        "# 0. Pleasantries"
      ],
      "metadata": {
        "id": "hbVNR9OGBXaO"
      }
    },
    {
      "cell_type": "markdown",
      "source": [
        "## 0.1. Installs"
      ],
      "metadata": {
        "id": "MQSPYI99_34f"
      }
    },
    {
      "cell_type": "code",
      "source": [
        "!pip install matplotlib-venn --quiet\n",
        "!pip install catboost --quiet\n",
        "!pip install shap --quiet"
      ],
      "metadata": {
        "id": "q58ZcL-RVvzC",
        "colab": {
          "base_uri": "https://localhost:8080/"
        },
        "outputId": "8381bd31-6533-4f01-c153-fecbcd3b0c6a"
      },
      "execution_count": null,
      "outputs": [
        {
          "output_type": "stream",
          "name": "stdout",
          "text": [
            "\u001b[K     |████████████████████████████████| 76.8 MB 1.1 MB/s \n",
            "\u001b[K     |████████████████████████████████| 569 kB 14.0 MB/s \n",
            "\u001b[?25h"
          ]
        }
      ]
    },
    {
      "cell_type": "markdown",
      "source": [
        "## 0.2. Imports"
      ],
      "metadata": {
        "id": "ZLdfB_t6_7iq"
      }
    },
    {
      "cell_type": "code",
      "source": [
        "from collections import defaultdict\n",
        "import json\n",
        "import numpy as np\n",
        "import os\n",
        "import re\n",
        "import pandas as pd\n",
        "from pprint import pprint\n",
        "import shutil\n",
        "from tqdm.notebook import tqdm\n",
        "from matplotlib_venn import venn3, venn3_circles\n",
        "from matplotlib import pyplot as plt\n",
        "\n",
        "import catboost as cb\n",
        "import numpy as np\n",
        "import pandas as pd\n",
        "import seaborn as sns\n",
        "import shap\n",
        "# import load_boston\n",
        "from matplotlib import pyplot as plt\n",
        "# from sklearn.datasets \n",
        "from sklearn.model_selection import train_test_split\n",
        "from sklearn.metrics import mean_squared_error\n",
        "from sklearn.metrics import r2_score\n",
        "from sklearn.inspection import permutation_importance\n",
        "\n",
        "from sklearn.model_selection import train_test_split\n",
        "from collections import Counter\n"
      ],
      "metadata": {
        "id": "dK_sWdbDd78h"
      },
      "execution_count": null,
      "outputs": []
    },
    {
      "cell_type": "markdown",
      "source": [
        "## 0.3. Set permissions"
      ],
      "metadata": {
        "id": "-V0nEB3J9XPD"
      }
    },
    {
      "cell_type": "markdown",
      "source": [
        "### 0.3.1. Google Cloud"
      ],
      "metadata": {
        "id": "2Z9JUaWm9gLl"
      }
    },
    {
      "cell_type": "code",
      "execution_count": null,
      "metadata": {
        "id": "NQX0hbfYaEKc"
      },
      "outputs": [],
      "source": [
        "# from google.colab import auth\n",
        "# auth.authenticate_user()"
      ]
    },
    {
      "cell_type": "markdown",
      "source": [
        "### 0.3.2. Google Drive"
      ],
      "metadata": {
        "id": "s56ySREH9rcW"
      }
    },
    {
      "cell_type": "code",
      "execution_count": null,
      "metadata": {
        "colab": {
          "base_uri": "https://localhost:8080/"
        },
        "id": "K23IvHlxzSat",
        "outputId": "e71122b4-1b01-4eaa-f198-1c9bdf2c2c2b"
      },
      "outputs": [
        {
          "output_type": "stream",
          "name": "stdout",
          "text": [
            "Mounted at /content/drive\n"
          ]
        }
      ],
      "source": [
        "from google.colab import drive\n",
        "drive.mount('/content/drive')"
      ]
    },
    {
      "cell_type": "markdown",
      "source": [
        "# 1. Function Definitions"
      ],
      "metadata": {
        "id": "DPEWlUWSPiMf"
      }
    },
    {
      "cell_type": "code",
      "source": [
        "NI = 'No info.'\n",
        "SZ = 'Single Zero.'\n",
        "SNZ = 'Single Non-zero.'\n",
        "ZSNZ = 'Zero to Single Non-zero.'\n",
        "ZMNZ = 'Zero to Multiple Non-zeros.'\n",
        "MNZ = 'Multiple Non-zeros.'\n",
        "DEFAULT_EVENT_DF_THRES = 5\n",
        "\n",
        "\n",
        "ALL_NULLS = 'ALLNULL'\n",
        "ALL_UNIQS = 'ALLUNIQ'\n",
        "NN_ALL_UNIQS = 'NNALLUNIQ'\n",
        "MOST_NULLS = 'MOSTNULL'\n",
        "MOST_UNIQS = 'MOSTUNIQ'\n",
        "NN_MOST_UNIQS = 'NNMOSTUNIQ'\n",
        "\n",
        "MOST_NULL_PERC_THRES = 90\n",
        "MOST_UNIQ_PERC_THRES = 80\n",
        "NN_MOST_UNIQ_PERC_THRES = 90\n",
        "\n",
        "\n",
        "CUST_KEEP_UNIQ_COLS = {'uid'}\n",
        "CUST_DEL_COLS = {'en', 'upr:$joinTime', 'ecd',\n",
        "                 'epr:$salesforce_lead_first_date_of_contact_to_qualified_c__c',\n",
        "                 'epr:$salesforce_lead_first_date_of_contact_to_qualified_c__c'}\n",
        "CUST_TIME_COLS = {'ujt', 'et', 'epr:$salesforce_lead_systemmodstamp', 'upr:$salesforce_lead_systemmodstamp'}\n",
        "FORCED_CAT_COLS = {'epr:$salesforce_lead_round_robin_id__c', 'upr:$salesforce_lead_round_robin_id__c', 'epr:$salesforce_lead_is_designer_logged_in_for_report__c'}\n",
        "FORCED_NUM_COLS = {'epr:$salesforce_lead_lead_number__c', 'upr:$salesforce_lead_lead_number__c'}\n",
        "\n",
        "POSSIBLE_NULLS = {'nan'}\n",
        "\n",
        "numeric_dt_cols = {'upr:$initial_page_spent_time',\n",
        "                    'upr:$session_spent_time',\n",
        "                    'upr:$initial_page_load_time',\n",
        "                    'upr:$latest_page_load_time'}\n",
        "\n",
        "def get_prog_summary(amt_prog):\n",
        "    amounts_list = list(list(zip(*amt_prog))[0])\n",
        "    amounts_set = set(amounts_list)\n",
        "    num_uniq_amounts = len(amounts_set)\n",
        "    if num_uniq_amounts == 0:\n",
        "        return NI\n",
        "    if num_uniq_amounts == 1:\n",
        "        if amounts_list[0] == 0:\n",
        "            return SZ\n",
        "        else:\n",
        "            return SNZ\n",
        "    else:\n",
        "        uniq_amounts_seq = list(sorted(amounts_set))\n",
        "        if uniq_amounts_seq[0] == 0:\n",
        "            if len(uniq_amounts_seq) == 2:\n",
        "                return ZSNZ\n",
        "            else:\n",
        "                if uniq_amounts_seq[1:][0] == uniq_amounts_seq[1:][-1]:\n",
        "                    return ZSNZ\n",
        "                else:\n",
        "                    return ZMNZ\n",
        "        if uniq_amounts_seq[0] > 0:\n",
        "            return MNZ\n",
        "        return amounts_list\n",
        "    return amounts_list\n",
        "\n",
        "def resolve_amount(row):\n",
        "    if row['prog_summary'] == SNZ:\n",
        "        return row['amt_progression'][0]\n",
        "    if row['prog_summary'] == SZ:\n",
        "        return (0.0, row['amt_progression'][0][1])\n",
        "    if row['prog_summary'] == ZSNZ:\n",
        "        return row['amt_progression'][-1]\n",
        "    if row['prog_summary'] in {MNZ, ZMNZ}:\n",
        "        return row['amt_progression'][-1]\n",
        "\n",
        "\n",
        "def parse_event(line):\n",
        "    event = json.loads(line)\n",
        "    return event\n",
        "\n",
        "\n",
        "def flatten_properties(event):\n",
        "    epr = {f'epr:{k}': v for k, v in event['epr'].items()}\n",
        "    upr = {f'upr:{k}': v for k, v in event['upr'].items()}\n",
        "    event.pop('epr', None)\n",
        "    event.pop('upr', None)\n",
        "    event.update(epr)\n",
        "    event.update(upr)\n",
        "\n",
        "def read_linear_json_file(linear_json_file_path,\n",
        "                          n_rows=None):\n",
        "    lines = []\n",
        "    with open(linear_json_file_path) as f:\n",
        "        for line in tqdm(f, total = n_rows):\n",
        "            lines.append(parse_event(line))\n",
        "    df = pd.DataFrame(lines)\n",
        "    return df\n",
        "\n",
        "def read_data_from_events_file(events_file_path,\n",
        "                             n_rows=None,\n",
        "                             flatten_properties_flag=True,\n",
        "                             base_events_mode=False):\n",
        "    # eligible_events = {base_en, target_en}\n",
        "    # user_events_count_dist = defaultdict(int)\n",
        "    user_events = []\n",
        "    prev_user_id = None\n",
        "    # f_name = f'/tmp/{date}.txt'\n",
        "    i = 0\n",
        "    # sampled_data = []\n",
        "    data = []\n",
        "    # print('Parsing and sampling (if ratio < 1) data...')\n",
        "    with open(events_file_path) as f:\n",
        "        for line in tqdm(f, total = n_rows):\n",
        "            event = parse_event(line)\n",
        "            if base_events_mode:\n",
        "                gid = event['gid']\n",
        "                event = event['ev']\n",
        "                event['$gid'] = gid\n",
        "            user_id = event['uid']\n",
        "            if prev_user_id is None:\n",
        "                prev_user_id = user_id\n",
        "            if user_id == prev_user_id:\n",
        "                user_events.append(event)\n",
        "            else:\n",
        "                # if (users_sample_ratio >= 1) or (np.random.rand() < users_sample_ratio):\n",
        "                #     uniq_events = {e['en'] for e in user_events}\n",
        "                #     if len(uniq_events.intersection(eligible_events)) > 0: # If at least one event is eligible\n",
        "                #         sampled_data.append(user_events)\n",
        "                data.append(user_events)\n",
        "                user_events = [event]\n",
        "            prev_user_id = user_id\n",
        "            i += 1\n",
        "        # uniq_events = {e['en'] for e in user_events}\n",
        "        # if len(uniq_events.intersection(eligible_events)) > 0: # If at least one event is eligible\n",
        "        #     sampled_data.append(user_events)\n",
        "        data.append(user_events)\n",
        "    print('Done parsing.')\n",
        "    if flatten_properties_flag:\n",
        "        print('Flattening properties...')\n",
        "        for i in tqdm(range(len(data))):\n",
        "            for j in range(len(data[i])):\n",
        "                flatten_properties(data[i][j])\n",
        "    temp = []\n",
        "    for events in data:\n",
        "        temp.extend(events)\n",
        "    del data\n",
        "    print('Preparing dataframe...')\n",
        "    df = pd.DataFrame(temp)\n",
        "    return df\n",
        "\n",
        "def shorten_stream_code(stream_code):\n",
        "    return(re.sub(r\"(.)\\1+\", r\"\\1\", stream_code))\n",
        "\n",
        "\n",
        "def train_classifier(X, y, test_ratio=0.2, categorical_feat_ids=None, silent=False):\n",
        "    X_train, X_test, y_train, y_test = train_test_split(X, y, test_size = test_ratio, random_state=5)\n",
        "    train_dataset = cb.Pool(X_train, y_train, cat_features = categorical_feat_ids)\n",
        "    model = cb.CatBoostClassifier(loss_function='Logloss',\n",
        "                                iterations=100,\n",
        "                                learning_rate=0.1,\n",
        "                                depth=4,\n",
        "                                l2_leaf_reg=0.5)\n",
        "    model.fit(train_dataset, silent=silent)\n",
        "    data_split = {'X_train': X_train,\n",
        "                    'X_test': X_test,\n",
        "                    'y_train': y_train,\n",
        "                    'y_test': y_test}\n",
        "    return model, data_split\n",
        "\n",
        "\n",
        "def train_regressor(X, y, test_ratio=0.2, categorical_feat_ids=None, silent=False):\n",
        "    X_train, X_test, y_train, y_test = train_test_split(X, y, test_size = test_ratio, random_state=5)\n",
        "    train_dataset = cb.Pool(X_train, y_train, cat_features = categorical_feat_ids)\n",
        "    model = cb.CatBoostRegressor(loss_function='RMSE',\n",
        "                                iterations=100,\n",
        "                                learning_rate=0.1,\n",
        "                                depth=4,\n",
        "                                l2_leaf_reg=0.5)\n",
        "    model.fit(train_dataset, silent=silent)\n",
        "    data_split = {'X_train': X_train,\n",
        "                    'X_test': X_test,\n",
        "                    'y_train': y_train,\n",
        "                    'y_test': y_test}\n",
        "    return model, data_split\n",
        "\n",
        "\n",
        "def get_model_perf(model, data_split, mode='regressor'):\n",
        "    X_train, X_test, y_train, y_test = [data_split[x] for x in ['X_train', 'X_test', 'y_train', 'y_test']]\n",
        "    train_pred = model.predict(X_train)\n",
        "    test_pred = model.predict(X_test)\n",
        "    if mode == 'regressor':\n",
        "        train_rmse = (np.sqrt(mean_squared_error(y_train, train_pred)))\n",
        "        train_r2 = r2_score(y_train, train_pred)\n",
        "        test_rmse = (np.sqrt(mean_squared_error(y_test, test_pred)))\n",
        "        test_r2 = r2_score(y_test, test_pred)\n",
        "        model_df = pd.DataFrame({'param_value': model._get_params()}).T\n",
        "        model_df['algorithm'] = 'CatBoostRegressor'\n",
        "        model_df['test_split_ratio'] = 0.2\n",
        "        model_df['train_rmse'] = round(train_rmse, 4)\n",
        "        model_df['train_r2'] = round(train_r2, 4)\n",
        "        model_df['test_rmse'] = round(test_rmse, 4)\n",
        "        model_df['test_r2'] = round(test_r2, 4)\n",
        "        model_df = model_df.T\n",
        "    elif mode == 'classifier':\n",
        "        train_pp = model.predict_proba()\n",
        "        train_auc = (np.sqrt(mean_squared_error(y_train, train_pred)))\n",
        "        train_auc = r2_score(y_train, train_pred)\n",
        "        test_pred = model.predict(X_test)\n",
        "        test_rmse = (np.sqrt(mean_squared_error(y_test, test_pred)))\n",
        "        test_r2 = r2_score(y_test, test_pred)\n",
        "        model_df = pd.DataFrame({'param_value': model._get_params()}).T\n",
        "        model_df['algorithm'] = 'CatBoostRegressor'\n",
        "        model_df['test_split_ratio'] = 0.2\n",
        "        model_df['train_rmse'] = round(train_rmse, 4)\n",
        "        model_df['train_r2'] = round(train_r2, 4)\n",
        "        model_df['test_rmse'] = round(test_rmse, 4)\n",
        "        model_df['test_r2'] = round(test_r2, 4)\n",
        "        model_df = model_df.T\n",
        "    return model_df\n",
        "\n",
        "\n",
        "def get_compare_dfs(model, data_split):\n",
        "    X_train, X_test, y_train, y_test = [data_split[x] for x in ['X_train', 'X_test', 'y_train', 'y_test']]\n",
        "    train_compare_df = pd.DataFrame(y_train).copy(deep=True)\n",
        "    train_pred = model.predict(X_train)\n",
        "    train_compare_df['pred'] = train_pred.round(4)\n",
        "    train_compare_df = train_compare_df.reset_index().rename(columns={'index': 'uid', '$target_amt': 'actual_deal_value (A)', 'pred': 'predicted_deal_value (P)'})\n",
        "    train_compare_df = train_compare_df[['uid', 'actual_deal_value (A)', 'predicted_deal_value (P)']]\n",
        "    train_compare_df['abs_error (|A-P|)'] = (train_compare_df['actual_deal_value (A)'] - train_compare_df['predicted_deal_value (P)']).abs().round(4)\n",
        "    train_compare_df['rel_error (|A-P|/A)'] = ((train_compare_df['actual_deal_value (A)'] + 1 - train_compare_df['predicted_deal_value (P)']).abs() / (train_compare_df['actual_deal_value (A)'] + 1)).round(4)\n",
        "    train_compare_df = train_compare_df.sort_values('rel_error (|A-P|/A)')\n",
        "    test_compare_df = pd.DataFrame(y_test).copy(deep=True)\n",
        "    test_pred = model.predict(X_test)\n",
        "    test_compare_df['pred'] = test_pred.round(4)\n",
        "    test_compare_df = test_compare_df.reset_index().rename(columns={'index': 'uid', '$target_amt': 'actual_deal_value (A)', 'pred': 'predicted_deal_value (P)'})\n",
        "    test_compare_df = test_compare_df[['uid', 'actual_deal_value (A)', 'predicted_deal_value (P)']]\n",
        "    test_compare_df['abs_error (|A-P|)'] = (test_compare_df['actual_deal_value (A)'] - test_compare_df['predicted_deal_value (P)']).abs().round(4)\n",
        "    test_compare_df['rel_error (|A-P|/A)'] = ((test_compare_df['actual_deal_value (A)'] + 1 - test_compare_df['predicted_deal_value (P)']).abs() / (test_compare_df['actual_deal_value (A)'] + 1)).round(4)\n",
        "    test_compare_df = test_compare_df.sort_values('rel_error (|A-P|/A)')\n",
        "    return train_compare_df, test_compare_df"
      ],
      "metadata": {
        "id": "CL3DPaEbaskp"
      },
      "execution_count": null,
      "outputs": []
    },
    {
      "cell_type": "markdown",
      "source": [
        "# 2. Data ingestion"
      ],
      "metadata": {
        "id": "VhtfgMRh-Ari"
      }
    },
    {
      "cell_type": "markdown",
      "source": [
        "## 2.1. Set variables"
      ],
      "metadata": {
        "id": "KF5Xm8W8_zgh"
      }
    },
    {
      "cell_type": "markdown",
      "source": [
        "### 2.1.1. Project, Data, and Input file paths"
      ],
      "metadata": {
        "id": "bdDOgt4QAWkS"
      }
    },
    {
      "cell_type": "code",
      "source": [
        "proj_name = 'designcafe2'\n",
        "data_home = '/content/drive/MyDrive/predict/'\n",
        "proj_home = os.path.join(data_home, proj_name)"
      ],
      "metadata": {
        "id": "y5eznfAfPCkI"
      },
      "execution_count": null,
      "outputs": []
    },
    {
      "cell_type": "markdown",
      "source": [
        "### 2.1.2. Getting a snapshot of all input files"
      ],
      "metadata": {
        "id": "mcBgbj5NAfRS"
      }
    },
    {
      "cell_type": "code",
      "source": [
        "ae_fn = 'all_events.txt'\n",
        "be_fn = 'base_events.txt'\n",
        "grp_fn = 'groups.txt'\n",
        "usr_fn = 'users.txt'\n",
        "\n",
        "fn_wc_map = {}\n",
        "\n",
        "for fn in [ae_fn, be_fn, grp_fn, usr_fn]:\n",
        "    fp = os.path.join(proj_home, fn)\n",
        "    wc = !wc -l {fp}\n",
        "    wc = int(wc[0].split(' ')[0])\n",
        "    print(wc)\n",
        "    fn_wc_map[fn] = wc\n",
        "    !head -2 {fp}\n",
        "    !echo\n",
        "\n",
        "ae_fp, be_fp, grp_fp, usr_fp = [os.path.join(proj_home, x) for x in [ae_fn,\n",
        "                                                                     be_fn,\n",
        "                                                                     grp_fn,\n",
        "                                                                     usr_fn]]"
      ],
      "metadata": {
        "colab": {
          "base_uri": "https://localhost:8080/"
        },
        "id": "SHHPDaYZaCD7",
        "outputId": "18d93184-f48b-48cb-8aa7-985a4935fe66"
      },
      "execution_count": null,
      "outputs": [
        {
          "output_type": "stream",
          "name": "stdout",
          "text": [
            "66146\n",
            "{\"uid\":\"+917013842919\",\"ujt\":1651616169,\"en\":\"$session\",\"et\":1651616168,\"ecd\":1,\"epr\":{\"$adgroup\":\"HYD-FB-WC-LAL-0422-New\",\"$browser\":\"Android\",\"$browser_version\":\"4.0\",\"$browser_with_version\":\"Android-4.0\",\"$campaign\":\"HYD-FB-WC-1221\",\"$campaign_id\":\"23849208181340201\",\"$channel\":\"Paid Social\",\"$city\":\"Hyderabad\",\"$content\":\"HYD-FB-WC-LAL-0422-VI-Kitchen\",\"$continent\":\"Asia\",\"$country\":\"India\",\"$day_of_week\":\"Tuesday\",\"$fbclid\":\"IwAR3sxE9VlFoqu33EPQ9mcB1in6knpBe2T4-g0vMy1D_URXdSSIhZir9v44w\",\"$hour_of_day\":22,\"$initial_page_domain\":\"www.designcafe.com\",\"$initial_page_load_time\":1.641,\"$initial_page_raw_url\":\"https://www.designcafe.com/p/complete-home-interior-designs/?utm_source=Facebook_Paid_Website\\u0026utm_medium=cpc\\u0026utm_campaign=HYD-FB-WC-1221\\u0026utm_content=HYD-FB-WC-LAL-0422-VI-Kitchen\\u0026DC_c=HYD-FB-WC-1221\\u0026DC_Cid=23849208181340201\\u0026DC_a=HYD-FB-WC-LAL-0422-New\\u0026DC_adname=HYD-FB-WC-LAL-0422-VI-Kitchen\\u0026fbclid=IwAR3sxE9VlFoqu33EPQ9mcB1in6knpBe2T4-g0vMy1D_URXdSSIhZir9v44w\",\"$initial_page_scroll_percent\":0,\"$initial_page_spent_time\":64.36,\"$initial_page_url\":\"www.designcafe.com/p/complete-home-interior-designs\",\"$initial_referrer\":\"https://l.facebook.com\",\"$initial_referrer_domain\":\"l.facebook.com\",\"$initial_referrer_url\":\"l.facebook.com\",\"$is_first_session\":true,\"$medium\":\"cpc\",\"$os\":\"Android\",\"$os_version\":\"11\",\"$os_with_version\":\"Android-11\",\"$page_count\":5,\"$platform\":\"web\",\"$postal_code\":\"500044\",\"$session_latest_page_raw_url\":\"https://www.designcafe.com\",\"$session_latest_page_url\":\"www.designcafe.com\",\"$session_spent_time\":116.78999999999999,\"$source\":\"Facebook_Paid_Website\",\"$timestamp\":1651616168,\"$user_agent\":\"Mozilla/5.0 (Linux; Android 11; RMX1901 Build/RKQ1.201217.002; wv) AppleWebKit/537.36 (KHTML, like Gecko) Version/4.0 Chrome/90.0.4430.210 Mobile Safari/537.36\"},\"upr\":{\"$browser\":\"Android\",\"$browser_version\":\"4.0\",\"$browser_with_version\":\"Android-4.0\",\"$city\":\"Hyderabad\",\"$continent\":\"Asia\",\"$country\":\"India\",\"$day_of_first_event\":\"Tuesday\",\"$device_brand\":\"\",\"$device_model\":\"\",\"$device_type\":\"\",\"$hour_of_first_event\":22,\"$initial_adgroup\":\"HYD-FB-WC-LAL-0422-New\",\"$initial_campaign\":\"HYD-FB-WC-1221\",\"$initial_campaign_id\":\"23849208181340201\",\"$initial_content\":\"HYD-FB-WC-LAL-0422-VI-Kitchen\",\"$initial_fbclid\":\"IwAR3sxE9VlFoqu33EPQ9mcB1in6knpBe2T4-g0vMy1D_URXdSSIhZir9v44w\",\"$initial_medium\":\"cpc\",\"$initial_page_domain\":\"www.designcafe.com\",\"$initial_page_event_id\":\"69a0041e-303b-47d8-99d3-d0f1bcc669a9\",\"$initial_page_load_time\":1.641,\"$initial_page_raw_url\":\"https://www.designcafe.com/p/complete-home-interior-designs/?utm_source=Facebook_Paid_Website\\u0026utm_medium=cpc\\u0026utm_campaign=HYD-FB-WC-1221\\u0026utm_content=HYD-FB-WC-LAL-0422-VI-Kitchen\\u0026DC_c=HYD-FB-WC-1221\\u0026DC_Cid=23849208181340201\\u0026DC_a=HYD-FB-WC-LAL-0422-New\\u0026DC_adname=HYD-FB-WC-LAL-0422-VI-Kitchen\\u0026fbclid=IwAR3sxE9VlFoqu33EPQ9mcB1in6knpBe2T4-g0vMy1D_URXdSSIhZir9v44w\",\"$initial_page_scroll_percent\":0,\"$initial_page_spent_time\":64.36,\"$initial_page_url\":\"www.designcafe.com/p/complete-home-interior-designs\",\"$initial_referrer\":\"https://l.facebook.com\",\"$initial_referrer_domain\":\"l.facebook.com\",\"$initial_referrer_url\":\"l.facebook.com\",\"$initial_source\":\"Facebook_Paid_Website\",\"$joinTime\":1651616169,\"$latest_adgroup\":\"HYD-FB-WC-LAL-0422-New\",\"$latest_campaign\":\"HYD-FB-WC-1221\",\"$latest_campaign_id\":\"23849208181340201\",\"$latest_content\":\"HYD-FB-WC-LAL-0422-VI-Kitchen\",\"$latest_fbclid\":\"IwAR3sxE9VlFoqu33EPQ9mcB1in6knpBe2T4-g0vMy1D_URXdSSIhZir9v44w\",\"$latest_medium\":\"cpc\",\"$latest_page_domain\":\"www.designcafe.com\",\"$latest_page_load_time\":1.641,\"$latest_page_raw_url\":\"https://www.designcafe.com/p/complete-home-interior-designs/?utm_source=Facebook_Paid_Website\\u0026utm_medium=cpc\\u0026utm_campaign=HYD-FB-WC-1221\\u0026utm_content=HYD-FB-WC-LAL-0422-VI-Kitchen\\u0026DC_c=HYD-FB-WC-1221\\u0026DC_Cid=23849208181340201\\u0026DC_a=HYD-FB-WC-LAL-0422-New\\u0026DC_adname=HYD-FB-WC-LAL-0422-VI-Kitchen\\u0026fbclid=IwAR3sxE9VlFoqu33EPQ9mcB1in6knpBe2T4-g0vMy1D_URXdSSIhZir9v44w\",\"$latest_page_url\":\"www.designcafe.com/p/complete-home-interior-designs\",\"$latest_referrer\":\"https://l.facebook.com\",\"$latest_referrer_domain\":\"l.facebook.com\",\"$latest_referrer_url\":\"l.facebook.com\",\"$latest_source\":\"Facebook_Paid_Website\",\"$os\":\"Android\",\"$os_version\":\"11\",\"$os_with_version\":\"Android-11\",\"$page_count\":5,\"$platform\":\"web\",\"$postal_code\":\"500044\",\"$screen_height\":780,\"$screen_width\":360,\"$session_count\":1,\"$session_spent_time\":116.78999999999999,\"$user_agent\":\"Mozilla/5.0 (Linux; Android 11; RMX1901 Build/RKQ1.201217.002; wv) AppleWebKit/537.36 (KHTML, like Gecko) Version/4.0 Chrome/90.0.4430.210 Mobile Safari/537.36\"}}\n",
            "{\"uid\":\"+917013842919\",\"ujt\":1651616169,\"en\":\"www.designcafe.com/p/complete-home-interior-designs\",\"et\":1651616169,\"ecd\":1,\"epr\":{\"$adgroup\":\"HYD-FB-WC-LAL-0422-New\",\"$campaign\":\"HYD-FB-WC-1221\",\"$campaign_id\":\"23849208181340201\",\"$content\":\"HYD-FB-WC-LAL-0422-VI-Kitchen\",\"$day_of_week\":\"Tuesday\",\"$fbclid\":\"IwAR3sxE9VlFoqu33EPQ9mcB1in6knpBe2T4-g0vMy1D_URXdSSIhZir9v44w\",\"$hour_of_day\":22,\"$ip\":\"157.47.71.180\",\"$is_page_view\":true,\"$medium\":\"cpc\",\"$page_domain\":\"www.designcafe.com\",\"$page_load_time\":1.641,\"$page_raw_url\":\"https://www.designcafe.com/p/complete-home-interior-designs/?utm_source=Facebook_Paid_Website\\u0026utm_medium=cpc\\u0026utm_campaign=HYD-FB-WC-1221\\u0026utm_content=HYD-FB-WC-LAL-0422-VI-Kitchen\\u0026DC_c=HYD-FB-WC-1221\\u0026DC_Cid=23849208181340201\\u0026DC_a=HYD-FB-WC-LAL-0422-New\\u0026DC_adname=HYD-FB-WC-LAL-0422-VI-Kitchen\\u0026fbclid=IwAR3sxE9VlFoqu33EPQ9mcB1in6knpBe2T4-g0vMy1D_URXdSSIhZir9v44w\",\"$page_scroll_percent\":0,\"$page_spent_time\":64.36,\"$page_title\":\"Design Cafe - End-to-End Home Interior Designs\",\"$page_url\":\"www.designcafe.com/p/complete-home-interior-designs\",\"$qp_DC_adname\":\"HYD-FB-WC-LAL-0422-VI-Kitchen\",\"$referrer\":\"https://l.facebook.com\",\"$referrer_domain\":\"l.facebook.com\",\"$referrer_url\":\"l.facebook.com\",\"$source\":\"Facebook_Paid_Website\",\"$timestamp\":1651616169},\"upr\":{\"$browser\":\"Android\",\"$browser_version\":\"4.0\",\"$browser_with_version\":\"Android-4.0\",\"$city\":\"Hyderabad\",\"$continent\":\"Asia\",\"$country\":\"India\",\"$day_of_first_event\":\"Tuesday\",\"$device_brand\":\"\",\"$device_model\":\"\",\"$device_type\":\"\",\"$hour_of_first_event\":22,\"$initial_adgroup\":\"HYD-FB-WC-LAL-0422-New\",\"$initial_campaign\":\"HYD-FB-WC-1221\",\"$initial_campaign_id\":\"23849208181340201\",\"$initial_content\":\"HYD-FB-WC-LAL-0422-VI-Kitchen\",\"$initial_fbclid\":\"IwAR3sxE9VlFoqu33EPQ9mcB1in6knpBe2T4-g0vMy1D_URXdSSIhZir9v44w\",\"$initial_medium\":\"cpc\",\"$initial_page_domain\":\"www.designcafe.com\",\"$initial_page_event_id\":\"69a0041e-303b-47d8-99d3-d0f1bcc669a9\",\"$initial_page_load_time\":1.641,\"$initial_page_raw_url\":\"https://www.designcafe.com/p/complete-home-interior-designs/?utm_source=Facebook_Paid_Website\\u0026utm_medium=cpc\\u0026utm_campaign=HYD-FB-WC-1221\\u0026utm_content=HYD-FB-WC-LAL-0422-VI-Kitchen\\u0026DC_c=HYD-FB-WC-1221\\u0026DC_Cid=23849208181340201\\u0026DC_a=HYD-FB-WC-LAL-0422-New\\u0026DC_adname=HYD-FB-WC-LAL-0422-VI-Kitchen\\u0026fbclid=IwAR3sxE9VlFoqu33EPQ9mcB1in6knpBe2T4-g0vMy1D_URXdSSIhZir9v44w\",\"$initial_page_scroll_percent\":0,\"$initial_page_spent_time\":64.36,\"$initial_page_url\":\"www.designcafe.com/p/complete-home-interior-designs\",\"$initial_referrer\":\"https://l.facebook.com\",\"$initial_referrer_domain\":\"l.facebook.com\",\"$initial_referrer_url\":\"l.facebook.com\",\"$initial_source\":\"Facebook_Paid_Website\",\"$joinTime\":1651616169,\"$latest_adgroup\":\"HYD-FB-WC-LAL-0422-New\",\"$latest_campaign\":\"HYD-FB-WC-1221\",\"$latest_campaign_id\":\"23849208181340201\",\"$latest_content\":\"HYD-FB-WC-LAL-0422-VI-Kitchen\",\"$latest_fbclid\":\"IwAR3sxE9VlFoqu33EPQ9mcB1in6knpBe2T4-g0vMy1D_URXdSSIhZir9v44w\",\"$latest_medium\":\"cpc\",\"$latest_page_domain\":\"www.designcafe.com\",\"$latest_page_load_time\":1.641,\"$latest_page_raw_url\":\"https://www.designcafe.com/p/complete-home-interior-designs/?utm_source=Facebook_Paid_Website\\u0026utm_medium=cpc\\u0026utm_campaign=HYD-FB-WC-1221\\u0026utm_content=HYD-FB-WC-LAL-0422-VI-Kitchen\\u0026DC_c=HYD-FB-WC-1221\\u0026DC_Cid=23849208181340201\\u0026DC_a=HYD-FB-WC-LAL-0422-New\\u0026DC_adname=HYD-FB-WC-LAL-0422-VI-Kitchen\\u0026fbclid=IwAR3sxE9VlFoqu33EPQ9mcB1in6knpBe2T4-g0vMy1D_URXdSSIhZir9v44w\",\"$latest_page_url\":\"www.designcafe.com/p/complete-home-interior-designs\",\"$latest_referrer\":\"https://l.facebook.com\",\"$latest_referrer_domain\":\"l.facebook.com\",\"$latest_referrer_url\":\"l.facebook.com\",\"$latest_source\":\"Facebook_Paid_Website\",\"$os\":\"Android\",\"$os_version\":\"11\",\"$os_with_version\":\"Android-11\",\"$page_count\":5,\"$platform\":\"web\",\"$postal_code\":\"500044\",\"$screen_height\":780,\"$screen_width\":360,\"$session_count\":1,\"$session_spent_time\":116.78999999999999,\"$user_agent\":\"Mozilla/5.0 (Linux; Android 11; RMX1901 Build/RKQ1.201217.002; wv) AppleWebKit/537.36 (KHTML, like Gecko) Version/4.0 Chrome/90.0.4430.210 Mobile Safari/537.36\"}}\n",
            "\n",
            "1889\n",
            "{\"ev\":{\"uid\":\"+917013842919\",\"ujt\":1651616230,\"en\":\"$sf_lead_created\",\"et\":1651616230,\"ecd\":1,\"epr\":{\"$day_of_week\":\"Tuesday\",\"$hour_of_day\":22,\"$ip\":\"\",\"$salesforce_lead_ad_group__c\":\"HYD-FB-WC-LAL-0422-New\",\"$salesforce_lead_ad_name__c\":\"HYD-FB-WC-LAL-0422-VI-Kitchen\",\"$salesforce_lead_apimobile__c\":\"7013842919\",\"$salesforce_lead_call_center_agency_name__c\":\"N/A\",\"$salesforce_lead_call_stage__c\":\"Call Later\",\"$salesforce_lead_campagin__c\":\"HYD-FB-WC-1221\",\"$salesforce_lead_channel__c\":\"Online\",\"$salesforce_lead_city\":\"Hyderabad\",\"$salesforce_lead_civil_work__c\":false,\"$salesforce_lead_country\":\"India\",\"$salesforce_lead_country_code__c\":\"+undefined\",\"$salesforce_lead_created_month__c\":5,\"$salesforce_lead_createdbyid\":\"0052v00000e6kcyAAA\",\"$salesforce_lead_createddate\":1651616230,\"$salesforce_lead_customer_pincode__c\":\"500092\",\"$salesforce_lead_customer_whatsapp_optin__c\":\"\\u003ca href=\\\"https://www.designcafe.com/whatsapp-optin/?name= K gopal\\u0026amp;mobile=+917013842919\\\" target=\\\"_blank\\\"\\u003eClick to Launch WhatsApp-OptIN\\u003c/a\\u003e\",\"$salesforce_lead_dc_campaign_source__c\":\"Social Media - Paid\",\"$salesforce_lead_dc_lead_source__c\":\"Facebook Paid Website\",\"$salesforce_lead_dc_lead_status__c\":\"Followup\",\"$salesforce_lead_delay_in_response__c\":false,\"$salesforce_lead_donotcall\":false,\"$salesforce_lead_follow_up_count__c\":0,\"$salesforce_lead_follow_up_date_time__c\":1651732200,\"$salesforce_lead_for_reassignment__c\":false,\"$salesforce_lead_has_designer_accepted__c\":\"Designer Not Assigned\",\"$salesforce_lead_hasoptedoutofemail\":false,\"$salesforce_lead_hasoptedoutoffax\":false,\"$salesforce_lead_id\":\"00QC5000005lrhaMAA\",\"$salesforce_lead_is_bulk_upload__c\":false,\"$salesforce_lead_is_designer_assigned__c\":false,\"$salesforce_lead_is_designer_logged_in_for_report__c\":0,\"$salesforce_lead_is_follow_up_outstanding__c\":false,\"$salesforce_lead_is_ms__c\":false,\"$salesforce_lead_isconverted\":false,\"$salesforce_lead_isdeleted\":false,\"$salesforce_lead_isunreadbyowner\":true,\"$salesforce_lead_last_source__c\":\"Facebook_Paid_Website\",\"$salesforce_lead_lastmodifiedby__c\":\"S\",\"$salesforce_lead_lastmodifiedbyid\":\"005C5000000HuW6IAK\",\"$salesforce_lead_lastmodifieddate\":1651648069,\"$salesforce_lead_lastname\":\"K gopal\",\"$salesforce_lead_lasttransferdate\":1651516200,\"$salesforce_lead_lead_designer_is_current_user__c\":false,\"$salesforce_lead_lead_owner_name__c\":\"Design Cafe Admin\",\"$salesforce_lead_lead_owner_role__c\":\"Administrator\",\"$salesforce_lead_lead_owner_s_phone__c\":\"+918068065000\",\"$salesforce_lead_lead_stage_and_call_stage__c\":\"Followup, Call Later\",\"$salesforce_lead_leadnameandphone__c\":\"K gopal+917013842919\",\"$salesforce_lead_meeting_scheduled_on_first_call__c\":false,\"$salesforce_lead_meeting_scheduled_reminder__c\":false,\"$salesforce_lead_mobilephone\":\"+917013842919\",\"$salesforce_lead_mobileym__c\":\"917013842919\",\"$salesforce_lead_name\":\"K gopal\",\"$salesforce_lead_offer_of_the_month__c\":\"DCOFFERCODE\",\"$salesforce_lead_old_source__c\":\"Paid\",\"$salesforce_lead_ownerid\":\"0052v00000bZuPxAAK\",\"$salesforce_lead_page_url__c\":\"https://www.designcafe.com/p/complete-home-interior-designs/?utm_source=Facebook_Paid_Website\\u0026utm_medium=cpc\\u0026utm_campaign=HYD-FB-WC-1221\\u0026utm_content=HYD-FB-WC-LAL-0422-VI-Kitchen\\u0026DC_c=HYD-FB-WC-1221\\u0026DC_Cid=23849208181340201\\u0026DC_a=HYD-FB-WC-LAL-0422-New\\u0026DC_adname=HYD-FB-WC-LAL-0422-VI-Kitchen\\u0026fbclid=IwAR3sxE9VlFoqu33EPQ9mcB1in6knpBe2T4-g0vMy1D_URXdSSIhZir9v44w\",\"$salesforce_lead_partner_notification__c\":false,\"$salesforce_lead_pb_design_user_assigned__c\":false,\"$salesforce_lead_ppt_uploaded__c\":false,\"$salesforce_lead_recontacted__c\":false,\"$salesforce_lead_record_id__c\":\"00QC5000005lrha\",\"$salesforce_lead_recordfordeletion__c\":false,\"$salesforce_lead_recordtypeid\":\"0122u000000TSlDAAW\",\"$salesforce_lead_region__c\":\"Hyderabad\",\"$salesforce_lead_source__c\":\"Paid\",\"$salesforce_lead_source_journey__c\":\"Facebook_Paid_Website\",\"$salesforce_lead_status\":\"Connected\",\"$salesforce_lead_systemmodstamp\":1651648069,\"$salesforce_lead_whatsapp_opt_in__c\":true,\"$skip_session\":\"t\",\"$timestamp\":1651616230},\"upr\":{\"$browser\":\"Android\",\"$browser_version\":\"4.0\",\"$browser_with_version\":\"Android-4.0\",\"$city\":\"Hyderabad\",\"$continent\":\"Asia\",\"$country\":\"India\",\"$day_of_first_event\":\"Tuesday\",\"$hour_of_first_event\":22,\"$initial_adgroup\":\"HYD-FB-WC-LAL-0422-New\",\"$initial_campaign\":\"HYD-FB-WC-1221\",\"$initial_campaign_id\":\"23849208181340201\",\"$initial_content\":\"HYD-FB-WC-LAL-0422-VI-Kitchen\",\"$initial_fbclid\":\"IwAR3sxE9VlFoqu33EPQ9mcB1in6knpBe2T4-g0vMy1D_URXdSSIhZir9v44w\",\"$initial_medium\":\"cpc\",\"$initial_page_domain\":\"www.designcafe.com\",\"$initial_page_event_id\":\"69a0041e-303b-47d8-99d3-d0f1bcc669a9\",\"$initial_page_load_time\":1.641,\"$initial_page_raw_url\":\"https://www.designcafe.com/p/complete-home-interior-designs/?utm_source=Facebook_Paid_Website\\u0026utm_medium=cpc\\u0026utm_campaign=HYD-FB-WC-1221\\u0026utm_content=HYD-FB-WC-LAL-0422-VI-Kitchen\\u0026DC_c=HYD-FB-WC-1221\\u0026DC_Cid=23849208181340201\\u0026DC_a=HYD-FB-WC-LAL-0422-New\\u0026DC_adname=HYD-FB-WC-LAL-0422-VI-Kitchen\\u0026fbclid=IwAR3sxE9VlFoqu33EPQ9mcB1in6knpBe2T4-g0vMy1D_URXdSSIhZir9v44w\",\"$initial_page_scroll_percent\":0,\"$initial_page_spent_time\":64.36,\"$initial_page_url\":\"www.designcafe.com/p/complete-home-interior-designs\",\"$initial_referrer\":\"https://l.facebook.com\",\"$initial_referrer_domain\":\"l.facebook.com\",\"$initial_referrer_url\":\"l.facebook.com\",\"$initial_source\":\"Facebook_Paid_Website\",\"$joinTime\":1651616169,\"$latest_adgroup\":\"HYD-FB-WC-LAL-0422-New\",\"$latest_campaign\":\"HYD-FB-WC-1221\",\"$latest_campaign_id\":\"23849208181340201\",\"$latest_content\":\"HYD-FB-WC-LAL-0422-VI-Kitchen\",\"$latest_fbclid\":\"IwAR3sxE9VlFoqu33EPQ9mcB1in6knpBe2T4-g0vMy1D_URXdSSIhZir9v44w\",\"$latest_medium\":\"cpc\",\"$latest_page_domain\":\"www.designcafe.com\",\"$latest_page_load_time\":5.644,\"$latest_page_raw_url\":\"https://www.designcafe.com/thank-you/?ref=https://www.designcafe.com/p/complete-home-interior-designs/?utm_source=Facebook_Paid_Website\\u0026utm_medium=cpc\\u0026utm_campaign=HYD-FB-WC-1221\\u0026utm_content=HYD-FB-WC-LAL-0422-VI-Kitchen\\u0026DC_c=HYD-FB-WC-1221\\u0026DC_Cid=23849208181340201\\u0026DC_a=HYD-FB-WC-LAL-0422-New\\u0026DC_adname=HYD-FB-WC-LAL-0422-VI-Kitchen\\u0026fbclid=IwAR3sxE9VlFoqu33EPQ9mcB1in6knpBe2T4-g0vMy1D_URXdSSIhZir9v44w\",\"$latest_page_url\":\"www.designcafe.com/thank-you\",\"$latest_referrer\":\"https://www.designcafe.com/p/complete-home-interior-designs/?utm_source=Facebook_Paid_Website\\u0026utm_medium=cpc\\u0026utm_campaign=HYD-FB-WC-1221\\u0026utm_content=HYD-FB-WC-LAL-0422-VI-Kitchen\\u0026DC_c=HYD-FB-WC-1221\\u0026DC_Cid=23849208181340201\\u0026DC_a=HYD-FB-WC-LAL-0422-New\\u0026DC_adname=HYD-FB-WC-LAL-0422-VI-Kitchen\\u0026fbclid=IwAR3sxE9VlFoqu33EPQ9mcB1in6knpBe2T4-g0vMy1D_URXdSSIhZir9v44w\",\"$latest_referrer_domain\":\"www.designcafe.com\",\"$latest_referrer_url\":\"www.designcafe.com/p/complete-home-interior-designs\",\"$latest_source\":\"Facebook_Paid_Website\",\"$merge_timestamp\":1651699634,\"$name\":\"K gopal\",\"$os\":\"Android\",\"$os_version\":\"11\",\"$os_with_version\":\"Android-11\",\"$page_count\":5,\"$phone\":\"+917013842919\",\"$platform\":\"web\",\"$postal_code\":\"500044\",\"$salesforce_lead_ad_group__c\":\"HYD-FB-WC-LAL-0422-New\",\"$salesforce_lead_ad_name__c\":\"HYD-FB-WC-LAL-0422-VI-Kitchen\",\"$salesforce_lead_apimobile__c\":\"7013842919\",\"$salesforce_lead_call_center_agency_name__c\":\"N/A\",\"$salesforce_lead_call_stage__c\":\"Call Later\",\"$salesforce_lead_campagin__c\":\"HYD-FB-WC-1221\",\"$salesforce_lead_channel__c\":\"Online\",\"$salesforce_lead_city\":\"Hyderabad\",\"$salesforce_lead_civil_work__c\":false,\"$salesforce_lead_country\":\"India\",\"$salesforce_lead_country_code__c\":\"+undefined\",\"$salesforce_lead_created_month__c\":5,\"$salesforce_lead_createdbyid\":\"0052v00000e6kcyAAA\",\"$salesforce_lead_createddate\":1651616230,\"$salesforce_lead_customer_pincode__c\":\"500092\",\"$salesforce_lead_customer_whatsapp_optin__c\":\"\\u003ca href=\\\"https://www.designcafe.com/whatsapp-optin/?name= K gopal\\u0026amp;mobile=+917013842919\\\" target=\\\"_blank\\\"\\u003eClick to Launch WhatsApp-OptIN\\u003c/a\\u003e\",\"$salesforce_lead_dc_campaign_source__c\":\"Social Media - Paid\",\"$salesforce_lead_dc_lead_source__c\":\"Facebook Paid Website\",\"$salesforce_lead_dc_lead_status__c\":\"Followup\",\"$salesforce_lead_delay_in_response__c\":false,\"$salesforce_lead_donotcall\":false,\"$salesforce_lead_follow_up_count__c\":0,\"$salesforce_lead_follow_up_date_time__c\":1651732200,\"$salesforce_lead_for_reassignment__c\":false,\"$salesforce_lead_has_designer_accepted__c\":\"Designer Not Assigned\",\"$salesforce_lead_hasoptedoutofemail\":false,\"$salesforce_lead_hasoptedoutoffax\":false,\"$salesforce_lead_id\":\"00QC5000005lrhaMAA\",\"$salesforce_lead_is_bulk_upload__c\":false,\"$salesforce_lead_is_designer_assigned__c\":false,\"$salesforce_lead_is_designer_logged_in_for_report__c\":0,\"$salesforce_lead_is_follow_up_outstanding__c\":false,\"$salesforce_lead_is_ms__c\":false,\"$salesforce_lead_isconverted\":false,\"$salesforce_lead_isdeleted\":false,\"$salesforce_lead_isunreadbyowner\":true,\"$salesforce_lead_last_source__c\":\"Facebook_Paid_Website\",\"$salesforce_lead_lastmodifiedby__c\":\"S\",\"$salesforce_lead_lastmodifiedbyid\":\"005C5000000HuW6IAK\",\"$salesforce_lead_lastmodifieddate\":1651648069,\"$salesforce_lead_lastname\":\"K gopal\",\"$salesforce_lead_lasttransferdate\":1651516200,\"$salesforce_lead_lead_designer_is_current_user__c\":false,\"$salesforce_lead_lead_owner_name__c\":\"Design Cafe Admin\",\"$salesforce_lead_lead_owner_role__c\":\"Administrator\",\"$salesforce_lead_lead_owner_s_phone__c\":\"+918068065000\",\"$salesforce_lead_lead_stage_and_call_stage__c\":\"Followup, Call Later\",\"$salesforce_lead_leadnameandphone__c\":\"K gopal+917013842919\",\"$salesforce_lead_meeting_scheduled_on_first_call__c\":false,\"$salesforce_lead_meeting_scheduled_reminder__c\":false,\"$salesforce_lead_mobilephone\":\"+917013842919\",\"$salesforce_lead_mobileym__c\":\"917013842919\",\"$salesforce_lead_name\":\"K gopal\",\"$salesforce_lead_offer_of_the_month__c\":\"DCOFFERCODE\",\"$salesforce_lead_old_source__c\":\"Paid\",\"$salesforce_lead_ownerid\":\"0052v00000bZuPxAAK\",\"$salesforce_lead_page_url__c\":\"https://www.designcafe.com/p/complete-home-interior-designs/?utm_source=Facebook_Paid_Website\\u0026utm_medium=cpc\\u0026utm_campaign=HYD-FB-WC-1221\\u0026utm_content=HYD-FB-WC-LAL-0422-VI-Kitchen\\u0026DC_c=HYD-FB-WC-1221\\u0026DC_Cid=23849208181340201\\u0026DC_a=HYD-FB-WC-LAL-0422-New\\u0026DC_adname=HYD-FB-WC-LAL-0422-VI-Kitchen\\u0026fbclid=IwAR3sxE9VlFoqu33EPQ9mcB1in6knpBe2T4-g0vMy1D_URXdSSIhZir9v44w\",\"$salesforce_lead_partner_notification__c\":false,\"$salesforce_lead_pb_design_user_assigned__c\":false,\"$salesforce_lead_ppt_uploaded__c\":false,\"$salesforce_lead_recontacted__c\":false,\"$salesforce_lead_record_id__c\":\"00QC5000005lrha\",\"$salesforce_lead_recordfordeletion__c\":false,\"$salesforce_lead_recordtypeid\":\"0122u000000TSlDAAW\",\"$salesforce_lead_region__c\":\"Hyderabad\",\"$salesforce_lead_source__c\":\"Paid\",\"$salesforce_lead_source_journey__c\":\"Facebook_Paid_Website\",\"$salesforce_lead_status\":\"Connected\",\"$salesforce_lead_systemmodstamp\":1651648069,\"$salesforce_lead_whatsapp_opt_in__c\":true,\"$screen_height\":780,\"$screen_width\":360,\"$session_count\":1,\"$session_spent_time\":116.78999999999999,\"$user_agent\":\"Mozilla/5.0 (Linux; Android 11; RMX1901 Build/RKQ1.201217.002; wv) AppleWebKit/537.36 (KHTML, like Gecko) Version/4.0 Chrome/90.0.4430.210 Mobile Safari/537.36\",\"$user_id\":\"+917013842919\"}},\"gid\":\"\"}\n",
            "{\"ev\":{\"uid\":\"+917506766756\",\"ujt\":1651649485,\"en\":\"$sf_lead_created\",\"et\":1651649485,\"ecd\":1,\"epr\":{\"$day_of_week\":\"Wednesday\",\"$hour_of_day\":7,\"$ip\":\"\",\"$salesforce_lead_ad_group__c\":\"Western-FB-WC-LAL-0422\",\"$salesforce_lead_ad_name__c\":\"Western-FB-WC-LAL-0422-VI-Home\",\"$salesforce_lead_apimobile__c\":\"7506766756\",\"$salesforce_lead_call_center_agency_name__c\":\"N/A\",\"$salesforce_lead_call_stage__c\":\"RNR\",\"$salesforce_lead_callrecording__c\":\"http://192.168.28.19/SmartQM/SearchPlay.aspx\",\"$salesforce_lead_campagin__c\":\"MUM-FB-WC-0721\",\"$salesforce_lead_channel__c\":\"Online\",\"$salesforce_lead_city\":\"Outstation\",\"$salesforce_lead_civil_work__c\":false,\"$salesforce_lead_country\":\"India\",\"$salesforce_lead_country_code__c\":\"+undefined\",\"$salesforce_lead_created_month__c\":5,\"$salesforce_lead_createdbyid\":\"0052v00000e6kcyAAA\",\"$salesforce_lead_createddate\":1651649485,\"$salesforce_lead_customer_pincode__c\":\"400008\",\"$salesforce_lead_customer_whatsapp_optin__c\":\"\\u003ca href=\\\"https://www.designcafe.com/whatsapp-optin/?name= One Solution\\u0026amp;mobile=+917506766756\\\" target=\\\"_blank\\\"\\u003eClick to Launch WhatsApp-OptIN\\u003c/a\\u003e\",\"$salesforce_lead_dc_campaign_source__c\":\"Social Media - Paid\",\"$salesforce_lead_dc_lead_source__c\":\"Facebook Paid Website\",\"$salesforce_lead_dc_lead_status__c\":\"Not Connected\",\"$salesforce_lead_delay_in_response__c\":false,\"$salesforce_lead_donotcall\":false,\"$salesforce_lead_follow_up_count__c\":0,\"$salesforce_lead_for_reassignment__c\":false,\"$salesforce_lead_has_designer_accepted__c\":\"Designer Not Assigned\",\"$salesforce_lead_hasoptedoutofemail\":false,\"$salesforce_lead_hasoptedoutoffax\":false,\"$salesforce_lead_id\":\"00QC5000005m8JVMAY\",\"$salesforce_lead_is_bulk_upload__c\":false,\"$salesforce_lead_is_designer_assigned__c\":false,\"$salesforce_lead_is_designer_logged_in_for_report__c\":0,\"$salesforce_lead_is_follow_up_outstanding__c\":false,\"$salesforce_lead_is_ms__c\":false,\"$salesforce_lead_isconverted\":false,\"$salesforce_lead_isdeleted\":false,\"$salesforce_lead_isunreadbyowner\":true,\"$salesforce_lead_last_source__c\":\"Facebook_Paid_Website\",\"$salesforce_lead_lastmodifiedby__c\":\"Site Guest User\",\"$salesforce_lead_lastmodifiedbyid\":\"0052v00000e6kcyAAA\",\"$salesforce_lead_lastmodifieddate\":1651651332,\"$salesforce_lead_lastname\":\"One Solution\",\"$salesforce_lead_lasttransferdate\":1651602600,\"$salesforce_lead_lead_designer_is_current_user__c\":false,\"$salesforce_lead_lead_owner_name__c\":\"Design Cafe Admin\",\"$salesforce_lead_lead_owner_role__c\":\"Administrator\",\"$salesforce_lead_lead_owner_s_phone__c\":\"+918068065000\",\"$salesforce_lead_lead_stage_and_call_stage__c\":\"Not Connected, RNR\",\"$salesforce_lead_leadnameandphone__c\":\"One Solution+917506766756\",\"$salesforce_lead_meeting_scheduled_on_first_call__c\":false,\"$salesforce_lead_meeting_scheduled_reminder__c\":false,\"$salesforce_lead_mobilephone\":\"+917506766756\",\"$salesforce_lead_mobileym__c\":\"917506766756\",\"$salesforce_lead_name\":\"One Solution\",\"$salesforce_lead_offer_of_the_month__c\":\"DCOFFERCODE\",\"$salesforce_lead_old_source__c\":\"Paid\",\"$salesforce_lead_ownerid\":\"0052v00000bZuPxAAK\",\"$salesforce_lead_page_url__c\":\"https://www.designcafe.com/\",\"$salesforce_lead_partner_notification__c\":false,\"$salesforce_lead_pb_design_user_assigned__c\":false,\"$salesforce_lead_ppt_uploaded__c\":false,\"$salesforce_lead_re_contact_date__c\":1651649815,\"$salesforce_lead_recontacted__c\":false,\"$salesforce_lead_record_id__c\":\"00QC5000005m8JV\",\"$salesforce_lead_recordfordeletion__c\":false,\"$salesforce_lead_recordtypeid\":\"0122u000000TSlDAAW\",\"$salesforce_lead_region__c\":\"Outstation\",\"$salesforce_lead_source__c\":\"Paid\",\"$salesforce_lead_source_journey__c\":\"Facebook_Paid_Website|Facebook_Paid_Website\",\"$salesforce_lead_status\":\"Not Connected\",\"$salesforce_lead_systemmodstamp\":1651651332,\"$salesforce_lead_whatsapp_opt_in__c\":true,\"$skip_session\":\"t\",\"$timestamp\":1651649485},\"upr\":{\"$browser\":\"Android\",\"$browser_version\":\"4.0\",\"$browser_with_version\":\"Android-4.0\",\"$city\":\"Lucknow\",\"$continent\":\"Asia\",\"$country\":\"India\",\"$day_of_first_event\":\"Wednesday\",\"$device_brand\":\"SA\",\"$device_model\":\"Galaxy J7 Core\",\"$device_type\":\"smartphone\",\"$hour_of_first_event\":7,\"$initial_adgroup\":\"Western-FB-WC-LAL-0422\",\"$initial_campaign\":\"MUM-FB-WC-0721\",\"$initial_campaign_id\":\"23847824262380201\",\"$initial_content\":\"Western-FB-WC-LAL-0422-VI-Home\",\"$initial_fbclid\":\"IwAR3DdcASSP2cGjepFSFK_PFYOyQsf_R8MolHMnDcKB6IKsbfj5M-yF17quE\",\"$initial_medium\":\"cpc\",\"$initial_page_domain\":\"www.designcafe.com\",\"$initial_page_event_id\":\"d015e020-f291-4cf0-bd48-51657ff185b6\",\"$initial_page_load_time\":2.01,\"$initial_page_raw_url\":\"https://www.designcafe.com/p/complete-home-interior-designs/?utm_source=Facebook_Paid_Website\\u0026utm_medium=cpc\\u0026utm_campaign=MUM-FB-WC-0721\\u0026utm_content=Western-FB-WC-LAL-0422-VI-Home\\u0026DC_c=MUM-FB-WC-0721\\u0026DC_Cid=23847824262380201\\u0026DC_a=Western-FB-WC-LAL-0422\\u0026DC_adname=Western-FB-WC-LAL-0422-VI-Home\\u0026fbclid=IwAR3DdcASSP2cGjepFSFK_PFYOyQsf_R8MolHMnDcKB6IKsbfj5M-yF17quE\",\"$initial_page_scroll_percent\":0,\"$initial_page_spent_time\":242.96,\"$initial_page_url\":\"www.designcafe.com/p/complete-home-interior-designs\",\"$initial_referrer\":\"https://l.facebook.com\",\"$initial_referrer_domain\":\"l.facebook.com\",\"$initial_referrer_url\":\"l.facebook.com\",\"$initial_source\":\"Facebook_Paid_Website\",\"$joinTime\":1651649245,\"$latest_adgroup\":\"Western-FB-WC-LAL-0422\",\"$latest_campaign\":\"MUM-FB-WC-0721\",\"$latest_campaign_id\":\"23847824262380201\",\"$latest_content\":\"Western-FB-WC-LAL-0422-VI-Home\",\"$latest_fbclid\":\"IwAR3DdcASSP2cGjepFSFK_PFYOyQsf_R8MolHMnDcKB6IKsbfj5M-yF17quE\",\"$latest_medium\":\"cpc\",\"$latest_page_domain\":\"www.designcafe.com\",\"$latest_page_load_time\":2.01,\"$latest_page_raw_url\":\"https://www.designcafe.com/thank-you/?ref=https://www.designcafe.com/p/complete-home-interior-designs/?utm_source=Facebook_Paid_Website\\u0026utm_medium=cpc\\u0026utm_campaign=MUM-FB-WC-0721\\u0026utm_content=Western-FB-WC-LAL-0422-VI-Home\\u0026DC_c=MUM-FB-WC-0721\\u0026DC_Cid=23847824262380201\\u0026DC_a=Western-FB-WC-LAL-0422\\u0026DC_adname=Western-FB-WC-LAL-0422-VI-Home\\u0026fbclid=IwAR3DdcASSP2cGjepFSFK_PFYOyQsf_R8MolHMnDcKB6IKsbfj5M-yF17quE\",\"$latest_page_url\":\"www.designcafe.com/thank-you\",\"$latest_referrer\":\"https://www.designcafe.com/p/complete-home-interior-designs/?utm_source=Facebook_Paid_Website\\u0026utm_medium=cpc\\u0026utm_campaign=MUM-FB-WC-0721\\u0026utm_content=Western-FB-WC-LAL-0422-VI-Home\\u0026DC_c=MUM-FB-WC-0721\\u0026DC_Cid=23847824262380201\\u0026DC_a=Western-FB-WC-LAL-0422\\u0026DC_adname=Western-FB-WC-LAL-0422-VI-Home\\u0026fbclid=IwAR3DdcASSP2cGjepFSFK_PFYOyQsf_R8MolHMnDcKB6IKsbfj5M-yF17quE\",\"$latest_referrer_domain\":\"www.designcafe.com\",\"$latest_referrer_url\":\"www.designcafe.com/p/complete-home-interior-designs\",\"$latest_source\":\"Facebook_Paid_Website\",\"$merge_timestamp\":1651699813,\"$name\":\"One Solution\",\"$os\":\"Android\",\"$os_version\":\"9\",\"$os_with_version\":\"Android-9\",\"$page_count\":5,\"$phone\":\"+917506766756\",\"$platform\":\"web\",\"$postal_code\":\"226017\",\"$salesforce_lead_ad_group__c\":\"Western-FB-WC-LAL-0422\",\"$salesforce_lead_ad_name__c\":\"Western-FB-WC-LAL-0422-VI-Home\",\"$salesforce_lead_apimobile__c\":\"7506766756\",\"$salesforce_lead_call_center_agency_name__c\":\"N/A\",\"$salesforce_lead_call_stage__c\":\"RNR\",\"$salesforce_lead_callrecording__c\":\"http://192.168.28.19/SmartQM/SearchPlay.aspx\",\"$salesforce_lead_campagin__c\":\"MUM-FB-WC-0721\",\"$salesforce_lead_channel__c\":\"Online\",\"$salesforce_lead_city\":\"Outstation\",\"$salesforce_lead_civil_work__c\":false,\"$salesforce_lead_country\":\"India\",\"$salesforce_lead_country_code__c\":\"+undefined\",\"$salesforce_lead_created_month__c\":5,\"$salesforce_lead_createdbyid\":\"0052v00000e6kcyAAA\",\"$salesforce_lead_createddate\":1651649485,\"$salesforce_lead_customer_pincode__c\":\"400008\",\"$salesforce_lead_customer_whatsapp_optin__c\":\"\\u003ca href=\\\"https://www.designcafe.com/whatsapp-optin/?name= One Solution\\u0026amp;mobile=+917506766756\\\" target=\\\"_blank\\\"\\u003eClick to Launch WhatsApp-OptIN\\u003c/a\\u003e\",\"$salesforce_lead_dc_campaign_source__c\":\"Social Media - Paid\",\"$salesforce_lead_dc_lead_source__c\":\"Facebook Paid Website\",\"$salesforce_lead_dc_lead_status__c\":\"Not Connected\",\"$salesforce_lead_delay_in_response__c\":false,\"$salesforce_lead_donotcall\":false,\"$salesforce_lead_follow_up_count__c\":0,\"$salesforce_lead_for_reassignment__c\":false,\"$salesforce_lead_has_designer_accepted__c\":\"Designer Not Assigned\",\"$salesforce_lead_hasoptedoutofemail\":false,\"$salesforce_lead_hasoptedoutoffax\":false,\"$salesforce_lead_id\":\"00QC5000005m8JVMAY\",\"$salesforce_lead_is_bulk_upload__c\":false,\"$salesforce_lead_is_designer_assigned__c\":false,\"$salesforce_lead_is_designer_logged_in_for_report__c\":0,\"$salesforce_lead_is_follow_up_outstanding__c\":false,\"$salesforce_lead_is_ms__c\":false,\"$salesforce_lead_isconverted\":false,\"$salesforce_lead_isdeleted\":false,\"$salesforce_lead_isunreadbyowner\":true,\"$salesforce_lead_last_source__c\":\"Facebook_Paid_Website\",\"$salesforce_lead_lastmodifiedby__c\":\"Site Guest User\",\"$salesforce_lead_lastmodifiedbyid\":\"0052v00000e6kcyAAA\",\"$salesforce_lead_lastmodifieddate\":1651651332,\"$salesforce_lead_lastname\":\"One Solution\",\"$salesforce_lead_lasttransferdate\":1651602600,\"$salesforce_lead_lead_designer_is_current_user__c\":false,\"$salesforce_lead_lead_owner_name__c\":\"Design Cafe Admin\",\"$salesforce_lead_lead_owner_role__c\":\"Administrator\",\"$salesforce_lead_lead_owner_s_phone__c\":\"+918068065000\",\"$salesforce_lead_lead_stage_and_call_stage__c\":\"Not Connected, RNR\",\"$salesforce_lead_leadnameandphone__c\":\"One Solution+917506766756\",\"$salesforce_lead_meeting_scheduled_on_first_call__c\":false,\"$salesforce_lead_meeting_scheduled_reminder__c\":false,\"$salesforce_lead_mobilephone\":\"+917506766756\",\"$salesforce_lead_mobileym__c\":\"917506766756\",\"$salesforce_lead_name\":\"One Solution\",\"$salesforce_lead_offer_of_the_month__c\":\"DCOFFERCODE\",\"$salesforce_lead_old_source__c\":\"Paid\",\"$salesforce_lead_ownerid\":\"0052v00000bZuPxAAK\",\"$salesforce_lead_page_url__c\":\"https://www.designcafe.com/\",\"$salesforce_lead_partner_notification__c\":false,\"$salesforce_lead_pb_design_user_assigned__c\":false,\"$salesforce_lead_ppt_uploaded__c\":false,\"$salesforce_lead_re_contact_date__c\":1651649815,\"$salesforce_lead_recontacted__c\":false,\"$salesforce_lead_record_id__c\":\"00QC5000005m8JV\",\"$salesforce_lead_recordfordeletion__c\":false,\"$salesforce_lead_recordtypeid\":\"0122u000000TSlDAAW\",\"$salesforce_lead_region__c\":\"Outstation\",\"$salesforce_lead_source__c\":\"Paid\",\"$salesforce_lead_source_journey__c\":\"Facebook_Paid_Website|Facebook_Paid_Website\",\"$salesforce_lead_status\":\"Not Connected\",\"$salesforce_lead_systemmodstamp\":1651651332,\"$salesforce_lead_whatsapp_opt_in__c\":true,\"$screen_height\":360,\"$screen_width\":640,\"$session_count\":1,\"$session_spent_time\":256.52,\"$user_agent\":\"Mozilla/5.0 (Linux; Android 9; SM-J701F Build/PPR1.180610.011; wv) AppleWebKit/537.36 (KHTML, like Gecko) Version/4.0 Chrome/74.0.3729.136 Mobile Safari/537.36\",\"$user_id\":\"+917506766756\"}},\"gid\":\"\"}\n",
            "\n",
            "255\n",
            "{\"pid\":\"483\",\"eni\":\"7b54d32c-bd4c-4f75-be79-0d2126c2f300\",\"gc\":\"1\"}\n",
            "{\"pid\":\"483\",\"eni\":\"79f806d9-6c6d-42ab-94d2-512ae269afa2\",\"gc\":\"1\"}\n",
            "\n",
            "2297\n",
            "{\"uid\":\"d9e2d8da-bafb-4057-8d22-77cc25af03ab\",\"uci\":\"8097511597\",\"prj\":\"483\",\"eni\":\"00000000-0000-0000-0000-000001732767\",\"en\":\"$sf_opportunity_updated\",\"gpc\":1,\"amt\":544713.5,\"ts\":1651377317}\n",
            "{\"uid\":\"521741c8-4cc4-43de-8a3c-2473c8db98b5\",\"uci\":\"9441118902\",\"prj\":\"483\",\"eni\":\"00000000-0000-0000-0000-000001732767\",\"en\":\"$sf_opportunity_updated\",\"gpc\":1,\"amt\":925264.9,\"ts\":1651378001}\n",
            "\n"
          ]
        }
      ]
    },
    {
      "cell_type": "markdown",
      "source": [
        "## 2.2. Read input files"
      ],
      "metadata": {
        "id": "ifwXlPWlA6M1"
      }
    },
    {
      "cell_type": "code",
      "source": [
        "ae_df = read_data_from_events_file(ae_fp, n_rows=fn_wc_map[ae_fn])\n",
        "be_df = read_data_from_events_file(be_fp, n_rows=fn_wc_map[be_fn], base_events_mode=True)\n",
        "grp_df = read_linear_json_file(grp_fp, n_rows=fn_wc_map[grp_fn])\n",
        "usr_df = read_linear_json_file(usr_fp, n_rows=fn_wc_map[usr_fn])"
      ],
      "metadata": {
        "colab": {
          "base_uri": "https://localhost:8080/",
          "height": 316,
          "referenced_widgets": [
            "45c4d6bdb88649c68b5992e69da24655",
            "63059d0b28644f6890aa983768db418a",
            "336f5ff5ec714746ade77f62e82265eb",
            "0f1ce3ebe0b84a269c73f5f1e24d8efe",
            "8f617b81773f4a50841f8bb62fdcd788",
            "419c9226f02d4b10b222d87586ca4ff8",
            "b8cae1bc7c3842a2a321c0fa501109d8",
            "916a9c4d8f8943a89e1a75135fd45656",
            "d08e561c789d4bb681a5878f74f824c4",
            "ba5cf0d00c094903bcfb0d1dc4542f9a",
            "807c0b9f2b8d4ed3bcaf91993cbe1834",
            "bede75def90c4e9c9481c67155f50c3a",
            "7bd551fbe94e4ff68480800488ce128c",
            "a63e3d3aee5949fc87f0713d4966f612",
            "beab19db164d441888d64afdd5a16c4e",
            "e2a3bd980bee4c9b81ea94e36e4427e9",
            "c0974c1fc8484d9e96d802243fc95947",
            "3901ea774b474aa8987ca75fe3998fc0",
            "46536baf354a4137bc1961ee6042ca8e",
            "710188232d3e46aea7945f6a7905d639",
            "52f1f624b2164f539daaf532c176d839",
            "7ffb1aff025c484c9bc5ff6cf03e0f6b",
            "beee431d4dac4da6b5feece7d1809c48",
            "708b901e1eea47539036e470bc10d799",
            "839da10718604dd9aee707a42d3ff6f0",
            "145b865896a34256bb9ce3417a0796fd",
            "0edacde1179d431980a6c489953f1534",
            "226dcf86c38e4ffe8730259a59abff4b",
            "35c5e6276fcc4a02a17b20d38582efe8",
            "b14eed3017b3405b829c6aae0754fe30",
            "8b00e61647b44e409818bc12c2b61825",
            "2e3b70815ca849508c34902d1b2b2628",
            "cf0f5aa0af4949d0b054223257eb6672",
            "e1fb3e975b484ad48ebd9ac397ae9f51",
            "08daf5313dbe4a4386ccf00878e785ca",
            "7bafca2b8efe4a8fb08dd72ca2066207",
            "1c52b7e662d844ab98b187a5f157e393",
            "2936e9a5351344bf96d6cfe3c588d589",
            "6c3ca1d3009a44b6b7300cdbdc281b1f",
            "8f4f24b70753436fa45d406bca7af228",
            "553abda30e6c458dbc83ec13dce6171d",
            "15f1de6d71394aa98592f658e0f595a9",
            "e4287ac51e704e168f406234536a6762",
            "b49f696de8ab486a815c54774463242f",
            "746589f506e944feaea0ba650805dc8d",
            "db2fb08882fe43aeabcc0ad83f034cda",
            "45c6ca7ab3884820a763035cce68a869",
            "39bbf8feb4294264b5366d5f42b26072",
            "4fb286c801b04a348d6ff2db311d2283",
            "2e53a53735374265becde6c14a9faefd",
            "dbe733d5b194489f994af6e24224ac91",
            "8db9b575bdb246409dbadbd5a01bb539",
            "a66f30c859c34633bb47a26d40d5559d",
            "ca12a3bb7cdd477a909009bbe3b62adc",
            "3f21506f7e2b417db3285132891a9fce",
            "85943e0edced47aa9d14b680b6386fb1",
            "7392c0504b994a41b96cc0e5027c0368",
            "0ad017b07de440bc9152dd5cacbe42cb",
            "5c70d1905d5243a8a9a286f9198cf623",
            "a745bb2cb4954d8eacc5abcad137d157",
            "5f47b07316f24c22848ac4f628209f72",
            "1f4aaa951c5b4daa88c8b2b062034eef",
            "6141ceee7dbd47e9a6f60dcfbb8560b5",
            "7f7cc994e9d5472f88f6a735426c9cf1",
            "037bc19f4a124264b43ec8a0af4e5f31",
            "ef77321f2ef7481588a91923e04c254c"
          ]
        },
        "id": "u2j6eCVKhTqp",
        "outputId": "0b5630dd-2ce7-41e0-fdb3-15c4cf03484c"
      },
      "execution_count": null,
      "outputs": [
        {
          "output_type": "display_data",
          "data": {
            "text/plain": [
              "  0%|          | 0/66146 [00:00<?, ?it/s]"
            ],
            "application/vnd.jupyter.widget-view+json": {
              "version_major": 2,
              "version_minor": 0,
              "model_id": "45c4d6bdb88649c68b5992e69da24655"
            }
          },
          "metadata": {}
        },
        {
          "output_type": "stream",
          "name": "stdout",
          "text": [
            "Done parsing.\n",
            "Flattening properties...\n"
          ]
        },
        {
          "output_type": "display_data",
          "data": {
            "text/plain": [
              "  0%|          | 0/3226 [00:00<?, ?it/s]"
            ],
            "application/vnd.jupyter.widget-view+json": {
              "version_major": 2,
              "version_minor": 0,
              "model_id": "bede75def90c4e9c9481c67155f50c3a"
            }
          },
          "metadata": {}
        },
        {
          "output_type": "stream",
          "name": "stdout",
          "text": [
            "Preparing dataframe...\n"
          ]
        },
        {
          "output_type": "display_data",
          "data": {
            "text/plain": [
              "  0%|          | 0/1889 [00:00<?, ?it/s]"
            ],
            "application/vnd.jupyter.widget-view+json": {
              "version_major": 2,
              "version_minor": 0,
              "model_id": "beee431d4dac4da6b5feece7d1809c48"
            }
          },
          "metadata": {}
        },
        {
          "output_type": "stream",
          "name": "stdout",
          "text": [
            "Done parsing.\n",
            "Flattening properties...\n"
          ]
        },
        {
          "output_type": "display_data",
          "data": {
            "text/plain": [
              "  0%|          | 0/1886 [00:00<?, ?it/s]"
            ],
            "application/vnd.jupyter.widget-view+json": {
              "version_major": 2,
              "version_minor": 0,
              "model_id": "e1fb3e975b484ad48ebd9ac397ae9f51"
            }
          },
          "metadata": {}
        },
        {
          "output_type": "stream",
          "name": "stdout",
          "text": [
            "Preparing dataframe...\n"
          ]
        },
        {
          "output_type": "display_data",
          "data": {
            "text/plain": [
              "  0%|          | 0/255 [00:00<?, ?it/s]"
            ],
            "application/vnd.jupyter.widget-view+json": {
              "version_major": 2,
              "version_minor": 0,
              "model_id": "746589f506e944feaea0ba650805dc8d"
            }
          },
          "metadata": {}
        },
        {
          "output_type": "display_data",
          "data": {
            "text/plain": [
              "  0%|          | 0/2297 [00:00<?, ?it/s]"
            ],
            "application/vnd.jupyter.widget-view+json": {
              "version_major": 2,
              "version_minor": 0,
              "model_id": "85943e0edced47aa9d14b680b6386fb1"
            }
          },
          "metadata": {}
        }
      ]
    },
    {
      "cell_type": "code",
      "source": [
        "grp_events = set(grp_df['eni'].unique())"
      ],
      "metadata": {
        "id": "56K7sH8owy-X"
      },
      "execution_count": null,
      "outputs": []
    },
    {
      "cell_type": "code",
      "source": [
        "print('Users:', ae_df['uid'].nunique(), be_df['uid'].nunique(), usr_df['uid'].nunique())\n",
        "print('Events:', ae_df['en'].nunique(), be_df['en'].nunique(), usr_df['en'].nunique())\n",
        "be_df['en'].unique(), usr_df['en'].unique()"
      ],
      "metadata": {
        "colab": {
          "base_uri": "https://localhost:8080/"
        },
        "id": "q9P9iUtbwSjV",
        "outputId": "1c14cdcb-d3d2-464a-f297-2e5401f69eba"
      },
      "execution_count": null,
      "outputs": [
        {
          "output_type": "stream",
          "name": "stdout",
          "text": [
            "Users: 3226 1886 1461\n",
            "Events: 465 1 1\n"
          ]
        },
        {
          "output_type": "execute_result",
          "data": {
            "text/plain": [
              "(array(['$sf_lead_created'], dtype=object),\n",
              " array(['$sf_opportunity_updated'], dtype=object))"
            ]
          },
          "metadata": {},
          "execution_count": 13
        }
      ]
    },
    {
      "cell_type": "markdown",
      "source": [
        "# 3. Data Processing"
      ],
      "metadata": {
        "id": "3oHYbUfkPWZh"
      }
    },
    {
      "cell_type": "markdown",
      "source": [
        "## 3.1. Process User amounts"
      ],
      "metadata": {
        "id": "IkND4rOGrQkl"
      }
    },
    {
      "cell_type": "markdown",
      "source": [
        "### 3.1.1. Compute Amount progression"
      ],
      "metadata": {
        "id": "fDz1WZoqCG-Y"
      }
    },
    {
      "cell_type": "code",
      "source": [
        "usr_amt_df = pd.DataFrame({'amt_progression':usr_df[['uci', 'en', 'amt', 'ts']].groupby('uci').apply(lambda x: tuple(zip(x['amt'], map(lambda t: t, x['ts'])))).to_dict()})\n",
        "usr_amt_df['prog_summary'] = usr_amt_df['amt_progression'].apply(get_prog_summary)\n",
        "usr_amt_df[usr_amt_df['prog_summary'].isin({MNZ, ZMNZ})]['amt_progression'].apply(lambda x: ' -> '.join(map(str, sorted(set(list(zip(*x))[0])))))\n",
        "usr_amt_df"
      ],
      "metadata": {
        "colab": {
          "base_uri": "https://localhost:8080/",
          "height": 424
        },
        "id": "VAqa1QSi0EQK",
        "outputId": "42ef2bd1-6327-4be0-e1db-3d7cf899c890"
      },
      "execution_count": null,
      "outputs": [
        {
          "output_type": "execute_result",
          "data": {
            "text/plain": [
              "                                                 amt_progression\n",
              "+917893171354   ((748268.2, 1651468528), (748268.2, 1651752240))\n",
              "+918197376431                               ((0.0, 1651482267),)\n",
              "+918778062390  ((1596729.2, 1651400881), (1596729.2, 16516555...\n",
              "+918796142169                               ((0.0, 1651750027),)\n",
              "+919448285567                         ((296801.38, 1651579144),)\n",
              "...                                                          ...\n",
              "9995674999                             ((743009.2, 1651391706),)\n",
              "9998403838     ((949244.25, 1651756323), (949244.25, 16518444...\n",
              "9999060110                            ((503063.25, 1651746911),)\n",
              "9999277289     ((1052628.5, 1651395687), (1052628.5, 16517494...\n",
              "9999726249                                  ((0.0, 1651749506),)\n",
              "\n",
              "[1461 rows x 1 columns]"
            ],
            "text/html": [
              "\n",
              "  <div id=\"df-282c10c0-bfa9-4f14-9ded-a055344679d0\">\n",
              "    <div class=\"colab-df-container\">\n",
              "      <div>\n",
              "<style scoped>\n",
              "    .dataframe tbody tr th:only-of-type {\n",
              "        vertical-align: middle;\n",
              "    }\n",
              "\n",
              "    .dataframe tbody tr th {\n",
              "        vertical-align: top;\n",
              "    }\n",
              "\n",
              "    .dataframe thead th {\n",
              "        text-align: right;\n",
              "    }\n",
              "</style>\n",
              "<table border=\"1\" class=\"dataframe\">\n",
              "  <thead>\n",
              "    <tr style=\"text-align: right;\">\n",
              "      <th></th>\n",
              "      <th>amt_progression</th>\n",
              "    </tr>\n",
              "  </thead>\n",
              "  <tbody>\n",
              "    <tr>\n",
              "      <th>+917893171354</th>\n",
              "      <td>((748268.2, 1651468528), (748268.2, 1651752240))</td>\n",
              "    </tr>\n",
              "    <tr>\n",
              "      <th>+918197376431</th>\n",
              "      <td>((0.0, 1651482267),)</td>\n",
              "    </tr>\n",
              "    <tr>\n",
              "      <th>+918778062390</th>\n",
              "      <td>((1596729.2, 1651400881), (1596729.2, 16516555...</td>\n",
              "    </tr>\n",
              "    <tr>\n",
              "      <th>+918796142169</th>\n",
              "      <td>((0.0, 1651750027),)</td>\n",
              "    </tr>\n",
              "    <tr>\n",
              "      <th>+919448285567</th>\n",
              "      <td>((296801.38, 1651579144),)</td>\n",
              "    </tr>\n",
              "    <tr>\n",
              "      <th>...</th>\n",
              "      <td>...</td>\n",
              "    </tr>\n",
              "    <tr>\n",
              "      <th>9995674999</th>\n",
              "      <td>((743009.2, 1651391706),)</td>\n",
              "    </tr>\n",
              "    <tr>\n",
              "      <th>9998403838</th>\n",
              "      <td>((949244.25, 1651756323), (949244.25, 16518444...</td>\n",
              "    </tr>\n",
              "    <tr>\n",
              "      <th>9999060110</th>\n",
              "      <td>((503063.25, 1651746911),)</td>\n",
              "    </tr>\n",
              "    <tr>\n",
              "      <th>9999277289</th>\n",
              "      <td>((1052628.5, 1651395687), (1052628.5, 16517494...</td>\n",
              "    </tr>\n",
              "    <tr>\n",
              "      <th>9999726249</th>\n",
              "      <td>((0.0, 1651749506),)</td>\n",
              "    </tr>\n",
              "  </tbody>\n",
              "</table>\n",
              "<p>1461 rows × 1 columns</p>\n",
              "</div>\n",
              "      <button class=\"colab-df-convert\" onclick=\"convertToInteractive('df-282c10c0-bfa9-4f14-9ded-a055344679d0')\"\n",
              "              title=\"Convert this dataframe to an interactive table.\"\n",
              "              style=\"display:none;\">\n",
              "        \n",
              "  <svg xmlns=\"http://www.w3.org/2000/svg\" height=\"24px\"viewBox=\"0 0 24 24\"\n",
              "       width=\"24px\">\n",
              "    <path d=\"M0 0h24v24H0V0z\" fill=\"none\"/>\n",
              "    <path d=\"M18.56 5.44l.94 2.06.94-2.06 2.06-.94-2.06-.94-.94-2.06-.94 2.06-2.06.94zm-11 1L8.5 8.5l.94-2.06 2.06-.94-2.06-.94L8.5 2.5l-.94 2.06-2.06.94zm10 10l.94 2.06.94-2.06 2.06-.94-2.06-.94-.94-2.06-.94 2.06-2.06.94z\"/><path d=\"M17.41 7.96l-1.37-1.37c-.4-.4-.92-.59-1.43-.59-.52 0-1.04.2-1.43.59L10.3 9.45l-7.72 7.72c-.78.78-.78 2.05 0 2.83L4 21.41c.39.39.9.59 1.41.59.51 0 1.02-.2 1.41-.59l7.78-7.78 2.81-2.81c.8-.78.8-2.07 0-2.86zM5.41 20L4 18.59l7.72-7.72 1.47 1.35L5.41 20z\"/>\n",
              "  </svg>\n",
              "      </button>\n",
              "      \n",
              "  <style>\n",
              "    .colab-df-container {\n",
              "      display:flex;\n",
              "      flex-wrap:wrap;\n",
              "      gap: 12px;\n",
              "    }\n",
              "\n",
              "    .colab-df-convert {\n",
              "      background-color: #E8F0FE;\n",
              "      border: none;\n",
              "      border-radius: 50%;\n",
              "      cursor: pointer;\n",
              "      display: none;\n",
              "      fill: #1967D2;\n",
              "      height: 32px;\n",
              "      padding: 0 0 0 0;\n",
              "      width: 32px;\n",
              "    }\n",
              "\n",
              "    .colab-df-convert:hover {\n",
              "      background-color: #E2EBFA;\n",
              "      box-shadow: 0px 1px 2px rgba(60, 64, 67, 0.3), 0px 1px 3px 1px rgba(60, 64, 67, 0.15);\n",
              "      fill: #174EA6;\n",
              "    }\n",
              "\n",
              "    [theme=dark] .colab-df-convert {\n",
              "      background-color: #3B4455;\n",
              "      fill: #D2E3FC;\n",
              "    }\n",
              "\n",
              "    [theme=dark] .colab-df-convert:hover {\n",
              "      background-color: #434B5C;\n",
              "      box-shadow: 0px 1px 3px 1px rgba(0, 0, 0, 0.15);\n",
              "      filter: drop-shadow(0px 1px 2px rgba(0, 0, 0, 0.3));\n",
              "      fill: #FFFFFF;\n",
              "    }\n",
              "  </style>\n",
              "\n",
              "      <script>\n",
              "        const buttonEl =\n",
              "          document.querySelector('#df-282c10c0-bfa9-4f14-9ded-a055344679d0 button.colab-df-convert');\n",
              "        buttonEl.style.display =\n",
              "          google.colab.kernel.accessAllowed ? 'block' : 'none';\n",
              "\n",
              "        async function convertToInteractive(key) {\n",
              "          const element = document.querySelector('#df-282c10c0-bfa9-4f14-9ded-a055344679d0');\n",
              "          const dataTable =\n",
              "            await google.colab.kernel.invokeFunction('convertToInteractive',\n",
              "                                                     [key], {});\n",
              "          if (!dataTable) return;\n",
              "\n",
              "          const docLinkHtml = 'Like what you see? Visit the ' +\n",
              "            '<a target=\"_blank\" href=https://colab.research.google.com/notebooks/data_table.ipynb>data table notebook</a>'\n",
              "            + ' to learn more about interactive tables.';\n",
              "          element.innerHTML = '';\n",
              "          dataTable['output_type'] = 'display_data';\n",
              "          await google.colab.output.renderOutput(dataTable, element);\n",
              "          const docLink = document.createElement('div');\n",
              "          docLink.innerHTML = docLinkHtml;\n",
              "          element.appendChild(docLink);\n",
              "        }\n",
              "      </script>\n",
              "    </div>\n",
              "  </div>\n",
              "  "
            ]
          },
          "metadata": {},
          "execution_count": 16
        }
      ]
    },
    {
      "cell_type": "markdown",
      "source": [
        "### 3.1.2. Resolve amounts"
      ],
      "metadata": {
        "id": "94YTs3MDCpIY"
      }
    },
    {
      "cell_type": "code",
      "source": [
        "usr_amt_df['resolved_amt'] = usr_amt_df.apply(resolve_amount, axis=1)\n",
        "usr_amt_map = usr_amt_df['resolved_amt'].to_dict()\n",
        "usr_amt_df"
      ],
      "metadata": {
        "colab": {
          "base_uri": "https://localhost:8080/",
          "height": 424
        },
        "id": "Zt03XtoQnELT",
        "outputId": "89f6de6d-3903-4ba8-acff-a706c308d607"
      },
      "execution_count": null,
      "outputs": [
        {
          "output_type": "execute_result",
          "data": {
            "text/plain": [
              "                                                 amt_progression  \\\n",
              "+917893171354   ((748268.2, 1651468528), (748268.2, 1651752240))   \n",
              "+918197376431                               ((0.0, 1651482267),)   \n",
              "+918778062390  ((1596729.2, 1651400881), (1596729.2, 16516555...   \n",
              "+918796142169                               ((0.0, 1651750027),)   \n",
              "+919448285567                         ((296801.38, 1651579144),)   \n",
              "...                                                          ...   \n",
              "9995674999                             ((743009.2, 1651391706),)   \n",
              "9998403838     ((949244.25, 1651756323), (949244.25, 16518444...   \n",
              "9999060110                            ((503063.25, 1651746911),)   \n",
              "9999277289     ((1052628.5, 1651395687), (1052628.5, 16517494...   \n",
              "9999726249                                  ((0.0, 1651749506),)   \n",
              "\n",
              "                   prog_summary             resolved_amt  \n",
              "+917893171354  Single Non-zero.   (748268.2, 1651468528)  \n",
              "+918197376431      Single Zero.        (0.0, 1651482267)  \n",
              "+918778062390  Single Non-zero.  (1596729.2, 1651400881)  \n",
              "+918796142169      Single Zero.        (0.0, 1651750027)  \n",
              "+919448285567  Single Non-zero.  (296801.38, 1651579144)  \n",
              "...                         ...                      ...  \n",
              "9995674999     Single Non-zero.   (743009.2, 1651391706)  \n",
              "9998403838     Single Non-zero.  (949244.25, 1651756323)  \n",
              "9999060110     Single Non-zero.  (503063.25, 1651746911)  \n",
              "9999277289     Single Non-zero.  (1052628.5, 1651395687)  \n",
              "9999726249         Single Zero.        (0.0, 1651749506)  \n",
              "\n",
              "[1461 rows x 3 columns]"
            ],
            "text/html": [
              "\n",
              "  <div id=\"df-6d1dee02-5127-4337-b0f3-608b60ef3799\">\n",
              "    <div class=\"colab-df-container\">\n",
              "      <div>\n",
              "<style scoped>\n",
              "    .dataframe tbody tr th:only-of-type {\n",
              "        vertical-align: middle;\n",
              "    }\n",
              "\n",
              "    .dataframe tbody tr th {\n",
              "        vertical-align: top;\n",
              "    }\n",
              "\n",
              "    .dataframe thead th {\n",
              "        text-align: right;\n",
              "    }\n",
              "</style>\n",
              "<table border=\"1\" class=\"dataframe\">\n",
              "  <thead>\n",
              "    <tr style=\"text-align: right;\">\n",
              "      <th></th>\n",
              "      <th>amt_progression</th>\n",
              "      <th>prog_summary</th>\n",
              "      <th>resolved_amt</th>\n",
              "    </tr>\n",
              "  </thead>\n",
              "  <tbody>\n",
              "    <tr>\n",
              "      <th>+917893171354</th>\n",
              "      <td>((748268.2, 1651468528), (748268.2, 1651752240))</td>\n",
              "      <td>Single Non-zero.</td>\n",
              "      <td>(748268.2, 1651468528)</td>\n",
              "    </tr>\n",
              "    <tr>\n",
              "      <th>+918197376431</th>\n",
              "      <td>((0.0, 1651482267),)</td>\n",
              "      <td>Single Zero.</td>\n",
              "      <td>(0.0, 1651482267)</td>\n",
              "    </tr>\n",
              "    <tr>\n",
              "      <th>+918778062390</th>\n",
              "      <td>((1596729.2, 1651400881), (1596729.2, 16516555...</td>\n",
              "      <td>Single Non-zero.</td>\n",
              "      <td>(1596729.2, 1651400881)</td>\n",
              "    </tr>\n",
              "    <tr>\n",
              "      <th>+918796142169</th>\n",
              "      <td>((0.0, 1651750027),)</td>\n",
              "      <td>Single Zero.</td>\n",
              "      <td>(0.0, 1651750027)</td>\n",
              "    </tr>\n",
              "    <tr>\n",
              "      <th>+919448285567</th>\n",
              "      <td>((296801.38, 1651579144),)</td>\n",
              "      <td>Single Non-zero.</td>\n",
              "      <td>(296801.38, 1651579144)</td>\n",
              "    </tr>\n",
              "    <tr>\n",
              "      <th>...</th>\n",
              "      <td>...</td>\n",
              "      <td>...</td>\n",
              "      <td>...</td>\n",
              "    </tr>\n",
              "    <tr>\n",
              "      <th>9995674999</th>\n",
              "      <td>((743009.2, 1651391706),)</td>\n",
              "      <td>Single Non-zero.</td>\n",
              "      <td>(743009.2, 1651391706)</td>\n",
              "    </tr>\n",
              "    <tr>\n",
              "      <th>9998403838</th>\n",
              "      <td>((949244.25, 1651756323), (949244.25, 16518444...</td>\n",
              "      <td>Single Non-zero.</td>\n",
              "      <td>(949244.25, 1651756323)</td>\n",
              "    </tr>\n",
              "    <tr>\n",
              "      <th>9999060110</th>\n",
              "      <td>((503063.25, 1651746911),)</td>\n",
              "      <td>Single Non-zero.</td>\n",
              "      <td>(503063.25, 1651746911)</td>\n",
              "    </tr>\n",
              "    <tr>\n",
              "      <th>9999277289</th>\n",
              "      <td>((1052628.5, 1651395687), (1052628.5, 16517494...</td>\n",
              "      <td>Single Non-zero.</td>\n",
              "      <td>(1052628.5, 1651395687)</td>\n",
              "    </tr>\n",
              "    <tr>\n",
              "      <th>9999726249</th>\n",
              "      <td>((0.0, 1651749506),)</td>\n",
              "      <td>Single Zero.</td>\n",
              "      <td>(0.0, 1651749506)</td>\n",
              "    </tr>\n",
              "  </tbody>\n",
              "</table>\n",
              "<p>1461 rows × 3 columns</p>\n",
              "</div>\n",
              "      <button class=\"colab-df-convert\" onclick=\"convertToInteractive('df-6d1dee02-5127-4337-b0f3-608b60ef3799')\"\n",
              "              title=\"Convert this dataframe to an interactive table.\"\n",
              "              style=\"display:none;\">\n",
              "        \n",
              "  <svg xmlns=\"http://www.w3.org/2000/svg\" height=\"24px\"viewBox=\"0 0 24 24\"\n",
              "       width=\"24px\">\n",
              "    <path d=\"M0 0h24v24H0V0z\" fill=\"none\"/>\n",
              "    <path d=\"M18.56 5.44l.94 2.06.94-2.06 2.06-.94-2.06-.94-.94-2.06-.94 2.06-2.06.94zm-11 1L8.5 8.5l.94-2.06 2.06-.94-2.06-.94L8.5 2.5l-.94 2.06-2.06.94zm10 10l.94 2.06.94-2.06 2.06-.94-2.06-.94-.94-2.06-.94 2.06-2.06.94z\"/><path d=\"M17.41 7.96l-1.37-1.37c-.4-.4-.92-.59-1.43-.59-.52 0-1.04.2-1.43.59L10.3 9.45l-7.72 7.72c-.78.78-.78 2.05 0 2.83L4 21.41c.39.39.9.59 1.41.59.51 0 1.02-.2 1.41-.59l7.78-7.78 2.81-2.81c.8-.78.8-2.07 0-2.86zM5.41 20L4 18.59l7.72-7.72 1.47 1.35L5.41 20z\"/>\n",
              "  </svg>\n",
              "      </button>\n",
              "      \n",
              "  <style>\n",
              "    .colab-df-container {\n",
              "      display:flex;\n",
              "      flex-wrap:wrap;\n",
              "      gap: 12px;\n",
              "    }\n",
              "\n",
              "    .colab-df-convert {\n",
              "      background-color: #E8F0FE;\n",
              "      border: none;\n",
              "      border-radius: 50%;\n",
              "      cursor: pointer;\n",
              "      display: none;\n",
              "      fill: #1967D2;\n",
              "      height: 32px;\n",
              "      padding: 0 0 0 0;\n",
              "      width: 32px;\n",
              "    }\n",
              "\n",
              "    .colab-df-convert:hover {\n",
              "      background-color: #E2EBFA;\n",
              "      box-shadow: 0px 1px 2px rgba(60, 64, 67, 0.3), 0px 1px 3px 1px rgba(60, 64, 67, 0.15);\n",
              "      fill: #174EA6;\n",
              "    }\n",
              "\n",
              "    [theme=dark] .colab-df-convert {\n",
              "      background-color: #3B4455;\n",
              "      fill: #D2E3FC;\n",
              "    }\n",
              "\n",
              "    [theme=dark] .colab-df-convert:hover {\n",
              "      background-color: #434B5C;\n",
              "      box-shadow: 0px 1px 3px 1px rgba(0, 0, 0, 0.15);\n",
              "      filter: drop-shadow(0px 1px 2px rgba(0, 0, 0, 0.3));\n",
              "      fill: #FFFFFF;\n",
              "    }\n",
              "  </style>\n",
              "\n",
              "      <script>\n",
              "        const buttonEl =\n",
              "          document.querySelector('#df-6d1dee02-5127-4337-b0f3-608b60ef3799 button.colab-df-convert');\n",
              "        buttonEl.style.display =\n",
              "          google.colab.kernel.accessAllowed ? 'block' : 'none';\n",
              "\n",
              "        async function convertToInteractive(key) {\n",
              "          const element = document.querySelector('#df-6d1dee02-5127-4337-b0f3-608b60ef3799');\n",
              "          const dataTable =\n",
              "            await google.colab.kernel.invokeFunction('convertToInteractive',\n",
              "                                                     [key], {});\n",
              "          if (!dataTable) return;\n",
              "\n",
              "          const docLinkHtml = 'Like what you see? Visit the ' +\n",
              "            '<a target=\"_blank\" href=https://colab.research.google.com/notebooks/data_table.ipynb>data table notebook</a>'\n",
              "            + ' to learn more about interactive tables.';\n",
              "          element.innerHTML = '';\n",
              "          dataTable['output_type'] = 'display_data';\n",
              "          await google.colab.output.renderOutput(dataTable, element);\n",
              "          const docLink = document.createElement('div');\n",
              "          docLink.innerHTML = docLinkHtml;\n",
              "          element.appendChild(docLink);\n",
              "        }\n",
              "      </script>\n",
              "    </div>\n",
              "  </div>\n",
              "  "
            ]
          },
          "metadata": {},
          "execution_count": 20
        }
      ]
    },
    {
      "cell_type": "markdown",
      "source": [
        "## 3.2. Timeframe Analysis (Optional)"
      ],
      "metadata": {
        "id": "9N6_xuNErdE9"
      }
    },
    {
      "cell_type": "code",
      "source": [
        "len(set(usr_amt_map.keys()).intersection(set(ae_df['uid']))), len(set(usr_df['uci']).intersection(set(ae_df['uid'])))"
      ],
      "metadata": {
        "colab": {
          "base_uri": "https://localhost:8080/"
        },
        "id": "OcO8DM4-rhDa",
        "outputId": "ab7d7a75-3578-4fe2-afeb-effe97537202"
      },
      "execution_count": null,
      "outputs": [
        {
          "output_type": "execute_result",
          "data": {
            "text/plain": [
              "(1461, 1461)"
            ]
          },
          "metadata": {},
          "execution_count": 24
        }
      ]
    },
    {
      "cell_type": "code",
      "source": [
        "ae_users = set(ae_df['uid'].unique())\n",
        "be_users = set(be_df['uid'].unique())\n",
        "usr_users = set(usr_df['uci'].unique())\n",
        "ae_events = set(ae_df['en'].unique())\n",
        "be_events = set(be_df['en'].unique())\n",
        "usr_events = set(usr_df['en'].unique())"
      ],
      "metadata": {
        "id": "cL19sV_6r6R-"
      },
      "execution_count": null,
      "outputs": []
    },
    {
      "cell_type": "code",
      "source": [
        "ae_df[['uid', 'en']].groupby('uid').agg(lambda x: list(be_events)[0] in list(x))['en'].value_counts()"
      ],
      "metadata": {
        "colab": {
          "base_uri": "https://localhost:8080/"
        },
        "id": "5XZqZNogX6bC",
        "outputId": "086ef4c0-5c3b-4aff-e144-552c1f4b465a"
      },
      "execution_count": null,
      "outputs": [
        {
          "output_type": "execute_result",
          "data": {
            "text/plain": [
              "True    3226\n",
              "Name: en, dtype: int64"
            ]
          },
          "metadata": {},
          "execution_count": 26
        }
      ]
    },
    {
      "cell_type": "code",
      "source": [
        "ae_df[['uid', 'en']].groupby('uid').agg(lambda x: list(usr_events)[0] in list(x))['en'].value_counts()"
      ],
      "metadata": {
        "colab": {
          "base_uri": "https://localhost:8080/"
        },
        "id": "JUk3VOJOYZtM",
        "outputId": "52e837b5-658d-45db-a79a-2b1b4119be6e"
      },
      "execution_count": null,
      "outputs": [
        {
          "output_type": "execute_result",
          "data": {
            "text/plain": [
              "False    1764\n",
              "True     1462\n",
              "Name: en, dtype: int64"
            ]
          },
          "metadata": {},
          "execution_count": 27
        }
      ]
    },
    {
      "cell_type": "code",
      "source": [
        "venn3([ae_users, be_users, usr_users], set_labels=['All', f'Base ({list(be_events)[0]})', f'Target ({list(usr_events)[0]})'])"
      ],
      "metadata": {
        "colab": {
          "base_uri": "https://localhost:8080/",
          "height": 284
        },
        "id": "VMIJYJX8WnV1",
        "outputId": "733e220f-4251-484d-d0cd-2a053fa68e77"
      },
      "execution_count": null,
      "outputs": [
        {
          "output_type": "stream",
          "name": "stderr",
          "text": [
            "Bad circle positioning\n"
          ]
        },
        {
          "output_type": "execute_result",
          "data": {
            "text/plain": [
              "<matplotlib_venn._common.VennDiagram at 0x7f1b9b2fa850>"
            ]
          },
          "metadata": {},
          "execution_count": 28
        },
        {
          "output_type": "display_data",
          "data": {
            "text/plain": [
              "<Figure size 432x288 with 1 Axes>"
            ],
            "image/png": "[encoded data removed]"
          },
          "metadata": {}
        }
      ]
    },
    {
      "cell_type": "code",
      "source": [
        "print(len(ae_users), 'All users')\n",
        "print(len(be_users), f'Base event (\"{list(be_events)[0]}\") users')\n",
        "print(len(usr_users), f'Target event (\"{list(usr_events)[0]}\") users')"
      ],
      "metadata": {
        "colab": {
          "base_uri": "https://localhost:8080/"
        },
        "id": "rakUToXMsMC8",
        "outputId": "9b9cdaf8-e997-46fe-84f1-1dbfffe6efee"
      },
      "execution_count": null,
      "outputs": [
        {
          "output_type": "stream",
          "name": "stdout",
          "text": [
            "3226 All users\n",
            "1886 Base event (\"$sf_lead_created\") users\n",
            "1461 Target event (\"$sf_opportunity_updated\") users\n"
          ]
        }
      ]
    },
    {
      "cell_type": "code",
      "source": [
        "print(len(ae_users.intersection(be_users)), 'all and base users')\n",
        "print(len(be_users.intersection(usr_users)), 'base and target users')\n",
        "print(len(usr_users.intersection(ae_users)), 'all and target users')"
      ],
      "metadata": {
        "colab": {
          "base_uri": "https://localhost:8080/"
        },
        "id": "K1pkXkvlTLP_",
        "outputId": "66ced114-1f8f-41e0-af2e-bb1dff108c43"
      },
      "execution_count": null,
      "outputs": [
        {
          "output_type": "stream",
          "name": "stdout",
          "text": [
            "1886 all and base users\n",
            "121 base and target users\n",
            "1461 all and target users\n"
          ]
        }
      ]
    },
    {
      "cell_type": "code",
      "source": [
        "from matplotlib import pyplot as plt\n",
        "ae_df['et'] = pd.to_datetime(ae_df['et'], unit='s')\n",
        "ax = ae_df['et'].hist(bins=20)\n",
        "ax.set_yscale('log')\n",
        "_ = ax.set_title(f\"all_events_timeframe \\n({ae_df['et'].min()} -> {ae_df['et'].max()})\")\n",
        "_ = plt.xticks(rotation=45, ha = 'right')"
      ],
      "metadata": {
        "colab": {
          "base_uri": "https://localhost:8080/",
          "height": 311
        },
        "id": "FTBTeZQq1dIm",
        "outputId": "7f91bef2-3487-4b1e-d666-d4cf5e344a45"
      },
      "execution_count": null,
      "outputs": [
        {
          "output_type": "display_data",
          "data": {
            "text/plain": [
              "<Figure size 432x288 with 1 Axes>"
            ],
            "image/png": "[encoded data removed]"
          },
          "metadata": {
            "needs_background": "light"
          }
        }
      ]
    },
    {
      "cell_type": "code",
      "source": [
        "be_df['et'] = pd.to_datetime(be_df['et'], unit='s')\n",
        "ax = be_df['et'].hist()\n",
        "_ = plt.xticks(rotation=45, ha = 'right')\n",
        "_ = ax.set_title(f\"base_events_timeframe \\n({be_df['et'].min()} -> {be_df['et'].max()})\")"
      ],
      "metadata": {
        "colab": {
          "base_uri": "https://localhost:8080/",
          "height": 334
        },
        "id": "hVHutgpzu3rl",
        "outputId": "30be2de9-a462-4110-9c62-7847f0fbe163"
      },
      "execution_count": null,
      "outputs": [
        {
          "output_type": "display_data",
          "data": {
            "text/plain": [
              "<Figure size 432x288 with 1 Axes>"
            ],
            "image/png": "[encoded data removed]"
          },
          "metadata": {
            "needs_background": "light"
          }
        }
      ]
    },
    {
      "cell_type": "code",
      "source": [
        "usr_df['ts'] = pd.to_datetime(usr_df['ts'], unit='s')\n",
        "ax = usr_df['ts'].hist()\n",
        "_ = plt.xticks(rotation=45, ha = 'right')\n",
        "_ = ax.set_title(f\"target_events_timeframe (all converts) \\n({usr_df['ts'].min()} -> {usr_df['ts'].max()})\")"
      ],
      "metadata": {
        "colab": {
          "base_uri": "https://localhost:8080/",
          "height": 334
        },
        "id": "sCA-DlN4w7mf",
        "outputId": "dbc42df4-096f-4294-be18-c200f8865219"
      },
      "execution_count": null,
      "outputs": [
        {
          "output_type": "display_data",
          "data": {
            "text/plain": [
              "<Figure size 432x288 with 1 Axes>"
            ],
            "image/png": "[encoded data removed]"
          },
          "metadata": {
            "needs_background": "light"
          }
        }
      ]
    },
    {
      "cell_type": "code",
      "source": [
        "ax = usr_df[usr_df['uci'].isin(be_users)]['ts'].hist()\n",
        "_ = plt.xticks(rotation=45, ha = 'right')\n",
        "_ = ax.set_title(f\"target_events_timeframe (all converts) \\n({usr_df['ts'].min()} -> {usr_df['ts'].max()})\")"
      ],
      "metadata": {
        "colab": {
          "base_uri": "https://localhost:8080/",
          "height": 334
        },
        "id": "1nvlCRWc28eN",
        "outputId": "b05c0b84-1018-4dab-9dcd-622267dbad4c"
      },
      "execution_count": null,
      "outputs": [
        {
          "output_type": "display_data",
          "data": {
            "text/plain": [
              "<Figure size 432x288 with 1 Axes>"
            ],
            "image/png": "[encoded data removed]"
          },
          "metadata": {
            "needs_background": "light"
          }
        }
      ]
    },
    {
      "cell_type": "markdown",
      "source": [
        "## 3.3. Filter out Rare events"
      ],
      "metadata": {
        "id": "R-H0EdAiAeYV"
      }
    },
    {
      "cell_type": "code",
      "source": [
        "all_events = set(ae_df['en'])\n",
        "all_users = set(ae_df['uid'])"
      ],
      "metadata": {
        "id": "KcmYqmU0zk_2"
      },
      "execution_count": null,
      "outputs": []
    },
    {
      "cell_type": "code",
      "source": [
        "df = ae_df"
      ],
      "metadata": {
        "id": "JS2yndp2Bprw"
      },
      "execution_count": null,
      "outputs": []
    },
    {
      "cell_type": "code",
      "source": [
        "#@title\n",
        "uid_tf_map = df[['uid', 'en']].groupby('uid').apply(lambda x: Counter(x['en'])).to_dict()\n",
        "events_list = []\n",
        "for _, d in uid_tf_map.items():\n",
        "    events_list.extend(list(d))\n",
        "df_map = Counter(events_list)"
      ],
      "metadata": {
        "id": "ozs9FzbX3q74"
      },
      "execution_count": null,
      "outputs": []
    },
    {
      "cell_type": "code",
      "source": [
        "df_thres = DEFAULT_EVENT_DF_THRES\n",
        "df_df = pd.DataFrame({'df': df_map})\n",
        "df_df[df_df['df'] <= df_thres]"
      ],
      "metadata": {
        "colab": {
          "base_uri": "https://localhost:8080/",
          "height": 424
        },
        "id": "gFkH9bwg3yS6",
        "outputId": "4beb88a9-cb38-4f5f-fb2b-81a10e2b3cf0"
      },
      "execution_count": null,
      "outputs": [
        {
          "output_type": "execute_result",
          "data": {
            "text/plain": [
              "                                                    df\n",
              "SF_lead_created                                      1\n",
              "designcafe.com/p/home-interiors-designs              1\n",
              "designcafe.com/p/home-interiors-designs-hyderabad    2\n",
              "dev.designcafe.com                                   1\n",
              "www.designcafe.com/blog/bathroom-interiors/bath...   1\n",
              "...                                                 ..\n",
              "www.designcafe.com/thank-you/#18062                  1\n",
              "www.designcafe.com/thank-you/#contactUsModal         1\n",
              "www.designcafe.com/thank-you/#kitchen-designs        2\n",
              "www.designcafe.com/thank-you/#personalised-design    1\n",
              "www.designcafe.com/walkin                            1\n",
              "\n",
              "[370 rows x 1 columns]"
            ],
            "text/html": [
              "\n",
              "  <div id=\"df-049d048c-5b03-4971-a323-f782b4a45b2c\">\n",
              "    <div class=\"colab-df-container\">\n",
              "      <div>\n",
              "<style scoped>\n",
              "    .dataframe tbody tr th:only-of-type {\n",
              "        vertical-align: middle;\n",
              "    }\n",
              "\n",
              "    .dataframe tbody tr th {\n",
              "        vertical-align: top;\n",
              "    }\n",
              "\n",
              "    .dataframe thead th {\n",
              "        text-align: right;\n",
              "    }\n",
              "</style>\n",
              "<table border=\"1\" class=\"dataframe\">\n",
              "  <thead>\n",
              "    <tr style=\"text-align: right;\">\n",
              "      <th></th>\n",
              "      <th>df</th>\n",
              "    </tr>\n",
              "  </thead>\n",
              "  <tbody>\n",
              "    <tr>\n",
              "      <th>SF_lead_created</th>\n",
              "      <td>1</td>\n",
              "    </tr>\n",
              "    <tr>\n",
              "      <th>designcafe.com/p/home-interiors-designs</th>\n",
              "      <td>1</td>\n",
              "    </tr>\n",
              "    <tr>\n",
              "      <th>designcafe.com/p/home-interiors-designs-hyderabad</th>\n",
              "      <td>2</td>\n",
              "    </tr>\n",
              "    <tr>\n",
              "      <th>dev.designcafe.com</th>\n",
              "      <td>1</td>\n",
              "    </tr>\n",
              "    <tr>\n",
              "      <th>www.designcafe.com/blog/bathroom-interiors/bathroom-cabinet-designs</th>\n",
              "      <td>1</td>\n",
              "    </tr>\n",
              "    <tr>\n",
              "      <th>...</th>\n",
              "      <td>...</td>\n",
              "    </tr>\n",
              "    <tr>\n",
              "      <th>www.designcafe.com/thank-you/#18062</th>\n",
              "      <td>1</td>\n",
              "    </tr>\n",
              "    <tr>\n",
              "      <th>www.designcafe.com/thank-you/#contactUsModal</th>\n",
              "      <td>1</td>\n",
              "    </tr>\n",
              "    <tr>\n",
              "      <th>www.designcafe.com/thank-you/#kitchen-designs</th>\n",
              "      <td>2</td>\n",
              "    </tr>\n",
              "    <tr>\n",
              "      <th>www.designcafe.com/thank-you/#personalised-design</th>\n",
              "      <td>1</td>\n",
              "    </tr>\n",
              "    <tr>\n",
              "      <th>www.designcafe.com/walkin</th>\n",
              "      <td>1</td>\n",
              "    </tr>\n",
              "  </tbody>\n",
              "</table>\n",
              "<p>370 rows × 1 columns</p>\n",
              "</div>\n",
              "      <button class=\"colab-df-convert\" onclick=\"convertToInteractive('df-049d048c-5b03-4971-a323-f782b4a45b2c')\"\n",
              "              title=\"Convert this dataframe to an interactive table.\"\n",
              "              style=\"display:none;\">\n",
              "        \n",
              "  <svg xmlns=\"http://www.w3.org/2000/svg\" height=\"24px\"viewBox=\"0 0 24 24\"\n",
              "       width=\"24px\">\n",
              "    <path d=\"M0 0h24v24H0V0z\" fill=\"none\"/>\n",
              "    <path d=\"M18.56 5.44l.94 2.06.94-2.06 2.06-.94-2.06-.94-.94-2.06-.94 2.06-2.06.94zm-11 1L8.5 8.5l.94-2.06 2.06-.94-2.06-.94L8.5 2.5l-.94 2.06-2.06.94zm10 10l.94 2.06.94-2.06 2.06-.94-2.06-.94-.94-2.06-.94 2.06-2.06.94z\"/><path d=\"M17.41 7.96l-1.37-1.37c-.4-.4-.92-.59-1.43-.59-.52 0-1.04.2-1.43.59L10.3 9.45l-7.72 7.72c-.78.78-.78 2.05 0 2.83L4 21.41c.39.39.9.59 1.41.59.51 0 1.02-.2 1.41-.59l7.78-7.78 2.81-2.81c.8-.78.8-2.07 0-2.86zM5.41 20L4 18.59l7.72-7.72 1.47 1.35L5.41 20z\"/>\n",
              "  </svg>\n",
              "      </button>\n",
              "      \n",
              "  <style>\n",
              "    .colab-df-container {\n",
              "      display:flex;\n",
              "      flex-wrap:wrap;\n",
              "      gap: 12px;\n",
              "    }\n",
              "\n",
              "    .colab-df-convert {\n",
              "      background-color: #E8F0FE;\n",
              "      border: none;\n",
              "      border-radius: 50%;\n",
              "      cursor: pointer;\n",
              "      display: none;\n",
              "      fill: #1967D2;\n",
              "      height: 32px;\n",
              "      padding: 0 0 0 0;\n",
              "      width: 32px;\n",
              "    }\n",
              "\n",
              "    .colab-df-convert:hover {\n",
              "      background-color: #E2EBFA;\n",
              "      box-shadow: 0px 1px 2px rgba(60, 64, 67, 0.3), 0px 1px 3px 1px rgba(60, 64, 67, 0.15);\n",
              "      fill: #174EA6;\n",
              "    }\n",
              "\n",
              "    [theme=dark] .colab-df-convert {\n",
              "      background-color: #3B4455;\n",
              "      fill: #D2E3FC;\n",
              "    }\n",
              "\n",
              "    [theme=dark] .colab-df-convert:hover {\n",
              "      background-color: #434B5C;\n",
              "      box-shadow: 0px 1px 3px 1px rgba(0, 0, 0, 0.15);\n",
              "      filter: drop-shadow(0px 1px 2px rgba(0, 0, 0, 0.3));\n",
              "      fill: #FFFFFF;\n",
              "    }\n",
              "  </style>\n",
              "\n",
              "      <script>\n",
              "        const buttonEl =\n",
              "          document.querySelector('#df-049d048c-5b03-4971-a323-f782b4a45b2c button.colab-df-convert');\n",
              "        buttonEl.style.display =\n",
              "          google.colab.kernel.accessAllowed ? 'block' : 'none';\n",
              "\n",
              "        async function convertToInteractive(key) {\n",
              "          const element = document.querySelector('#df-049d048c-5b03-4971-a323-f782b4a45b2c');\n",
              "          const dataTable =\n",
              "            await google.colab.kernel.invokeFunction('convertToInteractive',\n",
              "                                                     [key], {});\n",
              "          if (!dataTable) return;\n",
              "\n",
              "          const docLinkHtml = 'Like what you see? Visit the ' +\n",
              "            '<a target=\"_blank\" href=https://colab.research.google.com/notebooks/data_table.ipynb>data table notebook</a>'\n",
              "            + ' to learn more about interactive tables.';\n",
              "          element.innerHTML = '';\n",
              "          dataTable['output_type'] = 'display_data';\n",
              "          await google.colab.output.renderOutput(dataTable, element);\n",
              "          const docLink = document.createElement('div');\n",
              "          docLink.innerHTML = docLinkHtml;\n",
              "          element.appendChild(docLink);\n",
              "        }\n",
              "      </script>\n",
              "    </div>\n",
              "  </div>\n",
              "  "
            ]
          },
          "metadata": {},
          "execution_count": 40
        }
      ]
    },
    {
      "cell_type": "code",
      "source": [
        "rare_events = set(df_df[df_df['df'] <= df_thres].index)\n",
        "special_rare_events = {e for e in rare_events if e.startswith('$')}"
      ],
      "metadata": {
        "id": "3XaPW3tfAGmR"
      },
      "execution_count": null,
      "outputs": []
    },
    {
      "cell_type": "code",
      "source": [
        "df = df[~df['en'].isin(rare_events.difference(special_rare_events))]"
      ],
      "metadata": {
        "id": "xi-SdznOB4ze"
      },
      "execution_count": null,
      "outputs": []
    },
    {
      "cell_type": "code",
      "source": [
        "base_event = list(be_events)[0]\n",
        "tgt_event = list(usr_events)[0]"
      ],
      "metadata": {
        "id": "6SEnENjyJhQG"
      },
      "execution_count": null,
      "outputs": []
    },
    {
      "cell_type": "markdown",
      "source": [
        "## 3.4. Analyse Event Stream (Optional)"
      ],
      "metadata": {
        "id": "5grnHElVX27S"
      }
    },
    {
      "cell_type": "code",
      "source": [
        "\n",
        "user_event_stream = df[['uid', 'et', 'en', 'epr:$is_first_session']].groupby(['uid']).apply(lambda x: list(sorted(zip(x['et'], x['en']))))\n",
        "def analyse_stream(stream):\n",
        "    code_map = {base_event: 'b', tgt_event: 't'\\\n",
        "    , '$session': 's'}\n",
        "    # u = list(stream.index())[0]\n",
        "    # amt = usr_amt_map.get(u, -1)\n",
        "    return(''.join([code_map.get(x[-1], '-') for x in stream]))\n",
        "user_event_stream.apply(analyse_stream).value_counts()"
      ],
      "metadata": {
        "colab": {
          "base_uri": "https://localhost:8080/"
        },
        "id": "FSoCULZdnXcT",
        "outputId": "f0ea226c-9097-4304-c236-138289dec189"
      },
      "execution_count": null,
      "outputs": [
        {
          "output_type": "execute_result",
          "data": {
            "text/plain": [
              "b--                                  337\n",
              "b---                                 264\n",
              "s---b-----                            63\n",
              "s---b----                             58\n",
              "s--b-----                             47\n",
              "                                    ... \n",
              "s---b------------tt----tt              1\n",
              "s---b------------tt----s-t--ttt        1\n",
              "s---b-------------t-t----t--t-tt       1\n",
              "b--t----t--tttt                        1\n",
              "s-s---b--------------t-t---t--ttt      1\n",
              "Length: 1798, dtype: int64"
            ]
          },
          "metadata": {},
          "execution_count": 48
        }
      ]
    },
    {
      "cell_type": "code",
      "source": [
        "shortened_df = pd.DataFrame(user_event_stream.apply(analyse_stream).apply(shorten_stream_code).value_counts()).rename(columns={0: 'freq'})\n",
        "shortened_df['perc'] = (shortened_df['freq'] * 100.0 / shortened_df['freq'].sum()).round(2)\n",
        "shortened_df['conv'] = list(map(lambda x: 't' in x, shortened_df.index))\n",
        "shortened_df[shortened_df['conv']]"
      ],
      "metadata": {
        "colab": {
          "base_uri": "https://localhost:8080/",
          "height": 424
        },
        "id": "F6_HmciBqauu",
        "outputId": "ec2db380-8ac5-4f92-ebfa-20c36d8e78f7"
      },
      "execution_count": null,
      "outputs": [
        {
          "output_type": "execute_result",
          "data": {
            "text/plain": [
              "                                      freq  perc  conv\n",
              "b-t-t-t                                109  3.38  True\n",
              "b-t-t-t-                                99  3.07  True\n",
              "b-t-t-                                  97  3.01  True\n",
              "b-t-t-t-t                               95  2.94  True\n",
              "s-b-t-t-t                               64  1.98  True\n",
              "...                                    ...   ...   ...\n",
              "s-s-b-s-t-t-t-t-                         1  0.03  True\n",
              "s-s-b-t-t-t-t-ts-t-t-t-t-t-t-t-t-t-t     1  0.03  True\n",
              "s-b-s-s-s-s-s-s-s-s-s-s-t-t-s-t-t-       1  0.03  True\n",
              "s-b-s-t-t-t-s-t                          1  0.03  True\n",
              "s-s-s-s-s-s-b-t-t-t-t-                   1  0.03  True\n",
              "\n",
              "[347 rows x 3 columns]"
            ],
            "text/html": [
              "\n",
              "  <div id=\"df-f90ca5df-c947-44d7-8718-127e4d6e20c8\">\n",
              "    <div class=\"colab-df-container\">\n",
              "      <div>\n",
              "<style scoped>\n",
              "    .dataframe tbody tr th:only-of-type {\n",
              "        vertical-align: middle;\n",
              "    }\n",
              "\n",
              "    .dataframe tbody tr th {\n",
              "        vertical-align: top;\n",
              "    }\n",
              "\n",
              "    .dataframe thead th {\n",
              "        text-align: right;\n",
              "    }\n",
              "</style>\n",
              "<table border=\"1\" class=\"dataframe\">\n",
              "  <thead>\n",
              "    <tr style=\"text-align: right;\">\n",
              "      <th></th>\n",
              "      <th>freq</th>\n",
              "      <th>perc</th>\n",
              "      <th>conv</th>\n",
              "    </tr>\n",
              "  </thead>\n",
              "  <tbody>\n",
              "    <tr>\n",
              "      <th>b-t-t-t</th>\n",
              "      <td>109</td>\n",
              "      <td>3.38</td>\n",
              "      <td>True</td>\n",
              "    </tr>\n",
              "    <tr>\n",
              "      <th>b-t-t-t-</th>\n",
              "      <td>99</td>\n",
              "      <td>3.07</td>\n",
              "      <td>True</td>\n",
              "    </tr>\n",
              "    <tr>\n",
              "      <th>b-t-t-</th>\n",
              "      <td>97</td>\n",
              "      <td>3.01</td>\n",
              "      <td>True</td>\n",
              "    </tr>\n",
              "    <tr>\n",
              "      <th>b-t-t-t-t</th>\n",
              "      <td>95</td>\n",
              "      <td>2.94</td>\n",
              "      <td>True</td>\n",
              "    </tr>\n",
              "    <tr>\n",
              "      <th>s-b-t-t-t</th>\n",
              "      <td>64</td>\n",
              "      <td>1.98</td>\n",
              "      <td>True</td>\n",
              "    </tr>\n",
              "    <tr>\n",
              "      <th>...</th>\n",
              "      <td>...</td>\n",
              "      <td>...</td>\n",
              "      <td>...</td>\n",
              "    </tr>\n",
              "    <tr>\n",
              "      <th>s-s-b-s-t-t-t-t-</th>\n",
              "      <td>1</td>\n",
              "      <td>0.03</td>\n",
              "      <td>True</td>\n",
              "    </tr>\n",
              "    <tr>\n",
              "      <th>s-s-b-t-t-t-t-ts-t-t-t-t-t-t-t-t-t-t</th>\n",
              "      <td>1</td>\n",
              "      <td>0.03</td>\n",
              "      <td>True</td>\n",
              "    </tr>\n",
              "    <tr>\n",
              "      <th>s-b-s-s-s-s-s-s-s-s-s-s-t-t-s-t-t-</th>\n",
              "      <td>1</td>\n",
              "      <td>0.03</td>\n",
              "      <td>True</td>\n",
              "    </tr>\n",
              "    <tr>\n",
              "      <th>s-b-s-t-t-t-s-t</th>\n",
              "      <td>1</td>\n",
              "      <td>0.03</td>\n",
              "      <td>True</td>\n",
              "    </tr>\n",
              "    <tr>\n",
              "      <th>s-s-s-s-s-s-b-t-t-t-t-</th>\n",
              "      <td>1</td>\n",
              "      <td>0.03</td>\n",
              "      <td>True</td>\n",
              "    </tr>\n",
              "  </tbody>\n",
              "</table>\n",
              "<p>347 rows × 3 columns</p>\n",
              "</div>\n",
              "      <button class=\"colab-df-convert\" onclick=\"convertToInteractive('df-f90ca5df-c947-44d7-8718-127e4d6e20c8')\"\n",
              "              title=\"Convert this dataframe to an interactive table.\"\n",
              "              style=\"display:none;\">\n",
              "        \n",
              "  <svg xmlns=\"http://www.w3.org/2000/svg\" height=\"24px\"viewBox=\"0 0 24 24\"\n",
              "       width=\"24px\">\n",
              "    <path d=\"M0 0h24v24H0V0z\" fill=\"none\"/>\n",
              "    <path d=\"M18.56 5.44l.94 2.06.94-2.06 2.06-.94-2.06-.94-.94-2.06-.94 2.06-2.06.94zm-11 1L8.5 8.5l.94-2.06 2.06-.94-2.06-.94L8.5 2.5l-.94 2.06-2.06.94zm10 10l.94 2.06.94-2.06 2.06-.94-2.06-.94-.94-2.06-.94 2.06-2.06.94z\"/><path d=\"M17.41 7.96l-1.37-1.37c-.4-.4-.92-.59-1.43-.59-.52 0-1.04.2-1.43.59L10.3 9.45l-7.72 7.72c-.78.78-.78 2.05 0 2.83L4 21.41c.39.39.9.59 1.41.59.51 0 1.02-.2 1.41-.59l7.78-7.78 2.81-2.81c.8-.78.8-2.07 0-2.86zM5.41 20L4 18.59l7.72-7.72 1.47 1.35L5.41 20z\"/>\n",
              "  </svg>\n",
              "      </button>\n",
              "      \n",
              "  <style>\n",
              "    .colab-df-container {\n",
              "      display:flex;\n",
              "      flex-wrap:wrap;\n",
              "      gap: 12px;\n",
              "    }\n",
              "\n",
              "    .colab-df-convert {\n",
              "      background-color: #E8F0FE;\n",
              "      border: none;\n",
              "      border-radius: 50%;\n",
              "      cursor: pointer;\n",
              "      display: none;\n",
              "      fill: #1967D2;\n",
              "      height: 32px;\n",
              "      padding: 0 0 0 0;\n",
              "      width: 32px;\n",
              "    }\n",
              "\n",
              "    .colab-df-convert:hover {\n",
              "      background-color: #E2EBFA;\n",
              "      box-shadow: 0px 1px 2px rgba(60, 64, 67, 0.3), 0px 1px 3px 1px rgba(60, 64, 67, 0.15);\n",
              "      fill: #174EA6;\n",
              "    }\n",
              "\n",
              "    [theme=dark] .colab-df-convert {\n",
              "      background-color: #3B4455;\n",
              "      fill: #D2E3FC;\n",
              "    }\n",
              "\n",
              "    [theme=dark] .colab-df-convert:hover {\n",
              "      background-color: #434B5C;\n",
              "      box-shadow: 0px 1px 3px 1px rgba(0, 0, 0, 0.15);\n",
              "      filter: drop-shadow(0px 1px 2px rgba(0, 0, 0, 0.3));\n",
              "      fill: #FFFFFF;\n",
              "    }\n",
              "  </style>\n",
              "\n",
              "      <script>\n",
              "        const buttonEl =\n",
              "          document.querySelector('#df-f90ca5df-c947-44d7-8718-127e4d6e20c8 button.colab-df-convert');\n",
              "        buttonEl.style.display =\n",
              "          google.colab.kernel.accessAllowed ? 'block' : 'none';\n",
              "\n",
              "        async function convertToInteractive(key) {\n",
              "          const element = document.querySelector('#df-f90ca5df-c947-44d7-8718-127e4d6e20c8');\n",
              "          const dataTable =\n",
              "            await google.colab.kernel.invokeFunction('convertToInteractive',\n",
              "                                                     [key], {});\n",
              "          if (!dataTable) return;\n",
              "\n",
              "          const docLinkHtml = 'Like what you see? Visit the ' +\n",
              "            '<a target=\"_blank\" href=https://colab.research.google.com/notebooks/data_table.ipynb>data table notebook</a>'\n",
              "            + ' to learn more about interactive tables.';\n",
              "          element.innerHTML = '';\n",
              "          dataTable['output_type'] = 'display_data';\n",
              "          await google.colab.output.renderOutput(dataTable, element);\n",
              "          const docLink = document.createElement('div');\n",
              "          docLink.innerHTML = docLinkHtml;\n",
              "          element.appendChild(docLink);\n",
              "        }\n",
              "      </script>\n",
              "    </div>\n",
              "  </div>\n",
              "  "
            ]
          },
          "metadata": {},
          "execution_count": 49
        }
      ]
    },
    {
      "cell_type": "code",
      "source": [
        "shortened_df[shortened_df['conv']][['freq', 'perc']].sum()"
      ],
      "metadata": {
        "colab": {
          "base_uri": "https://localhost:8080/"
        },
        "id": "wlJN1mhZXFHB",
        "outputId": "58a01f07-1e19-4d40-aa1d-9960cf2a36d3"
      },
      "execution_count": null,
      "outputs": [
        {
          "output_type": "execute_result",
          "data": {
            "text/plain": [
              "freq    1462.00\n",
              "perc      44.89\n",
              "dtype: float64"
            ]
          },
          "metadata": {},
          "execution_count": 50
        }
      ]
    },
    {
      "cell_type": "code",
      "source": [
        "# 1764 users (54.68%) perform the base event, and don't convert.\n",
        "# 1462 users (45.29%) perform the base event, and convert (with a zero or non-zero amount)."
      ],
      "metadata": {
        "id": "3w3e2bNWVVV7"
      },
      "execution_count": null,
      "outputs": []
    },
    {
      "cell_type": "markdown",
      "source": [
        "# 4. Feature Engineering"
      ],
      "metadata": {
        "id": "UiPMGaQ_Xxeb"
      }
    },
    {
      "cell_type": "markdown",
      "source": [
        "## 4.1. Base data"
      ],
      "metadata": {
        "id": "OYAoehYiEka6"
      }
    },
    {
      "cell_type": "code",
      "source": [
        "# Segregate all base events.\n",
        "base_df = df[df['en'] == base_event].sort_values('et', ascending=True)\n",
        "print('Original data:', base_df.shape)\n",
        "base_df = base_df.drop_duplicates(subset='uid', keep='first')\n",
        "print('Deduplicated data:', base_df.shape)"
      ],
      "metadata": {
        "colab": {
          "base_uri": "https://localhost:8080/"
        },
        "id": "_ttT7UDfYBlb",
        "outputId": "b0d5a703-ee83-4e4c-97e1-fb393de7f939"
      },
      "execution_count": null,
      "outputs": [
        {
          "output_type": "stream",
          "name": "stdout",
          "text": [
            "Original data: (3270, 787)\n",
            "Deduplicated data: (3226, 787)\n"
          ]
        }
      ]
    },
    {
      "cell_type": "markdown",
      "source": [
        "## 4.2. Compute feature statistics (meta-data)"
      ],
      "metadata": {
        "id": "FCFLJOytEndO"
      }
    },
    {
      "cell_type": "code",
      "source": [
        "n = base_df.shape[0]\n",
        "ignored_cols = {'upr:$identifiers'}\n",
        "metadata = []\n",
        "for i, c in tqdm(enumerate(base_df.columns), total=base_df.shape[1]):\n",
        "    if c in ignored_cols:\n",
        "        continue\n",
        "    try:\n",
        "        nu = base_df[c].nunique()\n",
        "        pu = round(nu*100.0/n, 2)\n",
        "        nn_base_df = base_df[~base_df[c].isna()]\n",
        "        nnn = nn_base_df.shape[0]\n",
        "        pnn = round(nnn*100.0/n, 2)\n",
        "        nnnu = nn_base_df[c].nunique()\n",
        "        pnnu = round(nnnu*100.0/nnn if nnn != 0 else 0, 2)\n",
        "        eg = nn_base_df[c].iloc[0] if nnn > 0 else None\n",
        "        tp = nn_base_df[c].dtype\n",
        "    except Exception:\n",
        "        print(c)\n",
        "        raise Exception\n",
        "    meta_map = {'i': i,\n",
        "                'col': c,\n",
        "                'num_uniq': nu,\n",
        "                'perc_uniq': pu,\n",
        "                'num_nonnull': nnn,\n",
        "                'perc_nonnull': pnn,\n",
        "                'num_nonnull_uniq': nnnu,\n",
        "                'perc_nonnull_uniq': pnnu,\n",
        "                'example': eg,\n",
        "                'dtype': tp}\n",
        "    metadata.append(meta_map)\n",
        "meta_df = pd.DataFrame(metadata)"
      ],
      "metadata": {
        "colab": {
          "base_uri": "https://localhost:8080/",
          "height": 49,
          "referenced_widgets": [
            "7f729516b6d74dbc904e1a82e08ebe2f",
            "7b52f099aafd4ffbb93bd705bb410050",
            "5d1f6e1f018c47e7b4e95b696eaa1a67",
            "973ebae34f534b02b388a0fa0109fe36",
            "fcdda5781e554f5696b2e0a992c4bb3f",
            "88807c1581f8492fb4f5afadcda9b1d9",
            "d2a6b935714c4065b231405e147fa0a5",
            "690ee7034676475fb671b171dad176d1",
            "14bdeebc2de845698ac08ad099ed50d3",
            "a72a27d888874d78b16174615e5d2aa2",
            "5bbf470ef0d74d44bd6a40d4b98386ba"
          ]
        },
        "id": "z1RIIs_MaPBW",
        "outputId": "6a0f9d80-24be-456f-e89c-037bc508d94d"
      },
      "execution_count": null,
      "outputs": [
        {
          "output_type": "display_data",
          "data": {
            "text/plain": [
              "  0%|          | 0/787 [00:00<?, ?it/s]"
            ],
            "application/vnd.jupyter.widget-view+json": {
              "version_major": 2,
              "version_minor": 0,
              "model_id": "7f729516b6d74dbc904e1a82e08ebe2f"
            }
          },
          "metadata": {}
        }
      ]
    },
    {
      "cell_type": "code",
      "source": [
        "base_df = base_df.drop(ignored_cols, axis=1)"
      ],
      "metadata": {
        "id": "9gFv5gOEmyac"
      },
      "execution_count": null,
      "outputs": []
    },
    {
      "cell_type": "code",
      "source": [
        "meta_df['uniq_status'] = None\n",
        "meta_df['null_status'] = None\n",
        "meta_df.loc[meta_df['num_nonnull'] == 0, 'null_status'] = ALL_NULLS\n",
        "meta_df.loc[(meta_df['perc_nonnull'] <= 100-MOST_NULL_PERC_THRES) & (meta_df['num_nonnull'] > 0), 'null_status'] = MOST_NULLS\n",
        "meta_df.loc[meta_df['perc_uniq'] == 100.0, 'uniq_status'] = ALL_UNIQS\n",
        "meta_df.loc[(meta_df['perc_uniq'] >= MOST_UNIQ_PERC_THRES) & (meta_df['perc_uniq'] < 100.0), 'uniq_status'] = MOST_UNIQS\n",
        "meta_df.loc[meta_df['perc_nonnull_uniq'] == 100.0, 'nn_uniq_status'] = NN_ALL_UNIQS\n",
        "meta_df.loc[(meta_df['perc_nonnull_uniq'] >= NN_MOST_UNIQ_PERC_THRES) & (meta_df['perc_nonnull_uniq'] < 100.0), 'nn_uniq_status'] = NN_ALL_UNIQS"
      ],
      "metadata": {
        "id": "OinpGJp_fLIr"
      },
      "execution_count": null,
      "outputs": []
    },
    {
      "cell_type": "markdown",
      "source": [
        "## 4.3. Process custom feature rules"
      ],
      "metadata": {
        "id": "LXLhJSP-Fdlw"
      }
    },
    {
      "cell_type": "code",
      "source": [
        "base_df = base_df.drop(CUST_DEL_COLS.intersection(base_df.columns), axis=1)\n",
        "\n",
        "null_cols = set(meta_df[meta_df['null_status'].isin({ALL_NULLS})]['col'].unique())\n",
        "base_df = base_df.drop(null_cols.intersection(base_df.columns), axis=1)\n",
        "\n",
        "uniq_cols = set(meta_df[meta_df['uniq_status'].isin({ALL_UNIQS})]['col'].unique())\n",
        "base_df = base_df.drop((uniq_cols.intersection(base_df.columns)).difference(CUST_KEEP_UNIQ_COLS), axis=1)\n",
        "\n",
        "has_date_cols = set(meta_df[meta_df['col'].apply(lambda x: 'date' in x)]['col'].unique())\n",
        "has_time_cols = set(meta_df[meta_df['col'].apply(lambda x: 'time' in x)]['col'].unique()).union(CUST_TIME_COLS)\n",
        "dt_cols = has_date_cols.union(has_time_cols)\n",
        "\n",
        "nonnumeric_dt_cols = dt_cols.difference(numeric_dt_cols)\n",
        "base_df = base_df.drop(nonnumeric_dt_cols.intersection(base_df.columns), axis=1)\n",
        "\n",
        "\n",
        "for c in FORCED_CAT_COLS:\n",
        "    base_df[c] = base_df[c].astype(str)\n",
        "\n",
        "for c in FORCED_NUM_COLS:\n",
        "    base_df[c] = base_df[c].astype(float)"
      ],
      "metadata": {
        "id": "xDiUFYDCW4KL"
      },
      "execution_count": null,
      "outputs": []
    },
    {
      "cell_type": "markdown",
      "source": [
        "## 4.4. Add Target column"
      ],
      "metadata": {
        "id": "ejRT0ayZF0Kh"
      }
    },
    {
      "cell_type": "code",
      "source": [
        "base_df['$target_amt'] = base_df['uid'].apply(lambda x: usr_amt_map.get(x, (0, None))[0])"
      ],
      "metadata": {
        "id": "e0uqYvIqnYb8"
      },
      "execution_count": null,
      "outputs": []
    },
    {
      "cell_type": "markdown",
      "source": [
        "## 4.5. Null value imputation"
      ],
      "metadata": {
        "id": "4_OkMXk-F-Bu"
      }
    },
    {
      "cell_type": "code",
      "source": [
        "dtypes_map = base_df.dtypes.apply(str).to_dict()\n",
        "for c, t in tqdm(dtypes_map.items()):\n",
        "    if t == 'object':\n",
        "        try:\n",
        "            base_df[c] = base_df[c].apply(lambda x: 'NULL' if x in POSSIBLE_NULLS else x)\n",
        "        except TypeError:\n",
        "            print(c)\n",
        "            raise TypeError\n",
        "        base_df[c] = base_df[c].fillna('NULL')\n",
        "        base_df[c] = base_df[c].apply(str)\n",
        "    else:\n",
        "        base_df[c] = base_df[c].fillna(0)"
      ],
      "metadata": {
        "colab": {
          "base_uri": "https://localhost:8080/",
          "height": 49,
          "referenced_widgets": [
            "4ec1f7f9cdc947838a574399b0b87f35",
            "14e23bb1c6004b9f829646a83ccc7ffc",
            "b6b5d4c968304e4799d942642e914654",
            "65534dc6654244eaadcf236c955dd3e4",
            "406a87c427464c2cbea68d81fd2e16f5",
            "7715587bf7eb44e8bcf3fa660cbe312f",
            "817b799462ae4e71bec34684090cad87",
            "7b5f0fde32eb4ee1b95c9f3c33b6da5f",
            "5781579f842f4b99ba5b920b666cd2db",
            "bbcfe461a9f340759ef288b00f223e33",
            "d711b8b6d8aa4f35a5e7ac905938e0a5"
          ]
        },
        "id": "RtuRtowKiTD-",
        "outputId": "6062dcc5-919b-4a2c-8020-1cee978ce3e1"
      },
      "execution_count": null,
      "outputs": [
        {
          "output_type": "display_data",
          "data": {
            "text/plain": [
              "  0%|          | 0/352 [00:00<?, ?it/s]"
            ],
            "application/vnd.jupyter.widget-view+json": {
              "version_major": 2,
              "version_minor": 0,
              "model_id": "4ec1f7f9cdc947838a574399b0b87f35"
            }
          },
          "metadata": {}
        }
      ]
    },
    {
      "cell_type": "markdown",
      "source": [
        "## 4.6. Prepare data matrices X and y"
      ],
      "metadata": {
        "id": "Ge2nmOL9GCVS"
      }
    },
    {
      "cell_type": "code",
      "source": [
        "base_df.index = base_df['uid']\n",
        "base_df.index.name = None\n",
        "X = base_df.drop(['$target_amt', 'uid'], axis=1)\n",
        "y = base_df['$target_amt']"
      ],
      "metadata": {
        "id": "jHk5CazXneYX"
      },
      "execution_count": null,
      "outputs": []
    },
    {
      "cell_type": "markdown",
      "source": [
        "## 4.7. Prepare list of numerical and categorical features for CatBoost"
      ],
      "metadata": {
        "id": "N18craWbGOOd"
      }
    },
    {
      "cell_type": "code",
      "source": [
        "categorical_cols_set = {x for x, t in dtypes_map.items() if t == 'object'}\n",
        "numeric_cols_set = set(df.columns).difference(categorical_cols_set)"
      ],
      "metadata": {
        "id": "Nrzw61p1dTqD"
      },
      "execution_count": null,
      "outputs": []
    },
    {
      "cell_type": "code",
      "source": [
        "feat_list = [c for c in X.columns]\n",
        "categorical_feat_enum_list = [(i, c) for i, c in enumerate(feat_list) if c in categorical_cols_set]\n",
        "numerical_feat_enum_list = [(i, c) for i, c in enumerate(feat_list) if c in numeric_cols_set]\n",
        "categorical_feat_ids = [x[0] for x in categorical_feat_enum_list]\n",
        "numerical_feat_ids = [x[0] for x in numerical_feat_enum_list]"
      ],
      "metadata": {
        "id": "doVoqonwm7yp"
      },
      "execution_count": null,
      "outputs": []
    },
    {
      "cell_type": "markdown",
      "source": [
        "# 5. Train classifiers and regressers"
      ],
      "metadata": {
        "id": "emTFALpQqtvt"
      }
    },
    {
      "cell_type": "markdown",
      "source": [
        "## 5.1. Quick prep"
      ],
      "metadata": {
        "id": "kSgqBdOWGyQF"
      }
    },
    {
      "cell_type": "code",
      "source": [
        "y_cls = y.apply(lambda x: x>0)"
      ],
      "metadata": {
        "id": "JUN0bH4Yjv0K"
      },
      "execution_count": null,
      "outputs": []
    },
    {
      "cell_type": "code",
      "source": [
        "zreg_data = {'X': X, 'y': y}\n",
        "cls_data = {'X': X, 'y': y_cls}\n",
        "nzreg_data = {'X': X[y_cls], 'y': y[y_cls]}"
      ],
      "metadata": {
        "id": "mMCafUOLjl4M"
      },
      "execution_count": null,
      "outputs": []
    },
    {
      "cell_type": "markdown",
      "source": [
        "## 5.2. Regression on full data"
      ],
      "metadata": {
        "id": "OukSnCzwRo11"
      }
    },
    {
      "cell_type": "code",
      "source": [
        "data = zreg_data\n",
        "model, data_split = train_regressor(data['X'], data['y'], categorical_feat_ids=categorical_feat_ids, silent=True)\n",
        "perf_df = get_model_perf(model, data_split)\n",
        "tr_df, te_df = get_compare_dfs(model, data_split)\n",
        "perf_df"
      ],
      "metadata": {
        "id": "3-GcSx0fvA2c",
        "colab": {
          "base_uri": "https://localhost:8080/",
          "height": 426
        },
        "outputId": "7bf7db56-9092-4885-cb7b-a37a195d7fce"
      },
      "execution_count": null,
      "outputs": [
        {
          "output_type": "execute_result",
          "data": {
            "text/plain": [
              "                        param_value\n",
              "depth                             4\n",
              "iterations                      100\n",
              "l2_leaf_reg                     0.5\n",
              "learning_rate                   0.1\n",
              "loss_function                  RMSE\n",
              "verbose                           0\n",
              "algorithm         CatBoostRegressor\n",
              "test_split_ratio                0.2\n",
              "train_rmse              714567.9474\n",
              "train_r2                     0.8191\n",
              "test_rmse               767733.0012\n",
              "test_r2                     -1.3957"
            ],
            "text/html": [
              "\n",
              "  <div id=\"df-0e0a011c-ea28-41f3-af22-a523ed726c0b\">\n",
              "    <div class=\"colab-df-container\">\n",
              "      <div>\n",
              "<style scoped>\n",
              "    .dataframe tbody tr th:only-of-type {\n",
              "        vertical-align: middle;\n",
              "    }\n",
              "\n",
              "    .dataframe tbody tr th {\n",
              "        vertical-align: top;\n",
              "    }\n",
              "\n",
              "    .dataframe thead th {\n",
              "        text-align: right;\n",
              "    }\n",
              "</style>\n",
              "<table border=\"1\" class=\"dataframe\">\n",
              "  <thead>\n",
              "    <tr style=\"text-align: right;\">\n",
              "      <th></th>\n",
              "      <th>param_value</th>\n",
              "    </tr>\n",
              "  </thead>\n",
              "  <tbody>\n",
              "    <tr>\n",
              "      <th>depth</th>\n",
              "      <td>4</td>\n",
              "    </tr>\n",
              "    <tr>\n",
              "      <th>iterations</th>\n",
              "      <td>100</td>\n",
              "    </tr>\n",
              "    <tr>\n",
              "      <th>l2_leaf_reg</th>\n",
              "      <td>0.5</td>\n",
              "    </tr>\n",
              "    <tr>\n",
              "      <th>learning_rate</th>\n",
              "      <td>0.1</td>\n",
              "    </tr>\n",
              "    <tr>\n",
              "      <th>loss_function</th>\n",
              "      <td>RMSE</td>\n",
              "    </tr>\n",
              "    <tr>\n",
              "      <th>verbose</th>\n",
              "      <td>0</td>\n",
              "    </tr>\n",
              "    <tr>\n",
              "      <th>algorithm</th>\n",
              "      <td>CatBoostRegressor</td>\n",
              "    </tr>\n",
              "    <tr>\n",
              "      <th>test_split_ratio</th>\n",
              "      <td>0.2</td>\n",
              "    </tr>\n",
              "    <tr>\n",
              "      <th>train_rmse</th>\n",
              "      <td>714567.9474</td>\n",
              "    </tr>\n",
              "    <tr>\n",
              "      <th>train_r2</th>\n",
              "      <td>0.8191</td>\n",
              "    </tr>\n",
              "    <tr>\n",
              "      <th>test_rmse</th>\n",
              "      <td>767733.0012</td>\n",
              "    </tr>\n",
              "    <tr>\n",
              "      <th>test_r2</th>\n",
              "      <td>-1.3957</td>\n",
              "    </tr>\n",
              "  </tbody>\n",
              "</table>\n",
              "</div>\n",
              "      <button class=\"colab-df-convert\" onclick=\"convertToInteractive('df-0e0a011c-ea28-41f3-af22-a523ed726c0b')\"\n",
              "              title=\"Convert this dataframe to an interactive table.\"\n",
              "              style=\"display:none;\">\n",
              "        \n",
              "  <svg xmlns=\"http://www.w3.org/2000/svg\" height=\"24px\"viewBox=\"0 0 24 24\"\n",
              "       width=\"24px\">\n",
              "    <path d=\"M0 0h24v24H0V0z\" fill=\"none\"/>\n",
              "    <path d=\"M18.56 5.44l.94 2.06.94-2.06 2.06-.94-2.06-.94-.94-2.06-.94 2.06-2.06.94zm-11 1L8.5 8.5l.94-2.06 2.06-.94-2.06-.94L8.5 2.5l-.94 2.06-2.06.94zm10 10l.94 2.06.94-2.06 2.06-.94-2.06-.94-.94-2.06-.94 2.06-2.06.94z\"/><path d=\"M17.41 7.96l-1.37-1.37c-.4-.4-.92-.59-1.43-.59-.52 0-1.04.2-1.43.59L10.3 9.45l-7.72 7.72c-.78.78-.78 2.05 0 2.83L4 21.41c.39.39.9.59 1.41.59.51 0 1.02-.2 1.41-.59l7.78-7.78 2.81-2.81c.8-.78.8-2.07 0-2.86zM5.41 20L4 18.59l7.72-7.72 1.47 1.35L5.41 20z\"/>\n",
              "  </svg>\n",
              "      </button>\n",
              "      \n",
              "  <style>\n",
              "    .colab-df-container {\n",
              "      display:flex;\n",
              "      flex-wrap:wrap;\n",
              "      gap: 12px;\n",
              "    }\n",
              "\n",
              "    .colab-df-convert {\n",
              "      background-color: #E8F0FE;\n",
              "      border: none;\n",
              "      border-radius: 50%;\n",
              "      cursor: pointer;\n",
              "      display: none;\n",
              "      fill: #1967D2;\n",
              "      height: 32px;\n",
              "      padding: 0 0 0 0;\n",
              "      width: 32px;\n",
              "    }\n",
              "\n",
              "    .colab-df-convert:hover {\n",
              "      background-color: #E2EBFA;\n",
              "      box-shadow: 0px 1px 2px rgba(60, 64, 67, 0.3), 0px 1px 3px 1px rgba(60, 64, 67, 0.15);\n",
              "      fill: #174EA6;\n",
              "    }\n",
              "\n",
              "    [theme=dark] .colab-df-convert {\n",
              "      background-color: #3B4455;\n",
              "      fill: #D2E3FC;\n",
              "    }\n",
              "\n",
              "    [theme=dark] .colab-df-convert:hover {\n",
              "      background-color: #434B5C;\n",
              "      box-shadow: 0px 1px 3px 1px rgba(0, 0, 0, 0.15);\n",
              "      filter: drop-shadow(0px 1px 2px rgba(0, 0, 0, 0.3));\n",
              "      fill: #FFFFFF;\n",
              "    }\n",
              "  </style>\n",
              "\n",
              "      <script>\n",
              "        const buttonEl =\n",
              "          document.querySelector('#df-0e0a011c-ea28-41f3-af22-a523ed726c0b button.colab-df-convert');\n",
              "        buttonEl.style.display =\n",
              "          google.colab.kernel.accessAllowed ? 'block' : 'none';\n",
              "\n",
              "        async function convertToInteractive(key) {\n",
              "          const element = document.querySelector('#df-0e0a011c-ea28-41f3-af22-a523ed726c0b');\n",
              "          const dataTable =\n",
              "            await google.colab.kernel.invokeFunction('convertToInteractive',\n",
              "                                                     [key], {});\n",
              "          if (!dataTable) return;\n",
              "\n",
              "          const docLinkHtml = 'Like what you see? Visit the ' +\n",
              "            '<a target=\"_blank\" href=https://colab.research.google.com/notebooks/data_table.ipynb>data table notebook</a>'\n",
              "            + ' to learn more about interactive tables.';\n",
              "          element.innerHTML = '';\n",
              "          dataTable['output_type'] = 'display_data';\n",
              "          await google.colab.output.renderOutput(dataTable, element);\n",
              "          const docLink = document.createElement('div');\n",
              "          docLink.innerHTML = docLinkHtml;\n",
              "          element.appendChild(docLink);\n",
              "        }\n",
              "      </script>\n",
              "    </div>\n",
              "  </div>\n",
              "  "
            ]
          },
          "metadata": {},
          "execution_count": 166
        }
      ]
    },
    {
      "cell_type": "code",
      "source": [
        "full_reg_tr_df = tr_df.copy(deep=True)\n",
        "full_reg_te_df = te_df.copy(deep=True)"
      ],
      "metadata": {
        "id": "z2sitkHXrhQl"
      },
      "execution_count": null,
      "outputs": []
    },
    {
      "cell_type": "code",
      "source": [
        "cols = ['actual_deal_value (A)', 'predicted_deal_value (P)'] # one or more\n",
        "\n",
        "Q1 = tr_df[cols].quantile(0.05)\n",
        "Q3 = tr_df[cols].quantile(0.95)\n",
        "IQR = Q3 - Q1\n",
        "\n",
        "outlier_filter = ((tr_df[cols] < (Q1 - 1.5 * IQR)) |(tr_df[cols] > (Q3 + 1.5 * IQR))).any(axis=1)\n",
        "\n",
        "tr_df[outlier_filter]"
      ],
      "metadata": {
        "colab": {
          "base_uri": "https://localhost:8080/",
          "height": 363
        },
        "id": "_8a44HBJNzbw",
        "outputId": "af3ffb52-c4e1-4498-c450-0f23244443ba"
      },
      "execution_count": null,
      "outputs": [
        {
          "output_type": "execute_result",
          "data": {
            "text/plain": [
              "             uid  actual_deal_value (A)  predicted_deal_value (P)  \\\n",
              "2451  8197141787             1966581.00              2.547890e+06   \n",
              "1236  9700289690            81919860.00              5.423960e+07   \n",
              "194   7090598699             1458446.20              2.442236e+06   \n",
              "99    9869740912             4511056.50              9.976583e+05   \n",
              "1000  8591267087              728157.94              2.348991e+06   \n",
              "1522  8886141155             1131856.00              3.840674e+06   \n",
              "1131  9578938813             1249188.80              4.650961e+06   \n",
              "2084  9844685189              472000.00              2.520426e+06   \n",
              "319   9972817349              286861.00              2.288467e+06   \n",
              "812   8792383957              632446.00              1.442637e+07   \n",
              "\n",
              "      abs_error (|A-P|)  rel_error (|A-P|/A)  \n",
              "2451       5.813087e+05               0.2956  \n",
              "1236       2.768026e+07               0.3379  \n",
              "194        9.837894e+05               0.6745  \n",
              "99         3.513398e+06               0.7788  \n",
              "1000       1.620833e+06               2.2259  \n",
              "1522       2.708818e+06               2.3933  \n",
              "1131       3.401772e+06               2.7232  \n",
              "2084       2.048426e+06               4.3399  \n",
              "319        2.001606e+06               6.9776  \n",
              "812        1.379392e+07              21.8104  "
            ],
            "text/html": [
              "\n",
              "  <div id=\"df-62bd1b13-010a-4f68-89eb-d32537bfa464\">\n",
              "    <div class=\"colab-df-container\">\n",
              "      <div>\n",
              "<style scoped>\n",
              "    .dataframe tbody tr th:only-of-type {\n",
              "        vertical-align: middle;\n",
              "    }\n",
              "\n",
              "    .dataframe tbody tr th {\n",
              "        vertical-align: top;\n",
              "    }\n",
              "\n",
              "    .dataframe thead th {\n",
              "        text-align: right;\n",
              "    }\n",
              "</style>\n",
              "<table border=\"1\" class=\"dataframe\">\n",
              "  <thead>\n",
              "    <tr style=\"text-align: right;\">\n",
              "      <th></th>\n",
              "      <th>uid</th>\n",
              "      <th>actual_deal_value (A)</th>\n",
              "      <th>predicted_deal_value (P)</th>\n",
              "      <th>abs_error (|A-P|)</th>\n",
              "      <th>rel_error (|A-P|/A)</th>\n",
              "    </tr>\n",
              "  </thead>\n",
              "  <tbody>\n",
              "    <tr>\n",
              "      <th>2451</th>\n",
              "      <td>8197141787</td>\n",
              "      <td>1966581.00</td>\n",
              "      <td>2.547890e+06</td>\n",
              "      <td>5.813087e+05</td>\n",
              "      <td>0.2956</td>\n",
              "    </tr>\n",
              "    <tr>\n",
              "      <th>1236</th>\n",
              "      <td>9700289690</td>\n",
              "      <td>81919860.00</td>\n",
              "      <td>5.423960e+07</td>\n",
              "      <td>2.768026e+07</td>\n",
              "      <td>0.3379</td>\n",
              "    </tr>\n",
              "    <tr>\n",
              "      <th>194</th>\n",
              "      <td>7090598699</td>\n",
              "      <td>1458446.20</td>\n",
              "      <td>2.442236e+06</td>\n",
              "      <td>9.837894e+05</td>\n",
              "      <td>0.6745</td>\n",
              "    </tr>\n",
              "    <tr>\n",
              "      <th>99</th>\n",
              "      <td>9869740912</td>\n",
              "      <td>4511056.50</td>\n",
              "      <td>9.976583e+05</td>\n",
              "      <td>3.513398e+06</td>\n",
              "      <td>0.7788</td>\n",
              "    </tr>\n",
              "    <tr>\n",
              "      <th>1000</th>\n",
              "      <td>8591267087</td>\n",
              "      <td>728157.94</td>\n",
              "      <td>2.348991e+06</td>\n",
              "      <td>1.620833e+06</td>\n",
              "      <td>2.2259</td>\n",
              "    </tr>\n",
              "    <tr>\n",
              "      <th>1522</th>\n",
              "      <td>8886141155</td>\n",
              "      <td>1131856.00</td>\n",
              "      <td>3.840674e+06</td>\n",
              "      <td>2.708818e+06</td>\n",
              "      <td>2.3933</td>\n",
              "    </tr>\n",
              "    <tr>\n",
              "      <th>1131</th>\n",
              "      <td>9578938813</td>\n",
              "      <td>1249188.80</td>\n",
              "      <td>4.650961e+06</td>\n",
              "      <td>3.401772e+06</td>\n",
              "      <td>2.7232</td>\n",
              "    </tr>\n",
              "    <tr>\n",
              "      <th>2084</th>\n",
              "      <td>9844685189</td>\n",
              "      <td>472000.00</td>\n",
              "      <td>2.520426e+06</td>\n",
              "      <td>2.048426e+06</td>\n",
              "      <td>4.3399</td>\n",
              "    </tr>\n",
              "    <tr>\n",
              "      <th>319</th>\n",
              "      <td>9972817349</td>\n",
              "      <td>286861.00</td>\n",
              "      <td>2.288467e+06</td>\n",
              "      <td>2.001606e+06</td>\n",
              "      <td>6.9776</td>\n",
              "    </tr>\n",
              "    <tr>\n",
              "      <th>812</th>\n",
              "      <td>8792383957</td>\n",
              "      <td>632446.00</td>\n",
              "      <td>1.442637e+07</td>\n",
              "      <td>1.379392e+07</td>\n",
              "      <td>21.8104</td>\n",
              "    </tr>\n",
              "  </tbody>\n",
              "</table>\n",
              "</div>\n",
              "      <button class=\"colab-df-convert\" onclick=\"convertToInteractive('df-62bd1b13-010a-4f68-89eb-d32537bfa464')\"\n",
              "              title=\"Convert this dataframe to an interactive table.\"\n",
              "              style=\"display:none;\">\n",
              "        \n",
              "  <svg xmlns=\"http://www.w3.org/2000/svg\" height=\"24px\"viewBox=\"0 0 24 24\"\n",
              "       width=\"24px\">\n",
              "    <path d=\"M0 0h24v24H0V0z\" fill=\"none\"/>\n",
              "    <path d=\"M18.56 5.44l.94 2.06.94-2.06 2.06-.94-2.06-.94-.94-2.06-.94 2.06-2.06.94zm-11 1L8.5 8.5l.94-2.06 2.06-.94-2.06-.94L8.5 2.5l-.94 2.06-2.06.94zm10 10l.94 2.06.94-2.06 2.06-.94-2.06-.94-.94-2.06-.94 2.06-2.06.94z\"/><path d=\"M17.41 7.96l-1.37-1.37c-.4-.4-.92-.59-1.43-.59-.52 0-1.04.2-1.43.59L10.3 9.45l-7.72 7.72c-.78.78-.78 2.05 0 2.83L4 21.41c.39.39.9.59 1.41.59.51 0 1.02-.2 1.41-.59l7.78-7.78 2.81-2.81c.8-.78.8-2.07 0-2.86zM5.41 20L4 18.59l7.72-7.72 1.47 1.35L5.41 20z\"/>\n",
              "  </svg>\n",
              "      </button>\n",
              "      \n",
              "  <style>\n",
              "    .colab-df-container {\n",
              "      display:flex;\n",
              "      flex-wrap:wrap;\n",
              "      gap: 12px;\n",
              "    }\n",
              "\n",
              "    .colab-df-convert {\n",
              "      background-color: #E8F0FE;\n",
              "      border: none;\n",
              "      border-radius: 50%;\n",
              "      cursor: pointer;\n",
              "      display: none;\n",
              "      fill: #1967D2;\n",
              "      height: 32px;\n",
              "      padding: 0 0 0 0;\n",
              "      width: 32px;\n",
              "    }\n",
              "\n",
              "    .colab-df-convert:hover {\n",
              "      background-color: #E2EBFA;\n",
              "      box-shadow: 0px 1px 2px rgba(60, 64, 67, 0.3), 0px 1px 3px 1px rgba(60, 64, 67, 0.15);\n",
              "      fill: #174EA6;\n",
              "    }\n",
              "\n",
              "    [theme=dark] .colab-df-convert {\n",
              "      background-color: #3B4455;\n",
              "      fill: #D2E3FC;\n",
              "    }\n",
              "\n",
              "    [theme=dark] .colab-df-convert:hover {\n",
              "      background-color: #434B5C;\n",
              "      box-shadow: 0px 1px 3px 1px rgba(0, 0, 0, 0.15);\n",
              "      filter: drop-shadow(0px 1px 2px rgba(0, 0, 0, 0.3));\n",
              "      fill: #FFFFFF;\n",
              "    }\n",
              "  </style>\n",
              "\n",
              "      <script>\n",
              "        const buttonEl =\n",
              "          document.querySelector('#df-62bd1b13-010a-4f68-89eb-d32537bfa464 button.colab-df-convert');\n",
              "        buttonEl.style.display =\n",
              "          google.colab.kernel.accessAllowed ? 'block' : 'none';\n",
              "\n",
              "        async function convertToInteractive(key) {\n",
              "          const element = document.querySelector('#df-62bd1b13-010a-4f68-89eb-d32537bfa464');\n",
              "          const dataTable =\n",
              "            await google.colab.kernel.invokeFunction('convertToInteractive',\n",
              "                                                     [key], {});\n",
              "          if (!dataTable) return;\n",
              "\n",
              "          const docLinkHtml = 'Like what you see? Visit the ' +\n",
              "            '<a target=\"_blank\" href=https://colab.research.google.com/notebooks/data_table.ipynb>data table notebook</a>'\n",
              "            + ' to learn more about interactive tables.';\n",
              "          element.innerHTML = '';\n",
              "          dataTable['output_type'] = 'display_data';\n",
              "          await google.colab.output.renderOutput(dataTable, element);\n",
              "          const docLink = document.createElement('div');\n",
              "          docLink.innerHTML = docLinkHtml;\n",
              "          element.appendChild(docLink);\n",
              "        }\n",
              "      </script>\n",
              "    </div>\n",
              "  </div>\n",
              "  "
            ]
          },
          "metadata": {},
          "execution_count": 167
        }
      ]
    },
    {
      "cell_type": "code",
      "source": [
        "fig, ax = plt.subplots(1, 1, figsize=(20,5))\n",
        "tr_df[~outlier_filter].reset_index().plot(y='actual_deal_value (A)', linestyle='', marker='*', kind='line', ax=ax)\n",
        "tr_df[~outlier_filter].reset_index().plot(y='predicted_deal_value (P)', linestyle='', marker='*', kind='line', ax=ax)\n",
        "ax.grid(True)"
      ],
      "metadata": {
        "colab": {
          "base_uri": "https://localhost:8080/",
          "height": 266
        },
        "id": "S8ScSXyWaexd",
        "outputId": "0e91114a-93ee-40ec-9e93-1f80cdc07eb8"
      },
      "execution_count": null,
      "outputs": [
        {
          "output_type": "display_data",
          "data": {
            "text/plain": [
              "<Figure size 1440x360 with 1 Axes>"
            ],
            "image/png": "[encoded data removed]"
          },
          "metadata": {
            "needs_background": "light"
          }
        }
      ]
    },
    {
      "cell_type": "code",
      "source": [
        "fig, ax = plt.subplots(1, 1, figsize=(10,10))\n",
        "tr_df[~outlier_filter].plot(x='actual_deal_value (A)', y='predicted_deal_value (P)', kind='scatter', ax=ax)\n",
        "maxx = tr_df[~outlier_filter]['actual_deal_value (A)'].max()\n",
        "maxy = tr_df[~outlier_filter]['predicted_deal_value (P)'].max()\n",
        "maxval = max(maxx, maxy)\n",
        "ax.grid(True)\n",
        "ax.set_xlim(0, maxval)\n",
        "ax.set_ylim(0, maxval)\n",
        "ax.plot([0, maxval], [0, maxval], 'r')"
      ],
      "metadata": {
        "colab": {
          "base_uri": "https://localhost:8080/",
          "height": 635
        },
        "id": "W_op6LQYamT3",
        "outputId": "d5d7d86c-7119-4dfb-cc8a-e40a89784d8b"
      },
      "execution_count": null,
      "outputs": [
        {
          "output_type": "execute_result",
          "data": {
            "text/plain": [
              "[<matplotlib.lines.Line2D at 0x7f1b5f416710>]"
            ]
          },
          "metadata": {},
          "execution_count": 114
        },
        {
          "output_type": "display_data",
          "data": {
            "text/plain": [
              "<Figure size 720x720 with 1 Axes>"
            ],
            "image/png": "[encoded data removed]"
          },
          "metadata": {
            "needs_background": "light"
          }
        }
      ]
    },
    {
      "cell_type": "markdown",
      "source": [
        "## 5.3. Regression on non-zero data"
      ],
      "metadata": {
        "id": "oHo9nBzhSI6z"
      }
    },
    {
      "cell_type": "code",
      "source": [
        "data = nzreg_data\n",
        "model, data_split = train_regressor(data['X'], data['y'], categorical_feat_ids=categorical_feat_ids, silent=True)\n",
        "perf_df = get_model_perf(model, data_split)\n",
        "perf_df"
      ],
      "metadata": {
        "colab": {
          "base_uri": "https://localhost:8080/",
          "height": 426
        },
        "id": "HsRIDUD9p4x9",
        "outputId": "a701913d-bbd5-4dff-eb2f-e10f2afa6888"
      },
      "execution_count": null,
      "outputs": [
        {
          "output_type": "execute_result",
          "data": {
            "text/plain": [
              "                        param_value\n",
              "depth                             4\n",
              "iterations                      100\n",
              "l2_leaf_reg                     0.5\n",
              "learning_rate                   0.1\n",
              "loss_function                  RMSE\n",
              "verbose                           0\n",
              "algorithm         CatBoostRegressor\n",
              "test_split_ratio                0.2\n",
              "train_rmse             2950119.2838\n",
              "train_r2                     0.0128\n",
              "test_rmse                890665.392\n",
              "test_r2                     -4.8708"
            ],
            "text/html": [
              "\n",
              "  <div id=\"df-745a4385-617b-4e26-853a-80c9f9fc583f\">\n",
              "    <div class=\"colab-df-container\">\n",
              "      <div>\n",
              "<style scoped>\n",
              "    .dataframe tbody tr th:only-of-type {\n",
              "        vertical-align: middle;\n",
              "    }\n",
              "\n",
              "    .dataframe tbody tr th {\n",
              "        vertical-align: top;\n",
              "    }\n",
              "\n",
              "    .dataframe thead th {\n",
              "        text-align: right;\n",
              "    }\n",
              "</style>\n",
              "<table border=\"1\" class=\"dataframe\">\n",
              "  <thead>\n",
              "    <tr style=\"text-align: right;\">\n",
              "      <th></th>\n",
              "      <th>param_value</th>\n",
              "    </tr>\n",
              "  </thead>\n",
              "  <tbody>\n",
              "    <tr>\n",
              "      <th>depth</th>\n",
              "      <td>4</td>\n",
              "    </tr>\n",
              "    <tr>\n",
              "      <th>iterations</th>\n",
              "      <td>100</td>\n",
              "    </tr>\n",
              "    <tr>\n",
              "      <th>l2_leaf_reg</th>\n",
              "      <td>0.5</td>\n",
              "    </tr>\n",
              "    <tr>\n",
              "      <th>learning_rate</th>\n",
              "      <td>0.1</td>\n",
              "    </tr>\n",
              "    <tr>\n",
              "      <th>loss_function</th>\n",
              "      <td>RMSE</td>\n",
              "    </tr>\n",
              "    <tr>\n",
              "      <th>verbose</th>\n",
              "      <td>0</td>\n",
              "    </tr>\n",
              "    <tr>\n",
              "      <th>algorithm</th>\n",
              "      <td>CatBoostRegressor</td>\n",
              "    </tr>\n",
              "    <tr>\n",
              "      <th>test_split_ratio</th>\n",
              "      <td>0.2</td>\n",
              "    </tr>\n",
              "    <tr>\n",
              "      <th>train_rmse</th>\n",
              "      <td>2950119.2838</td>\n",
              "    </tr>\n",
              "    <tr>\n",
              "      <th>train_r2</th>\n",
              "      <td>0.0128</td>\n",
              "    </tr>\n",
              "    <tr>\n",
              "      <th>test_rmse</th>\n",
              "      <td>890665.392</td>\n",
              "    </tr>\n",
              "    <tr>\n",
              "      <th>test_r2</th>\n",
              "      <td>-4.8708</td>\n",
              "    </tr>\n",
              "  </tbody>\n",
              "</table>\n",
              "</div>\n",
              "      <button class=\"colab-df-convert\" onclick=\"convertToInteractive('df-745a4385-617b-4e26-853a-80c9f9fc583f')\"\n",
              "              title=\"Convert this dataframe to an interactive table.\"\n",
              "              style=\"display:none;\">\n",
              "        \n",
              "  <svg xmlns=\"http://www.w3.org/2000/svg\" height=\"24px\"viewBox=\"0 0 24 24\"\n",
              "       width=\"24px\">\n",
              "    <path d=\"M0 0h24v24H0V0z\" fill=\"none\"/>\n",
              "    <path d=\"M18.56 5.44l.94 2.06.94-2.06 2.06-.94-2.06-.94-.94-2.06-.94 2.06-2.06.94zm-11 1L8.5 8.5l.94-2.06 2.06-.94-2.06-.94L8.5 2.5l-.94 2.06-2.06.94zm10 10l.94 2.06.94-2.06 2.06-.94-2.06-.94-.94-2.06-.94 2.06-2.06.94z\"/><path d=\"M17.41 7.96l-1.37-1.37c-.4-.4-.92-.59-1.43-.59-.52 0-1.04.2-1.43.59L10.3 9.45l-7.72 7.72c-.78.78-.78 2.05 0 2.83L4 21.41c.39.39.9.59 1.41.59.51 0 1.02-.2 1.41-.59l7.78-7.78 2.81-2.81c.8-.78.8-2.07 0-2.86zM5.41 20L4 18.59l7.72-7.72 1.47 1.35L5.41 20z\"/>\n",
              "  </svg>\n",
              "      </button>\n",
              "      \n",
              "  <style>\n",
              "    .colab-df-container {\n",
              "      display:flex;\n",
              "      flex-wrap:wrap;\n",
              "      gap: 12px;\n",
              "    }\n",
              "\n",
              "    .colab-df-convert {\n",
              "      background-color: #E8F0FE;\n",
              "      border: none;\n",
              "      border-radius: 50%;\n",
              "      cursor: pointer;\n",
              "      display: none;\n",
              "      fill: #1967D2;\n",
              "      height: 32px;\n",
              "      padding: 0 0 0 0;\n",
              "      width: 32px;\n",
              "    }\n",
              "\n",
              "    .colab-df-convert:hover {\n",
              "      background-color: #E2EBFA;\n",
              "      box-shadow: 0px 1px 2px rgba(60, 64, 67, 0.3), 0px 1px 3px 1px rgba(60, 64, 67, 0.15);\n",
              "      fill: #174EA6;\n",
              "    }\n",
              "\n",
              "    [theme=dark] .colab-df-convert {\n",
              "      background-color: #3B4455;\n",
              "      fill: #D2E3FC;\n",
              "    }\n",
              "\n",
              "    [theme=dark] .colab-df-convert:hover {\n",
              "      background-color: #434B5C;\n",
              "      box-shadow: 0px 1px 3px 1px rgba(0, 0, 0, 0.15);\n",
              "      filter: drop-shadow(0px 1px 2px rgba(0, 0, 0, 0.3));\n",
              "      fill: #FFFFFF;\n",
              "    }\n",
              "  </style>\n",
              "\n",
              "      <script>\n",
              "        const buttonEl =\n",
              "          document.querySelector('#df-745a4385-617b-4e26-853a-80c9f9fc583f button.colab-df-convert');\n",
              "        buttonEl.style.display =\n",
              "          google.colab.kernel.accessAllowed ? 'block' : 'none';\n",
              "\n",
              "        async function convertToInteractive(key) {\n",
              "          const element = document.querySelector('#df-745a4385-617b-4e26-853a-80c9f9fc583f');\n",
              "          const dataTable =\n",
              "            await google.colab.kernel.invokeFunction('convertToInteractive',\n",
              "                                                     [key], {});\n",
              "          if (!dataTable) return;\n",
              "\n",
              "          const docLinkHtml = 'Like what you see? Visit the ' +\n",
              "            '<a target=\"_blank\" href=https://colab.research.google.com/notebooks/data_table.ipynb>data table notebook</a>'\n",
              "            + ' to learn more about interactive tables.';\n",
              "          element.innerHTML = '';\n",
              "          dataTable['output_type'] = 'display_data';\n",
              "          await google.colab.output.renderOutput(dataTable, element);\n",
              "          const docLink = document.createElement('div');\n",
              "          docLink.innerHTML = docLinkHtml;\n",
              "          element.appendChild(docLink);\n",
              "        }\n",
              "      </script>\n",
              "    </div>\n",
              "  </div>\n",
              "  "
            ]
          },
          "metadata": {},
          "execution_count": 77
        }
      ]
    },
    {
      "cell_type": "code",
      "source": [
        "tr_df, te_df = get_compare_dfs(model, data_split)\n",
        "tr_df"
      ],
      "metadata": {
        "colab": {
          "base_uri": "https://localhost:8080/",
          "height": 424
        },
        "id": "t_AHsyW7SShU",
        "outputId": "020daf82-e277-4916-e570-4b4265b2c9c7"
      },
      "execution_count": null,
      "outputs": [
        {
          "output_type": "execute_result",
          "data": {
            "text/plain": [
              "       uid  actual_deal_value (A)  predicted_deal_value (P)  \\\n",
              "306  57734              829108.60              8.293756e+05   \n",
              "69   53723             1656571.90              1.658089e+06   \n",
              "47   24241             1083604.20              1.079814e+06   \n",
              "76   50663             1154222.00              1.159360e+06   \n",
              "754  35533              984945.06              9.900055e+05   \n",
              "..     ...                    ...                       ...   \n",
              "84   24411              622682.25              1.082741e+07   \n",
              "258  20021              105604.87              1.877947e+06   \n",
              "66   53790              240008.22              4.462206e+06   \n",
              "217  35968              397634.03              9.949912e+06   \n",
              "130  25741               29756.06              7.743620e+05   \n",
              "\n",
              "     abs_error (|A-P|)  rel_error (|A-P|/A)  \n",
              "306       2.669811e+02               0.0003  \n",
              "69        1.516853e+03               0.0009  \n",
              "47        3.789704e+03               0.0035  \n",
              "76        5.138048e+03               0.0045  \n",
              "754       5.060439e+03               0.0051  \n",
              "..                 ...                  ...  \n",
              "84        1.020473e+07              16.3883  \n",
              "258       1.772342e+06              16.7826  \n",
              "66        4.222198e+06              17.5918  \n",
              "217       9.552278e+06              24.0227  \n",
              "130       7.446059e+05              25.0228  \n",
              "\n",
              "[762 rows x 5 columns]"
            ],
            "text/html": [
              "\n",
              "  <div id=\"df-55506b35-7de9-4664-99e4-0f7650b352da\">\n",
              "    <div class=\"colab-df-container\">\n",
              "      <div>\n",
              "<style scoped>\n",
              "    .dataframe tbody tr th:only-of-type {\n",
              "        vertical-align: middle;\n",
              "    }\n",
              "\n",
              "    .dataframe tbody tr th {\n",
              "        vertical-align: top;\n",
              "    }\n",
              "\n",
              "    .dataframe thead th {\n",
              "        text-align: right;\n",
              "    }\n",
              "</style>\n",
              "<table border=\"1\" class=\"dataframe\">\n",
              "  <thead>\n",
              "    <tr style=\"text-align: right;\">\n",
              "      <th></th>\n",
              "      <th>uid</th>\n",
              "      <th>actual_deal_value (A)</th>\n",
              "      <th>predicted_deal_value (P)</th>\n",
              "      <th>abs_error (|A-P|)</th>\n",
              "      <th>rel_error (|A-P|/A)</th>\n",
              "    </tr>\n",
              "  </thead>\n",
              "  <tbody>\n",
              "    <tr>\n",
              "      <th>306</th>\n",
              "      <td>57734</td>\n",
              "      <td>829108.60</td>\n",
              "      <td>8.293756e+05</td>\n",
              "      <td>2.669811e+02</td>\n",
              "      <td>0.0003</td>\n",
              "    </tr>\n",
              "    <tr>\n",
              "      <th>69</th>\n",
              "      <td>53723</td>\n",
              "      <td>1656571.90</td>\n",
              "      <td>1.658089e+06</td>\n",
              "      <td>1.516853e+03</td>\n",
              "      <td>0.0009</td>\n",
              "    </tr>\n",
              "    <tr>\n",
              "      <th>47</th>\n",
              "      <td>24241</td>\n",
              "      <td>1083604.20</td>\n",
              "      <td>1.079814e+06</td>\n",
              "      <td>3.789704e+03</td>\n",
              "      <td>0.0035</td>\n",
              "    </tr>\n",
              "    <tr>\n",
              "      <th>76</th>\n",
              "      <td>50663</td>\n",
              "      <td>1154222.00</td>\n",
              "      <td>1.159360e+06</td>\n",
              "      <td>5.138048e+03</td>\n",
              "      <td>0.0045</td>\n",
              "    </tr>\n",
              "    <tr>\n",
              "      <th>754</th>\n",
              "      <td>35533</td>\n",
              "      <td>984945.06</td>\n",
              "      <td>9.900055e+05</td>\n",
              "      <td>5.060439e+03</td>\n",
              "      <td>0.0051</td>\n",
              "    </tr>\n",
              "    <tr>\n",
              "      <th>...</th>\n",
              "      <td>...</td>\n",
              "      <td>...</td>\n",
              "      <td>...</td>\n",
              "      <td>...</td>\n",
              "      <td>...</td>\n",
              "    </tr>\n",
              "    <tr>\n",
              "      <th>84</th>\n",
              "      <td>24411</td>\n",
              "      <td>622682.25</td>\n",
              "      <td>1.082741e+07</td>\n",
              "      <td>1.020473e+07</td>\n",
              "      <td>16.3883</td>\n",
              "    </tr>\n",
              "    <tr>\n",
              "      <th>258</th>\n",
              "      <td>20021</td>\n",
              "      <td>105604.87</td>\n",
              "      <td>1.877947e+06</td>\n",
              "      <td>1.772342e+06</td>\n",
              "      <td>16.7826</td>\n",
              "    </tr>\n",
              "    <tr>\n",
              "      <th>66</th>\n",
              "      <td>53790</td>\n",
              "      <td>240008.22</td>\n",
              "      <td>4.462206e+06</td>\n",
              "      <td>4.222198e+06</td>\n",
              "      <td>17.5918</td>\n",
              "    </tr>\n",
              "    <tr>\n",
              "      <th>217</th>\n",
              "      <td>35968</td>\n",
              "      <td>397634.03</td>\n",
              "      <td>9.949912e+06</td>\n",
              "      <td>9.552278e+06</td>\n",
              "      <td>24.0227</td>\n",
              "    </tr>\n",
              "    <tr>\n",
              "      <th>130</th>\n",
              "      <td>25741</td>\n",
              "      <td>29756.06</td>\n",
              "      <td>7.743620e+05</td>\n",
              "      <td>7.446059e+05</td>\n",
              "      <td>25.0228</td>\n",
              "    </tr>\n",
              "  </tbody>\n",
              "</table>\n",
              "<p>762 rows × 5 columns</p>\n",
              "</div>\n",
              "      <button class=\"colab-df-convert\" onclick=\"convertToInteractive('df-55506b35-7de9-4664-99e4-0f7650b352da')\"\n",
              "              title=\"Convert this dataframe to an interactive table.\"\n",
              "              style=\"display:none;\">\n",
              "        \n",
              "  <svg xmlns=\"http://www.w3.org/2000/svg\" height=\"24px\"viewBox=\"0 0 24 24\"\n",
              "       width=\"24px\">\n",
              "    <path d=\"M0 0h24v24H0V0z\" fill=\"none\"/>\n",
              "    <path d=\"M18.56 5.44l.94 2.06.94-2.06 2.06-.94-2.06-.94-.94-2.06-.94 2.06-2.06.94zm-11 1L8.5 8.5l.94-2.06 2.06-.94-2.06-.94L8.5 2.5l-.94 2.06-2.06.94zm10 10l.94 2.06.94-2.06 2.06-.94-2.06-.94-.94-2.06-.94 2.06-2.06.94z\"/><path d=\"M17.41 7.96l-1.37-1.37c-.4-.4-.92-.59-1.43-.59-.52 0-1.04.2-1.43.59L10.3 9.45l-7.72 7.72c-.78.78-.78 2.05 0 2.83L4 21.41c.39.39.9.59 1.41.59.51 0 1.02-.2 1.41-.59l7.78-7.78 2.81-2.81c.8-.78.8-2.07 0-2.86zM5.41 20L4 18.59l7.72-7.72 1.47 1.35L5.41 20z\"/>\n",
              "  </svg>\n",
              "      </button>\n",
              "      \n",
              "  <style>\n",
              "    .colab-df-container {\n",
              "      display:flex;\n",
              "      flex-wrap:wrap;\n",
              "      gap: 12px;\n",
              "    }\n",
              "\n",
              "    .colab-df-convert {\n",
              "      background-color: #E8F0FE;\n",
              "      border: none;\n",
              "      border-radius: 50%;\n",
              "      cursor: pointer;\n",
              "      display: none;\n",
              "      fill: #1967D2;\n",
              "      height: 32px;\n",
              "      padding: 0 0 0 0;\n",
              "      width: 32px;\n",
              "    }\n",
              "\n",
              "    .colab-df-convert:hover {\n",
              "      background-color: #E2EBFA;\n",
              "      box-shadow: 0px 1px 2px rgba(60, 64, 67, 0.3), 0px 1px 3px 1px rgba(60, 64, 67, 0.15);\n",
              "      fill: #174EA6;\n",
              "    }\n",
              "\n",
              "    [theme=dark] .colab-df-convert {\n",
              "      background-color: #3B4455;\n",
              "      fill: #D2E3FC;\n",
              "    }\n",
              "\n",
              "    [theme=dark] .colab-df-convert:hover {\n",
              "      background-color: #434B5C;\n",
              "      box-shadow: 0px 1px 3px 1px rgba(0, 0, 0, 0.15);\n",
              "      filter: drop-shadow(0px 1px 2px rgba(0, 0, 0, 0.3));\n",
              "      fill: #FFFFFF;\n",
              "    }\n",
              "  </style>\n",
              "\n",
              "      <script>\n",
              "        const buttonEl =\n",
              "          document.querySelector('#df-55506b35-7de9-4664-99e4-0f7650b352da button.colab-df-convert');\n",
              "        buttonEl.style.display =\n",
              "          google.colab.kernel.accessAllowed ? 'block' : 'none';\n",
              "\n",
              "        async function convertToInteractive(key) {\n",
              "          const element = document.querySelector('#df-55506b35-7de9-4664-99e4-0f7650b352da');\n",
              "          const dataTable =\n",
              "            await google.colab.kernel.invokeFunction('convertToInteractive',\n",
              "                                                     [key], {});\n",
              "          if (!dataTable) return;\n",
              "\n",
              "          const docLinkHtml = 'Like what you see? Visit the ' +\n",
              "            '<a target=\"_blank\" href=https://colab.research.google.com/notebooks/data_table.ipynb>data table notebook</a>'\n",
              "            + ' to learn more about interactive tables.';\n",
              "          element.innerHTML = '';\n",
              "          dataTable['output_type'] = 'display_data';\n",
              "          await google.colab.output.renderOutput(dataTable, element);\n",
              "          const docLink = document.createElement('div');\n",
              "          docLink.innerHTML = docLinkHtml;\n",
              "          element.appendChild(docLink);\n",
              "        }\n",
              "      </script>\n",
              "    </div>\n",
              "  </div>\n",
              "  "
            ]
          },
          "metadata": {},
          "execution_count": 79
        }
      ]
    },
    {
      "cell_type": "code",
      "source": [
        "cols = ['actual_deal_value (A)', 'predicted_deal_value (P)'] # one or more\n",
        "\n",
        "Q1 = tr_df[cols].quantile(0.05)\n",
        "Q3 = tr_df[cols].quantile(0.95)\n",
        "IQR = Q3 - Q1\n",
        "\n",
        "outlier_filter = ((tr_df[cols] < (Q1 - 1.5 * IQR)) |(tr_df[cols] > (Q3 + 1.5 * IQR))).any(axis=1)\n",
        "\n",
        "tr_df[outlier_filter]"
      ],
      "metadata": {
        "colab": {
          "base_uri": "https://localhost:8080/",
          "height": 206
        },
        "id": "g7GqrT5LWjBM",
        "outputId": "e23134c8-e02b-4670-bc77-703b830aa53f"
      },
      "execution_count": null,
      "outputs": [
        {
          "output_type": "execute_result",
          "data": {
            "text/plain": [
              "       uid  actual_deal_value (A)  predicted_deal_value (P)  \\\n",
              "396  52135             4511056.50              2.214264e+06   \n",
              "218  38306            81919860.00              8.245585e+06   \n",
              "603  14922              728157.94              9.473072e+06   \n",
              "84   24411              622682.25              1.082741e+07   \n",
              "217  35968              397634.03              9.949912e+06   \n",
              "\n",
              "     abs_error (|A-P|)  rel_error (|A-P|/A)  \n",
              "396       2.296793e+06               0.5091  \n",
              "218       7.367428e+07               0.8993  \n",
              "603       8.744914e+06              12.0096  \n",
              "84        1.020473e+07              16.3883  \n",
              "217       9.552278e+06              24.0227  "
            ],
            "text/html": [
              "\n",
              "  <div id=\"df-afbe7837-5528-4bfb-9112-e724ec6df1b7\">\n",
              "    <div class=\"colab-df-container\">\n",
              "      <div>\n",
              "<style scoped>\n",
              "    .dataframe tbody tr th:only-of-type {\n",
              "        vertical-align: middle;\n",
              "    }\n",
              "\n",
              "    .dataframe tbody tr th {\n",
              "        vertical-align: top;\n",
              "    }\n",
              "\n",
              "    .dataframe thead th {\n",
              "        text-align: right;\n",
              "    }\n",
              "</style>\n",
              "<table border=\"1\" class=\"dataframe\">\n",
              "  <thead>\n",
              "    <tr style=\"text-align: right;\">\n",
              "      <th></th>\n",
              "      <th>uid</th>\n",
              "      <th>actual_deal_value (A)</th>\n",
              "      <th>predicted_deal_value (P)</th>\n",
              "      <th>abs_error (|A-P|)</th>\n",
              "      <th>rel_error (|A-P|/A)</th>\n",
              "    </tr>\n",
              "  </thead>\n",
              "  <tbody>\n",
              "    <tr>\n",
              "      <th>396</th>\n",
              "      <td>52135</td>\n",
              "      <td>4511056.50</td>\n",
              "      <td>2.214264e+06</td>\n",
              "      <td>2.296793e+06</td>\n",
              "      <td>0.5091</td>\n",
              "    </tr>\n",
              "    <tr>\n",
              "      <th>218</th>\n",
              "      <td>38306</td>\n",
              "      <td>81919860.00</td>\n",
              "      <td>8.245585e+06</td>\n",
              "      <td>7.367428e+07</td>\n",
              "      <td>0.8993</td>\n",
              "    </tr>\n",
              "    <tr>\n",
              "      <th>603</th>\n",
              "      <td>14922</td>\n",
              "      <td>728157.94</td>\n",
              "      <td>9.473072e+06</td>\n",
              "      <td>8.744914e+06</td>\n",
              "      <td>12.0096</td>\n",
              "    </tr>\n",
              "    <tr>\n",
              "      <th>84</th>\n",
              "      <td>24411</td>\n",
              "      <td>622682.25</td>\n",
              "      <td>1.082741e+07</td>\n",
              "      <td>1.020473e+07</td>\n",
              "      <td>16.3883</td>\n",
              "    </tr>\n",
              "    <tr>\n",
              "      <th>217</th>\n",
              "      <td>35968</td>\n",
              "      <td>397634.03</td>\n",
              "      <td>9.949912e+06</td>\n",
              "      <td>9.552278e+06</td>\n",
              "      <td>24.0227</td>\n",
              "    </tr>\n",
              "  </tbody>\n",
              "</table>\n",
              "</div>\n",
              "      <button class=\"colab-df-convert\" onclick=\"convertToInteractive('df-afbe7837-5528-4bfb-9112-e724ec6df1b7')\"\n",
              "              title=\"Convert this dataframe to an interactive table.\"\n",
              "              style=\"display:none;\">\n",
              "        \n",
              "  <svg xmlns=\"http://www.w3.org/2000/svg\" height=\"24px\"viewBox=\"0 0 24 24\"\n",
              "       width=\"24px\">\n",
              "    <path d=\"M0 0h24v24H0V0z\" fill=\"none\"/>\n",
              "    <path d=\"M18.56 5.44l.94 2.06.94-2.06 2.06-.94-2.06-.94-.94-2.06-.94 2.06-2.06.94zm-11 1L8.5 8.5l.94-2.06 2.06-.94-2.06-.94L8.5 2.5l-.94 2.06-2.06.94zm10 10l.94 2.06.94-2.06 2.06-.94-2.06-.94-.94-2.06-.94 2.06-2.06.94z\"/><path d=\"M17.41 7.96l-1.37-1.37c-.4-.4-.92-.59-1.43-.59-.52 0-1.04.2-1.43.59L10.3 9.45l-7.72 7.72c-.78.78-.78 2.05 0 2.83L4 21.41c.39.39.9.59 1.41.59.51 0 1.02-.2 1.41-.59l7.78-7.78 2.81-2.81c.8-.78.8-2.07 0-2.86zM5.41 20L4 18.59l7.72-7.72 1.47 1.35L5.41 20z\"/>\n",
              "  </svg>\n",
              "      </button>\n",
              "      \n",
              "  <style>\n",
              "    .colab-df-container {\n",
              "      display:flex;\n",
              "      flex-wrap:wrap;\n",
              "      gap: 12px;\n",
              "    }\n",
              "\n",
              "    .colab-df-convert {\n",
              "      background-color: #E8F0FE;\n",
              "      border: none;\n",
              "      border-radius: 50%;\n",
              "      cursor: pointer;\n",
              "      display: none;\n",
              "      fill: #1967D2;\n",
              "      height: 32px;\n",
              "      padding: 0 0 0 0;\n",
              "      width: 32px;\n",
              "    }\n",
              "\n",
              "    .colab-df-convert:hover {\n",
              "      background-color: #E2EBFA;\n",
              "      box-shadow: 0px 1px 2px rgba(60, 64, 67, 0.3), 0px 1px 3px 1px rgba(60, 64, 67, 0.15);\n",
              "      fill: #174EA6;\n",
              "    }\n",
              "\n",
              "    [theme=dark] .colab-df-convert {\n",
              "      background-color: #3B4455;\n",
              "      fill: #D2E3FC;\n",
              "    }\n",
              "\n",
              "    [theme=dark] .colab-df-convert:hover {\n",
              "      background-color: #434B5C;\n",
              "      box-shadow: 0px 1px 3px 1px rgba(0, 0, 0, 0.15);\n",
              "      filter: drop-shadow(0px 1px 2px rgba(0, 0, 0, 0.3));\n",
              "      fill: #FFFFFF;\n",
              "    }\n",
              "  </style>\n",
              "\n",
              "      <script>\n",
              "        const buttonEl =\n",
              "          document.querySelector('#df-afbe7837-5528-4bfb-9112-e724ec6df1b7 button.colab-df-convert');\n",
              "        buttonEl.style.display =\n",
              "          google.colab.kernel.accessAllowed ? 'block' : 'none';\n",
              "\n",
              "        async function convertToInteractive(key) {\n",
              "          const element = document.querySelector('#df-afbe7837-5528-4bfb-9112-e724ec6df1b7');\n",
              "          const dataTable =\n",
              "            await google.colab.kernel.invokeFunction('convertToInteractive',\n",
              "                                                     [key], {});\n",
              "          if (!dataTable) return;\n",
              "\n",
              "          const docLinkHtml = 'Like what you see? Visit the ' +\n",
              "            '<a target=\"_blank\" href=https://colab.research.google.com/notebooks/data_table.ipynb>data table notebook</a>'\n",
              "            + ' to learn more about interactive tables.';\n",
              "          element.innerHTML = '';\n",
              "          dataTable['output_type'] = 'display_data';\n",
              "          await google.colab.output.renderOutput(dataTable, element);\n",
              "          const docLink = document.createElement('div');\n",
              "          docLink.innerHTML = docLinkHtml;\n",
              "          element.appendChild(docLink);\n",
              "        }\n",
              "      </script>\n",
              "    </div>\n",
              "  </div>\n",
              "  "
            ]
          },
          "metadata": {},
          "execution_count": 97
        }
      ]
    },
    {
      "cell_type": "code",
      "source": [
        "fig, ax = plt.subplots(1, 1, figsize=(20,5))\n",
        "tr_df[~outlier_filter].reset_index().plot(y='actual_deal_value (A)', linestyle='', marker='*', kind='line', ax=ax)\n",
        "tr_df[~outlier_filter].reset_index().plot(y='predicted_deal_value (P)', linestyle='', marker='*', kind='line', ax=ax)\n",
        "ax.grid(True)"
      ],
      "metadata": {
        "colab": {
          "base_uri": "https://localhost:8080/",
          "height": 351
        },
        "id": "NCMRHC4ATTKr",
        "outputId": "0fced382-445d-4bda-8afb-370d4e4f7d7f"
      },
      "execution_count": null,
      "outputs": [
        {
          "output_type": "display_data",
          "data": {
            "text/plain": [
              "<Figure size 1440x360 with 1 Axes>"
            ],
            "image/png": "[encoded data removed]"
          },
          "metadata": {
            "needs_background": "light"
          }
        }
      ]
    },
    {
      "cell_type": "code",
      "source": [
        "fig, ax = plt.subplots(1, 1, figsize=(10,10))\n",
        "tr_df[~outlier_filter].plot(x='actual_deal_value (A)', y='predicted_deal_value (P)', kind='scatter', ax=ax)\n",
        "maxx = tr_df[~outlier_filter]['actual_deal_value (A)'].max()\n",
        "maxy = tr_df[~outlier_filter]['predicted_deal_value (P)'].max()\n",
        "maxval = max(maxx, maxy)\n",
        "ax.grid(True)\n",
        "ax.set_xlim(0, maxval)\n",
        "ax.set_ylim(0, maxval)\n",
        "ax.plot([0, maxval], [0, maxval], 'r')"
      ],
      "metadata": {
        "colab": {
          "base_uri": "https://localhost:8080/",
          "height": 635
        },
        "id": "inTqlfiNYM7J",
        "outputId": "8b47b246-a0d8-4e0b-b115-0f47c25d2769"
      },
      "execution_count": null,
      "outputs": [
        {
          "output_type": "execute_result",
          "data": {
            "text/plain": [
              "[<matplotlib.lines.Line2D at 0x7f1b5f23df10>]"
            ]
          },
          "metadata": {},
          "execution_count": 109
        },
        {
          "output_type": "display_data",
          "data": {
            "text/plain": [
              "<Figure size 720x720 with 1 Axes>"
            ],
            "image/png": "[encoded data removed]"
          },
          "metadata": {
            "needs_background": "light"
          }
        }
      ]
    },
    {
      "cell_type": "markdown",
      "source": [
        "## 5.4. Classifier for convert / no-convert"
      ],
      "metadata": {
        "id": "jS6sDGF6cXcQ"
      }
    },
    {
      "cell_type": "code",
      "source": [
        "data = cls_data\n",
        "model, data_split = train_classifier(data['X'], data['y'], categorical_feat_ids=categorical_feat_ids, silent=True)\n",
        "# perf_df = get_model_perf(model, data_split)\n",
        "# perf_df"
      ],
      "metadata": {
        "id": "TZnY8bABcfmG"
      },
      "execution_count": null,
      "outputs": []
    },
    {
      "cell_type": "code",
      "source": [
        "from sklearn.metrics import accuracy_score, roc_auc_score, plot_confusion_matrix, plot_roc_curve\n",
        "X_train, X_test, y_train, y_test = [data_split[x] for x in ['X_train', 'X_test', 'y_train', 'y_test']]\n",
        "train_pred = model.predict(X_train)\n",
        "test_pred = model.predict(X_test)\n",
        "\n",
        "train_pp = model.predict_proba(X_train)[:,1]\n",
        "test_pp = model.predict_proba(X_test)[:,1]\n",
        "\n",
        "train_acc = accuracy_score(y_train.apply(str), train_pred)\n",
        "test_acc = accuracy_score(y_test.apply(str), test_pred)\n",
        "# train_auc = \n",
        "# train_auc = (np.sqrt(mean_squared_error(y_train, train_pred)))\n",
        "# test_auc = r2_score(y_train, train_pred)\n",
        "# test_pred = model.predict(X_test)\n",
        "# test_rmse = (np.sqrt(mean_squared_error(y_test, test_pred)))\n",
        "# test_r2 = r2_score(y_test, test_pred)\n",
        "# model_df = pd.DataFrame({'param_value': model._get_params()}).T\n",
        "# model_df['algorithm'] = 'CatBoostRegressor'\n",
        "# model_df['test_split_ratio'] = 0.2\n",
        "# model_df['train_rmse'] = round(train_rmse, 4)\n",
        "# model_df['train_r2'] = round(train_r2, 4)\n",
        "# model_df['test_rmse'] = round(test_rmse, 4)\n",
        "# model_df['test_r2'] = round(test_r2, 4)\n",
        "# model_df = model_df.T"
      ],
      "metadata": {
        "id": "rRgO5Tu_gsKG"
      },
      "execution_count": null,
      "outputs": []
    },
    {
      "cell_type": "code",
      "source": [
        "tr_clf_df = pd.DataFrame({'true_label': y_train.apply({True: 'Converts', False: 'Doesn\\'t Convert'}.get),\n",
        "              'pred_label': map({'True': 'Converts', 'False': 'Doesn\\'t Convert'}.get, train_pred),\n",
        "              'pred_prob': train_pp})"
      ],
      "metadata": {
        "id": "Wwk9-WFEtnCD"
      },
      "execution_count": null,
      "outputs": []
    },
    {
      "cell_type": "code",
      "source": [
        "te_clf_df = pd.DataFrame({'true_label': y_test.apply({True: 'Converts', False: 'Doesn\\'t Convert'}.get),\n",
        "              'pred_label': map({'True': 'Converts', 'False': 'Doesn\\'t Convert'}.get, test_pred),\n",
        "              'pred_prob': test_pp})"
      ],
      "metadata": {
        "id": "PUZbtS4kvCmh"
      },
      "execution_count": null,
      "outputs": []
    },
    {
      "cell_type": "code",
      "source": [
        "final_tr_df = pd.merge(full_reg_tr_df, tr_clf_df, left_on='uid', right_index=True, how='outer')\n",
        "final_tr_df"
      ],
      "metadata": {
        "colab": {
          "base_uri": "https://localhost:8080/",
          "height": 592
        },
        "id": "-0Lvgz93vIkN",
        "outputId": "86d481fc-fc0b-45a9-943b-9e1e20697df9"
      },
      "execution_count": null,
      "outputs": [
        {
          "output_type": "execute_result",
          "data": {
            "text/plain": [
              "                uid  actual_deal_value (A)  predicted_deal_value (P)  \\\n",
              "1421   919686058599              752496.00              7.533411e+05   \n",
              "1602     9550900653              948443.44              9.507685e+05   \n",
              "2366     8019496009              513964.10              5.125056e+05   \n",
              "993      9538176743             1050164.60              1.046060e+06   \n",
              "206   +919986480412              528864.50              5.262769e+05   \n",
              "...             ...                    ...                       ...   \n",
              "1116     7619187856                   0.00              1.017702e+06   \n",
              "1800     7506933810                   0.00              1.064118e+06   \n",
              "1803     9731723482                   0.00              1.069818e+06   \n",
              "2267     7204792080                   0.00              1.092983e+06   \n",
              "1101     9972110076                   0.00              1.099754e+06   \n",
              "\n",
              "      abs_error (|A-P|)  rel_error (|A-P|/A)       true_label pred_label  \\\n",
              "1421       8.451294e+02         1.100000e-03         Converts   Converts   \n",
              "1602       2.325092e+03         2.500000e-03         Converts   Converts   \n",
              "2366       1.458494e+03         2.800000e-03         Converts   Converts   \n",
              "993        4.104639e+03         3.900000e-03         Converts   Converts   \n",
              "206        2.587617e+03         4.900000e-03         Converts   Converts   \n",
              "...                 ...                  ...              ...        ...   \n",
              "1116       1.017702e+06         1.017701e+06  Doesn't Convert   Converts   \n",
              "1800       1.064118e+06         1.064117e+06  Doesn't Convert   Converts   \n",
              "1803       1.069818e+06         1.069817e+06  Doesn't Convert   Converts   \n",
              "2267       1.092983e+06         1.092982e+06  Doesn't Convert   Converts   \n",
              "1101       1.099754e+06         1.099753e+06  Doesn't Convert   Converts   \n",
              "\n",
              "      pred_prob  \n",
              "1421   0.887318  \n",
              "1602   0.781069  \n",
              "2366   0.714520  \n",
              "993    0.867775  \n",
              "206    0.535737  \n",
              "...         ...  \n",
              "1116   0.830842  \n",
              "1800   0.908994  \n",
              "1803   0.782496  \n",
              "2267   0.829401  \n",
              "1101   0.813250  \n",
              "\n",
              "[2580 rows x 8 columns]"
            ],
            "text/html": [
              "\n",
              "  <div id=\"df-27e88128-fbef-458c-9114-63a6e201c804\">\n",
              "    <div class=\"colab-df-container\">\n",
              "      <div>\n",
              "<style scoped>\n",
              "    .dataframe tbody tr th:only-of-type {\n",
              "        vertical-align: middle;\n",
              "    }\n",
              "\n",
              "    .dataframe tbody tr th {\n",
              "        vertical-align: top;\n",
              "    }\n",
              "\n",
              "    .dataframe thead th {\n",
              "        text-align: right;\n",
              "    }\n",
              "</style>\n",
              "<table border=\"1\" class=\"dataframe\">\n",
              "  <thead>\n",
              "    <tr style=\"text-align: right;\">\n",
              "      <th></th>\n",
              "      <th>uid</th>\n",
              "      <th>actual_deal_value (A)</th>\n",
              "      <th>predicted_deal_value (P)</th>\n",
              "      <th>abs_error (|A-P|)</th>\n",
              "      <th>rel_error (|A-P|/A)</th>\n",
              "      <th>true_label</th>\n",
              "      <th>pred_label</th>\n",
              "      <th>pred_prob</th>\n",
              "    </tr>\n",
              "  </thead>\n",
              "  <tbody>\n",
              "    <tr>\n",
              "      <th>1421</th>\n",
              "      <td>919686058599</td>\n",
              "      <td>752496.00</td>\n",
              "      <td>7.533411e+05</td>\n",
              "      <td>8.451294e+02</td>\n",
              "      <td>1.100000e-03</td>\n",
              "      <td>Converts</td>\n",
              "      <td>Converts</td>\n",
              "      <td>0.887318</td>\n",
              "    </tr>\n",
              "    <tr>\n",
              "      <th>1602</th>\n",
              "      <td>9550900653</td>\n",
              "      <td>948443.44</td>\n",
              "      <td>9.507685e+05</td>\n",
              "      <td>2.325092e+03</td>\n",
              "      <td>2.500000e-03</td>\n",
              "      <td>Converts</td>\n",
              "      <td>Converts</td>\n",
              "      <td>0.781069</td>\n",
              "    </tr>\n",
              "    <tr>\n",
              "      <th>2366</th>\n",
              "      <td>8019496009</td>\n",
              "      <td>513964.10</td>\n",
              "      <td>5.125056e+05</td>\n",
              "      <td>1.458494e+03</td>\n",
              "      <td>2.800000e-03</td>\n",
              "      <td>Converts</td>\n",
              "      <td>Converts</td>\n",
              "      <td>0.714520</td>\n",
              "    </tr>\n",
              "    <tr>\n",
              "      <th>993</th>\n",
              "      <td>9538176743</td>\n",
              "      <td>1050164.60</td>\n",
              "      <td>1.046060e+06</td>\n",
              "      <td>4.104639e+03</td>\n",
              "      <td>3.900000e-03</td>\n",
              "      <td>Converts</td>\n",
              "      <td>Converts</td>\n",
              "      <td>0.867775</td>\n",
              "    </tr>\n",
              "    <tr>\n",
              "      <th>206</th>\n",
              "      <td>+919986480412</td>\n",
              "      <td>528864.50</td>\n",
              "      <td>5.262769e+05</td>\n",
              "      <td>2.587617e+03</td>\n",
              "      <td>4.900000e-03</td>\n",
              "      <td>Converts</td>\n",
              "      <td>Converts</td>\n",
              "      <td>0.535737</td>\n",
              "    </tr>\n",
              "    <tr>\n",
              "      <th>...</th>\n",
              "      <td>...</td>\n",
              "      <td>...</td>\n",
              "      <td>...</td>\n",
              "      <td>...</td>\n",
              "      <td>...</td>\n",
              "      <td>...</td>\n",
              "      <td>...</td>\n",
              "      <td>...</td>\n",
              "    </tr>\n",
              "    <tr>\n",
              "      <th>1116</th>\n",
              "      <td>7619187856</td>\n",
              "      <td>0.00</td>\n",
              "      <td>1.017702e+06</td>\n",
              "      <td>1.017702e+06</td>\n",
              "      <td>1.017701e+06</td>\n",
              "      <td>Doesn't Convert</td>\n",
              "      <td>Converts</td>\n",
              "      <td>0.830842</td>\n",
              "    </tr>\n",
              "    <tr>\n",
              "      <th>1800</th>\n",
              "      <td>7506933810</td>\n",
              "      <td>0.00</td>\n",
              "      <td>1.064118e+06</td>\n",
              "      <td>1.064118e+06</td>\n",
              "      <td>1.064117e+06</td>\n",
              "      <td>Doesn't Convert</td>\n",
              "      <td>Converts</td>\n",
              "      <td>0.908994</td>\n",
              "    </tr>\n",
              "    <tr>\n",
              "      <th>1803</th>\n",
              "      <td>9731723482</td>\n",
              "      <td>0.00</td>\n",
              "      <td>1.069818e+06</td>\n",
              "      <td>1.069818e+06</td>\n",
              "      <td>1.069817e+06</td>\n",
              "      <td>Doesn't Convert</td>\n",
              "      <td>Converts</td>\n",
              "      <td>0.782496</td>\n",
              "    </tr>\n",
              "    <tr>\n",
              "      <th>2267</th>\n",
              "      <td>7204792080</td>\n",
              "      <td>0.00</td>\n",
              "      <td>1.092983e+06</td>\n",
              "      <td>1.092983e+06</td>\n",
              "      <td>1.092982e+06</td>\n",
              "      <td>Doesn't Convert</td>\n",
              "      <td>Converts</td>\n",
              "      <td>0.829401</td>\n",
              "    </tr>\n",
              "    <tr>\n",
              "      <th>1101</th>\n",
              "      <td>9972110076</td>\n",
              "      <td>0.00</td>\n",
              "      <td>1.099754e+06</td>\n",
              "      <td>1.099754e+06</td>\n",
              "      <td>1.099753e+06</td>\n",
              "      <td>Doesn't Convert</td>\n",
              "      <td>Converts</td>\n",
              "      <td>0.813250</td>\n",
              "    </tr>\n",
              "  </tbody>\n",
              "</table>\n",
              "<p>2580 rows × 8 columns</p>\n",
              "</div>\n",
              "      <button class=\"colab-df-convert\" onclick=\"convertToInteractive('df-27e88128-fbef-458c-9114-63a6e201c804')\"\n",
              "              title=\"Convert this dataframe to an interactive table.\"\n",
              "              style=\"display:none;\">\n",
              "        \n",
              "  <svg xmlns=\"http://www.w3.org/2000/svg\" height=\"24px\"viewBox=\"0 0 24 24\"\n",
              "       width=\"24px\">\n",
              "    <path d=\"M0 0h24v24H0V0z\" fill=\"none\"/>\n",
              "    <path d=\"M18.56 5.44l.94 2.06.94-2.06 2.06-.94-2.06-.94-.94-2.06-.94 2.06-2.06.94zm-11 1L8.5 8.5l.94-2.06 2.06-.94-2.06-.94L8.5 2.5l-.94 2.06-2.06.94zm10 10l.94 2.06.94-2.06 2.06-.94-2.06-.94-.94-2.06-.94 2.06-2.06.94z\"/><path d=\"M17.41 7.96l-1.37-1.37c-.4-.4-.92-.59-1.43-.59-.52 0-1.04.2-1.43.59L10.3 9.45l-7.72 7.72c-.78.78-.78 2.05 0 2.83L4 21.41c.39.39.9.59 1.41.59.51 0 1.02-.2 1.41-.59l7.78-7.78 2.81-2.81c.8-.78.8-2.07 0-2.86zM5.41 20L4 18.59l7.72-7.72 1.47 1.35L5.41 20z\"/>\n",
              "  </svg>\n",
              "      </button>\n",
              "      \n",
              "  <style>\n",
              "    .colab-df-container {\n",
              "      display:flex;\n",
              "      flex-wrap:wrap;\n",
              "      gap: 12px;\n",
              "    }\n",
              "\n",
              "    .colab-df-convert {\n",
              "      background-color: #E8F0FE;\n",
              "      border: none;\n",
              "      border-radius: 50%;\n",
              "      cursor: pointer;\n",
              "      display: none;\n",
              "      fill: #1967D2;\n",
              "      height: 32px;\n",
              "      padding: 0 0 0 0;\n",
              "      width: 32px;\n",
              "    }\n",
              "\n",
              "    .colab-df-convert:hover {\n",
              "      background-color: #E2EBFA;\n",
              "      box-shadow: 0px 1px 2px rgba(60, 64, 67, 0.3), 0px 1px 3px 1px rgba(60, 64, 67, 0.15);\n",
              "      fill: #174EA6;\n",
              "    }\n",
              "\n",
              "    [theme=dark] .colab-df-convert {\n",
              "      background-color: #3B4455;\n",
              "      fill: #D2E3FC;\n",
              "    }\n",
              "\n",
              "    [theme=dark] .colab-df-convert:hover {\n",
              "      background-color: #434B5C;\n",
              "      box-shadow: 0px 1px 3px 1px rgba(0, 0, 0, 0.15);\n",
              "      filter: drop-shadow(0px 1px 2px rgba(0, 0, 0, 0.3));\n",
              "      fill: #FFFFFF;\n",
              "    }\n",
              "  </style>\n",
              "\n",
              "      <script>\n",
              "        const buttonEl =\n",
              "          document.querySelector('#df-27e88128-fbef-458c-9114-63a6e201c804 button.colab-df-convert');\n",
              "        buttonEl.style.display =\n",
              "          google.colab.kernel.accessAllowed ? 'block' : 'none';\n",
              "\n",
              "        async function convertToInteractive(key) {\n",
              "          const element = document.querySelector('#df-27e88128-fbef-458c-9114-63a6e201c804');\n",
              "          const dataTable =\n",
              "            await google.colab.kernel.invokeFunction('convertToInteractive',\n",
              "                                                     [key], {});\n",
              "          if (!dataTable) return;\n",
              "\n",
              "          const docLinkHtml = 'Like what you see? Visit the ' +\n",
              "            '<a target=\"_blank\" href=https://colab.research.google.com/notebooks/data_table.ipynb>data table notebook</a>'\n",
              "            + ' to learn more about interactive tables.';\n",
              "          element.innerHTML = '';\n",
              "          dataTable['output_type'] = 'display_data';\n",
              "          await google.colab.output.renderOutput(dataTable, element);\n",
              "          const docLink = document.createElement('div');\n",
              "          docLink.innerHTML = docLinkHtml;\n",
              "          element.appendChild(docLink);\n",
              "        }\n",
              "      </script>\n",
              "    </div>\n",
              "  </div>\n",
              "  "
            ]
          },
          "metadata": {},
          "execution_count": 191
        }
      ]
    },
    {
      "cell_type": "code",
      "source": [
        "final_te_df = pd.merge(full_reg_te_df, te_clf_df, left_on='uid', right_index=True, how='outer')\n",
        "final_te_df"
      ],
      "metadata": {
        "colab": {
          "base_uri": "https://localhost:8080/",
          "height": 592
        },
        "id": "esen7JHyvt5K",
        "outputId": "40232438-4519-4ad5-fd35-9f7ef348d405"
      },
      "execution_count": null,
      "outputs": [
        {
          "output_type": "execute_result",
          "data": {
            "text/plain": [
              "            uid  actual_deal_value (A)  predicted_deal_value (P)  \\\n",
              "270  9989775270              592764.00              5.936541e+05   \n",
              "276  8511937352              731887.06              7.419471e+05   \n",
              "195  9908106545             1070512.00              1.091477e+06   \n",
              "461  9545545838              428001.20              4.114407e+05   \n",
              "633  7702682753              707107.20              6.783561e+05   \n",
              "..          ...                    ...                       ...   \n",
              "504  9848276255                   0.00              8.897897e+05   \n",
              "2    9972411944                   0.00              8.974550e+05   \n",
              "326  7305167192                   0.00              9.547711e+05   \n",
              "13   9994386159                   0.00              9.650997e+05   \n",
              "577  9164040020                   0.00              1.084494e+06   \n",
              "\n",
              "     abs_error (|A-P|)  rel_error (|A-P|/A)       true_label pred_label  \\\n",
              "270       8.901458e+02         1.500000e-03         Converts   Converts   \n",
              "276       1.006009e+04         1.370000e-02         Converts   Converts   \n",
              "195       2.096472e+04         1.960000e-02         Converts   Converts   \n",
              "461       1.656048e+04         3.870000e-02         Converts   Converts   \n",
              "633       2.875109e+04         4.070000e-02         Converts   Converts   \n",
              "..                 ...                  ...              ...        ...   \n",
              "504       8.897897e+05         8.897887e+05  Doesn't Convert   Converts   \n",
              "2         8.974550e+05         8.974540e+05  Doesn't Convert   Converts   \n",
              "326       9.547711e+05         9.547701e+05  Doesn't Convert   Converts   \n",
              "13        9.650997e+05         9.650987e+05  Doesn't Convert   Converts   \n",
              "577       1.084494e+06         1.084493e+06  Doesn't Convert   Converts   \n",
              "\n",
              "     pred_prob  \n",
              "270   0.830611  \n",
              "276   0.564728  \n",
              "195   0.952730  \n",
              "461   0.592663  \n",
              "633   0.925585  \n",
              "..         ...  \n",
              "504   0.840081  \n",
              "2     0.694430  \n",
              "326   0.908130  \n",
              "13    0.845186  \n",
              "577   0.896285  \n",
              "\n",
              "[646 rows x 8 columns]"
            ],
            "text/html": [
              "\n",
              "  <div id=\"df-ea8599e5-fc67-4551-afb1-7bd2979a64bf\">\n",
              "    <div class=\"colab-df-container\">\n",
              "      <div>\n",
              "<style scoped>\n",
              "    .dataframe tbody tr th:only-of-type {\n",
              "        vertical-align: middle;\n",
              "    }\n",
              "\n",
              "    .dataframe tbody tr th {\n",
              "        vertical-align: top;\n",
              "    }\n",
              "\n",
              "    .dataframe thead th {\n",
              "        text-align: right;\n",
              "    }\n",
              "</style>\n",
              "<table border=\"1\" class=\"dataframe\">\n",
              "  <thead>\n",
              "    <tr style=\"text-align: right;\">\n",
              "      <th></th>\n",
              "      <th>uid</th>\n",
              "      <th>actual_deal_value (A)</th>\n",
              "      <th>predicted_deal_value (P)</th>\n",
              "      <th>abs_error (|A-P|)</th>\n",
              "      <th>rel_error (|A-P|/A)</th>\n",
              "      <th>true_label</th>\n",
              "      <th>pred_label</th>\n",
              "      <th>pred_prob</th>\n",
              "    </tr>\n",
              "  </thead>\n",
              "  <tbody>\n",
              "    <tr>\n",
              "      <th>270</th>\n",
              "      <td>9989775270</td>\n",
              "      <td>592764.00</td>\n",
              "      <td>5.936541e+05</td>\n",
              "      <td>8.901458e+02</td>\n",
              "      <td>1.500000e-03</td>\n",
              "      <td>Converts</td>\n",
              "      <td>Converts</td>\n",
              "      <td>0.830611</td>\n",
              "    </tr>\n",
              "    <tr>\n",
              "      <th>276</th>\n",
              "      <td>8511937352</td>\n",
              "      <td>731887.06</td>\n",
              "      <td>7.419471e+05</td>\n",
              "      <td>1.006009e+04</td>\n",
              "      <td>1.370000e-02</td>\n",
              "      <td>Converts</td>\n",
              "      <td>Converts</td>\n",
              "      <td>0.564728</td>\n",
              "    </tr>\n",
              "    <tr>\n",
              "      <th>195</th>\n",
              "      <td>9908106545</td>\n",
              "      <td>1070512.00</td>\n",
              "      <td>1.091477e+06</td>\n",
              "      <td>2.096472e+04</td>\n",
              "      <td>1.960000e-02</td>\n",
              "      <td>Converts</td>\n",
              "      <td>Converts</td>\n",
              "      <td>0.952730</td>\n",
              "    </tr>\n",
              "    <tr>\n",
              "      <th>461</th>\n",
              "      <td>9545545838</td>\n",
              "      <td>428001.20</td>\n",
              "      <td>4.114407e+05</td>\n",
              "      <td>1.656048e+04</td>\n",
              "      <td>3.870000e-02</td>\n",
              "      <td>Converts</td>\n",
              "      <td>Converts</td>\n",
              "      <td>0.592663</td>\n",
              "    </tr>\n",
              "    <tr>\n",
              "      <th>633</th>\n",
              "      <td>7702682753</td>\n",
              "      <td>707107.20</td>\n",
              "      <td>6.783561e+05</td>\n",
              "      <td>2.875109e+04</td>\n",
              "      <td>4.070000e-02</td>\n",
              "      <td>Converts</td>\n",
              "      <td>Converts</td>\n",
              "      <td>0.925585</td>\n",
              "    </tr>\n",
              "    <tr>\n",
              "      <th>...</th>\n",
              "      <td>...</td>\n",
              "      <td>...</td>\n",
              "      <td>...</td>\n",
              "      <td>...</td>\n",
              "      <td>...</td>\n",
              "      <td>...</td>\n",
              "      <td>...</td>\n",
              "      <td>...</td>\n",
              "    </tr>\n",
              "    <tr>\n",
              "      <th>504</th>\n",
              "      <td>9848276255</td>\n",
              "      <td>0.00</td>\n",
              "      <td>8.897897e+05</td>\n",
              "      <td>8.897897e+05</td>\n",
              "      <td>8.897887e+05</td>\n",
              "      <td>Doesn't Convert</td>\n",
              "      <td>Converts</td>\n",
              "      <td>0.840081</td>\n",
              "    </tr>\n",
              "    <tr>\n",
              "      <th>2</th>\n",
              "      <td>9972411944</td>\n",
              "      <td>0.00</td>\n",
              "      <td>8.974550e+05</td>\n",
              "      <td>8.974550e+05</td>\n",
              "      <td>8.974540e+05</td>\n",
              "      <td>Doesn't Convert</td>\n",
              "      <td>Converts</td>\n",
              "      <td>0.694430</td>\n",
              "    </tr>\n",
              "    <tr>\n",
              "      <th>326</th>\n",
              "      <td>7305167192</td>\n",
              "      <td>0.00</td>\n",
              "      <td>9.547711e+05</td>\n",
              "      <td>9.547711e+05</td>\n",
              "      <td>9.547701e+05</td>\n",
              "      <td>Doesn't Convert</td>\n",
              "      <td>Converts</td>\n",
              "      <td>0.908130</td>\n",
              "    </tr>\n",
              "    <tr>\n",
              "      <th>13</th>\n",
              "      <td>9994386159</td>\n",
              "      <td>0.00</td>\n",
              "      <td>9.650997e+05</td>\n",
              "      <td>9.650997e+05</td>\n",
              "      <td>9.650987e+05</td>\n",
              "      <td>Doesn't Convert</td>\n",
              "      <td>Converts</td>\n",
              "      <td>0.845186</td>\n",
              "    </tr>\n",
              "    <tr>\n",
              "      <th>577</th>\n",
              "      <td>9164040020</td>\n",
              "      <td>0.00</td>\n",
              "      <td>1.084494e+06</td>\n",
              "      <td>1.084494e+06</td>\n",
              "      <td>1.084493e+06</td>\n",
              "      <td>Doesn't Convert</td>\n",
              "      <td>Converts</td>\n",
              "      <td>0.896285</td>\n",
              "    </tr>\n",
              "  </tbody>\n",
              "</table>\n",
              "<p>646 rows × 8 columns</p>\n",
              "</div>\n",
              "      <button class=\"colab-df-convert\" onclick=\"convertToInteractive('df-ea8599e5-fc67-4551-afb1-7bd2979a64bf')\"\n",
              "              title=\"Convert this dataframe to an interactive table.\"\n",
              "              style=\"display:none;\">\n",
              "        \n",
              "  <svg xmlns=\"http://www.w3.org/2000/svg\" height=\"24px\"viewBox=\"0 0 24 24\"\n",
              "       width=\"24px\">\n",
              "    <path d=\"M0 0h24v24H0V0z\" fill=\"none\"/>\n",
              "    <path d=\"M18.56 5.44l.94 2.06.94-2.06 2.06-.94-2.06-.94-.94-2.06-.94 2.06-2.06.94zm-11 1L8.5 8.5l.94-2.06 2.06-.94-2.06-.94L8.5 2.5l-.94 2.06-2.06.94zm10 10l.94 2.06.94-2.06 2.06-.94-2.06-.94-.94-2.06-.94 2.06-2.06.94z\"/><path d=\"M17.41 7.96l-1.37-1.37c-.4-.4-.92-.59-1.43-.59-.52 0-1.04.2-1.43.59L10.3 9.45l-7.72 7.72c-.78.78-.78 2.05 0 2.83L4 21.41c.39.39.9.59 1.41.59.51 0 1.02-.2 1.41-.59l7.78-7.78 2.81-2.81c.8-.78.8-2.07 0-2.86zM5.41 20L4 18.59l7.72-7.72 1.47 1.35L5.41 20z\"/>\n",
              "  </svg>\n",
              "      </button>\n",
              "      \n",
              "  <style>\n",
              "    .colab-df-container {\n",
              "      display:flex;\n",
              "      flex-wrap:wrap;\n",
              "      gap: 12px;\n",
              "    }\n",
              "\n",
              "    .colab-df-convert {\n",
              "      background-color: #E8F0FE;\n",
              "      border: none;\n",
              "      border-radius: 50%;\n",
              "      cursor: pointer;\n",
              "      display: none;\n",
              "      fill: #1967D2;\n",
              "      height: 32px;\n",
              "      padding: 0 0 0 0;\n",
              "      width: 32px;\n",
              "    }\n",
              "\n",
              "    .colab-df-convert:hover {\n",
              "      background-color: #E2EBFA;\n",
              "      box-shadow: 0px 1px 2px rgba(60, 64, 67, 0.3), 0px 1px 3px 1px rgba(60, 64, 67, 0.15);\n",
              "      fill: #174EA6;\n",
              "    }\n",
              "\n",
              "    [theme=dark] .colab-df-convert {\n",
              "      background-color: #3B4455;\n",
              "      fill: #D2E3FC;\n",
              "    }\n",
              "\n",
              "    [theme=dark] .colab-df-convert:hover {\n",
              "      background-color: #434B5C;\n",
              "      box-shadow: 0px 1px 3px 1px rgba(0, 0, 0, 0.15);\n",
              "      filter: drop-shadow(0px 1px 2px rgba(0, 0, 0, 0.3));\n",
              "      fill: #FFFFFF;\n",
              "    }\n",
              "  </style>\n",
              "\n",
              "      <script>\n",
              "        const buttonEl =\n",
              "          document.querySelector('#df-ea8599e5-fc67-4551-afb1-7bd2979a64bf button.colab-df-convert');\n",
              "        buttonEl.style.display =\n",
              "          google.colab.kernel.accessAllowed ? 'block' : 'none';\n",
              "\n",
              "        async function convertToInteractive(key) {\n",
              "          const element = document.querySelector('#df-ea8599e5-fc67-4551-afb1-7bd2979a64bf');\n",
              "          const dataTable =\n",
              "            await google.colab.kernel.invokeFunction('convertToInteractive',\n",
              "                                                     [key], {});\n",
              "          if (!dataTable) return;\n",
              "\n",
              "          const docLinkHtml = 'Like what you see? Visit the ' +\n",
              "            '<a target=\"_blank\" href=https://colab.research.google.com/notebooks/data_table.ipynb>data table notebook</a>'\n",
              "            + ' to learn more about interactive tables.';\n",
              "          element.innerHTML = '';\n",
              "          dataTable['output_type'] = 'display_data';\n",
              "          await google.colab.output.renderOutput(dataTable, element);\n",
              "          const docLink = document.createElement('div');\n",
              "          docLink.innerHTML = docLinkHtml;\n",
              "          element.appendChild(docLink);\n",
              "        }\n",
              "      </script>\n",
              "    </div>\n",
              "  </div>\n",
              "  "
            ]
          },
          "metadata": {},
          "execution_count": 192
        }
      ]
    },
    {
      "cell_type": "code",
      "source": [
        "final_tr_df.to_csv(os.path.join(data_home, 'train_compare_results_v2.0.tsv'), index=False, sep='\\t')\n",
        "final_te_df.to_csv(os.path.join(data_home, 'test_compare_results_v2.0.tsv'), index=False, sep='\\t')"
      ],
      "metadata": {
        "id": "MhJa6PqCv1-w"
      },
      "execution_count": null,
      "outputs": []
    },
    {
      "cell_type": "code",
      "source": [
        "print('Train accuracy:', round(train_acc*100, 2), '%')\n",
        "print('Test accuracy:', round(test_acc*100, 2), '%')"
      ],
      "metadata": {
        "colab": {
          "base_uri": "https://localhost:8080/"
        },
        "id": "Ot-eL_mXkE5A",
        "outputId": "f2104931-ca9c-4e70-a563-e9fd777d842b"
      },
      "execution_count": null,
      "outputs": [
        {
          "output_type": "stream",
          "name": "stdout",
          "text": [
            "Train accuracy: 89.61 %\n",
            "Test accuracy: 88.7 %\n"
          ]
        }
      ]
    },
    {
      "cell_type": "code",
      "source": [
        "plot_confusion_matrix(model, X_train, y_train.apply(str))"
      ],
      "metadata": {
        "colab": {
          "base_uri": "https://localhost:8080/",
          "height": 335
        },
        "id": "Mj_RtJvViKk1",
        "outputId": "8b74cf58-1004-4cce-a122-b61b9d17d207"
      },
      "execution_count": null,
      "outputs": [
        {
          "output_type": "stream",
          "name": "stderr",
          "text": [
            "Function plot_confusion_matrix is deprecated; Function `plot_confusion_matrix` is deprecated in 1.0 and will be removed in 1.2. Use one of the class methods: ConfusionMatrixDisplay.from_predictions or ConfusionMatrixDisplay.from_estimator.\n"
          ]
        },
        {
          "output_type": "execute_result",
          "data": {
            "text/plain": [
              "<sklearn.metrics._plot.confusion_matrix.ConfusionMatrixDisplay at 0x7f1b5fbbf2d0>"
            ]
          },
          "metadata": {},
          "execution_count": 139
        },
        {
          "output_type": "display_data",
          "data": {
            "text/plain": [
              "<Figure size 432x288 with 2 Axes>"
            ],
            "image/png": "[encoded data removed]"
          },
          "metadata": {
            "needs_background": "light"
          }
        }
      ]
    },
    {
      "cell_type": "code",
      "source": [
        "plot_confusion_matrix(model, X_test, y_test.apply(str))  "
      ],
      "metadata": {
        "colab": {
          "base_uri": "https://localhost:8080/",
          "height": 335
        },
        "id": "y45TDutxj_U0",
        "outputId": "fb441be4-eb43-4137-b879-a1e48d9928ef"
      },
      "execution_count": null,
      "outputs": [
        {
          "output_type": "stream",
          "name": "stderr",
          "text": [
            "Function plot_confusion_matrix is deprecated; Function `plot_confusion_matrix` is deprecated in 1.0 and will be removed in 1.2. Use one of the class methods: ConfusionMatrixDisplay.from_predictions or ConfusionMatrixDisplay.from_estimator.\n"
          ]
        },
        {
          "output_type": "execute_result",
          "data": {
            "text/plain": [
              "<sklearn.metrics._plot.confusion_matrix.ConfusionMatrixDisplay at 0x7f1b5fcb3a50>"
            ]
          },
          "metadata": {},
          "execution_count": 140
        },
        {
          "output_type": "display_data",
          "data": {
            "text/plain": [
              "<Figure size 432x288 with 2 Axes>"
            ],
            "image/png": "[encoded data removed]"
          },
          "metadata": {
            "needs_background": "light"
          }
        }
      ]
    },
    {
      "cell_type": "code",
      "source": [
        "plot_roc_curve(model, X_train, y_train.apply(str)) "
      ],
      "metadata": {
        "colab": {
          "base_uri": "https://localhost:8080/",
          "height": 335
        },
        "id": "Xh8F5X2Hjmni",
        "outputId": "1b19469d-e1f8-4229-e980-249f5547587c"
      },
      "execution_count": null,
      "outputs": [
        {
          "output_type": "stream",
          "name": "stderr",
          "text": [
            "Function plot_roc_curve is deprecated; Function :func:`plot_roc_curve` is deprecated in 1.0 and will be removed in 1.2. Use one of the class methods: :meth:`sklearn.metric.RocCurveDisplay.from_predictions` or :meth:`sklearn.metric.RocCurveDisplay.from_estimator`.\n"
          ]
        },
        {
          "output_type": "execute_result",
          "data": {
            "text/plain": [
              "<sklearn.metrics._plot.roc_curve.RocCurveDisplay at 0x7f1b5fb405d0>"
            ]
          },
          "metadata": {},
          "execution_count": 137
        },
        {
          "output_type": "display_data",
          "data": {
            "text/plain": [
              "<Figure size 432x288 with 1 Axes>"
            ],
            "image/png": "[encoded data removed]"
          },
          "metadata": {
            "needs_background": "light"
          }
        }
      ]
    },
    {
      "cell_type": "code",
      "source": [
        "plot_roc_curve(model, X_test, y_test.apply(str)) "
      ],
      "metadata": {
        "colab": {
          "base_uri": "https://localhost:8080/",
          "height": 335
        },
        "id": "uZLXLHEkj3TI",
        "outputId": "3417838e-662d-4e66-dc7b-c445c3949686"
      },
      "execution_count": null,
      "outputs": [
        {
          "output_type": "stream",
          "name": "stderr",
          "text": [
            "Function plot_roc_curve is deprecated; Function :func:`plot_roc_curve` is deprecated in 1.0 and will be removed in 1.2. Use one of the class methods: :meth:`sklearn.metric.RocCurveDisplay.from_predictions` or :meth:`sklearn.metric.RocCurveDisplay.from_estimator`.\n"
          ]
        },
        {
          "output_type": "execute_result",
          "data": {
            "text/plain": [
              "<sklearn.metrics._plot.roc_curve.RocCurveDisplay at 0x7f1b5fbc20d0>"
            ]
          },
          "metadata": {},
          "execution_count": 138
        },
        {
          "output_type": "display_data",
          "data": {
            "text/plain": [
              "<Figure size 432x288 with 1 Axes>"
            ],
            "image/png": "[encoded data removed]"
          },
          "metadata": {
            "needs_background": "light"
          }
        }
      ]
    },
    {
      "cell_type": "markdown",
      "source": [
        "## 5.5. Store results to Google Sheets"
      ],
      "metadata": {
        "id": "cVSdy8KqHElH"
      }
    },
    {
      "cell_type": "code",
      "source": [
        "# train_compare_df.to_csv(os.path.join(data_home, 'train_compare_results.tsv'), index=False, sep='\\t')\n",
        "# test_compare_df.to_csv(os.path.join(data_home, 'test_compare_results.tsv'), index=False, sep='\\t')"
      ],
      "metadata": {
        "id": "km2NLYlLpx1e"
      },
      "execution_count": null,
      "outputs": []
    },
    {
      "cell_type": "markdown",
      "source": [
        "# Appendix"
      ],
      "metadata": {
        "id": "WXDAnUAJatKy"
      }
    },
    {
      "cell_type": "code",
      "execution_count": null,
      "metadata": {
        "id": "JgjL1e0ua-kN"
      },
      "outputs": [],
      "source": [
        "# @title\n",
        "gcp_project_id = 'factors-staging'\n",
        "bucket_name = 'factors-staging-v2'\n",
        "proj_id = '399'\n",
        "mode = ['m']\n",
        "dates = ['20220101', '20220201']\n",
        "events_file_name = 'events.txt'\n",
        "events_file_src_paths = [f'gs://{bucket_name}/projects/{proj_id}/events/m/{date}/{events_file_name}' for date in dates]\n",
        "events_file_tmp_paths = [f'/tmp/{date}.txt' for date in dates]"
      ]
    },
    {
      "cell_type": "markdown",
      "source": [
        "## Copy events file to local and count rows"
      ],
      "metadata": {
        "id": "4A7NInSZ_1tC"
      }
    },
    {
      "cell_type": "code",
      "execution_count": null,
      "metadata": {
        "id": "lPdTf-6O73ll"
      },
      "outputs": [],
      "source": [
        "#@title\n",
        "!gcloud config set project {gcp_project_id}\n",
        "\n",
        "# !gsutil cp {events_file_src_paths[0]} {events_file_tmp_paths[0]}\n",
        "# !ls {events_file_tmp_paths[0]}\n",
        "# !wc -l {events_file_tmp_paths[0]}\n",
        "\n",
        "# !gsutil cp {events_file_src_paths[1]} {events_file_tmp_paths[1]}\n",
        "# !ls {events_file_tmp_paths[1]}\n",
        "# !wc -l {events_file_tmp_paths[1]}"
      ]
    },
    {
      "cell_type": "markdown",
      "metadata": {
        "id": "m8u8rhp0hass"
      },
      "source": [
        "## Get sample data\n",
        "- Randomly sample some users from a month's data"
      ]
    },
    {
      "cell_type": "markdown",
      "source": [
        "### Imports"
      ],
      "metadata": {
        "id": "DlAr8Nt2E60R"
      }
    },
    {
      "cell_type": "code",
      "execution_count": null,
      "metadata": {
        "id": "G-nYDxQvMoGu"
      },
      "outputs": [],
      "source": [
        "#@title\n",
        "from collections import defaultdict\n",
        "import json\n",
        "import numpy as np\n",
        "import os\n",
        "import pandas as pd\n",
        "from pprint import pprint\n",
        "import shutil\n",
        "from tqdm.notebook import tqdm"
      ]
    },
    {
      "cell_type": "markdown",
      "source": [
        "### Function defs"
      ],
      "metadata": {
        "id": "RJnOh4fjE_Lc"
      }
    },
    {
      "cell_type": "code",
      "execution_count": null,
      "metadata": {
        "id": "HM5H22lpjnRa"
      },
      "outputs": [],
      "source": [
        "#@title\n",
        "HS_DSC_EN = '$hubspot_deal_state_changed' \n",
        "FS_EN = '$form_submitted'\n",
        "DEFAULT_SAMPLE_FOLDER_ROOT = '/content/drive/MyDrive/cloud_storage/sample_data'\n",
        "DEFAULT_BASE_EN = FS_EN\n",
        "DEFAULT_TARGET_EN = HS_DSC_EN\n",
        "\n",
        "\n",
        "def parse_event(line):\n",
        "    event = json.loads(line)\n",
        "    return event\n",
        "\n",
        "\n",
        "def flatten_properties(event):\n",
        "    epr = {f'epr:{k}': v for k, v in event['epr'].items()}\n",
        "    upr = {f'upr:{k}': v for k, v in event['upr'].items()}\n",
        "    event.pop('epr', None)\n",
        "    event.pop('upr', None)\n",
        "    event.update(epr)\n",
        "    event.update(upr)\n",
        "\n",
        "\n",
        "def tmp_read_and_sample_data(date='20220101',\n",
        "                             users_sample_ratio=0.001,\n",
        "                             n_rows=None,\n",
        "                             base_en=DEFAULT_BASE_EN,\n",
        "                             target_en=DEFAULT_TARGET_EN):\n",
        "    eligible_events = {base_en, target_en}\n",
        "    user_events_count_dist = defaultdict(int)\n",
        "    user_events = []\n",
        "    prev_user_id = None\n",
        "    f_name = f'/tmp/{date}.txt'\n",
        "    i = 0\n",
        "    sampled_data = []\n",
        "    print('Parsing and sampling (if ratio < 1) data...')\n",
        "    with open(f_name) as f:\n",
        "        for line in tqdm(f, total = n_rows):\n",
        "            event = parse_event(line)\n",
        "            user_id = event['uid']\n",
        "            if prev_user_id is None:\n",
        "                prev_user_id = user_id\n",
        "            if user_id == prev_user_id:\n",
        "                user_events.append(event)\n",
        "            else:\n",
        "                if (users_sample_ratio >= 1) or (np.random.rand() < users_sample_ratio):\n",
        "                    uniq_events = {e['en'] for e in user_events}\n",
        "                    if len(uniq_events.intersection(eligible_events)) > 0: # If at least one event is eligible\n",
        "                        sampled_data.append(user_events)\n",
        "                user_events = [event]\n",
        "            prev_user_id = user_id\n",
        "            i += 1\n",
        "        uniq_events = {e['en'] for e in user_events}\n",
        "        if len(uniq_events.intersection(eligible_events)) > 0: # If at least one event is eligible\n",
        "            sampled_data.append(user_events)\n",
        "    print('Done parsing.')\n",
        "    print('Flattening properties...')\n",
        "    for i in tqdm(range(len(sampled_data))):\n",
        "        for j in range(len(sampled_data[i])):\n",
        "            flatten_properties(sampled_data[i][j])\n",
        "    return sampled_data\n",
        "\n",
        "\n",
        "def write_sampled_data(sampled_data,\n",
        "                       proj_id,\n",
        "                       date,\n",
        "                       ratio=1,\n",
        "                       sample_folder_root=DEFAULT_SAMPLE_FOLDER_ROOT,\n",
        "                       base_en=DEFAULT_BASE_EN,\n",
        "                       target_en=DEFAULT_TARGET_EN):\n",
        "    sample_folder = f'{sample_folder_root}/{proj_id}/{date}'\n",
        "    sample_path = f'{sample_folder}/events_b={base_en}_t={target_en}.{ratio}.sample.txt'\n",
        "    try:\n",
        "        shutil.rmtree(sample_path)\n",
        "    except:\n",
        "        pass\n",
        "    try:\n",
        "        f = open(sample_path, 'a')\n",
        "    except:\n",
        "        os.makedirs(sample_folder, exist_ok=True)\n",
        "        f = open(sample_path, 'a')\n",
        "    for events in tqdm(sampled_data):\n",
        "        for e in events:\n",
        "            f.write(json.dumps(e) + '\\n')\n",
        "    f.close()\n",
        "\n",
        "\n",
        "def read_sample_data(proj_id='399',\n",
        "                     date='20220101',\n",
        "                     n_rows=None,\n",
        "                     ratio=1,\n",
        "                     sample_folder_root=DEFAULT_SAMPLE_FOLDER_ROOT,\n",
        "                     base_en=DEFAULT_BASE_EN,\n",
        "                     target_en=DEFAULT_TARGET_EN):\n",
        "    user_events = []\n",
        "    prev_user_id = None\n",
        "    f_name = f'{sample_folder_root}/{proj_id}/{date}/events_b={base_en}_t={target_en}.{ratio}.sample.txt'\n",
        "    i = 0\n",
        "    sample_data = []\n",
        "    with open(f_name) as f:\n",
        "        for line in tqdm(f, total = n_rows):\n",
        "            event = parse_event(line)\n",
        "            user_id = event['uid']\n",
        "            if prev_user_id is None:\n",
        "                prev_user_id = user_id\n",
        "            if user_id == prev_user_id:\n",
        "                user_events.append(event)\n",
        "            else:\n",
        "                sample_data.append(user_events)\n",
        "                user_events = [event]\n",
        "            prev_user_id = user_id\n",
        "            i += 1\n",
        "        sample_data.append(user_events)\n",
        "    return sample_data\n",
        "\n",
        "\n",
        "def get_sample_data(proj_id='399',\n",
        "                    date='20220101',\n",
        "                    n_rows=None,\n",
        "                    n_sample_rows=None,\n",
        "                    users_sample_ratio=0.001,\n",
        "                    sample_folder_root=DEFAULT_SAMPLE_FOLDER_ROOT,\n",
        "                    base_en=DEFAULT_BASE_EN,\n",
        "                    target_en=DEFAULT_TARGET_EN):\n",
        "    try:\n",
        "        print('Reading from cache...', end='')\n",
        "        data = read_sample_data(proj_id, date, n_sample_rows, users_sample_ratio, sample_folder_root, base_en=base_en, target_en=target_en)\n",
        "        print(' Done.')\n",
        "    except FileNotFoundError:\n",
        "        print('\\nCache not found! Resampling...', end='')\n",
        "        data = tmp_read_and_sample_data(date, users_sample_ratio, n_rows, base_en=base_en, target_en=target_en)\n",
        "        print(' Done.')\n",
        "        print('Writing to cache...', end='')\n",
        "        write_sampled_data(data, proj_id, date, users_sample_ratio, sample_folder_root, base_en=base_en, target_en=target_en)\n",
        "        print(' Done.')\n",
        "    return data"
      ]
    },
    {
      "cell_type": "markdown",
      "source": [
        "### Count stats table filled in retrospect"
      ],
      "metadata": {
        "id": "bp2OSiaxFEW9"
      }
    },
    {
      "cell_type": "code",
      "source": [
        "#@title\n",
        "proj_date_sample_nrows_map = {'399': {'20220626': {1: 35547,\n",
        "                                                   0.1: None,\n",
        "                                                   0.01: None,\n",
        "                                                   0.001: None\n",
        "                                                   },\n",
        "                                      '20220101': {1: 2021380,\n",
        "                                                   0.1: None,\n",
        "                                                   0.01: None,\n",
        "                                                   0.001: None\n",
        "                                                   },\n",
        "                                      '20220201': {1: 2605936,\n",
        "                                                   0.1: None,\n",
        "                                                   0.01: None,\n",
        "                                                   0.001: None\n",
        "                                                   }\n",
        "                                      }\n",
        "                              }"
      ],
      "metadata": {
        "id": "eBKP6yFmDGr3"
      },
      "execution_count": null,
      "outputs": []
    },
    {
      "cell_type": "markdown",
      "source": [
        "### Sample users and read into a dataframe"
      ],
      "metadata": {
        "id": "4pHAxJ43FgCb"
      }
    },
    {
      "cell_type": "code",
      "execution_count": null,
      "metadata": {
        "id": "UAEOBV6WwfL-"
      },
      "outputs": [],
      "source": [
        "#@title\n",
        "sample_ratio = 1\n",
        "dfs = {}\n",
        "for date in dates:\n",
        "    n_rows, n_sample_rows = proj_date_sample_nrows_map[proj_id][date][1], proj_date_sample_nrows_map[proj_id][date][sample_ratio]\n",
        "\n",
        "    data = get_sample_data(proj_id, date, n_rows, n_sample_rows, sample_ratio)\n",
        "    temp = []\n",
        "    for events in data:\n",
        "        temp.extend(events)\n",
        "    del data\n",
        "    print('Preparing dataframe...')\n",
        "    df = pd.DataFrame(temp)\n",
        "    dfs[date] = df\n",
        "    del temp\n",
        "    print(df.shape[0], 'rows,', df['uid'].nunique(), 'unique users.')\n",
        "uids0 = set(dfs[dates[0]].uid.unique())\n",
        "uids1 = set(dfs[dates[1]].uid.unique())\n",
        "print(len(uids0), len(uids1), len(uids0.intersection(uids1)))\n",
        "df = pd.concat([dfs[date] for date in dates]).sort_values(['uid', 'et']).reset_index(drop=True)\n",
        "del dfs"
      ]
    },
    {
      "cell_type": "code",
      "source": [
        "#@title\n",
        "def parse_num(x):\n",
        "    if x is None or x is np.nan or x is True or x is False:\n",
        "        return None\n",
        "    try:\n",
        "        num = float(x)\n",
        "        return num\n",
        "    except Exception:\n",
        "        return None"
      ],
      "metadata": {
        "id": "qY-LY-RHb7kP"
      },
      "execution_count": null,
      "outputs": []
    },
    {
      "cell_type": "code",
      "source": [
        "#@title\n",
        "def find_fs_and_dv_users(e_list):\n",
        "    fs_flag = False\n",
        "    dsc_flag = False\n",
        "    dv_status = None\n",
        "    first_nz_dv = None\n",
        "    first_dv = parse_num(list(e_list[value_upr])[0])\n",
        "    for en, dv in zip(e_list['en'], e_list[value_upr]):\n",
        "        dv = parse_num(dv)\n",
        "        if en == '$form_submitted':\n",
        "            if not dsc_flag:\n",
        "                fs_flag = True\n",
        "                if dv is not None and dv > 0:\n",
        "                    return True\n",
        "                return False\n",
        "            return False\n",
        "        if en == '$hubspot_deal_state_changed':\n",
        "            dsc_flag = True\n",
        "            if not fs_flag:\n",
        "                if first_nz_dv is not None:\n",
        "                    return True\n",
        "                return False\n",
        "            return False\n",
        "        if dv is not None and dv > 0:\n",
        "            if first_nz_dv is None:\n",
        "                first_nz_dv = dv\n",
        "\n",
        "tdf = df[['uid', 'en', value_upr]][df['en'].isin({'$form_submitted', '$hubspot_deal_state_changed'})].groupby('uid').apply(find_fs_and_dv_users)\n",
        "fs_with_nzdv_users = set(tdf[tdf].index)\n",
        "print('Users with non-zero deal value at time of form_submit:', len(fs_with_nzdv_users))"
      ],
      "metadata": {
        "id": "PzaPiP38Wcgi"
      },
      "execution_count": null,
      "outputs": []
    },
    {
      "cell_type": "code",
      "source": [
        "#@title\n",
        "from collections import Counter\n",
        "\n",
        "def fetch_number_from_list(value_list):\n",
        "    zero_flag = False\n",
        "    nonzero_nums = []\n",
        "    null_flag = False\n",
        "    for x in value_list:\n",
        "        try:\n",
        "            n = float(x)\n",
        "            if n == 0:\n",
        "                zero_flag = True\n",
        "            elif n is np.nan:\n",
        "                raise Exception\n",
        "            else:\n",
        "                nonzero_nums.append(n)\n",
        "        except:\n",
        "            null_flag = True\n",
        "    if null_flag and not zero_flag and len(nonzero_nums) == 0:\n",
        "        return None\n",
        "    if zero_flag and len(nonzero_nums) == 0:\n",
        "        return 0\n",
        "    if len(nonzero_nums) > 0:\n",
        "        return nonzero_nums[0]\n",
        "            \n",
        "def analyse_deal_values(deal_value_list):\n",
        "    values = set(deal_value_list)\n",
        "    n = fetch_number_from_list(list(values))\n",
        "    if n is None:\n",
        "        return np.nan\n",
        "    return n\n",
        "\n",
        "assert analyse_deal_values([np.nan, np.nan, np.nan]) is np.nan, 'Error'\n",
        "assert analyse_deal_values([0, np.nan, np.nan]) == 0, 'Error' \n",
        "assert analyse_deal_values([0, 0, 0]) == 0, 'Error'\n",
        "assert analyse_deal_values([0, 10, np.nan]) == 10, 'Error'\n",
        "assert analyse_deal_values([np.nan, 10, np.nan]) == 10, 'Error'\n",
        "assert analyse_deal_values([0, 10, 0]) == 10, 'Error'\n",
        "assert analyse_deal_values([20, 10, np.nan]) in {10, 20}, 'Error'\n",
        "\n",
        "temp_df = df[['uid', value_upr]].groupby('uid').agg(analyse_deal_values)\n",
        "deal_value_available_users = set(temp_df[~temp_df[value_upr].isna()].index)"
      ],
      "metadata": {
        "id": "5QjkuzkFFLtV"
      },
      "execution_count": null,
      "outputs": []
    },
    {
      "cell_type": "code",
      "source": [
        "# df[df['en'] == '$hubspot_deal_state_changed']['upr:$hubspot_company_hs_total_deal_value'].replace('', 0).astype(float).fillna(0).value_counts()"
      ],
      "metadata": {
        "id": "W3g3ZvSm-WqG"
      },
      "execution_count": null,
      "outputs": []
    },
    {
      "cell_type": "code",
      "source": [
        "#@title\n",
        "value_col = 'upr:$hubspot_company_hs_total_deal_value'\n",
        "deal_value_freq_df = df[df['en'] == DEFAULT_TARGET_EN][['uid', value_col]].fillna(0).groupby('uid').agg(len)\n",
        "mult_deal_value_users = set(deal_value_freq_df[deal_value_freq_df[value_col] > 1].index)\n",
        "df[df['en'] == DEFAULT_TARGET_EN][df['uid'].isin(mult_deal_value_users)][['uid', 'et', value_col]].groupby('uid').agg(list)"
      ],
      "metadata": {
        "id": "TU_t9fJFP83e"
      },
      "execution_count": null,
      "outputs": []
    },
    {
      "cell_type": "code",
      "execution_count": null,
      "metadata": {
        "id": "HKgWb9V7e37_"
      },
      "outputs": [],
      "source": [
        "df.shape"
      ]
    },
    {
      "cell_type": "markdown",
      "metadata": {
        "id": "97CULeNSWK4D"
      },
      "source": [
        "### Events distribution"
      ]
    },
    {
      "cell_type": "code",
      "execution_count": null,
      "metadata": {
        "id": "5ZPeBwhUqRpj"
      },
      "outputs": [],
      "source": [
        "e_freq_map = pd.DataFrame(df['en'].value_counts())\n"
      ]
    },
    {
      "cell_type": "code",
      "execution_count": null,
      "metadata": {
        "id": "O3BuY6eFXoaZ"
      },
      "outputs": [],
      "source": [
        "all_events = set(df['en'])\n",
        "all_users = set(df['uid'])"
      ]
    },
    {
      "cell_type": "code",
      "execution_count": null,
      "metadata": {
        "id": "p13yD99bXbaP"
      },
      "outputs": [],
      "source": [
        "#@title\n",
        "from collections import Counter\n",
        "uid_tf_map = df[['uid', 'en']].groupby('uid').apply(lambda x: Counter(x['en'])).to_dict()\n",
        "events_list = []\n",
        "for _, d in uid_tf_map.items():\n",
        "    events_list.extend(list(d))\n",
        "df_map = Counter(events_list)"
      ]
    },
    {
      "cell_type": "code",
      "execution_count": null,
      "metadata": {
        "id": "znLc8v9iazEU"
      },
      "outputs": [],
      "source": [
        "n = len(all_users)\n",
        "# uid_tfidf_map = {u: {e: tf*(np.log(n/df_map[e]) + 1) for e, tf in e_tf_map.items()} for u, e_tf_map in uid_tf_map.items()}"
      ]
    },
    {
      "cell_type": "code",
      "execution_count": null,
      "metadata": {
        "id": "MoNxkVZWMeZk"
      },
      "outputs": [],
      "source": [
        "df_thres = 10\n",
        "df_df = pd.DataFrame({'df': df_map})\n",
        "df_df[df_df['df'] <= df_thres]"
      ]
    },
    {
      "cell_type": "code",
      "execution_count": null,
      "metadata": {
        "id": "ZFSGwe-_ecNK"
      },
      "outputs": [],
      "source": [
        "rare_events = set(df_df[df_df['df'] <= df_thres].index)\n",
        "special_rare_events = {e for e in rare_events if e.startswith('$')}"
      ]
    },
    {
      "cell_type": "code",
      "source": [
        "len(rare_events), len(special_rare_events)"
      ],
      "metadata": {
        "id": "m-VkNbVrB966"
      },
      "execution_count": null,
      "outputs": []
    },
    {
      "cell_type": "code",
      "execution_count": null,
      "metadata": {
        "id": "rJuvYe3tek8Y"
      },
      "outputs": [],
      "source": [
        "df.shape[0], df[df['en'].isin(rare_events.difference(special_rare_events))].shape[0]"
      ]
    },
    {
      "cell_type": "code",
      "execution_count": null,
      "metadata": {
        "id": "uaBsLfzVe6zN"
      },
      "outputs": [],
      "source": [
        "df = df[~df['en'].isin(rare_events.difference(special_rare_events))]"
      ]
    },
    {
      "cell_type": "code",
      "execution_count": null,
      "metadata": {
        "id": "e0IB3IXsfTS1"
      },
      "outputs": [],
      "source": [
        "# del uid_tfidf_map, uid_tf_map\n",
        "del events_list"
      ]
    },
    {
      "cell_type": "code",
      "source": [
        "df['en'].nunique()"
      ],
      "metadata": {
        "id": "fqjGpIvNlGk6"
      },
      "execution_count": null,
      "outputs": []
    },
    {
      "cell_type": "markdown",
      "metadata": {
        "id": "p1FfYj2CiJUz"
      },
      "source": [
        "## Aggregate to get user-level data"
      ]
    },
    {
      "cell_type": "markdown",
      "metadata": {
        "id": "G5h_ehCDkgyA"
      },
      "source": [
        "- Remove users that have no \"$session\" event\n",
        "- Set a target event that defines convert -- e.g., \"www.chargebee.com/pricing\"\n",
        "- Derive class from event stream -- True for \"session followed by target\", and False for \"session followed by no target\".\n",
        "- Add a \"valid_feature_flag\" so that features could be computed fairly. List of invalidations:\n",
        "  - Invalidate pre-session events\n",
        "  - Invalidate post-target events (including invalidating target event)"
      ]
    },
    {
      "cell_type": "code",
      "execution_count": null,
      "metadata": {
        "id": "XvxIAR0ZPGaf"
      },
      "outputs": [],
      "source": [
        "# target_event = 'www.chargebee.com/pricing'\n",
        "base_en = FS_EN\n",
        "target_en = HS_DSC_EN\n",
        "value_en = HS_DSC_EN\n",
        "value_upr_suffix = '$hubspot_company_hs_total_deal_value'\n",
        "value_upr = f'upr:{value_upr_suffix}'\n",
        "hubspot_cols = [x for x in list(sorted(df.columns)) if 'hubspot' in x]\n",
        "hs_cols_exc = [value_upr]"
      ]
    },
    {
      "cell_type": "code",
      "execution_count": null,
      "metadata": {
        "id": "UEv8Gq1KldwZ"
      },
      "outputs": [],
      "source": [
        "df = df.drop(set(df.columns).intersection(set(hubspot_cols).difference(set(hs_cols_exc))), axis=1)"
      ]
    },
    {
      "cell_type": "code",
      "execution_count": null,
      "metadata": {
        "id": "Cqgu6zWCM-mY"
      },
      "outputs": [],
      "source": [
        "df.shape"
      ]
    },
    {
      "cell_type": "code",
      "source": [
        "df[df['en'].apply(lambda x: 'deal_state' in x)]"
      ],
      "metadata": {
        "id": "jIAjGmwuDdIZ"
      },
      "execution_count": null,
      "outputs": []
    },
    {
      "cell_type": "code",
      "execution_count": null,
      "metadata": {
        "id": "u-DhNTQyxr4a",
        "cellView": "form"
      },
      "outputs": [],
      "source": [
        "#@title\n",
        "def get_presession_users(event_stream):\n",
        "    return get_prebase_users(event_stream, '$session')\n",
        "\n",
        "def get_nosession_users(event_stream):\n",
        "    return get_nobase_users(event_stream, '$session')\n",
        "\n",
        "def get_prebase_users(event_stream, base_en=DEFAULT_BASE_EN):\n",
        "    return event_stream[0][1] != base_en\n",
        "\n",
        "def get_nobase_users(event_stream, base_en=DEFAULT_BASE_EN):\n",
        "    return base_en not in {x[1] for x in event_stream}\n",
        "\n",
        "user_event_stream = df[['uid', 'et', 'en', 'epr:$is_first_session']].groupby(['uid']).apply(lambda x: list(sorted(zip(x['et'], x['en'], x['epr:$is_first_session']))))\n",
        "all_users = set(user_event_stream.index)\n",
        "presession_users = set(user_event_stream[user_event_stream.apply(get_presession_users)].index)\n",
        "nosession_users = set(user_event_stream[user_event_stream.apply(get_nosession_users)].index)\n",
        "nonfirstsession_users = set(user_event_stream[~user_event_stream.apply(lambda x: x[0][-1]).fillna(False)].index)\n",
        "ineligible_users = set.union(presession_users, nosession_users, nonfirstsession_users)\n",
        "\n",
        "prebase_users = set(user_event_stream[user_event_stream.apply(get_prebase_users)].index)\n",
        "nobase_users = set(user_event_stream[user_event_stream.apply(get_nobase_users)].index)"
      ]
    },
    {
      "cell_type": "code",
      "execution_count": null,
      "metadata": {
        "id": "eMZeRsOPke7M"
      },
      "outputs": [],
      "source": [
        "print('A: All users:', len(all_users))\n",
        "print('B: Users with no session at all:', len(nosession_users))\n",
        "print('C: Users with first event not $session:', len(presession_users))\n",
        "print('D: Users with first session having $is_first_session False:', len(nonfirstsession_users))\n",
        "print('E: Ineligible users (=B or C or D):', len(ineligible_users), f\"({round(len(ineligible_users)*100/len(all_users), 2)}% of total)\")\n",
        "\n",
        "print(f'F: Users with no base ({base_en}) at all:', len(nobase_users))\n",
        "print(f'G: Users with first event not base ({base_en}):', len(prebase_users))"
      ]
    },
    {
      "cell_type": "code",
      "source": [
        "nob_users_first_event_df = df[df['uid'].isin(nobase_users)].groupby('uid').agg(lambda x: list(x)[0]).reset_index()\n",
        "nob_users_first_event_df['en'] = DEFAULT_BASE_EN\n",
        "nob_users_first_event_df"
      ],
      "metadata": {
        "id": "fKC86nxXRcdK"
      },
      "execution_count": null,
      "outputs": []
    },
    {
      "cell_type": "code",
      "source": [
        "df = pd.concat([df, nob_users_first_event_df]).sort_values(['uid', 'et'])"
      ],
      "metadata": {
        "id": "ChWbWGSYR5pP"
      },
      "execution_count": null,
      "outputs": []
    },
    {
      "cell_type": "code",
      "source": [
        "user_event_stream = df[['uid', 'et', 'en', 'epr:$is_first_session']].groupby(['uid']).apply(lambda x: list(sorted(zip(x['et'], x['en'], x['epr:$is_first_session']))))\n",
        "all_users = set(user_event_stream.index)\n",
        "presession_users = set(user_event_stream[user_event_stream.apply(get_presession_users)].index)\n",
        "nosession_users = set(user_event_stream[user_event_stream.apply(get_nosession_users)].index)\n",
        "nonfirstsession_users = set(user_event_stream[~user_event_stream.apply(lambda x: x[0][-1]).fillna(False)].index)\n",
        "ineligible_users = set.union(presession_users, nosession_users, nonfirstsession_users)\n",
        "\n",
        "prebase_users = set(user_event_stream[user_event_stream.apply(get_prebase_users)].index)\n",
        "nobase_users = set(user_event_stream[user_event_stream.apply(get_nobase_users)].index)"
      ],
      "metadata": {
        "id": "ZH6MLjEjTJXE"
      },
      "execution_count": null,
      "outputs": []
    },
    {
      "cell_type": "code",
      "source": [
        "print('A: All users:', len(all_users))\n",
        "# print('B: Users with no session at all:', len(nosession_users))\n",
        "# print('C: Users with first event not $session:', len(presession_users))\n",
        "# print('D: Users with first session having $is_first_session False:', len(nonfirstsession_users))\n",
        "# print('E: Ineligible users (=B or C or D):', len(ineligible_users), f\"({round(len(ineligible_users)*100/len(all_users), 2)}% of total)\")\n",
        "\n",
        "print(f'F: Users with no base ({base_en}) at all:', len(nobase_users))\n",
        "print(f'G: Users with first event not base ({base_en}):', len(prebase_users))"
      ],
      "metadata": {
        "id": "Nq2M0L8mTZn9"
      },
      "execution_count": null,
      "outputs": []
    },
    {
      "cell_type": "code",
      "source": [
        "# df = df[~df['uid'].isin(nobase_users)]\n",
        "# user_event_stream = user_event_stream[~user_event_stream.index.isin(nobase_users)]"
      ],
      "metadata": {
        "id": "TML0VdtXs_kB"
      },
      "execution_count": null,
      "outputs": []
    },
    {
      "cell_type": "code",
      "source": [
        "df[df['en'].apply(lambda x: 'deal_state' in x)]"
      ],
      "metadata": {
        "id": "H1OZJfiDJBia"
      },
      "execution_count": null,
      "outputs": []
    },
    {
      "cell_type": "code",
      "source": [
        "df.shape"
      ],
      "metadata": {
        "id": "8FNJgnMVtV9f"
      },
      "execution_count": null,
      "outputs": []
    },
    {
      "cell_type": "code",
      "source": [
        "df.head(1)"
      ],
      "metadata": {
        "id": "_U4yxKRvVki3"
      },
      "execution_count": null,
      "outputs": []
    },
    {
      "cell_type": "code",
      "source": [
        "#@title\n",
        "df[value_upr].fillna(0).value_counts()"
      ],
      "metadata": {
        "id": "wF8TcvJjWD9M"
      },
      "execution_count": null,
      "outputs": []
    },
    {
      "cell_type": "code",
      "source": [
        "# to_drop = df.groupby('uid').apply(lambda x: (list(x['en'])[0] == DEFAULT_BASE_EN) and (list(x[value_upr].fillna(0))[0] > 0))\n",
        "# to_drop[to_drop]"
      ],
      "metadata": {
        "id": "IB7IXrtUVETu"
      },
      "execution_count": null,
      "outputs": []
    },
    {
      "cell_type": "code",
      "execution_count": null,
      "metadata": {
        "id": "ph4QjVjQhKQj"
      },
      "outputs": [],
      "source": [
        "from datetime import datetime, timedelta\n",
        "#                    dd   hh   mm   ss\n",
        "CONV_LIMIT_SECONDS = 14 * 24 * 60 * 60 # [14 days]\n",
        "CONV_LIMIT_SECONDS = float('Inf') # [Infinite]\n",
        "CONV_LIM_TOL_SECS  =       1 * 60 * 60 # [+1 hour]\n",
        "\n",
        "FEAT_LIMIT_SECONDS =       1 * 60 * 60 # [1 hour]\n",
        "FEAT_LIM_TOL_SECS  =           10 * 60 # [+10 mins]\n",
        "\n",
        "# converts within 1 hour -> feature measured until convert\n",
        "# converts after 1 hour -> feature measured until 1 hour\n",
        "# doesn't convert but interacts for less than 1 hour -> feature measured for until last interaction\n",
        "# doesn't convert but interacts for more than 1 hour -> feat measured until 1 hour\n",
        "\n",
        "# Base cohort condition. Choose base cohort based on this.\n",
        "# Num of users with no session. -- \n",
        "# is_first_session filter from properties\n",
        "\n",
        "def get_cffi(event_stream, base_event=DEFAULT_BASE_EN, target_event=DEFAULT_TARGET_EN):\n",
        "    # end-index as well as start-index.\n",
        "    ci = None\n",
        "    conv_flag = False\n",
        "    first_feat_index = 0\n",
        "    last_feat_index = 0\n",
        "    first_session_time = datetime.utcfromtimestamp(event_stream[0][0])\n",
        "    feat_limit_reached = False\n",
        "    conv_limit_reached = False\n",
        "    base_event_started = False\n",
        "    for i, (et, en, _) in enumerate(event_stream):\n",
        "        if (not base_event_started) and en == base_event:\n",
        "            base_event_started = True\n",
        "            first_feat_index = i\n",
        "            first_base_event_time = datetime.utcfromtimestamp(et)\n",
        "        if not base_event_started:\n",
        "            continue\n",
        "        if conv_limit_reached or conv_flag:\n",
        "            break\n",
        "        te = (datetime.utcfromtimestamp(et) - first_base_event_time).seconds\n",
        "        if te > FEAT_LIMIT_SECONDS + FEAT_LIM_TOL_SECS:\n",
        "            feat_limit_reached = True\n",
        "        if te > CONV_LIMIT_SECONDS + CONV_LIM_TOL_SECS:\n",
        "            conv_limit_reached = True\n",
        "        if not conv_limit_reached:\n",
        "            conv_flag = en == target_event\n",
        "        if (not conv_flag) and (not feat_limit_reached):\n",
        "            last_feat_index = i\n",
        "    return (conv_flag, first_feat_index, last_feat_index)\n",
        "\n",
        "df1 = pd.DataFrame({'ev_str': user_event_stream.apply(lambda x: [(i, et-x[0][0], en) for i, (et, en, _) in enumerate(x)]),\n",
        "                    'cffi': user_event_stream.apply(get_cffi)})\n",
        "unconverted_df = df1[df1['cffi'].apply(lambda x: not x[0])].head(10)\n",
        "converted_df = df1[df1['cffi'].apply(lambda x: x[0])].head(10)"
      ]
    },
    {
      "cell_type": "code",
      "source": [
        "value_users = set(user_event_stream[user_event_stream.apply(lambda x: value_en in [i[1] for i in x])].index)\n",
        "value_users"
      ],
      "metadata": {
        "id": "AS0NAvVjEvHb"
      },
      "execution_count": null,
      "outputs": []
    },
    {
      "cell_type": "code",
      "source": [
        "df['uid'].nunique()"
      ],
      "metadata": {
        "id": "3GTo44JfCSPj"
      },
      "execution_count": null,
      "outputs": []
    },
    {
      "cell_type": "code",
      "source": [
        "\n",
        "df[df['uid'].isin(value_users) & (df['en'] == value_en)][['uid', value_upr]]"
      ],
      "metadata": {
        "id": "VMgn7SU1KC_v"
      },
      "execution_count": null,
      "outputs": []
    },
    {
      "cell_type": "code",
      "execution_count": null,
      "metadata": {
        "id": "mFg-buIDvtxk"
      },
      "outputs": [],
      "source": [
        "from pprint import pprint\n",
        "import textwrap\n",
        "# pprint(list(zip(df1['ev_str'], df1['cffi']))[:10])\n",
        "print('Sample 10 non-converts:\\n')\n",
        "for uid, ev_str, cffi in zip(unconverted_df.index, unconverted_df['ev_str'], unconverted_df['cffi']):\n",
        "    print('User:', uid)\n",
        "    print(textwrap.fill(' -> '.join([f'{i}.{e}@{t}s' for i, t, e, in ev_str]), 180))\n",
        "    print(f'=> converted: {cffi[0]}, feat_index_range: [{cffi[1]}, {cffi[2]}]')\n",
        "    print()"
      ]
    },
    {
      "cell_type": "code",
      "execution_count": null,
      "metadata": {
        "id": "5aXZXolA1scr",
        "cellView": "form"
      },
      "outputs": [],
      "source": [
        "#@title\n",
        "print('Sample 10 converts:\\n')\n",
        "for uid, ev_str, cffi in zip(converted_df.index, converted_df['ev_str'], converted_df['cffi']):\n",
        "    print('User:', uid)\n",
        "    print(textwrap.fill(' -> '.join([f'{i}.{e}@{t}s' for i, t, e, in ev_str]), 180))\n",
        "    print(f'=> converted: {cffi[0]}, feat_index_range: [{cffi[1]}, {cffi[2]}]')\n",
        "    print()"
      ]
    },
    {
      "cell_type": "code",
      "execution_count": null,
      "metadata": {
        "id": "Ao3qK2PU11rm"
      },
      "outputs": [],
      "source": [
        "cffi_dict = user_event_stream.apply(get_cffi).to_dict()\n",
        "# df3 = pd.concat([user_event_stream, user_event_stream.apply(get_cffi)], axis=1).rename(columns = {0: 'stream', 1: 'cffi'})\n",
        "df['conv'] = df['uid'].apply(lambda x: cffi_dict[x][0])\n",
        "df['start_feat_index'] = df['uid'].apply(lambda x: cffi_dict[x][1])\n",
        "df['end_feat_index'] = df['uid'].apply(lambda x: cffi_dict[x][2])\n",
        "# df"
      ]
    },
    {
      "cell_type": "code",
      "source": [
        "df.shape"
      ],
      "metadata": {
        "id": "qRQXDJNA0m6G"
      },
      "execution_count": null,
      "outputs": []
    },
    {
      "cell_type": "code",
      "execution_count": null,
      "metadata": {
        "id": "MePS-ZKRgFJw"
      },
      "outputs": [],
      "source": [
        "# del df1"
      ]
    },
    {
      "cell_type": "code",
      "execution_count": null,
      "metadata": {
        "id": "bQH9vGfu86IT"
      },
      "outputs": [],
      "source": [
        "#@title\n",
        "from collections import Counter\n",
        "FEAT_KEY_SEQ = []\n",
        "COUNT_FEAT_KEYS = set()\n",
        "TIME_FEAT_KEYS = set()\n",
        "EPR_FEAT_KEYS = set()\n",
        "UPR_FEAT_KEYS = set()\n",
        "def find_features(x):\n",
        "    global COUNT_FEAT_KEYS, TIME_FEAT_KEYS, EPR_FEAT_KEYS, UPR_FEAT_KEYS\n",
        "    first_index = cffi_dict[x['uid'].iloc[0]][1]\n",
        "    last_index = cffi_dict[x['uid'].iloc[0]][2]\n",
        "    event_first_index_map = {}\n",
        "    # event_last_index_map = {}\n",
        "    for i in range(first_index, last_index+1):\n",
        "        en = x['en'].iloc[i]\n",
        "        if en in event_first_index_map:\n",
        "            # event_last_index_map[en] = i\n",
        "            continue\n",
        "        else:\n",
        "            event_first_index_map[en] = i\n",
        "            # event_first_index_map[en] = event_last_index_map[en] = i\n",
        "    feat_dict = {}\n",
        "    cols = list(x.columns)\n",
        "    epr_cols = [c for c in cols if c.startswith('epr:')]\n",
        "    upr_cols = [c for c in cols if c.startswith('upr:')]\n",
        "    count_feat_dict = {f'{k}_count': v for k, v in dict(Counter(x['en'].iloc[first_index:last_index+1])).items()}\n",
        "    # TODO: Reduce them with having top k and rest as \"Others\"\n",
        "\n",
        "    time_feat_dict = {'total_time_elapsed': x['et'].iloc[last_index] - x['et'].iloc[first_index]}\n",
        "\n",
        "    # first_event_feat_dict = {'fe:en': x['en'].iloc[first_index]}\n",
        "    # last_event_feat_dict = {'le:en': x['en'].iloc[last_index]}\n",
        "    epr_feat_dict = {}\n",
        "    for en in event_first_index_map:\n",
        "        fi = event_first_index_map[en]\n",
        "        # li = event_last_index_map[en]\n",
        "        for c in epr_cols:\n",
        "            epr_key = f\"{en}:{c}\"\n",
        "            epr_val = x[c].iloc[fi]\n",
        "            if pd.isnull(epr_val):\n",
        "                continue\n",
        "            epr_feat_dict[epr_key] = epr_val\n",
        "    # TODO: Reduce EPR based features to top k and rest as \"Others\". Maybe not now, later.\n",
        "    upr_feat_dict = {}\n",
        "    for upr_key in upr_cols:\n",
        "        upr_l_val = x[upr_key].iloc[last_index]\n",
        "        upr_feat_dict[f'{upr_key}'] = upr_l_val\n",
        "    # TODO: Reduce UPR based features to top k and rest as \"Others\". Maybe not now, later.\n",
        "    feat_dict = {**count_feat_dict, **time_feat_dict, **epr_feat_dict, **upr_feat_dict}\n",
        "    COUNT_FEAT_KEYS.update(set(count_feat_dict))\n",
        "    TIME_FEAT_KEYS.update(set(time_feat_dict))\n",
        "    EPR_FEAT_KEYS.update(set(epr_feat_dict))\n",
        "    UPR_FEAT_KEYS.update(set(upr_feat_dict))\n",
        "    return feat_dict\n",
        "feat_dict = df.groupby('uid').apply(lambda x: find_features(x))\n",
        "FEAT_KEY_SEQ = list(sorted(COUNT_FEAT_KEYS)) + list(sorted(TIME_FEAT_KEYS)) + list(sorted(EPR_FEAT_KEYS)) + list(sorted(UPR_FEAT_KEYS))"
      ]
    },
    {
      "cell_type": "code",
      "execution_count": null,
      "metadata": {
        "id": "XXQZgp5_ULKe"
      },
      "outputs": [],
      "source": [
        "# del feat_dict"
      ]
    },
    {
      "cell_type": "code",
      "execution_count": null,
      "metadata": {
        "id": "97AcjywxFrik"
      },
      "outputs": [],
      "source": [
        "# num times event occurred\n",
        "# all event properties for latest and first event\n",
        "# user properties - latest event's user properties - no event-name appended\n",
        "fdf = pd.DataFrame(feat_dict.to_dict()).T[FEAT_KEY_SEQ]"
      ]
    },
    {
      "cell_type": "code",
      "source": [
        "fdf.shape"
      ],
      "metadata": {
        "id": "maoC0jvD0iaC"
      },
      "execution_count": null,
      "outputs": []
    },
    {
      "cell_type": "code",
      "execution_count": null,
      "metadata": {
        "id": "zV3Pd1NBk1Yn"
      },
      "outputs": [],
      "source": [
        "# len([x for x in fdf.columns if 'hubspot' in x])"
      ]
    },
    {
      "cell_type": "code",
      "execution_count": null,
      "metadata": {
        "id": "5he3611oGLAh"
      },
      "outputs": [],
      "source": [
        "# first occurrence of each event -- properties\n",
        "# list(zip(range(fdf.shape[1]), fdf.columns))"
      ]
    },
    {
      "cell_type": "code",
      "execution_count": null,
      "metadata": {
        "id": "LyobzxYA-kNC"
      },
      "outputs": [],
      "source": [
        "print('Count-based features:', len(COUNT_FEAT_KEYS))\n",
        "print('Time-based features:', len(TIME_FEAT_KEYS))\n",
        "print('Event-property-based features:', len(EPR_FEAT_KEYS))\n",
        "print('User-property-based features:', len(UPR_FEAT_KEYS))"
      ]
    },
    {
      "cell_type": "code",
      "source": [
        "print('Count:', '\"' + '\", \"'.join(list(sorted(COUNT_FEAT_KEYS))[:3]) + '\", ...')\n",
        "print('Time:', '\"' + '\", \"'.join(list(sorted(TIME_FEAT_KEYS))[:3]) + '\", ...')\n",
        "print('EPr:', '\"' + '\", \"'.join(list(sorted(EPR_FEAT_KEYS))[:3]) + '\", ...')\n",
        "print('UPr:', '\"' + '\", \"'.join(list(sorted(UPR_FEAT_KEYS))[:3]) + '\", ...')"
      ],
      "metadata": {
        "id": "QxYBv22wyF6t"
      },
      "execution_count": null,
      "outputs": []
    },
    {
      "cell_type": "code",
      "execution_count": null,
      "metadata": {
        "id": "7M0UJPvDyH3o"
      },
      "outputs": [],
      "source": [
        "# Xy = fdf.copy(deep=True)\n",
        "# Xy['class'] = Xy.index.map(lambda x: cffi_dict[x][0])"
      ]
    },
    {
      "cell_type": "code",
      "execution_count": null,
      "metadata": {
        "id": "fJC0Gb7Jza20"
      },
      "outputs": [],
      "source": [
        "feats = FEAT_KEY_SEQ\n",
        "target_key = 'class'\n",
        "# X = Xy.loc[:, feats]\n",
        "# y = Xy.loc[:, target_key]"
      ]
    },
    {
      "cell_type": "code",
      "source": [
        "df['upr:$clr_company_tags'].apply(lambda x: frozenset(x) if isinstance(x, list) else x).value_counts()"
      ],
      "metadata": {
        "id": "CrpvAHGj0Att"
      },
      "execution_count": null,
      "outputs": []
    },
    {
      "cell_type": "code",
      "source": [
        "df['upr:$clr_company_tech'].apply(lambda x: frozenset(x) if isinstance(x, list) else x).value_counts()"
      ],
      "metadata": {
        "id": "DLRehIMFzjni"
      },
      "execution_count": null,
      "outputs": []
    },
    {
      "cell_type": "code",
      "execution_count": null,
      "metadata": {
        "id": "RVhIZnCEaPr5"
      },
      "outputs": [],
      "source": [
        "#@title\n",
        "value_stats_map = {}\n",
        "blacklist = {'upr:$identifiers', 'upr:$clr_company_tags', 'upr:$clr_company_tech'}\n",
        "for i, f in tqdm(enumerate(feats), total=len(feats)):\n",
        "    if f in blacklist:\n",
        "        continue\n",
        "    num_tot = fdf[f].shape[0]\n",
        "    try:\n",
        "        num_na = fdf[f].isna().value_counts()[True]\n",
        "    except KeyError:\n",
        "        num_na = 0\n",
        "    perc_na = round(num_na*100/num_tot, 2)\n",
        "    try:\n",
        "        num_uniq = fdf[f].nunique()\n",
        "    except TypeError:\n",
        "        # print(f'Error in \"{f}\"')\n",
        "        raise TypeError\n",
        "    perc_uniq = round(num_uniq*100/num_tot, 2)\n",
        "    num_nna = num_tot-num_na\n",
        "    perc_uniq_nna = round(num_uniq*100/num_nna, 2)\n",
        "    if '_id' in f:\n",
        "        is_numerable = False\n",
        "        fdf[f].fillna('NULL', inplace=True)\n",
        "    else:\n",
        "        try:\n",
        "            fdf[f] = fdf[f].fillna(0).astype('int')\n",
        "            is_numerable = True\n",
        "        except ValueError:\n",
        "            fdf[f].fillna('NULL', inplace=True)\n",
        "            is_numerable = False\n",
        "    value_stats_map[f] = {'index': i,\n",
        "                          'is_numerable': is_numerable,\n",
        "                        'num_tot': num_tot,\n",
        "                        'num_na': num_na,\n",
        "                        'perc_na': perc_na,\n",
        "                        'num_uniq': num_uniq,\n",
        "                        'perc_uniq': perc_uniq,\n",
        "                        'perc_uniq_nna': perc_uniq_nna}\n",
        "vsdf = pd.DataFrame(value_stats_map).T\n",
        "# Xy.drop(set(Xy.columns).intersection(blacklist), axis=1, inplace=True)\n",
        "vsdf"
      ]
    },
    {
      "cell_type": "code",
      "source": [
        "Xy = fdf.copy(deep=True)\n",
        "Xy['class'] = Xy.index.map(lambda x: cffi_dict[x][0])\n",
        "Xy['target_value'] = Xy[value_upr].fillna(0).replace('NULL', 0).replace('', 0).astype('float')\n",
        "Xy.drop(set(Xy.columns).intersection(blacklist), axis=1, inplace=True)"
      ],
      "metadata": {
        "id": "L0pM7swbrh6j"
      },
      "execution_count": null,
      "outputs": []
    },
    {
      "cell_type": "code",
      "source": [
        "Xy['class'].value_counts()"
      ],
      "metadata": {
        "id": "gU_JesXK5rOt"
      },
      "execution_count": null,
      "outputs": []
    },
    {
      "cell_type": "code",
      "source": [
        "from matplotlib import pyplot as plt\n",
        "fig, ax = plt.subplots(1, 1, figsize=(10, 5))\n",
        "Xy['target_value'].hist(ax=ax)\n",
        "ax.set_yscale('log')"
      ],
      "metadata": {
        "id": "Bok357Ij53tR"
      },
      "execution_count": null,
      "outputs": []
    },
    {
      "cell_type": "code",
      "source": [
        "Xy['target_value'].apply(lambda x: x>0).value_counts()"
      ],
      "metadata": {
        "id": "B_qCSUHp7NGW"
      },
      "execution_count": null,
      "outputs": []
    },
    {
      "cell_type": "code",
      "source": [
        "non_zero_value_users = set(Xy[Xy['target_value'] > 0].index)\n",
        "unconverted_users = set(Xy[Xy['class'] == False].index)"
      ],
      "metadata": {
        "id": "RPmJ67Gx7j46"
      },
      "execution_count": null,
      "outputs": []
    },
    {
      "cell_type": "code",
      "source": [
        "len(non_zero_value_users.intersection(unconverted_users))"
      ],
      "metadata": {
        "id": "XK9oXUTzZyQT"
      },
      "execution_count": null,
      "outputs": []
    },
    {
      "cell_type": "code",
      "source": [
        "df[df['en'].isin({base_en, target_en})][df['uid'].isin(non_zero_value_users.intersection(unconverted_users))][['uid', 'en', 'et', value_upr]].groupby('uid').agg(list)"
      ],
      "metadata": {
        "id": "uDn8-_Pc8Dm0"
      },
      "execution_count": null,
      "outputs": []
    },
    {
      "cell_type": "code",
      "source": [
        "Xy.loc[Xy.index.difference(unconverted_users), 'target_value'].value_counts()"
      ],
      "metadata": {
        "id": "0QPxNOcW9jo2"
      },
      "execution_count": null,
      "outputs": []
    },
    {
      "cell_type": "code",
      "source": [
        "len(Xy.index.difference(unconverted_users))"
      ],
      "metadata": {
        "id": "son_ztRHn3OZ"
      },
      "execution_count": null,
      "outputs": []
    },
    {
      "cell_type": "code",
      "source": [
        "num_uniq_cat_vals_map = vsdf[vsdf['is_numerable'] == False]['num_uniq'].to_dict()\n",
        "single_val_feats = {f for f, v in num_uniq_cat_vals_map.items() if v == 1}"
      ],
      "metadata": {
        "id": "qd7-93qCrnbZ"
      },
      "execution_count": null,
      "outputs": []
    },
    {
      "cell_type": "code",
      "execution_count": null,
      "metadata": {
        "id": "tJSw6g3GlzvT"
      },
      "outputs": [],
      "source": [
        "single_fv_list = []\n",
        "for c in tqdm(Xy.columns):\n",
        "    nu = Xy[c].nunique()\n",
        "    if nu == 1:\n",
        "        single_fv_list.append(c)"
      ]
    },
    {
      "cell_type": "code",
      "source": [
        "len(single_fv_list)"
      ],
      "metadata": {
        "id": "n1Qe8gnjbUXy"
      },
      "execution_count": null,
      "outputs": []
    },
    {
      "cell_type": "code",
      "source": [
        "Xy = Xy.drop(single_fv_list, axis=1)"
      ],
      "metadata": {
        "id": "X3zy47_GbX-I"
      },
      "execution_count": null,
      "outputs": []
    },
    {
      "cell_type": "code",
      "execution_count": null,
      "metadata": {
        "id": "L93XX-3uidcn"
      },
      "outputs": [],
      "source": [
        "Xy.shape"
      ]
    },
    {
      "cell_type": "code",
      "execution_count": null,
      "metadata": {
        "id": "ePDUer4kjWtm"
      },
      "outputs": [],
      "source": [
        "Xy[target_key].value_counts()"
      ]
    },
    {
      "cell_type": "code",
      "execution_count": null,
      "metadata": {
        "id": "H58W20ey5OR0"
      },
      "outputs": [],
      "source": [
        "# num_features = set(vsdf[vsdf['is_numerable']].index).intersection(Xy.columns)\n",
        "# cat_features = set(vsdf[vsdf['is_numerable'] == False].index).intersection(Xy.columns)\n",
        "# for f in tqdm(num_features):\n",
        "#     Xy[f].fillna(0, inplace=True)\n",
        "#     Xy[f] = Xy[f].astype(float)\n",
        "# for f in tqdm(cat_features):\n",
        "#     Xy[f].fillna('NULL', inplace=True)"
      ]
    },
    {
      "cell_type": "code",
      "execution_count": null,
      "metadata": {
        "id": "kOQicEz2Jf9q"
      },
      "outputs": [],
      "source": [
        "!pip install catboost shap --quiet"
      ]
    },
    {
      "cell_type": "code",
      "execution_count": null,
      "metadata": {
        "id": "Yr-32DsGKY4i"
      },
      "outputs": [],
      "source": [
        "Xy[target_key].replace({True: 1, False: 0}, inplace=True)"
      ]
    },
    {
      "cell_type": "code",
      "source": [
        "feats = [c for c in Xy.columns if c != 'class' and c != 'target_value' and c != value_upr]\n",
        "X, y = Xy[feats], Xy['target_value']"
      ],
      "metadata": {
        "id": "_3NsilpJbwdk"
      },
      "execution_count": null,
      "outputs": []
    },
    {
      "cell_type": "code",
      "source": [
        "X.shape, y.shape"
      ],
      "metadata": {
        "id": "dlgPMkd9cnOg"
      },
      "execution_count": null,
      "outputs": []
    },
    {
      "cell_type": "code",
      "source": [
        "import pickle, os\n",
        "cache_path = f'/content/drive/MyDrive/cloud_storage/sample_data/{proj_id}/{\"-\".join(dates)}/b={DEFAULT_BASE_EN.replace(\"$\", \"D\")}-t={DEFAULT_TARGET_EN.replace(\"$\", \"D\")}'"
      ],
      "metadata": {
        "id": "TYeiHuLZsSaB"
      },
      "execution_count": null,
      "outputs": []
    },
    {
      "cell_type": "code",
      "source": [
        "!mkdir -p {cache_path}"
      ],
      "metadata": {
        "id": "g5mDNB91yGch"
      },
      "execution_count": null,
      "outputs": []
    },
    {
      "cell_type": "code",
      "source": [
        "X.to_csv(os.path.join(cache_path, 'X.csv'))\n",
        "y.to_csv(os.path.join(cache_path, 'y.csv'))\n",
        "# metadata = {'cat_fts': cat_features, 'num_fts': num_features, 'tgt': target_key}\n",
        "# pickle.dump(metadata, open(os.path.join(cache_path, 'metadata.pkl'), 'wb'))"
      ],
      "metadata": {
        "id": "2p-kTfbJyL-6"
      },
      "execution_count": null,
      "outputs": []
    },
    {
      "cell_type": "markdown",
      "source": [
        "## Access cached data"
      ],
      "metadata": {
        "id": "UNNbVInCz7lR"
      }
    },
    {
      "cell_type": "code",
      "source": [
        "import pandas as pd\n",
        "import os\n",
        "import pickle\n",
        "from tqdm.notebook import tqdm"
      ],
      "metadata": {
        "id": "hJTAK5cY0aEu"
      },
      "execution_count": null,
      "outputs": []
    },
    {
      "cell_type": "code",
      "source": [
        "proj_id = '399'\n",
        "date = '20220101'\n",
        "target_event = '$form_submitted'\n",
        "cache_path = f'/content/drive/MyDrive/cloud_storage/sample_data/{proj_id}/{\"-\".join(dates)}/b={DEFAULT_BASE_EN.replace(\"$\", \"D\")}-t={DEFAULT_TARGET_EN.replace(\"$\", \"D\")}'"
      ],
      "metadata": {
        "id": "NQvPgLev0n1a"
      },
      "execution_count": null,
      "outputs": []
    },
    {
      "cell_type": "code",
      "source": [
        "# metadata = pickle.load(open(os.path.join(cache_path, 'metadata.pkl'), 'rb'))\n",
        "# cat_features, num_features, target_event, target_key = metadata['cat_fts'], metadata['num_fts'], metadata['tgt'], 'class'\n",
        "X = pd.read_csv(os.path.join(cache_path, 'X.csv'), index_col=0).fillna('NULL')\n",
        "y = pd.read_csv(os.path.join(cache_path, 'y.csv'), index_col=0).fillna('NULL')"
      ],
      "metadata": {
        "id": "2llvlgaXykMs"
      },
      "execution_count": null,
      "outputs": []
    },
    {
      "cell_type": "code",
      "source": [
        "y.value_counts()"
      ],
      "metadata": {
        "id": "28G72A5uoZ-K"
      },
      "execution_count": null,
      "outputs": []
    },
    {
      "cell_type": "code",
      "source": [
        "y.loc[fs_with_nzdv_users, :].value_counts()"
      ],
      "metadata": {
        "id": "ANH_rQ5jnpgF"
      },
      "execution_count": null,
      "outputs": []
    },
    {
      "cell_type": "code",
      "source": [
        "y.drop(fs_with_nzdv_users).value_counts()"
      ],
      "metadata": {
        "id": "6-eE-qXlogJV"
      },
      "execution_count": null,
      "outputs": []
    },
    {
      "cell_type": "code",
      "source": [
        "X.shape[0], X.drop(fs_with_nzdv_users).shape[0]"
      ],
      "metadata": {
        "id": "UVOK1zFKj3wi"
      },
      "execution_count": null,
      "outputs": []
    },
    {
      "cell_type": "code",
      "source": [
        "X = X.drop(fs_with_nzdv_users)\n",
        "y = y.drop(fs_with_nzdv_users)"
      ],
      "metadata": {
        "id": "JCm8qd8dkQqh"
      },
      "execution_count": null,
      "outputs": []
    },
    {
      "cell_type": "code",
      "source": [
        "# X = Xy[list(sorted(cat_features)) + list(sorted(num_features))]\n",
        "# y = Xy[target_key]"
      ],
      "metadata": {
        "id": "H6RBollKsGBC"
      },
      "execution_count": null,
      "outputs": []
    },
    {
      "cell_type": "code",
      "source": [
        "numerical_feats = []\n",
        "categorical_feats = []\n",
        "numerical_feat_ids = []\n",
        "categorical_feat_ids = []\n",
        "for i, c in tqdm(enumerate(list(X.columns)), total=X.shape[1]):\n",
        "    vals = set(X[c].unique())\n",
        "    try:\n",
        "        _ = {int(x) for x in vals.difference({'NULL'})}\n",
        "        numerical_feats.append(c)\n",
        "        numerical_feat_ids.append(i)\n",
        "        X[c].replace('NULL', 0)\n",
        "    except ValueError:\n",
        "        # print(\"Can't numericalize {}: {}\".format(c, list(vals)[:5]))\n",
        "        categorical_feats.append(c)\n",
        "        categorical_feat_ids.append(i)"
      ],
      "metadata": {
        "id": "tparlQ6-f5al"
      },
      "execution_count": null,
      "outputs": []
    },
    {
      "cell_type": "code",
      "source": [
        "len(numerical_feats), len(categorical_feats)"
      ],
      "metadata": {
        "id": "22VECflRggzN"
      },
      "execution_count": null,
      "outputs": []
    },
    {
      "cell_type": "code",
      "source": [
        "X[categorical_feats] = X[categorical_feats].astype('object')\n",
        "for c in tqdm(categorical_feats):\n",
        "    X[c] = X[c].apply(str)"
      ],
      "metadata": {
        "id": "WkVZTisUjGHs"
      },
      "execution_count": null,
      "outputs": []
    },
    {
      "cell_type": "code",
      "source": [
        "from sklearn.model_selection import train_test_split\n",
        "X_train, X_test, y_train, y_test = train_test_split(X, y, test_size = 0.2, random_state=5)"
      ],
      "metadata": {
        "id": "k3H8s_idsJRg"
      },
      "execution_count": null,
      "outputs": []
    },
    {
      "cell_type": "code",
      "source": [
        "X_train.shape, X_test.shape, y_train.shape, y_test.shape"
      ],
      "metadata": {
        "id": "J1B-Az-TelHK"
      },
      "execution_count": null,
      "outputs": []
    },
    {
      "cell_type": "code",
      "source": [
        "print('TRAIN:\\n', y_train.value_counts(), '\\n\\nTEST:\\n', y_test.value_counts())"
      ],
      "metadata": {
        "id": "YnLZ5nY8sNwo"
      },
      "execution_count": null,
      "outputs": []
    },
    {
      "cell_type": "code",
      "source": [
        "!pip install catboost --quiet\n",
        "!pip install shap --quiet"
      ],
      "metadata": {
        "id": "VDoIxaNrr0ju"
      },
      "execution_count": null,
      "outputs": []
    },
    {
      "cell_type": "code",
      "source": [
        "import catboost as cb\n",
        "import numpy as np\n",
        "import pandas as pd\n",
        "import seaborn as sns\n",
        "import shap\n",
        "# import load_boston\n",
        "from matplotlib import pyplot as plt\n",
        "# from sklearn.datasets \n",
        "from sklearn.model_selection import train_test_split\n",
        "from sklearn.metrics import mean_squared_error\n",
        "from sklearn.metrics import r2_score\n",
        "from sklearn.inspection import permutation_importance"
      ],
      "metadata": {
        "id": "Hub3pTRbfaun"
      },
      "execution_count": null,
      "outputs": []
    },
    {
      "cell_type": "code",
      "source": [
        "train_dataset = cb.Pool(X_train, y_train, cat_features = categorical_feat_ids) \n",
        "# test_dataset = cb.Pool(X_test, y_test)"
      ],
      "metadata": {
        "id": "RJ8cFrw2fP4r"
      },
      "execution_count": null,
      "outputs": []
    },
    {
      "cell_type": "code",
      "source": [
        "model = cb.CatBoostRegressor(loss_function='RMSE')\n"
      ],
      "metadata": {
        "id": "Sh9wQXiGfZz1"
      },
      "execution_count": null,
      "outputs": []
    },
    {
      "cell_type": "code",
      "source": [
        "grid = {'iterations': [100],\n",
        "        'learning_rate': [0.1],\n",
        "        'depth': [4],\n",
        "        'l2_leaf_reg': [0.5]}\n",
        "model.grid_search(grid, train_dataset)\n"
      ],
      "metadata": {
        "id": "wW37FhETlJlk"
      },
      "execution_count": null,
      "outputs": []
    },
    {
      "cell_type": "code",
      "source": [
        "train_pred = model.predict(X_train)\n",
        "train_rmse = (np.sqrt(mean_squared_error(y_train, train_pred)))\n",
        "train_r2 = r2_score(y_train, train_pred)\n",
        "print(\"Training performance\")\n",
        "print('RMSE: {:.2f}'.format(train_rmse))\n",
        "print('R2: {:.2f}'.format(train_r2))\n"
      ],
      "metadata": {
        "id": "1kL_U2l1mFKU"
      },
      "execution_count": null,
      "outputs": []
    },
    {
      "cell_type": "code",
      "source": [
        "test_pred = model.predict(X_test)\n",
        "test_rmse = (np.sqrt(mean_squared_error(y_test, test_pred)))\n",
        "test_r2 = r2_score(y_test, test_pred)\n",
        "print(\"Testing performance\")\n",
        "print('RMSE: {:.2f}'.format(test_rmse))\n",
        "print('R2: {:.2f}'.format(test_r2))\n"
      ],
      "metadata": {
        "id": "QszMm-hLBCoz"
      },
      "execution_count": null,
      "outputs": []
    },
    {
      "cell_type": "code",
      "source": [
        "model_df = pd.DataFrame({'param_value': model._get_params()}).T\n",
        "model_df['algorithm'] = 'CatBoostRegressor'\n",
        "model_df['test_split_ratio'] = 0.2\n",
        "model_df['train_rmse'] = round(train_rmse, 4)\n",
        "model_df['train_r2'] = round(train_r2, 4)\n",
        "model_df['test_rmse'] = round(test_rmse, 4)\n",
        "model_df['test_r2'] = round(test_r2, 4)\n",
        "model_df = model_df.T\n",
        "model_df"
      ],
      "metadata": {
        "id": "3LnOBldB6Fwj"
      },
      "execution_count": null,
      "outputs": []
    },
    {
      "cell_type": "code",
      "source": [
        "# model_df.to_csv(os.path.join(DEFAULT_SAMPLE_FOLDER_ROOT, '..', 'model_properties_and_results.tsv'), header=False, sep='\\t')"
      ],
      "metadata": {
        "id": "fLkF7QpwoqiU"
      },
      "execution_count": null,
      "outputs": []
    },
    {
      "cell_type": "code",
      "source": [
        "fi = model.get_feature_importance(train_dataset, type='ShapValues')\n",
        "fi.shape"
      ],
      "metadata": {
        "id": "rWSun3u1N0mk"
      },
      "execution_count": null,
      "outputs": []
    },
    {
      "cell_type": "code",
      "source": [
        "i = 0\n",
        "fi[i, :].argsort()"
      ],
      "metadata": {
        "id": "jXU9SkoUOqWj"
      },
      "execution_count": null,
      "outputs": []
    },
    {
      "cell_type": "code",
      "source": [
        "# top3feats = np.abs(fi).argsort(axis=1)[:, -3:]\n",
        "# train_compare_df['important_features'] = [','.join([features[q] for q in x]) for x in top3feats]"
      ],
      "metadata": {
        "id": "97Cf4QNcPZMK"
      },
      "execution_count": null,
      "outputs": []
    },
    {
      "cell_type": "code",
      "source": [
        "import shap\n",
        "explainer = shap.TreeExplainer(model)\n",
        "shap_values = explainer.shap_values(X_test)"
      ],
      "metadata": {
        "id": "N06kkccqQpk9"
      },
      "execution_count": null,
      "outputs": []
    },
    {
      "cell_type": "code",
      "source": [
        "features = list(X_train.columns)\n",
        "shap.summary_plot(shap_values, X_train, feature_names=features)"
      ],
      "metadata": {
        "id": "y0vRfiCyRkZA"
      },
      "execution_count": null,
      "outputs": []
    },
    {
      "cell_type": "code",
      "source": [
        "targets = np.array(y_train['target_value'])"
      ],
      "metadata": {
        "id": "GY7wkjKTTt9I"
      },
      "execution_count": null,
      "outputs": []
    },
    {
      "cell_type": "code",
      "source": [
        "targets.argsort()[-5:]"
      ],
      "metadata": {
        "id": "INjGQO0CVE2Z"
      },
      "execution_count": null,
      "outputs": []
    },
    {
      "cell_type": "code",
      "source": [
        "i = list(y_test.index).index('jmsoto@symfintek.com')\n",
        "y_test.iloc[i, :]"
      ],
      "metadata": {
        "id": "lH9pg6MlfBjh"
      },
      "execution_count": null,
      "outputs": []
    },
    {
      "cell_type": "code",
      "source": [
        "shap.initjs()\n",
        "shap.force_plot(explainer.expected_value, shap_values[i], X_test.iloc[i, :], feature_names = features)"
      ],
      "metadata": {
        "id": "Ylfk2mVNTGqj"
      },
      "execution_count": null,
      "outputs": []
    },
    {
      "cell_type": "code",
      "source": [
        "train_compare_df = y_train.copy(deep=True)\n",
        "train_compare_df['pred'] = train_pred.round(4)\n",
        "train_compare_df = train_compare_df.reset_index().rename(columns={'index': 'uid', 'target_value': 'actual_deal_value (A)', 'pred': 'predicted_deal_value (P)'})\n",
        "train_compare_df['deal_value_found'] = train_compare_df['uid'].apply(lambda x: x in deal_value_available_users)\n",
        "train_compare_df = train_compare_df[['uid', 'deal_value_found', 'actual_deal_value (A)', 'predicted_deal_value (P)']]\n",
        "\n",
        "test_compare_df = y_test.copy(deep=True)\n",
        "test_compare_df['pred'] = test_pred.round(4)\n",
        "test_compare_df = test_compare_df.reset_index().rename(columns={'index': 'uid', 'target_value': 'actual_deal_value (A)', 'pred': 'predicted_deal_value (P)'})\n",
        "test_compare_df['deal_value_found'] = test_compare_df['uid'].apply(lambda x: x in deal_value_available_users)\n",
        "test_compare_df = test_compare_df[['uid', 'deal_value_found', 'actual_deal_value (A)', 'predicted_deal_value (P)']]"
      ],
      "metadata": {
        "id": "spuvnWIRpFVl"
      },
      "execution_count": null,
      "outputs": []
    },
    {
      "cell_type": "code",
      "source": [
        "train_compare_df['abs_error (|A-P|)'] = (train_compare_df['actual_deal_value (A)'] - train_compare_df['predicted_deal_value (P)']).abs().round(4)\n",
        "train_compare_df['rel_error (|A-P|/A)'] = ((train_compare_df['actual_deal_value (A)'] + 1 - train_compare_df['predicted_deal_value (P)']).abs() / (train_compare_df['actual_deal_value (A)'] + 1)).round(4)\n",
        "train_compare_df = train_compare_df.sort_values('rel_error (|A-P|/A)')\n",
        "train_compare_df"
      ],
      "metadata": {
        "id": "DkNy_VASpWzA"
      },
      "execution_count": null,
      "outputs": []
    },
    {
      "cell_type": "code",
      "source": [
        "test_compare_df['abs_error (|A-P|)'] = (test_compare_df['actual_deal_value (A)'] - test_compare_df['predicted_deal_value (P)']).abs().round(4)\n",
        "test_compare_df['rel_error (|A-P|/A)'] = ((test_compare_df['actual_deal_value (A)'] + 1 - test_compare_df['predicted_deal_value (P)']).abs() / (test_compare_df['actual_deal_value (A)'] + 1)).round(4)\n",
        "test_compare_df = test_compare_df.sort_values('rel_error (|A-P|/A)')\n",
        "test_compare_df"
      ],
      "metadata": {
        "id": "q9NoNwbj1Lj5"
      },
      "execution_count": null,
      "outputs": []
    },
    {
      "cell_type": "code",
      "source": [
        "# train_compare_df.to_csv(os.path.join(DEFAULT_SAMPLE_FOLDER_ROOT, '..', 'train_compare_results.tsv'), index=False, sep='\\t')\n",
        "# test_compare_df.to_csv(os.path.join(DEFAULT_SAMPLE_FOLDER_ROOT, '..', 'test_compare_results.tsv'), index=False, sep='\\t')"
      ],
      "metadata": {
        "id": "0Gv7VCTc4nDY"
      },
      "execution_count": null,
      "outputs": []
    },
    {
      "cell_type": "markdown",
      "source": [
        "## Appendix"
      ],
      "metadata": {
        "id": "jfTwIxJnMTKQ"
      }
    },
    {
      "cell_type": "code",
      "execution_count": null,
      "metadata": {
        "id": "dqu0xms_AarP"
      },
      "outputs": [],
      "source": [
        "# compressed sparse matrix\n",
        "# dask dataframes -- for analysis on bigger sample\n",
        "# tree based algos -- label encoding (keeping them categorical still)\n",
        "# gbm -- better than sklearn\n",
        "# golang -- only for preproc, not for algos\n",
        "from catboost.datasets import *\n",
        "from catboost import CatBoostClassifier\n",
        "from catboost import Pool, cv\n",
        "# cat_features = list(range(0, X.shape[1]))\n",
        "model = CatBoostClassifier(iterations=200, learning_rate=0.1, random_seed=12)\n",
        "\n",
        "# X = X[list(sorted(cat_features)) + list(sorted(num_features))]\n",
        "cat_feat_ids = range(0, len(cat_features))\n",
        "\n",
        "cv_dataset = Pool(data=X_tr_val,\n",
        "                  label=y_tr_val,\n",
        "                  cat_features=cat_feat_ids)\n",
        "params = {\"iterations\": 200,\n",
        "          \"depth\": 10,\n",
        "          'learning_rate': 0.1,\n",
        "          \"loss_function\": \"Logloss\",\n",
        "          \"custom_metric\": [\"AUC\"],\n",
        "          \"verbose\": True}\n",
        "\n",
        "scores = cv(cv_dataset,\n",
        "            params,\n",
        "            fold_count=5, \n",
        "            plot=False)\n",
        "\n",
        "# model.fit(X_tr, y_tr, cat_features=cat_feat_ids, verbose=True, plot=False)"
      ]
    },
    {
      "cell_type": "code",
      "source": [
        "scores"
      ],
      "metadata": {
        "id": "ud3R9l1juGOJ"
      },
      "execution_count": null,
      "outputs": []
    },
    {
      "cell_type": "code",
      "source": [
        "from matplotlib import pyplot as plt\n",
        "fig, ax = plt.subplots(1, 1, figsize=(15, 10))\n",
        "scores['train-Logloss-mean'].plot(label='train', grid=True, legend=True, ax=ax)\n",
        "scores['test-Logloss-mean'].plot(label='test', grid=True, legend=True, ax=ax)\n",
        "scores['test-AUC-mean'].plot(label='AUC', legend=True, ax=ax)\n",
        "ax.legend()\n",
        "ax.grid()"
      ],
      "metadata": {
        "id": "PwMB5LyYuOQ9"
      },
      "execution_count": null,
      "outputs": []
    },
    {
      "cell_type": "code",
      "source": [
        "model = CatBoostClassifier(iterations=100, learning_rate=0.1, random_seed=12)\n",
        "model.fit(X_tr_val, y_tr_val, cat_features=cat_feat_ids, verbose=True, plot=False)"
      ],
      "metadata": {
        "id": "OHRzNZvk1YnJ"
      },
      "execution_count": null,
      "outputs": []
    },
    {
      "cell_type": "code",
      "source": [
        "y_tr_val.value_counts()"
      ],
      "metadata": {
        "id": "JfD9Shkq3At8"
      },
      "execution_count": null,
      "outputs": []
    },
    {
      "cell_type": "code",
      "source": [
        "y_tr_val_hat = model.predict(X_tr_val)\n",
        "y_te_hat = model.predict(X_te)\n",
        "from sklearn.metrics import confusion_matrix\n",
        "confusion_matrix(y_tr_val, y_tr_val_hat)"
      ],
      "metadata": {
        "id": "71dONOi61kF-"
      },
      "execution_count": null,
      "outputs": []
    },
    {
      "cell_type": "code",
      "source": [
        "# Discussion 27th July 2022\n",
        "# =========================\n",
        "# Event will be generated when there's a \"change\" in the value of the deal -- can check this.\n",
        "# upr:$company\n",
        "# Evaluate the effect of hubspot-based features (leakage possible)\n",
        "# \"Dummy form submission\" hack needs to be evaluated -- check if \n",
        "# Can have 2 versions -- one with upr, one with others as well?\n",
        "# Check for more leakages.\n",
        "# Have correlation plots for numerical and categorical features as well (have the special NULL value based analysis for this as well).\n",
        "# Pulling out data based on requirements -- via a SQL query, for example.\n",
        "# $hubspot_contact_creation --> could be a base event.\n",
        "# *** DesignCafe ***\n",
        "  # Prediction criteria.\n",
        "# Remove negative-value predictions and normalise them for predicging the pipeline."
      ],
      "metadata": {
        "id": "_dnyrfgQanBW"
      },
      "execution_count": null,
      "outputs": []
    },
    {
      "cell_type": "code",
      "source": [
        "# Discussion 5th July 2022\n",
        "# ------------------------\n",
        "# Overall deal value estimation, and distribution.\n",
        "# Averaged-out probability (confidence) values for classification. Not for individual instances.\n",
        "# 300 classifications as 1 --> Sum of all confidences should sum up to 300 (if it sums up to 400, rescale it for 300).\n",
        "\n",
        "# $hubspot_deal_state_changed\n",
        "# $hubspot_company_hs_total_deal_value\n",
        "# \n",
        "# P($form_submit)\n",
        "# P($in the first one hour, what could the user be worth? Such that the sum of predictions matches the total of all users)\n",
        "# Data from Vinith\n",
        "\n",
        "# hubspot_contact_created and form_submitted would have the same time stamp, usually.\n",
        "# **form_submits (and any other target event) --> buffer of 5 mins (or 10%).\n",
        "# Capture all form submits vs those that happened within 1 hour."
      ],
      "metadata": {
        "id": "uUyU2fJCAzQ8"
      },
      "execution_count": null,
      "outputs": []
    },
    {
      "cell_type": "code",
      "source": [
        "# Notes for 8th July 2022\n",
        "# -----------------------\n",
        "# 65 total users have a deal closed event\n",
        "# Only 11 eligible users\n",
        "# Ineligible user:\n",
        "#     - session started last month\n",
        "#     - is_first_session False\n",
        "# "
      ],
      "metadata": {
        "id": "aTuCt8LILTnh"
      },
      "execution_count": null,
      "outputs": []
    },
    {
      "cell_type": "code",
      "source": [
        "confusion_matrix(y_te, y_te_hat)"
      ],
      "metadata": {
        "id": "8qIBsoiD5BAy"
      },
      "execution_count": null,
      "outputs": []
    },
    {
      "cell_type": "code",
      "source": [
        "!pip uninstall dython\n",
        "!pip install dython"
      ],
      "metadata": {
        "id": "Mi6mhUVTt5jg"
      },
      "execution_count": null,
      "outputs": []
    },
    {
      "cell_type": "code",
      "source": [
        "sample_cols = list(cat_features) + [target_key]"
      ],
      "metadata": {
        "id": "RSg5grNs9gAG"
      },
      "execution_count": null,
      "outputs": []
    },
    {
      "cell_type": "code",
      "source": [
        "from dython.nominal import associations\n",
        "from matplotlib import pyplot as plt\n",
        "# fig, ax = plt.subplots(figsize=(15, 10))\n",
        "corr_map = {}\n",
        "for c in tqdm(Xy.columns):\n",
        "    if c == target_key:\n",
        "        continue\n",
        "    corr_map[c] = associations(Xy.loc[:, [c, target_key]], cramers_v_bias_correction=False, mark_columns=False, clustering=False, compute_only = True)['corr'].loc[c, target_key]"
      ],
      "metadata": {
        "id": "HgGxJUYqtvf1"
      },
      "execution_count": null,
      "outputs": []
    },
    {
      "cell_type": "code",
      "source": [
        "pd.DataFrame({'corr': corr_map}).sort_values('corr', ascending=False)"
      ],
      "metadata": {
        "id": "AqbErtBSIYb0"
      },
      "execution_count": null,
      "outputs": []
    },
    {
      "cell_type": "code",
      "source": [
        "Xy['upr:$initial_page_event_id'].value_counts()"
      ],
      "metadata": {
        "id": "F2M6ybobKVEx"
      },
      "execution_count": null,
      "outputs": []
    },
    {
      "cell_type": "code",
      "source": [
        "Xy[['$hubspot_contact_created:epr:$day_of_week', target_key]].value_counts().to_dict()"
      ],
      "metadata": {
        "id": "yeaPqtCzK5fZ"
      },
      "execution_count": null,
      "outputs": []
    },
    {
      "cell_type": "code",
      "source": [
        "corr_map['$hubspot_contact_created:epr:$day_of_week']"
      ],
      "metadata": {
        "id": "HfBfuEFJDCit"
      },
      "execution_count": null,
      "outputs": []
    },
    {
      "cell_type": "code",
      "source": [
        "Xy[Xy[c] != 'NULL'][[c, target_key]]"
      ],
      "metadata": {
        "id": "-CTMTtLF8Vwn"
      },
      "execution_count": null,
      "outputs": []
    },
    {
      "cell_type": "code",
      "source": [
        "c = '$hubspot_contact_created:epr:$day_of_week'\n",
        "associations(Xy[Xy[c] != 'NULL'].loc[:, [c, target_key]], cramers_v_bias_correction=False, mark_columns=False, clustering=False, compute_only = True)['corr'].loc[c, target_key]"
      ],
      "metadata": {
        "id": "VfJT0lxf-EmP"
      },
      "execution_count": null,
      "outputs": []
    },
    {
      "cell_type": "code",
      "source": [
        "for c in X_tr_val.columns:\n",
        "    _dict = Counter(X_tr_val[c])\n",
        "    vals = list(sorted(_dict.items(), key=lambda x: -x[1]))\n",
        "    print(c, vals[:5])"
      ],
      "metadata": {
        "id": "ibBif_pPrkjv"
      },
      "execution_count": null,
      "outputs": []
    },
    {
      "cell_type": "code",
      "execution_count": null,
      "metadata": {
        "id": "_I1vJ9GNK14y"
      },
      "outputs": [],
      "source": [
        "import catboost\n",
        "from catboost import *\n",
        "import shap\n",
        "\n",
        "shap_values = model.get_feature_importance(Pool(X, y, cat_features=cat_feat_ids), type='ShapValues')\n",
        "\n",
        "expected_value = shap_values[0,-1]\n",
        "shap_values = shap_values[:,:-1]\n"
      ]
    },
    {
      "cell_type": "code",
      "source": [
        "# U1 --> premium\n",
        "# U2 --> medium\n",
        "# U3 --> low\n",
        "# P(C | features)\n",
        "# P(value)\n",
        "\n",
        "# $clearbit_properties --> $form_submitted"
      ],
      "metadata": {
        "id": "ZuF31XBuCvUm"
      },
      "execution_count": null,
      "outputs": []
    },
    {
      "cell_type": "code",
      "execution_count": null,
      "metadata": {
        "id": "QOg1mXj-LGK3"
      },
      "outputs": [],
      "source": [
        "test_objects = [X.iloc[[0]], X.iloc[[-1]]]\n",
        "test_classes = [y.replace({True: 'C', False: 'NC'}).iloc[0], y.replace({True: 'C', False: 'NC'}).iloc[-2]]\n",
        "\n",
        "for obj, cl in zip(test_objects, test_classes):\n",
        "    print('True class =', cl)\n",
        "    print('Probability of class {} = {:.4f}'.format(model.classes_[1], model.predict_proba(obj)[0][1]))\n",
        "    print('Formula raw prediction = {:.4f}'.format(model.predict(obj, prediction_type='RawFormulaVal')[0]))\n",
        "    print('\\n')\n"
      ]
    },
    {
      "cell_type": "code",
      "execution_count": null,
      "metadata": {
        "id": "h3ZyhEXnMjb3"
      },
      "outputs": [],
      "source": [
        "explainer = shap.Explainer(model)\n",
        "shap_values = explainer(X)\n",
        "i = 0\n",
        "# visualize the first prediction's explanation\n",
        "print('Example {}: {}'.format(i, {True: 'C', False: 'NC'}[y.iloc[i]]))\n",
        "shap.plots.waterfall(shap_values[i])"
      ]
    },
    {
      "cell_type": "code",
      "execution_count": null,
      "metadata": {
        "id": "ajIJNGoORHl5"
      },
      "outputs": [],
      "source": [
        "i = 0\n",
        "print('Example {}: {}'.format(i, {True: 'C', False: 'NC'}[y.iloc[i]]))\n",
        "shap.initjs()\n",
        "shap.plots.force(shap_values[i])"
      ]
    },
    {
      "cell_type": "code",
      "execution_count": null,
      "metadata": {
        "id": "ly3oWKgcQjZR"
      },
      "outputs": [],
      "source": [
        "i = -1\n",
        "print('Example {}: {}'.format(i, {True: 'C', False: 'NC'}[y.iloc[i]]))\n",
        "shap.plots.waterfall(shap_values[i])"
      ]
    },
    {
      "cell_type": "code",
      "execution_count": null,
      "metadata": {
        "id": "NZty5D9KRiRe"
      },
      "outputs": [],
      "source": [
        "i = -1\n",
        "shap.initjs()\n",
        "print('Example {}: {}'.format(i, {True: 'C', False: 'NC'}[y.iloc[i]]))\n",
        "shap.plots.force(shap_values[-1])"
      ]
    },
    {
      "cell_type": "code",
      "execution_count": null,
      "metadata": {
        "id": "0kr-KhdOwQRg"
      },
      "outputs": [],
      "source": [
        "shap.initjs()\n",
        "shap.plots.force(shap_values)"
      ]
    },
    {
      "cell_type": "code",
      "execution_count": null,
      "metadata": {
        "id": "76QuJ59ulBJd"
      },
      "outputs": [],
      "source": [
        "shap.summary_plot(shap_values, X)"
      ]
    },
    {
      "cell_type": "markdown",
      "metadata": {
        "id": "ykYAq-Xoz7VP"
      },
      "source": [
        "## Appendix"
      ]
    },
    {
      "cell_type": "code",
      "execution_count": null,
      "metadata": {
        "id": "AjicUS_O2xuq"
      },
      "outputs": [],
      "source": [
        "# null_perc_thres = 99\n",
        "# ax = vsdf['perc_na'].hist()\n",
        "# ax.set_xlabel('% nulls')\n",
        "# _ = ax.set_title('Histogram of % null features')\n",
        "# print(f'No. of >{null_perc_thres}% null features:', vsdf[vsdf['perc_na'] > null_perc_thres].shape[0], 'of', vsdf.shape[0])\n",
        "# almost_null_feats = set(vsdf[vsdf['perc_na'] > null_perc_thres].index)\n",
        "# X.drop(set(X.columns).intersection(almost_null_feats), axis=1, inplace=True)"
      ]
    },
    {
      "cell_type": "code",
      "execution_count": null,
      "metadata": {
        "id": "hwKaapPzWwPg"
      },
      "outputs": [],
      "source": [
        "!pip install dython --quiet"
      ]
    },
    {
      "cell_type": "code",
      "execution_count": null,
      "metadata": {
        "id": "CiMP_bm3WBo3"
      },
      "outputs": [],
      "source": [
        "from dython.nominal import associations"
      ]
    },
    {
      "cell_type": "code",
      "execution_count": null,
      "metadata": {
        "id": "j8dR6n8GiOUK"
      },
      "outputs": [],
      "source": [
        "# df0 = X[num_features]\n",
        "# dtypes_dict = df0.dtypes.apply(str).to_dict()\n",
        "# X[[f for f in num_features if dtypes_dict[f] == 'object']].iloc[:, 0].value_counts()"
      ]
    },
    {
      "cell_type": "code",
      "execution_count": null,
      "metadata": {
        "id": "_0joJN7zflCJ"
      },
      "outputs": [],
      "source": [
        "pd.crosstab(Xy['$session:epr:$browser'], Xy['class'])"
      ]
    },
    {
      "cell_type": "code",
      "execution_count": null,
      "metadata": {
        "id": "GZPA1K36V6fM"
      },
      "outputs": [],
      "source": [
        "vsdf[vsdf['is_numerable'] == False].sort_values('perc_uniq', ascending=False)"
      ]
    },
    {
      "cell_type": "code",
      "execution_count": null,
      "metadata": {
        "id": "9zV2-19mewcP"
      },
      "outputs": [],
      "source": [
        "Xy[['upr:$user_id', 'class']].fillna('NULL').groupby('class').agg(set)"
      ]
    },
    {
      "cell_type": "code",
      "execution_count": null,
      "metadata": {
        "id": "q4A7VPVI2cbj"
      },
      "outputs": [],
      "source": [
        "# TODO: top frequent values -- with \"other\" bucket -- for long tail\n",
        "# uniq_perc_thres = 90\n",
        "# vsdf[vsdf['perc_na'] <= null_perc_thres]['perc_uniq'].hist()\n",
        "# high_freq_feats = set(vsdf[(vsdf['perc_uniq']>=uniq_perc_thres) & (vsdf['is_numerable'] == False)].index)\n",
        "# vsdf[(vsdf['perc_uniq']>=uniq_perc_thres) & (vsdf['is_numerable'] == False)]"
      ]
    },
    {
      "cell_type": "code",
      "execution_count": null,
      "metadata": {
        "id": "Wr5PP7gmBM2I"
      },
      "outputs": [],
      "source": [
        "# uniq_nnaperc_thres = 90\n",
        "# vsdf[vsdf['perc_na'] <= null_perc_thres]['perc_uniq_nna'].hist()\n",
        "# high_nnafreq_feats = set(vsdf[(vsdf['perc_uniq_nna']>=uniq_nnaperc_thres) & (vsdf['is_numerable'] == False)].index)\n",
        "# vsdf[(vsdf['perc_uniq_nna']>=uniq_nnaperc_thres) & (vsdf['is_numerable'] == False)]"
      ]
    },
    {
      "cell_type": "code",
      "execution_count": null,
      "metadata": {
        "id": "KTo4Dqh0AMGB"
      },
      "outputs": [],
      "source": [
        "# X.drop(set(X.columns).intersection(high_freq_feats.union(high_nnafreq_feats)), axis=1, inplace=True)"
      ]
    },
    {
      "cell_type": "code",
      "execution_count": null,
      "metadata": {
        "id": "2O-BemJujHNl"
      },
      "outputs": [],
      "source": [
        "# Falsify pre-session events:\n",
        "def invalidate_pre_session(x):\n",
        "    session_seen = False\n",
        "    flag_list = []\n",
        "    for e in x:\n",
        "        if e == '$session':\n",
        "            session_seen = True\n",
        "        flag_list.append(session_seen)\n",
        "    return flag_list\n",
        "\n",
        "# Falsify post-target events:\n",
        "def invalidate_post_target(x, target_event):\n",
        "    target_seen = False\n",
        "    flag_list = []\n",
        "    for e in x:\n",
        "        if e == target_event:\n",
        "            target_seen = True\n",
        "        flag_list.append(not target_seen)\n",
        "    return flag_list\n",
        "\n",
        "def class_from_event_stream(e_stream, target_event):\n",
        "    s_index = e_stream.index('$session')\n",
        "    try:\n",
        "        t_index = s_index + e_stream[s_index:].index(target_event)\n",
        "        return True\n",
        "    except ValueError:\n",
        "        return False"
      ]
    },
    {
      "cell_type": "code",
      "execution_count": null,
      "metadata": {
        "id": "_JtbQSEZgPYh"
      },
      "outputs": [],
      "source": [
        "def compute_class(user_event_list):\n",
        "    if '$session' not in user_event_list['en']: # user doesn't have session event at all\n",
        "        return None\n",
        "    if target_event in user_event_list['en']:\n",
        "        return True\n",
        "    return False\n",
        "    \n",
        "# df[['uid', 'en']].groupby('uid').apply(lambda x: None if '$session' not in x['en'] else (target_event in x['en']))"
      ]
    },
    {
      "cell_type": "code",
      "execution_count": null,
      "metadata": {
        "id": "p2WoUXEaxLaK"
      },
      "outputs": [],
      "source": [
        "def get_udf(df, target_event, drop_properties=True):\n",
        "    if drop_properties:\n",
        "        pr_cols = [c for c in df.columns if c.startswith('epr:') or c.startswith('upr:')]\n",
        "        udf = df.drop(pr_cols, axis=1).groupby('uid').agg(list)\n",
        "    else:\n",
        "        # epr_df = pd.DataFrame({i: {f'epr:{k}': v for k, v in kv.items()} for i, kv in df['epr'].to_dict().items()}).T\n",
        "        # upr_df = pd.DataFrame({i: {f'upr:{k}': v for k, v in kv.items()} for i, kv in df['upr'].to_dict().items()}).T\n",
        "        # udf = pd.concat([df.drop(['epr', 'upr'], axis=1), epr_df, upr_df], axis=1).groupby('uid').agg(list)\n",
        "        udf = df.groupby('uid').agg(list)\n",
        "    has_session_filter = udf['en'].apply(lambda x: '$session' in x)\n",
        "    udf = udf[has_session_filter]\n",
        "    return udf"
      ]
    },
    {
      "cell_type": "code",
      "execution_count": null,
      "metadata": {
        "id": "ZbGtBPkkgF5h"
      },
      "outputs": [],
      "source": [
        "udf['class'] = udf['en'].apply(lambda x: class_from_event_stream(x, target_event))\n",
        "\n",
        "    udf['valid_feature_flag'] = udf['en'].apply(lambda x: [True for _ in x])\n",
        "    udf['valid_feature_flag'] = udf[['valid_feature_flag', 'en']].apply(lambda x: [i and j for i, j in zip(x['valid_feature_flag'], invalidate_pre_session(x['en']))], axis=1)\n",
        "    udf['valid_feature_flag'] = udf[['valid_feature_flag', 'en']].apply(lambda x: [i and j for i, j in zip(x['valid_feature_flag'], invalidate_post_target(x['en'], target_event))], axis=1)"
      ]
    },
    {
      "cell_type": "code",
      "execution_count": null,
      "metadata": {
        "id": "nnpib-2QY2xR"
      },
      "outputs": [],
      "source": [
        "udf.shape"
      ]
    },
    {
      "cell_type": "code",
      "execution_count": null,
      "metadata": {
        "id": "k_WjVo6jNNdP"
      },
      "outputs": [],
      "source": [
        "pdf = pd.DataFrame(df['epr'].to_dict()).T\n",
        "pdf"
      ]
    },
    {
      "cell_type": "code",
      "execution_count": null,
      "metadata": {
        "id": "6nUZLhIGrNd1"
      },
      "outputs": [],
      "source": [
        "# target_event = 'www.chargebee.com/pricing'\n",
        "target_event = '$form_submitted'\n",
        "udf = get_udf(df, target_event)\n",
        "\n",
        "udf['features'] = udf.apply(lambda x: compute_features(x, target_event), axis=1)\n",
        "Xy = pd.concat([pd.DataFrame(udf['features'].to_dict()), udf[['class']].T]).T\n",
        "import seaborn as sb\n",
        "corr = Xy.corr()\n",
        "fig, ax = plt.subplots(1, 1, figsize = (12, 7))\n",
        "sb.heatmap(corr, cmap=\"Blues\", annot=True, ax = ax)"
      ]
    },
    {
      "cell_type": "markdown",
      "metadata": {
        "id": "hUfGIuDUQo6v"
      },
      "source": [
        "### Interesting insights -- Sequence\n",
        "### Clearbit data could be better predictors\n",
        "\n",
        "### Features:\n",
        "- Standard collapsing for numerical\n",
        "- Last event properties (event and user properties)\n",
        "- Which event, # times, properties (latest)\n",
        "- Prefix user- and event-properties with upr and epr,\n",
        "- Prefix event properties with the \"event name\"\n",
        "- Conversion period - next 14 days\n",
        "- Feature period - first 1 hour\n",
        "- e_name, #times, #epr [1 hour]\n",
        "- "
      ]
    },
    {
      "cell_type": "code",
      "execution_count": null,
      "metadata": {
        "id": "3BW8A_-dUoco"
      },
      "outputs": [],
      "source": [
        "pd.concat([df[['uid']], pd.DataFrame(df['epr'].to_dict()), pd.DataFrame(df['upr'].to_dict())])"
      ]
    },
    {
      "cell_type": "markdown",
      "metadata": {
        "id": "zv7TCDnaVgHo"
      },
      "source": [
        "1. session -> chargebee.com(1) -> pricing -> chargebee.com(2) (first 1 hour)\n",
        "2. blog -> session -> form_submitted (1 day later)\n",
        "3. demo_booked -> (7 days later)\n",
        "\n",
        "Training:\n",
        "Feature data: 1\n",
        "vector1: {'session': 1, 'chargebee.com': 2, 'pricing': 1, }\n",
        "vector2: {'session_page_count': 5, 'chargebee.com_page_load_time': 2 (latest chargebee.com), 'pricing_page_spent_time': 5}\n",
        "vector3: {'up_first_campaign': } [user properties]\n",
        "Label: 1,2,3\n",
        "\n",
        "- Ensure train and test gets the same scale, etc."
      ]
    },
    {
      "cell_type": "code",
      "execution_count": null,
      "metadata": {
        "id": "0b2MfMBmVPmh"
      },
      "outputs": [],
      "source": [
        "# list(sorted(pdf.columns))"
      ]
    },
    {
      "cell_type": "code",
      "execution_count": null,
      "metadata": {
        "id": "4yDAj17eYifG"
      },
      "outputs": [],
      "source": [
        "# cs = list(Xy.columns)\n",
        "# i = 0\n",
        "# ax = (Xy[cs[i]]).hist(); ax.set_yscale('log')\n",
        "# # ax.set_xscale('log')\n",
        "# p = np.percentile(Xy[cs[i]], 99.5)\n",
        "# print(cs[i])\n",
        "# print(p)\n",
        "# # Xy[Xy[cs[0]] >= p]['class'].value_counts()"
      ]
    },
    {
      "cell_type": "code",
      "execution_count": null,
      "metadata": {
        "id": "xVwaXm1SBxk5"
      },
      "outputs": [],
      "source": [
        "label = 'class'\n",
        "features = list(sorted(set(Xy.columns).difference({label})))\n",
        "print('Features:', features)\n",
        "print('Label:', label)\n",
        "X, y = Xy[features], Xy[label]\n",
        "\n",
        "import sklearn\n",
        "le = sklearn.preprocessing.LabelEncoder()\n",
        "le.fit(y)\n",
        "y = le.transform(y)"
      ]
    },
    {
      "cell_type": "code",
      "execution_count": null,
      "metadata": {
        "id": "lSDA6MP5p9SX"
      },
      "outputs": [],
      "source": [
        "from sklearn.ensemble import RandomForestClassifier\n",
        "from sklearn.model_selection import StratifiedKFold, train_test_split, cross_validate\n",
        "from sklearn.metrics import accuracy_score, confusion_matrix, auc, precision_score, recall_score, roc_auc_score\n",
        "\n",
        "def find_auc(est, X, y):\n",
        "    y_pred = est.predict_proba(X)[:,1]\n",
        "    return roc_auc_score(y, y_pred)\n",
        "def find_acc(est, X, y):\n",
        "    y_pred = est.predict(X)\n",
        "    return accuracy_score(y, y_pred)\n",
        "\n",
        "seed = 0\n",
        "X_train, X_test, y_train, y_test = train_test_split(X, y, test_size=0.2, random_state=seed)\n",
        "ncv = 10\n",
        "skf = StratifiedKFold(n_splits=ncv, random_state=seed, shuffle=True)\n",
        "skf.get_n_splits(X_train, y_train)\n",
        "\n",
        "\n",
        "base_clf = RandomForestClassifier(random_state = seed)\n",
        "scores = cross_validate(base_clf, X_train, y_train, cv=skf, scoring={'auc': find_auc, 'acc': find_acc}, return_train_score=True)\n",
        "tr_auc, val_auc = scores['train_auc'].mean(), scores['test_auc'].mean()\n",
        "tr_acc, val_acc = scores['train_acc'].mean(), scores['test_acc'].mean()\n",
        "print('BASE MODEL:')\n",
        "print(f'Train AUC: {round(tr_auc*100, 2)}%', f'Val AUC: {round(val_auc*100, 2)}%')\n",
        "print(f'Train Acc: {round(tr_acc*100, 2)}%', f'Val Acc: {round(val_acc*100, 2)}%')"
      ]
    },
    {
      "cell_type": "code",
      "execution_count": null,
      "metadata": {
        "id": "FT2N5AiKGi2s"
      },
      "outputs": [],
      "source": [
        "from sklearn.base import clone\n",
        "rf = clone(base_clf)\n",
        "rf.fit(X_train, y_train)\n",
        "auc = find_auc(rf, (X_test), y_test)\n",
        "acc = find_acc(rf, (X_test), y_test)\n",
        "print(f'AUC: {round(auc*100, 2)}%', f'Accuracy: {round(acc*100, 2)}%')"
      ]
    },
    {
      "cell_type": "code",
      "execution_count": null,
      "metadata": {
        "id": "GfZHDpA-FPjq"
      },
      "outputs": [],
      "source": [
        "!pip install treeinterpreter"
      ]
    },
    {
      "cell_type": "code",
      "execution_count": null,
      "metadata": {
        "id": "b35PyabFD993"
      },
      "outputs": [],
      "source": [
        "from treeinterpreter import treeinterpreter as ti\n",
        "\n",
        "prediction, bias, contributions = ti.predict(rf, X_train)"
      ]
    },
    {
      "cell_type": "code",
      "execution_count": null,
      "metadata": {
        "id": "lJQpcAaOHn4H"
      },
      "outputs": [],
      "source": [
        "i = [0, 1, 2, 3]\n",
        "X_train.iloc[i, :]\n",
        "prediction[i], contributions[i, :, 1], y_train[i]"
      ]
    },
    {
      "cell_type": "code",
      "execution_count": null,
      "metadata": {
        "id": "4Ab7FzVkHKyK"
      },
      "outputs": [],
      "source": [
        "print(X_train.shape, contributions.shape)\n",
        "contributions[0, :]"
      ]
    },
    {
      "cell_type": "code",
      "execution_count": null,
      "metadata": {
        "id": "Mxl_ZPGeKqw0"
      },
      "outputs": [],
      "source": [
        "rf.predict(X_train.iloc[[0], :])"
      ]
    },
    {
      "cell_type": "markdown",
      "metadata": {
        "id": "kZhgqj7_Kmzl"
      },
      "source": [
        "## Appendix"
      ]
    },
    {
      "cell_type": "markdown",
      "metadata": {
        "id": "hRmG3pahlctF"
      },
      "source": [
        "## Compute Features:\n",
        "- 'num_int': Total number of interactions (events)\n",
        "- 'num_sess': Total number of sessions\n",
        "- 'num_uniq_events': Number of unique events\n",
        "- 'tsinterd': Total inter-session time-duration\n",
        "- 'tsintrad': Total intra-session time-duration\n",
        "- 'tsinacd': Total inactivity time-duration\n",
        "- 'msinterd': Mean inter-session time-duration\n",
        "- 'msintrad': Mean intra-session time-duration\n",
        "- 'msinacd': Mean inactivity time-duration"
      ]
    },
    {
      "cell_type": "code",
      "execution_count": null,
      "metadata": {
        "id": "bR391grO0bzz"
      },
      "outputs": [],
      "source": [
        "from datetime import datetime\n",
        "def explore_session_times(events, times):\n",
        "    session_indicator = [e == '$session' for e in events]\n",
        "\n",
        "    session = []\n",
        "    sessions = []\n",
        "    for i in range(len(session_indicator)):\n",
        "        if session_indicator[i] and len(session) > 0:\n",
        "            sessions.append(session)\n",
        "            session = []\n",
        "        session.append((events[i], datetime.utcfromtimestamp(times[i])))\n",
        "    sessions.append(session)\n",
        "    presess_inter_dur = 0\n",
        "    presess_intra_dur = 0\n",
        "    presess_inactive_dur = 0\n",
        "    first_session = sessions[0]\n",
        "    if first_session[0][0] != '$session':\n",
        "        second_session = sessions[1]\n",
        "        presess_inter_dur = (second_session[0][1] - first_session[0][1]).total_seconds()\n",
        "        presess_intra_dur = (first_session[-1][1] - first_session[0][1]).total_seconds()\n",
        "        presess_inactive_dur = presess_inter_dur - presess_intra_dur\n",
        "        del sessions[0]\n",
        "    intra_durs = []\n",
        "    inter_durs = []\n",
        "    inactive_durs = []\n",
        "    for i in range(len(sessions)-1):\n",
        "        this_session = sessions[i]\n",
        "        next_session = sessions[i+1]\n",
        "        inter_dur = (next_session[0][1] - this_session[0][1]).total_seconds()\n",
        "        intra_dur = (this_session[-1][1] - this_session[0][1]).total_seconds()\n",
        "        inactive_dur = inter_dur - intra_dur\n",
        "        intra_durs.append(intra_dur)\n",
        "        inter_durs.append(inter_dur)\n",
        "        inactive_durs.append(inactive_dur)\n",
        "    last_session = sessions[-1]\n",
        "    inter_dur = (last_session[-1][1] - last_session[0][1]).total_seconds()\n",
        "    intra_dur = (last_session[-1][1] - last_session[0][1]).total_seconds()\n",
        "    inactive_dur = (inter_dur - intra_dur)\n",
        "    intra_durs.append(intra_dur)\n",
        "    inter_durs.append(inter_dur)\n",
        "    inactive_durs.append(inactive_dur)\n",
        "    \n",
        "    tot_sess_inter_dur = np.sum(inter_durs)\n",
        "    tot_sess_intra_dur = np.sum(intra_durs)\n",
        "    tot_sess_inactive_dur = np.sum(inactive_durs)\n",
        "    \n",
        "    tot_inter_dur = presess_inter_dur + tot_sess_inter_dur\n",
        "    tot_intra_dur = presess_intra_dur + tot_sess_intra_dur\n",
        "    tot_inactive_dur = presess_inactive_dur + tot_sess_inactive_dur\n",
        "\n",
        "    mean_sess_inter_dur = np.mean(inter_durs)\n",
        "    mean_sess_intra_dur = np.mean(intra_durs)\n",
        "    mean_sess_inactive_dur = np.mean(inactive_durs)\n",
        "    return tot_inter_dur, tot_intra_dur, tot_inactive_dur,\\\n",
        "           tot_sess_inter_dur, tot_sess_intra_dur, tot_sess_inactive_dur,\\\n",
        "           mean_sess_inter_dur, mean_sess_intra_dur, mean_sess_inactive_dur,\\\n",
        "           presess_inter_dur, presess_intra_dur, presess_inactive_dur\n",
        "\n",
        "def compute_features(_x, target_event):\n",
        "    x = {k: [v[i] for i in range(len(v)) if _x['valid_feature_flag'][i]] for k, v in _x.items() if isinstance(v, list)}\n",
        "    num_interactions = len(x['en'])\n",
        "    num_sessions = len([i for i in x['en'] if i == '$session'])\n",
        "    num_uniq_events = len(set(x['en']))\n",
        "    try:\n",
        "        tinterd, tintrad, tinacd, tsinterd, tsintrad, tsinacd, msinterd, msintrad, msinacd, psinterd, psintrad, psinacd = explore_session_times(x['en'], x['et'])\n",
        "    except IndexError:\n",
        "\n",
        "        tinterd, tintrad, tinacd, tsinterd, tsintrad, tsinacd, msinterd, msintrad, msinacd, psinterd, psintrad, psinacd = (None for _ in range(9))\n",
        "    return {'num_int': num_interactions,\n",
        "            'num_sess': num_sessions,\n",
        "            'num_uniq_events': num_uniq_events,\n",
        "            # 'tinterd': tinterd,\n",
        "            # 'tintrad': tintrad,\n",
        "            # 'tinacd': tinacd,\n",
        "            'tsinterd': tsinterd / 3600,\n",
        "            'tsintrad': tsintrad / 3600,\n",
        "            'tsinacd': tsinacd / 3600,\n",
        "            'msinterd': msinterd / 3600,\n",
        "            'msintrad': msintrad / 3600,\n",
        "            'msinacd': msinacd / 3600,\n",
        "            # 'psinterd': psinterd,\n",
        "            # 'psintrad': psintrad,\n",
        "            # 'psinacd': psinacd\n",
        "            }\n"
      ]
    },
    {
      "cell_type": "code",
      "execution_count": null,
      "metadata": {
        "id": "2kC_Ugd4rZbS"
      },
      "outputs": [],
      "source": [
        "from functools import reduce\n",
        "def merge_events(events):\n",
        "    keys = reduce(lambda x, y: x.union(y), [set(e.keys()) for e in events])\n",
        "    merged_event = {k: [] for k in keys}\n",
        "    for e in events:\n",
        "        for k in keys:\n",
        "            merged_event[k].append(e.get(k, None))\n",
        "    return merged_event\n",
        "\n",
        "merged_data = {}\n",
        "for events in sampled_data:\n",
        "    uid = events[0]['uid']\n",
        "    merged_data[uid] = merge_events(events)"
      ]
    },
    {
      "cell_type": "code",
      "execution_count": null,
      "metadata": {
        "id": "IADZrTd_wEhr"
      },
      "outputs": [],
      "source": [
        "pd.DataFrame(merged_data).T"
      ]
    },
    {
      "cell_type": "code",
      "execution_count": null,
      "metadata": {
        "id": "NQMfhyd0nUvZ"
      },
      "outputs": [],
      "source": [
        "import numpy as np\n",
        "np.sum(list(user_events_count_dist.values()), axis=0)"
      ]
    },
    {
      "cell_type": "code",
      "execution_count": null,
      "metadata": {
        "id": "AsvDiBSHmC_A"
      },
      "outputs": [],
      "source": [
        "from matplotlib import pyplot as plt\n",
        "X, Y = zip(*user_events_count_dist.items())\n",
        "plt.bar(X, Y)"
      ]
    },
    {
      "cell_type": "code",
      "execution_count": null,
      "metadata": {
        "id": "SNIJ9Zy1ONP_"
      },
      "outputs": [],
      "source": []
    },
    {
      "cell_type": "markdown",
      "metadata": {
        "id": "0ENMqxq25szn"
      },
      "source": [
        "## Python API\n",
        "\n",
        "These snippets based on <a href=\"https://github.com/GoogleCloudPlatform/storage-file-transfer-json-python/blob/master/chunked_transfer.py\">a larger example</a> that shows additional uses of the API.\n",
        "\n",
        "First, we create the service client."
      ]
    },
    {
      "cell_type": "code",
      "execution_count": null,
      "metadata": {
        "id": "wkJ5ShIgceqI"
      },
      "outputs": [],
      "source": [
        "# from googleapiclient.discovery import build\n",
        "# gcs_service = build('storage', 'v1')"
      ]
    },
    {
      "cell_type": "markdown",
      "metadata": {
        "id": "R1Hyoh07gQHY"
      },
      "source": [
        "Create a local file to upload."
      ]
    },
    {
      "cell_type": "code",
      "execution_count": null,
      "metadata": {
        "id": "s1htTNVlgQHe"
      },
      "outputs": [],
      "source": [
        "# with open('/tmp/to_upload.txt', 'w') as f:\n",
        "#   f.write('my sample file')\n",
        "\n",
        "# print('/tmp/to_upload.txt contains:')\n",
        "# !cat /tmp/to_upload.txt"
      ]
    },
    {
      "cell_type": "markdown",
      "metadata": {
        "id": "YJKBHaUlgDhl"
      },
      "source": [
        "Create a bucket in the project specified above."
      ]
    },
    {
      "cell_type": "code",
      "execution_count": null,
      "metadata": {
        "id": "YFVbF4cdhd9Y"
      },
      "outputs": [],
      "source": [
        "# # Use a different globally unique bucket name from the gsutil example above.\n",
        "# import uuid\n",
        "# bucket_name = 'colab-sample-bucket-' + str(uuid.uuid1())\n",
        "\n",
        "# body = {\n",
        "#   'name': bucket_name,\n",
        "#   # For a full list of locations, see:\n",
        "#   # https://cloud.google.com/storage/docs/bucket-locations\n",
        "#   'location': 'us',\n",
        "# }\n",
        "# gcs_service.buckets().insert(project=project_id, body=body).execute()\n",
        "# print('Done')"
      ]
    },
    {
      "cell_type": "markdown",
      "metadata": {
        "id": "ppkrR7p4mx_P"
      },
      "source": [
        "Upload the file to our newly created bucket."
      ]
    },
    {
      "cell_type": "code",
      "execution_count": null,
      "metadata": {
        "id": "cFAq-F2af5TJ"
      },
      "outputs": [],
      "source": [
        "# from googleapiclient.http import MediaFileUpload\n",
        "\n",
        "# media = MediaFileUpload('/tmp/to_upload.txt', \n",
        "#                         mimetype='text/plain',\n",
        "#                         resumable=True)\n",
        "\n",
        "# request = gcs_service.objects().insert(bucket=bucket_name, \n",
        "#                                        name='to_upload.txt',\n",
        "#                                        media_body=media)\n",
        "\n",
        "# response = None\n",
        "# while response is None:\n",
        "#   # _ is a placeholder for a progress object that we ignore.\n",
        "#   # (Our file is small, so we skip reporting progress.)\n",
        "#   _, response = request.next_chunk()\n",
        "\n",
        "# print('Upload complete')"
      ]
    },
    {
      "cell_type": "code",
      "execution_count": null,
      "metadata": {
        "id": "Lvz1BspfpvTl"
      },
      "outputs": [],
      "source": [
        "#@markdown Once the upload has finished, the data will appear in the Cloud Console storage browser for your project:\n",
        "print('https://console.cloud.google.com/storage/browser?project=' + project_id)"
      ]
    },
    {
      "cell_type": "markdown",
      "metadata": {
        "id": "P6aWjfTv7bit"
      },
      "source": [
        "Download the file that we just uploaded."
      ]
    },
    {
      "cell_type": "code",
      "execution_count": null,
      "metadata": {
        "id": "z1_FuDjAozF1"
      },
      "outputs": [],
      "source": [
        "from apiclient.http import MediaIoBaseDownload\n",
        "\n",
        "with open('/tmp/downloaded_from_gcs.txt', 'wb') as f:\n",
        "  request = gcs_service.objects().get_media(bucket=bucket_name,\n",
        "                                            object='to_upload.txt')\n",
        "  media = MediaIoBaseDownload(f, request)\n",
        "\n",
        "  done = False\n",
        "  while not done:\n",
        "    # _ is a placeholder for a progress object that we ignore.\n",
        "    # (Our file is small, so we skip reporting progress.)\n",
        "    _, done = media.next_chunk()\n",
        "\n",
        "print('Download complete')"
      ]
    },
    {
      "cell_type": "markdown",
      "metadata": {
        "id": "OnjWcDFogdY2"
      },
      "source": [
        "Inspect the downloaded file.\n"
      ]
    },
    {
      "cell_type": "code",
      "execution_count": null,
      "metadata": {
        "id": "DxLyhaiBpAGX"
      },
      "outputs": [],
      "source": [
        "!cat /tmp/downloaded_from_gcs.txt"
      ]
    }
  ],
  "metadata": {
    "colab": {
      "collapsed_sections": [
        "hbVNR9OGBXaO",
        "MQSPYI99_34f",
        "ZLdfB_t6_7iq",
        "-V0nEB3J9XPD",
        "2Z9JUaWm9gLl",
        "s56ySREH9rcW",
        "DPEWlUWSPiMf",
        "VhtfgMRh-Ari",
        "KF5Xm8W8_zgh",
        "mcBgbj5NAfRS",
        "ifwXlPWlA6M1",
        "IkND4rOGrQkl",
        "fDz1WZoqCG-Y",
        "94YTs3MDCpIY",
        "9N6_xuNErdE9",
        "R-H0EdAiAeYV",
        "5grnHElVX27S",
        "UiPMGaQ_Xxeb",
        "FCFLJOytEndO",
        "LXLhJSP-Fdlw",
        "ejRT0ayZF0Kh",
        "4_OkMXk-F-Bu",
        "Ge2nmOL9GCVS",
        "N18craWbGOOd",
        "kSgqBdOWGyQF",
        "OukSnCzwRo11",
        "oHo9nBzhSI6z",
        "jS6sDGF6cXcQ",
        "cVSdy8KqHElH",
        "WXDAnUAJatKy",
        "4A7NInSZ_1tC",
        "DlAr8Nt2E60R",
        "RJnOh4fjE_Lc",
        "bp2OSiaxFEW9",
        "4pHAxJ43FgCb",
        "p1FfYj2CiJUz",
        "UNNbVInCz7lR",
        "jfTwIxJnMTKQ",
        "ykYAq-Xoz7VP",
        "hUfGIuDUQo6v",
        "kZhgqj7_Kmzl",
        "hRmG3pahlctF",
        "0ENMqxq25szn"
      ],
      "machine_shape": "hm",
      "provenance": []
    },
    "kernelspec": {
      "display_name": "Python 3",
      "name": "python3"
    },
    "widgets": {
      "application/vnd.jupyter.widget-state+json": {
        "45c4d6bdb88649c68b5992e69da24655": {
          "model_module": "@jupyter-widgets/controls",
          "model_name": "HBoxModel",
          "model_module_version": "1.5.0",
          "state": {
            "_dom_classes": [],
            "_model_module": "@jupyter-widgets/controls",
            "_model_module_version": "1.5.0",
            "_model_name": "HBoxModel",
            "_view_count": null,
            "_view_module": "@jupyter-widgets/controls",
            "_view_module_version": "1.5.0",
            "_view_name": "HBoxView",
            "box_style": "",
            "children": [
              "IPY_MODEL_63059d0b28644f6890aa983768db418a",
              "IPY_MODEL_336f5ff5ec714746ade77f62e82265eb",
              "IPY_MODEL_0f1ce3ebe0b84a269c73f5f1e24d8efe"
            ],
            "layout": "IPY_MODEL_8f617b81773f4a50841f8bb62fdcd788"
          }
        },
        "63059d0b28644f6890aa983768db418a": {
          "model_module": "@jupyter-widgets/controls",
          "model_name": "HTMLModel",
          "model_module_version": "1.5.0",
          "state": {
            "_dom_classes": [],
            "_model_module": "@jupyter-widgets/controls",
            "_model_module_version": "1.5.0",
            "_model_name": "HTMLModel",
            "_view_count": null,
            "_view_module": "@jupyter-widgets/controls",
            "_view_module_version": "1.5.0",
            "_view_name": "HTMLView",
            "description": "",
            "description_tooltip": null,
            "layout": "IPY_MODEL_419c9226f02d4b10b222d87586ca4ff8",
            "placeholder": "​",
            "style": "IPY_MODEL_b8cae1bc7c3842a2a321c0fa501109d8",
            "value": "100%"
          }
        },
        "336f5ff5ec714746ade77f62e82265eb": {
          "model_module": "@jupyter-widgets/controls",
          "model_name": "FloatProgressModel",
          "model_module_version": "1.5.0",
          "state": {
            "_dom_classes": [],
            "_model_module": "@jupyter-widgets/controls",
            "_model_module_version": "1.5.0",
            "_model_name": "FloatProgressModel",
            "_view_count": null,
            "_view_module": "@jupyter-widgets/controls",
            "_view_module_version": "1.5.0",
            "_view_name": "ProgressView",
            "bar_style": "success",
            "description": "",
            "description_tooltip": null,
            "layout": "IPY_MODEL_916a9c4d8f8943a89e1a75135fd45656",
            "max": 66146,
            "min": 0,
            "orientation": "horizontal",
            "style": "IPY_MODEL_d08e561c789d4bb681a5878f74f824c4",
            "value": 66146
          }
        },
        "0f1ce3ebe0b84a269c73f5f1e24d8efe": {
          "model_module": "@jupyter-widgets/controls",
          "model_name": "HTMLModel",
          "model_module_version": "1.5.0",
          "state": {
            "_dom_classes": [],
            "_model_module": "@jupyter-widgets/controls",
            "_model_module_version": "1.5.0",
            "_model_name": "HTMLModel",
            "_view_count": null,
            "_view_module": "@jupyter-widgets/controls",
            "_view_module_version": "1.5.0",
            "_view_name": "HTMLView",
            "description": "",
            "description_tooltip": null,
            "layout": "IPY_MODEL_ba5cf0d00c094903bcfb0d1dc4542f9a",
            "placeholder": "​",
            "style": "IPY_MODEL_807c0b9f2b8d4ed3bcaf91993cbe1834",
            "value": " 66146/66146 [00:06&lt;00:00, 8526.98it/s]"
          }
        },
        "8f617b81773f4a50841f8bb62fdcd788": {
          "model_module": "@jupyter-widgets/base",
          "model_name": "LayoutModel",
          "model_module_version": "1.2.0",
          "state": {
            "_model_module": "@jupyter-widgets/base",
            "_model_module_version": "1.2.0",
            "_model_name": "LayoutModel",
            "_view_count": null,
            "_view_module": "@jupyter-widgets/base",
            "_view_module_version": "1.2.0",
            "_view_name": "LayoutView",
            "align_content": null,
            "align_items": null,
            "align_self": null,
            "border": null,
            "bottom": null,
            "display": null,
            "flex": null,
            "flex_flow": null,
            "grid_area": null,
            "grid_auto_columns": null,
            "grid_auto_flow": null,
            "grid_auto_rows": null,
            "grid_column": null,
            "grid_gap": null,
            "grid_row": null,
            "grid_template_areas": null,
            "grid_template_columns": null,
            "grid_template_rows": null,
            "height": null,
            "justify_content": null,
            "justify_items": null,
            "left": null,
            "margin": null,
            "max_height": null,
            "max_width": null,
            "min_height": null,
            "min_width": null,
            "object_fit": null,
            "object_position": null,
            "order": null,
            "overflow": null,
            "overflow_x": null,
            "overflow_y": null,
            "padding": null,
            "right": null,
            "top": null,
            "visibility": null,
            "width": null
          }
        },
        "419c9226f02d4b10b222d87586ca4ff8": {
          "model_module": "@jupyter-widgets/base",
          "model_name": "LayoutModel",
          "model_module_version": "1.2.0",
          "state": {
            "_model_module": "@jupyter-widgets/base",
            "_model_module_version": "1.2.0",
            "_model_name": "LayoutModel",
            "_view_count": null,
            "_view_module": "@jupyter-widgets/base",
            "_view_module_version": "1.2.0",
            "_view_name": "LayoutView",
            "align_content": null,
            "align_items": null,
            "align_self": null,
            "border": null,
            "bottom": null,
            "display": null,
            "flex": null,
            "flex_flow": null,
            "grid_area": null,
            "grid_auto_columns": null,
            "grid_auto_flow": null,
            "grid_auto_rows": null,
            "grid_column": null,
            "grid_gap": null,
            "grid_row": null,
            "grid_template_areas": null,
            "grid_template_columns": null,
            "grid_template_rows": null,
            "height": null,
            "justify_content": null,
            "justify_items": null,
            "left": null,
            "margin": null,
            "max_height": null,
            "max_width": null,
            "min_height": null,
            "min_width": null,
            "object_fit": null,
            "object_position": null,
            "order": null,
            "overflow": null,
            "overflow_x": null,
            "overflow_y": null,
            "padding": null,
            "right": null,
            "top": null,
            "visibility": null,
            "width": null
          }
        },
        "b8cae1bc7c3842a2a321c0fa501109d8": {
          "model_module": "@jupyter-widgets/controls",
          "model_name": "DescriptionStyleModel",
          "model_module_version": "1.5.0",
          "state": {
            "_model_module": "@jupyter-widgets/controls",
            "_model_module_version": "1.5.0",
            "_model_name": "DescriptionStyleModel",
            "_view_count": null,
            "_view_module": "@jupyter-widgets/base",
            "_view_module_version": "1.2.0",
            "_view_name": "StyleView",
            "description_width": ""
          }
        },
        "916a9c4d8f8943a89e1a75135fd45656": {
          "model_module": "@jupyter-widgets/base",
          "model_name": "LayoutModel",
          "model_module_version": "1.2.0",
          "state": {
            "_model_module": "@jupyter-widgets/base",
            "_model_module_version": "1.2.0",
            "_model_name": "LayoutModel",
            "_view_count": null,
            "_view_module": "@jupyter-widgets/base",
            "_view_module_version": "1.2.0",
            "_view_name": "LayoutView",
            "align_content": null,
            "align_items": null,
            "align_self": null,
            "border": null,
            "bottom": null,
            "display": null,
            "flex": null,
            "flex_flow": null,
            "grid_area": null,
            "grid_auto_columns": null,
            "grid_auto_flow": null,
            "grid_auto_rows": null,
            "grid_column": null,
            "grid_gap": null,
            "grid_row": null,
            "grid_template_areas": null,
            "grid_template_columns": null,
            "grid_template_rows": null,
            "height": null,
            "justify_content": null,
            "justify_items": null,
            "left": null,
            "margin": null,
            "max_height": null,
            "max_width": null,
            "min_height": null,
            "min_width": null,
            "object_fit": null,
            "object_position": null,
            "order": null,
            "overflow": null,
            "overflow_x": null,
            "overflow_y": null,
            "padding": null,
            "right": null,
            "top": null,
            "visibility": null,
            "width": null
          }
        },
        "d08e561c789d4bb681a5878f74f824c4": {
          "model_module": "@jupyter-widgets/controls",
          "model_name": "ProgressStyleModel",
          "model_module_version": "1.5.0",
          "state": {
            "_model_module": "@jupyter-widgets/controls",
            "_model_module_version": "1.5.0",
            "_model_name": "ProgressStyleModel",
            "_view_count": null,
            "_view_module": "@jupyter-widgets/base",
            "_view_module_version": "1.2.0",
            "_view_name": "StyleView",
            "bar_color": null,
            "description_width": ""
          }
        },
        "ba5cf0d00c094903bcfb0d1dc4542f9a": {
          "model_module": "@jupyter-widgets/base",
          "model_name": "LayoutModel",
          "model_module_version": "1.2.0",
          "state": {
            "_model_module": "@jupyter-widgets/base",
            "_model_module_version": "1.2.0",
            "_model_name": "LayoutModel",
            "_view_count": null,
            "_view_module": "@jupyter-widgets/base",
            "_view_module_version": "1.2.0",
            "_view_name": "LayoutView",
            "align_content": null,
            "align_items": null,
            "align_self": null,
            "border": null,
            "bottom": null,
            "display": null,
            "flex": null,
            "flex_flow": null,
            "grid_area": null,
            "grid_auto_columns": null,
            "grid_auto_flow": null,
            "grid_auto_rows": null,
            "grid_column": null,
            "grid_gap": null,
            "grid_row": null,
            "grid_template_areas": null,
            "grid_template_columns": null,
            "grid_template_rows": null,
            "height": null,
            "justify_content": null,
            "justify_items": null,
            "left": null,
            "margin": null,
            "max_height": null,
            "max_width": null,
            "min_height": null,
            "min_width": null,
            "object_fit": null,
            "object_position": null,
            "order": null,
            "overflow": null,
            "overflow_x": null,
            "overflow_y": null,
            "padding": null,
            "right": null,
            "top": null,
            "visibility": null,
            "width": null
          }
        },
        "807c0b9f2b8d4ed3bcaf91993cbe1834": {
          "model_module": "@jupyter-widgets/controls",
          "model_name": "DescriptionStyleModel",
          "model_module_version": "1.5.0",
          "state": {
            "_model_module": "@jupyter-widgets/controls",
            "_model_module_version": "1.5.0",
            "_model_name": "DescriptionStyleModel",
            "_view_count": null,
            "_view_module": "@jupyter-widgets/base",
            "_view_module_version": "1.2.0",
            "_view_name": "StyleView",
            "description_width": ""
          }
        },
        "bede75def90c4e9c9481c67155f50c3a": {
          "model_module": "@jupyter-widgets/controls",
          "model_name": "HBoxModel",
          "model_module_version": "1.5.0",
          "state": {
            "_dom_classes": [],
            "_model_module": "@jupyter-widgets/controls",
            "_model_module_version": "1.5.0",
            "_model_name": "HBoxModel",
            "_view_count": null,
            "_view_module": "@jupyter-widgets/controls",
            "_view_module_version": "1.5.0",
            "_view_name": "HBoxView",
            "box_style": "",
            "children": [
              "IPY_MODEL_7bd551fbe94e4ff68480800488ce128c",
              "IPY_MODEL_a63e3d3aee5949fc87f0713d4966f612",
              "IPY_MODEL_beab19db164d441888d64afdd5a16c4e"
            ],
            "layout": "IPY_MODEL_e2a3bd980bee4c9b81ea94e36e4427e9"
          }
        },
        "7bd551fbe94e4ff68480800488ce128c": {
          "model_module": "@jupyter-widgets/controls",
          "model_name": "HTMLModel",
          "model_module_version": "1.5.0",
          "state": {
            "_dom_classes": [],
            "_model_module": "@jupyter-widgets/controls",
            "_model_module_version": "1.5.0",
            "_model_name": "HTMLModel",
            "_view_count": null,
            "_view_module": "@jupyter-widgets/controls",
            "_view_module_version": "1.5.0",
            "_view_name": "HTMLView",
            "description": "",
            "description_tooltip": null,
            "layout": "IPY_MODEL_c0974c1fc8484d9e96d802243fc95947",
            "placeholder": "​",
            "style": "IPY_MODEL_3901ea774b474aa8987ca75fe3998fc0",
            "value": "100%"
          }
        },
        "a63e3d3aee5949fc87f0713d4966f612": {
          "model_module": "@jupyter-widgets/controls",
          "model_name": "FloatProgressModel",
          "model_module_version": "1.5.0",
          "state": {
            "_dom_classes": [],
            "_model_module": "@jupyter-widgets/controls",
            "_model_module_version": "1.5.0",
            "_model_name": "FloatProgressModel",
            "_view_count": null,
            "_view_module": "@jupyter-widgets/controls",
            "_view_module_version": "1.5.0",
            "_view_name": "ProgressView",
            "bar_style": "success",
            "description": "",
            "description_tooltip": null,
            "layout": "IPY_MODEL_46536baf354a4137bc1961ee6042ca8e",
            "max": 3226,
            "min": 0,
            "orientation": "horizontal",
            "style": "IPY_MODEL_710188232d3e46aea7945f6a7905d639",
            "value": 3226
          }
        },
        "beab19db164d441888d64afdd5a16c4e": {
          "model_module": "@jupyter-widgets/controls",
          "model_name": "HTMLModel",
          "model_module_version": "1.5.0",
          "state": {
            "_dom_classes": [],
            "_model_module": "@jupyter-widgets/controls",
            "_model_module_version": "1.5.0",
            "_model_name": "HTMLModel",
            "_view_count": null,
            "_view_module": "@jupyter-widgets/controls",
            "_view_module_version": "1.5.0",
            "_view_name": "HTMLView",
            "description": "",
            "description_tooltip": null,
            "layout": "IPY_MODEL_52f1f624b2164f539daaf532c176d839",
            "placeholder": "​",
            "style": "IPY_MODEL_7ffb1aff025c484c9bc5ff6cf03e0f6b",
            "value": " 3226/3226 [00:03&lt;00:00, 1125.00it/s]"
          }
        },
        "e2a3bd980bee4c9b81ea94e36e4427e9": {
          "model_module": "@jupyter-widgets/base",
          "model_name": "LayoutModel",
          "model_module_version": "1.2.0",
          "state": {
            "_model_module": "@jupyter-widgets/base",
            "_model_module_version": "1.2.0",
            "_model_name": "LayoutModel",
            "_view_count": null,
            "_view_module": "@jupyter-widgets/base",
            "_view_module_version": "1.2.0",
            "_view_name": "LayoutView",
            "align_content": null,
            "align_items": null,
            "align_self": null,
            "border": null,
            "bottom": null,
            "display": null,
            "flex": null,
            "flex_flow": null,
            "grid_area": null,
            "grid_auto_columns": null,
            "grid_auto_flow": null,
            "grid_auto_rows": null,
            "grid_column": null,
            "grid_gap": null,
            "grid_row": null,
            "grid_template_areas": null,
            "grid_template_columns": null,
            "grid_template_rows": null,
            "height": null,
            "justify_content": null,
            "justify_items": null,
            "left": null,
            "margin": null,
            "max_height": null,
            "max_width": null,
            "min_height": null,
            "min_width": null,
            "object_fit": null,
            "object_position": null,
            "order": null,
            "overflow": null,
            "overflow_x": null,
            "overflow_y": null,
            "padding": null,
            "right": null,
            "top": null,
            "visibility": null,
            "width": null
          }
        },
        "c0974c1fc8484d9e96d802243fc95947": {
          "model_module": "@jupyter-widgets/base",
          "model_name": "LayoutModel",
          "model_module_version": "1.2.0",
          "state": {
            "_model_module": "@jupyter-widgets/base",
            "_model_module_version": "1.2.0",
            "_model_name": "LayoutModel",
            "_view_count": null,
            "_view_module": "@jupyter-widgets/base",
            "_view_module_version": "1.2.0",
            "_view_name": "LayoutView",
            "align_content": null,
            "align_items": null,
            "align_self": null,
            "border": null,
            "bottom": null,
            "display": null,
            "flex": null,
            "flex_flow": null,
            "grid_area": null,
            "grid_auto_columns": null,
            "grid_auto_flow": null,
            "grid_auto_rows": null,
            "grid_column": null,
            "grid_gap": null,
            "grid_row": null,
            "grid_template_areas": null,
            "grid_template_columns": null,
            "grid_template_rows": null,
            "height": null,
            "justify_content": null,
            "justify_items": null,
            "left": null,
            "margin": null,
            "max_height": null,
            "max_width": null,
            "min_height": null,
            "min_width": null,
            "object_fit": null,
            "object_position": null,
            "order": null,
            "overflow": null,
            "overflow_x": null,
            "overflow_y": null,
            "padding": null,
            "right": null,
            "top": null,
            "visibility": null,
            "width": null
          }
        },
        "3901ea774b474aa8987ca75fe3998fc0": {
          "model_module": "@jupyter-widgets/controls",
          "model_name": "DescriptionStyleModel",
          "model_module_version": "1.5.0",
          "state": {
            "_model_module": "@jupyter-widgets/controls",
            "_model_module_version": "1.5.0",
            "_model_name": "DescriptionStyleModel",
            "_view_count": null,
            "_view_module": "@jupyter-widgets/base",
            "_view_module_version": "1.2.0",
            "_view_name": "StyleView",
            "description_width": ""
          }
        },
        "46536baf354a4137bc1961ee6042ca8e": {
          "model_module": "@jupyter-widgets/base",
          "model_name": "LayoutModel",
          "model_module_version": "1.2.0",
          "state": {
            "_model_module": "@jupyter-widgets/base",
            "_model_module_version": "1.2.0",
            "_model_name": "LayoutModel",
            "_view_count": null,
            "_view_module": "@jupyter-widgets/base",
            "_view_module_version": "1.2.0",
            "_view_name": "LayoutView",
            "align_content": null,
            "align_items": null,
            "align_self": null,
            "border": null,
            "bottom": null,
            "display": null,
            "flex": null,
            "flex_flow": null,
            "grid_area": null,
            "grid_auto_columns": null,
            "grid_auto_flow": null,
            "grid_auto_rows": null,
            "grid_column": null,
            "grid_gap": null,
            "grid_row": null,
            "grid_template_areas": null,
            "grid_template_columns": null,
            "grid_template_rows": null,
            "height": null,
            "justify_content": null,
            "justify_items": null,
            "left": null,
            "margin": null,
            "max_height": null,
            "max_width": null,
            "min_height": null,
            "min_width": null,
            "object_fit": null,
            "object_position": null,
            "order": null,
            "overflow": null,
            "overflow_x": null,
            "overflow_y": null,
            "padding": null,
            "right": null,
            "top": null,
            "visibility": null,
            "width": null
          }
        },
        "710188232d3e46aea7945f6a7905d639": {
          "model_module": "@jupyter-widgets/controls",
          "model_name": "ProgressStyleModel",
          "model_module_version": "1.5.0",
          "state": {
            "_model_module": "@jupyter-widgets/controls",
            "_model_module_version": "1.5.0",
            "_model_name": "ProgressStyleModel",
            "_view_count": null,
            "_view_module": "@jupyter-widgets/base",
            "_view_module_version": "1.2.0",
            "_view_name": "StyleView",
            "bar_color": null,
            "description_width": ""
          }
        },
        "52f1f624b2164f539daaf532c176d839": {
          "model_module": "@jupyter-widgets/base",
          "model_name": "LayoutModel",
          "model_module_version": "1.2.0",
          "state": {
            "_model_module": "@jupyter-widgets/base",
            "_model_module_version": "1.2.0",
            "_model_name": "LayoutModel",
            "_view_count": null,
            "_view_module": "@jupyter-widgets/base",
            "_view_module_version": "1.2.0",
            "_view_name": "LayoutView",
            "align_content": null,
            "align_items": null,
            "align_self": null,
            "border": null,
            "bottom": null,
            "display": null,
            "flex": null,
            "flex_flow": null,
            "grid_area": null,
            "grid_auto_columns": null,
            "grid_auto_flow": null,
            "grid_auto_rows": null,
            "grid_column": null,
            "grid_gap": null,
            "grid_row": null,
            "grid_template_areas": null,
            "grid_template_columns": null,
            "grid_template_rows": null,
            "height": null,
            "justify_content": null,
            "justify_items": null,
            "left": null,
            "margin": null,
            "max_height": null,
            "max_width": null,
            "min_height": null,
            "min_width": null,
            "object_fit": null,
            "object_position": null,
            "order": null,
            "overflow": null,
            "overflow_x": null,
            "overflow_y": null,
            "padding": null,
            "right": null,
            "top": null,
            "visibility": null,
            "width": null
          }
        },
        "7ffb1aff025c484c9bc5ff6cf03e0f6b": {
          "model_module": "@jupyter-widgets/controls",
          "model_name": "DescriptionStyleModel",
          "model_module_version": "1.5.0",
          "state": {
            "_model_module": "@jupyter-widgets/controls",
            "_model_module_version": "1.5.0",
            "_model_name": "DescriptionStyleModel",
            "_view_count": null,
            "_view_module": "@jupyter-widgets/base",
            "_view_module_version": "1.2.0",
            "_view_name": "StyleView",
            "description_width": ""
          }
        },
        "beee431d4dac4da6b5feece7d1809c48": {
          "model_module": "@jupyter-widgets/controls",
          "model_name": "HBoxModel",
          "model_module_version": "1.5.0",
          "state": {
            "_dom_classes": [],
            "_model_module": "@jupyter-widgets/controls",
            "_model_module_version": "1.5.0",
            "_model_name": "HBoxModel",
            "_view_count": null,
            "_view_module": "@jupyter-widgets/controls",
            "_view_module_version": "1.5.0",
            "_view_name": "HBoxView",
            "box_style": "",
            "children": [
              "IPY_MODEL_708b901e1eea47539036e470bc10d799",
              "IPY_MODEL_839da10718604dd9aee707a42d3ff6f0",
              "IPY_MODEL_145b865896a34256bb9ce3417a0796fd"
            ],
            "layout": "IPY_MODEL_0edacde1179d431980a6c489953f1534"
          }
        },
        "708b901e1eea47539036e470bc10d799": {
          "model_module": "@jupyter-widgets/controls",
          "model_name": "HTMLModel",
          "model_module_version": "1.5.0",
          "state": {
            "_dom_classes": [],
            "_model_module": "@jupyter-widgets/controls",
            "_model_module_version": "1.5.0",
            "_model_name": "HTMLModel",
            "_view_count": null,
            "_view_module": "@jupyter-widgets/controls",
            "_view_module_version": "1.5.0",
            "_view_name": "HTMLView",
            "description": "",
            "description_tooltip": null,
            "layout": "IPY_MODEL_226dcf86c38e4ffe8730259a59abff4b",
            "placeholder": "​",
            "style": "IPY_MODEL_35c5e6276fcc4a02a17b20d38582efe8",
            "value": "100%"
          }
        },
        "839da10718604dd9aee707a42d3ff6f0": {
          "model_module": "@jupyter-widgets/controls",
          "model_name": "FloatProgressModel",
          "model_module_version": "1.5.0",
          "state": {
            "_dom_classes": [],
            "_model_module": "@jupyter-widgets/controls",
            "_model_module_version": "1.5.0",
            "_model_name": "FloatProgressModel",
            "_view_count": null,
            "_view_module": "@jupyter-widgets/controls",
            "_view_module_version": "1.5.0",
            "_view_name": "ProgressView",
            "bar_style": "success",
            "description": "",
            "description_tooltip": null,
            "layout": "IPY_MODEL_b14eed3017b3405b829c6aae0754fe30",
            "max": 1889,
            "min": 0,
            "orientation": "horizontal",
            "style": "IPY_MODEL_8b00e61647b44e409818bc12c2b61825",
            "value": 1889
          }
        },
        "145b865896a34256bb9ce3417a0796fd": {
          "model_module": "@jupyter-widgets/controls",
          "model_name": "HTMLModel",
          "model_module_version": "1.5.0",
          "state": {
            "_dom_classes": [],
            "_model_module": "@jupyter-widgets/controls",
            "_model_module_version": "1.5.0",
            "_model_name": "HTMLModel",
            "_view_count": null,
            "_view_module": "@jupyter-widgets/controls",
            "_view_module_version": "1.5.0",
            "_view_name": "HTMLView",
            "description": "",
            "description_tooltip": null,
            "layout": "IPY_MODEL_2e3b70815ca849508c34902d1b2b2628",
            "placeholder": "​",
            "style": "IPY_MODEL_cf0f5aa0af4949d0b054223257eb6672",
            "value": " 1889/1889 [00:00&lt;00:00, 9611.57it/s]"
          }
        },
        "0edacde1179d431980a6c489953f1534": {
          "model_module": "@jupyter-widgets/base",
          "model_name": "LayoutModel",
          "model_module_version": "1.2.0",
          "state": {
            "_model_module": "@jupyter-widgets/base",
            "_model_module_version": "1.2.0",
            "_model_name": "LayoutModel",
            "_view_count": null,
            "_view_module": "@jupyter-widgets/base",
            "_view_module_version": "1.2.0",
            "_view_name": "LayoutView",
            "align_content": null,
            "align_items": null,
            "align_self": null,
            "border": null,
            "bottom": null,
            "display": null,
            "flex": null,
            "flex_flow": null,
            "grid_area": null,
            "grid_auto_columns": null,
            "grid_auto_flow": null,
            "grid_auto_rows": null,
            "grid_column": null,
            "grid_gap": null,
            "grid_row": null,
            "grid_template_areas": null,
            "grid_template_columns": null,
            "grid_template_rows": null,
            "height": null,
            "justify_content": null,
            "justify_items": null,
            "left": null,
            "margin": null,
            "max_height": null,
            "max_width": null,
            "min_height": null,
            "min_width": null,
            "object_fit": null,
            "object_position": null,
            "order": null,
            "overflow": null,
            "overflow_x": null,
            "overflow_y": null,
            "padding": null,
            "right": null,
            "top": null,
            "visibility": null,
            "width": null
          }
        },
        "226dcf86c38e4ffe8730259a59abff4b": {
          "model_module": "@jupyter-widgets/base",
          "model_name": "LayoutModel",
          "model_module_version": "1.2.0",
          "state": {
            "_model_module": "@jupyter-widgets/base",
            "_model_module_version": "1.2.0",
            "_model_name": "LayoutModel",
            "_view_count": null,
            "_view_module": "@jupyter-widgets/base",
            "_view_module_version": "1.2.0",
            "_view_name": "LayoutView",
            "align_content": null,
            "align_items": null,
            "align_self": null,
            "border": null,
            "bottom": null,
            "display": null,
            "flex": null,
            "flex_flow": null,
            "grid_area": null,
            "grid_auto_columns": null,
            "grid_auto_flow": null,
            "grid_auto_rows": null,
            "grid_column": null,
            "grid_gap": null,
            "grid_row": null,
            "grid_template_areas": null,
            "grid_template_columns": null,
            "grid_template_rows": null,
            "height": null,
            "justify_content": null,
            "justify_items": null,
            "left": null,
            "margin": null,
            "max_height": null,
            "max_width": null,
            "min_height": null,
            "min_width": null,
            "object_fit": null,
            "object_position": null,
            "order": null,
            "overflow": null,
            "overflow_x": null,
            "overflow_y": null,
            "padding": null,
            "right": null,
            "top": null,
            "visibility": null,
            "width": null
          }
        },
        "35c5e6276fcc4a02a17b20d38582efe8": {
          "model_module": "@jupyter-widgets/controls",
          "model_name": "DescriptionStyleModel",
          "model_module_version": "1.5.0",
          "state": {
            "_model_module": "@jupyter-widgets/controls",
            "_model_module_version": "1.5.0",
            "_model_name": "DescriptionStyleModel",
            "_view_count": null,
            "_view_module": "@jupyter-widgets/base",
            "_view_module_version": "1.2.0",
            "_view_name": "StyleView",
            "description_width": ""
          }
        },
        "b14eed3017b3405b829c6aae0754fe30": {
          "model_module": "@jupyter-widgets/base",
          "model_name": "LayoutModel",
          "model_module_version": "1.2.0",
          "state": {
            "_model_module": "@jupyter-widgets/base",
            "_model_module_version": "1.2.0",
            "_model_name": "LayoutModel",
            "_view_count": null,
            "_view_module": "@jupyter-widgets/base",
            "_view_module_version": "1.2.0",
            "_view_name": "LayoutView",
            "align_content": null,
            "align_items": null,
            "align_self": null,
            "border": null,
            "bottom": null,
            "display": null,
            "flex": null,
            "flex_flow": null,
            "grid_area": null,
            "grid_auto_columns": null,
            "grid_auto_flow": null,
            "grid_auto_rows": null,
            "grid_column": null,
            "grid_gap": null,
            "grid_row": null,
            "grid_template_areas": null,
            "grid_template_columns": null,
            "grid_template_rows": null,
            "height": null,
            "justify_content": null,
            "justify_items": null,
            "left": null,
            "margin": null,
            "max_height": null,
            "max_width": null,
            "min_height": null,
            "min_width": null,
            "object_fit": null,
            "object_position": null,
            "order": null,
            "overflow": null,
            "overflow_x": null,
            "overflow_y": null,
            "padding": null,
            "right": null,
            "top": null,
            "visibility": null,
            "width": null
          }
        },
        "8b00e61647b44e409818bc12c2b61825": {
          "model_module": "@jupyter-widgets/controls",
          "model_name": "ProgressStyleModel",
          "model_module_version": "1.5.0",
          "state": {
            "_model_module": "@jupyter-widgets/controls",
            "_model_module_version": "1.5.0",
            "_model_name": "ProgressStyleModel",
            "_view_count": null,
            "_view_module": "@jupyter-widgets/base",
            "_view_module_version": "1.2.0",
            "_view_name": "StyleView",
            "bar_color": null,
            "description_width": ""
          }
        },
        "2e3b70815ca849508c34902d1b2b2628": {
          "model_module": "@jupyter-widgets/base",
          "model_name": "LayoutModel",
          "model_module_version": "1.2.0",
          "state": {
            "_model_module": "@jupyter-widgets/base",
            "_model_module_version": "1.2.0",
            "_model_name": "LayoutModel",
            "_view_count": null,
            "_view_module": "@jupyter-widgets/base",
            "_view_module_version": "1.2.0",
            "_view_name": "LayoutView",
            "align_content": null,
            "align_items": null,
            "align_self": null,
            "border": null,
            "bottom": null,
            "display": null,
            "flex": null,
            "flex_flow": null,
            "grid_area": null,
            "grid_auto_columns": null,
            "grid_auto_flow": null,
            "grid_auto_rows": null,
            "grid_column": null,
            "grid_gap": null,
            "grid_row": null,
            "grid_template_areas": null,
            "grid_template_columns": null,
            "grid_template_rows": null,
            "height": null,
            "justify_content": null,
            "justify_items": null,
            "left": null,
            "margin": null,
            "max_height": null,
            "max_width": null,
            "min_height": null,
            "min_width": null,
            "object_fit": null,
            "object_position": null,
            "order": null,
            "overflow": null,
            "overflow_x": null,
            "overflow_y": null,
            "padding": null,
            "right": null,
            "top": null,
            "visibility": null,
            "width": null
          }
        },
        "cf0f5aa0af4949d0b054223257eb6672": {
          "model_module": "@jupyter-widgets/controls",
          "model_name": "DescriptionStyleModel",
          "model_module_version": "1.5.0",
          "state": {
            "_model_module": "@jupyter-widgets/controls",
            "_model_module_version": "1.5.0",
            "_model_name": "DescriptionStyleModel",
            "_view_count": null,
            "_view_module": "@jupyter-widgets/base",
            "_view_module_version": "1.2.0",
            "_view_name": "StyleView",
            "description_width": ""
          }
        },
        "e1fb3e975b484ad48ebd9ac397ae9f51": {
          "model_module": "@jupyter-widgets/controls",
          "model_name": "HBoxModel",
          "model_module_version": "1.5.0",
          "state": {
            "_dom_classes": [],
            "_model_module": "@jupyter-widgets/controls",
            "_model_module_version": "1.5.0",
            "_model_name": "HBoxModel",
            "_view_count": null,
            "_view_module": "@jupyter-widgets/controls",
            "_view_module_version": "1.5.0",
            "_view_name": "HBoxView",
            "box_style": "",
            "children": [
              "IPY_MODEL_08daf5313dbe4a4386ccf00878e785ca",
              "IPY_MODEL_7bafca2b8efe4a8fb08dd72ca2066207",
              "IPY_MODEL_1c52b7e662d844ab98b187a5f157e393"
            ],
            "layout": "IPY_MODEL_2936e9a5351344bf96d6cfe3c588d589"
          }
        },
        "08daf5313dbe4a4386ccf00878e785ca": {
          "model_module": "@jupyter-widgets/controls",
          "model_name": "HTMLModel",
          "model_module_version": "1.5.0",
          "state": {
            "_dom_classes": [],
            "_model_module": "@jupyter-widgets/controls",
            "_model_module_version": "1.5.0",
            "_model_name": "HTMLModel",
            "_view_count": null,
            "_view_module": "@jupyter-widgets/controls",
            "_view_module_version": "1.5.0",
            "_view_name": "HTMLView",
            "description": "",
            "description_tooltip": null,
            "layout": "IPY_MODEL_6c3ca1d3009a44b6b7300cdbdc281b1f",
            "placeholder": "​",
            "style": "IPY_MODEL_8f4f24b70753436fa45d406bca7af228",
            "value": "100%"
          }
        },
        "7bafca2b8efe4a8fb08dd72ca2066207": {
          "model_module": "@jupyter-widgets/controls",
          "model_name": "FloatProgressModel",
          "model_module_version": "1.5.0",
          "state": {
            "_dom_classes": [],
            "_model_module": "@jupyter-widgets/controls",
            "_model_module_version": "1.5.0",
            "_model_name": "FloatProgressModel",
            "_view_count": null,
            "_view_module": "@jupyter-widgets/controls",
            "_view_module_version": "1.5.0",
            "_view_name": "ProgressView",
            "bar_style": "success",
            "description": "",
            "description_tooltip": null,
            "layout": "IPY_MODEL_553abda30e6c458dbc83ec13dce6171d",
            "max": 1886,
            "min": 0,
            "orientation": "horizontal",
            "style": "IPY_MODEL_15f1de6d71394aa98592f658e0f595a9",
            "value": 1886
          }
        },
        "1c52b7e662d844ab98b187a5f157e393": {
          "model_module": "@jupyter-widgets/controls",
          "model_name": "HTMLModel",
          "model_module_version": "1.5.0",
          "state": {
            "_dom_classes": [],
            "_model_module": "@jupyter-widgets/controls",
            "_model_module_version": "1.5.0",
            "_model_name": "HTMLModel",
            "_view_count": null,
            "_view_module": "@jupyter-widgets/controls",
            "_view_module_version": "1.5.0",
            "_view_name": "HTMLView",
            "description": "",
            "description_tooltip": null,
            "layout": "IPY_MODEL_e4287ac51e704e168f406234536a6762",
            "placeholder": "​",
            "style": "IPY_MODEL_b49f696de8ab486a815c54774463242f",
            "value": " 1886/1886 [00:00&lt;00:00, 11377.95it/s]"
          }
        },
        "2936e9a5351344bf96d6cfe3c588d589": {
          "model_module": "@jupyter-widgets/base",
          "model_name": "LayoutModel",
          "model_module_version": "1.2.0",
          "state": {
            "_model_module": "@jupyter-widgets/base",
            "_model_module_version": "1.2.0",
            "_model_name": "LayoutModel",
            "_view_count": null,
            "_view_module": "@jupyter-widgets/base",
            "_view_module_version": "1.2.0",
            "_view_name": "LayoutView",
            "align_content": null,
            "align_items": null,
            "align_self": null,
            "border": null,
            "bottom": null,
            "display": null,
            "flex": null,
            "flex_flow": null,
            "grid_area": null,
            "grid_auto_columns": null,
            "grid_auto_flow": null,
            "grid_auto_rows": null,
            "grid_column": null,
            "grid_gap": null,
            "grid_row": null,
            "grid_template_areas": null,
            "grid_template_columns": null,
            "grid_template_rows": null,
            "height": null,
            "justify_content": null,
            "justify_items": null,
            "left": null,
            "margin": null,
            "max_height": null,
            "max_width": null,
            "min_height": null,
            "min_width": null,
            "object_fit": null,
            "object_position": null,
            "order": null,
            "overflow": null,
            "overflow_x": null,
            "overflow_y": null,
            "padding": null,
            "right": null,
            "top": null,
            "visibility": null,
            "width": null
          }
        },
        "6c3ca1d3009a44b6b7300cdbdc281b1f": {
          "model_module": "@jupyter-widgets/base",
          "model_name": "LayoutModel",
          "model_module_version": "1.2.0",
          "state": {
            "_model_module": "@jupyter-widgets/base",
            "_model_module_version": "1.2.0",
            "_model_name": "LayoutModel",
            "_view_count": null,
            "_view_module": "@jupyter-widgets/base",
            "_view_module_version": "1.2.0",
            "_view_name": "LayoutView",
            "align_content": null,
            "align_items": null,
            "align_self": null,
            "border": null,
            "bottom": null,
            "display": null,
            "flex": null,
            "flex_flow": null,
            "grid_area": null,
            "grid_auto_columns": null,
            "grid_auto_flow": null,
            "grid_auto_rows": null,
            "grid_column": null,
            "grid_gap": null,
            "grid_row": null,
            "grid_template_areas": null,
            "grid_template_columns": null,
            "grid_template_rows": null,
            "height": null,
            "justify_content": null,
            "justify_items": null,
            "left": null,
            "margin": null,
            "max_height": null,
            "max_width": null,
            "min_height": null,
            "min_width": null,
            "object_fit": null,
            "object_position": null,
            "order": null,
            "overflow": null,
            "overflow_x": null,
            "overflow_y": null,
            "padding": null,
            "right": null,
            "top": null,
            "visibility": null,
            "width": null
          }
        },
        "8f4f24b70753436fa45d406bca7af228": {
          "model_module": "@jupyter-widgets/controls",
          "model_name": "DescriptionStyleModel",
          "model_module_version": "1.5.0",
          "state": {
            "_model_module": "@jupyter-widgets/controls",
            "_model_module_version": "1.5.0",
            "_model_name": "DescriptionStyleModel",
            "_view_count": null,
            "_view_module": "@jupyter-widgets/base",
            "_view_module_version": "1.2.0",
            "_view_name": "StyleView",
            "description_width": ""
          }
        },
        "553abda30e6c458dbc83ec13dce6171d": {
          "model_module": "@jupyter-widgets/base",
          "model_name": "LayoutModel",
          "model_module_version": "1.2.0",
          "state": {
            "_model_module": "@jupyter-widgets/base",
            "_model_module_version": "1.2.0",
            "_model_name": "LayoutModel",
            "_view_count": null,
            "_view_module": "@jupyter-widgets/base",
            "_view_module_version": "1.2.0",
            "_view_name": "LayoutView",
            "align_content": null,
            "align_items": null,
            "align_self": null,
            "border": null,
            "bottom": null,
            "display": null,
            "flex": null,
            "flex_flow": null,
            "grid_area": null,
            "grid_auto_columns": null,
            "grid_auto_flow": null,
            "grid_auto_rows": null,
            "grid_column": null,
            "grid_gap": null,
            "grid_row": null,
            "grid_template_areas": null,
            "grid_template_columns": null,
            "grid_template_rows": null,
            "height": null,
            "justify_content": null,
            "justify_items": null,
            "left": null,
            "margin": null,
            "max_height": null,
            "max_width": null,
            "min_height": null,
            "min_width": null,
            "object_fit": null,
            "object_position": null,
            "order": null,
            "overflow": null,
            "overflow_x": null,
            "overflow_y": null,
            "padding": null,
            "right": null,
            "top": null,
            "visibility": null,
            "width": null
          }
        },
        "15f1de6d71394aa98592f658e0f595a9": {
          "model_module": "@jupyter-widgets/controls",
          "model_name": "ProgressStyleModel",
          "model_module_version": "1.5.0",
          "state": {
            "_model_module": "@jupyter-widgets/controls",
            "_model_module_version": "1.5.0",
            "_model_name": "ProgressStyleModel",
            "_view_count": null,
            "_view_module": "@jupyter-widgets/base",
            "_view_module_version": "1.2.0",
            "_view_name": "StyleView",
            "bar_color": null,
            "description_width": ""
          }
        },
        "e4287ac51e704e168f406234536a6762": {
          "model_module": "@jupyter-widgets/base",
          "model_name": "LayoutModel",
          "model_module_version": "1.2.0",
          "state": {
            "_model_module": "@jupyter-widgets/base",
            "_model_module_version": "1.2.0",
            "_model_name": "LayoutModel",
            "_view_count": null,
            "_view_module": "@jupyter-widgets/base",
            "_view_module_version": "1.2.0",
            "_view_name": "LayoutView",
            "align_content": null,
            "align_items": null,
            "align_self": null,
            "border": null,
            "bottom": null,
            "display": null,
            "flex": null,
            "flex_flow": null,
            "grid_area": null,
            "grid_auto_columns": null,
            "grid_auto_flow": null,
            "grid_auto_rows": null,
            "grid_column": null,
            "grid_gap": null,
            "grid_row": null,
            "grid_template_areas": null,
            "grid_template_columns": null,
            "grid_template_rows": null,
            "height": null,
            "justify_content": null,
            "justify_items": null,
            "left": null,
            "margin": null,
            "max_height": null,
            "max_width": null,
            "min_height": null,
            "min_width": null,
            "object_fit": null,
            "object_position": null,
            "order": null,
            "overflow": null,
            "overflow_x": null,
            "overflow_y": null,
            "padding": null,
            "right": null,
            "top": null,
            "visibility": null,
            "width": null
          }
        },
        "b49f696de8ab486a815c54774463242f": {
          "model_module": "@jupyter-widgets/controls",
          "model_name": "DescriptionStyleModel",
          "model_module_version": "1.5.0",
          "state": {
            "_model_module": "@jupyter-widgets/controls",
            "_model_module_version": "1.5.0",
            "_model_name": "DescriptionStyleModel",
            "_view_count": null,
            "_view_module": "@jupyter-widgets/base",
            "_view_module_version": "1.2.0",
            "_view_name": "StyleView",
            "description_width": ""
          }
        },
        "746589f506e944feaea0ba650805dc8d": {
          "model_module": "@jupyter-widgets/controls",
          "model_name": "HBoxModel",
          "model_module_version": "1.5.0",
          "state": {
            "_dom_classes": [],
            "_model_module": "@jupyter-widgets/controls",
            "_model_module_version": "1.5.0",
            "_model_name": "HBoxModel",
            "_view_count": null,
            "_view_module": "@jupyter-widgets/controls",
            "_view_module_version": "1.5.0",
            "_view_name": "HBoxView",
            "box_style": "",
            "children": [
              "IPY_MODEL_db2fb08882fe43aeabcc0ad83f034cda",
              "IPY_MODEL_45c6ca7ab3884820a763035cce68a869",
              "IPY_MODEL_39bbf8feb4294264b5366d5f42b26072"
            ],
            "layout": "IPY_MODEL_4fb286c801b04a348d6ff2db311d2283"
          }
        },
        "db2fb08882fe43aeabcc0ad83f034cda": {
          "model_module": "@jupyter-widgets/controls",
          "model_name": "HTMLModel",
          "model_module_version": "1.5.0",
          "state": {
            "_dom_classes": [],
            "_model_module": "@jupyter-widgets/controls",
            "_model_module_version": "1.5.0",
            "_model_name": "HTMLModel",
            "_view_count": null,
            "_view_module": "@jupyter-widgets/controls",
            "_view_module_version": "1.5.0",
            "_view_name": "HTMLView",
            "description": "",
            "description_tooltip": null,
            "layout": "IPY_MODEL_2e53a53735374265becde6c14a9faefd",
            "placeholder": "​",
            "style": "IPY_MODEL_dbe733d5b194489f994af6e24224ac91",
            "value": "100%"
          }
        },
        "45c6ca7ab3884820a763035cce68a869": {
          "model_module": "@jupyter-widgets/controls",
          "model_name": "FloatProgressModel",
          "model_module_version": "1.5.0",
          "state": {
            "_dom_classes": [],
            "_model_module": "@jupyter-widgets/controls",
            "_model_module_version": "1.5.0",
            "_model_name": "FloatProgressModel",
            "_view_count": null,
            "_view_module": "@jupyter-widgets/controls",
            "_view_module_version": "1.5.0",
            "_view_name": "ProgressView",
            "bar_style": "success",
            "description": "",
            "description_tooltip": null,
            "layout": "IPY_MODEL_8db9b575bdb246409dbadbd5a01bb539",
            "max": 255,
            "min": 0,
            "orientation": "horizontal",
            "style": "IPY_MODEL_a66f30c859c34633bb47a26d40d5559d",
            "value": 255
          }
        },
        "39bbf8feb4294264b5366d5f42b26072": {
          "model_module": "@jupyter-widgets/controls",
          "model_name": "HTMLModel",
          "model_module_version": "1.5.0",
          "state": {
            "_dom_classes": [],
            "_model_module": "@jupyter-widgets/controls",
            "_model_module_version": "1.5.0",
            "_model_name": "HTMLModel",
            "_view_count": null,
            "_view_module": "@jupyter-widgets/controls",
            "_view_module_version": "1.5.0",
            "_view_name": "HTMLView",
            "description": "",
            "description_tooltip": null,
            "layout": "IPY_MODEL_ca12a3bb7cdd477a909009bbe3b62adc",
            "placeholder": "​",
            "style": "IPY_MODEL_3f21506f7e2b417db3285132891a9fce",
            "value": " 255/255 [00:00&lt;00:00, 9017.42it/s]"
          }
        },
        "4fb286c801b04a348d6ff2db311d2283": {
          "model_module": "@jupyter-widgets/base",
          "model_name": "LayoutModel",
          "model_module_version": "1.2.0",
          "state": {
            "_model_module": "@jupyter-widgets/base",
            "_model_module_version": "1.2.0",
            "_model_name": "LayoutModel",
            "_view_count": null,
            "_view_module": "@jupyter-widgets/base",
            "_view_module_version": "1.2.0",
            "_view_name": "LayoutView",
            "align_content": null,
            "align_items": null,
            "align_self": null,
            "border": null,
            "bottom": null,
            "display": null,
            "flex": null,
            "flex_flow": null,
            "grid_area": null,
            "grid_auto_columns": null,
            "grid_auto_flow": null,
            "grid_auto_rows": null,
            "grid_column": null,
            "grid_gap": null,
            "grid_row": null,
            "grid_template_areas": null,
            "grid_template_columns": null,
            "grid_template_rows": null,
            "height": null,
            "justify_content": null,
            "justify_items": null,
            "left": null,
            "margin": null,
            "max_height": null,
            "max_width": null,
            "min_height": null,
            "min_width": null,
            "object_fit": null,
            "object_position": null,
            "order": null,
            "overflow": null,
            "overflow_x": null,
            "overflow_y": null,
            "padding": null,
            "right": null,
            "top": null,
            "visibility": null,
            "width": null
          }
        },
        "2e53a53735374265becde6c14a9faefd": {
          "model_module": "@jupyter-widgets/base",
          "model_name": "LayoutModel",
          "model_module_version": "1.2.0",
          "state": {
            "_model_module": "@jupyter-widgets/base",
            "_model_module_version": "1.2.0",
            "_model_name": "LayoutModel",
            "_view_count": null,
            "_view_module": "@jupyter-widgets/base",
            "_view_module_version": "1.2.0",
            "_view_name": "LayoutView",
            "align_content": null,
            "align_items": null,
            "align_self": null,
            "border": null,
            "bottom": null,
            "display": null,
            "flex": null,
            "flex_flow": null,
            "grid_area": null,
            "grid_auto_columns": null,
            "grid_auto_flow": null,
            "grid_auto_rows": null,
            "grid_column": null,
            "grid_gap": null,
            "grid_row": null,
            "grid_template_areas": null,
            "grid_template_columns": null,
            "grid_template_rows": null,
            "height": null,
            "justify_content": null,
            "justify_items": null,
            "left": null,
            "margin": null,
            "max_height": null,
            "max_width": null,
            "min_height": null,
            "min_width": null,
            "object_fit": null,
            "object_position": null,
            "order": null,
            "overflow": null,
            "overflow_x": null,
            "overflow_y": null,
            "padding": null,
            "right": null,
            "top": null,
            "visibility": null,
            "width": null
          }
        },
        "dbe733d5b194489f994af6e24224ac91": {
          "model_module": "@jupyter-widgets/controls",
          "model_name": "DescriptionStyleModel",
          "model_module_version": "1.5.0",
          "state": {
            "_model_module": "@jupyter-widgets/controls",
            "_model_module_version": "1.5.0",
            "_model_name": "DescriptionStyleModel",
            "_view_count": null,
            "_view_module": "@jupyter-widgets/base",
            "_view_module_version": "1.2.0",
            "_view_name": "StyleView",
            "description_width": ""
          }
        },
        "8db9b575bdb246409dbadbd5a01bb539": {
          "model_module": "@jupyter-widgets/base",
          "model_name": "LayoutModel",
          "model_module_version": "1.2.0",
          "state": {
            "_model_module": "@jupyter-widgets/base",
            "_model_module_version": "1.2.0",
            "_model_name": "LayoutModel",
            "_view_count": null,
            "_view_module": "@jupyter-widgets/base",
            "_view_module_version": "1.2.0",
            "_view_name": "LayoutView",
            "align_content": null,
            "align_items": null,
            "align_self": null,
            "border": null,
            "bottom": null,
            "display": null,
            "flex": null,
            "flex_flow": null,
            "grid_area": null,
            "grid_auto_columns": null,
            "grid_auto_flow": null,
            "grid_auto_rows": null,
            "grid_column": null,
            "grid_gap": null,
            "grid_row": null,
            "grid_template_areas": null,
            "grid_template_columns": null,
            "grid_template_rows": null,
            "height": null,
            "justify_content": null,
            "justify_items": null,
            "left": null,
            "margin": null,
            "max_height": null,
            "max_width": null,
            "min_height": null,
            "min_width": null,
            "object_fit": null,
            "object_position": null,
            "order": null,
            "overflow": null,
            "overflow_x": null,
            "overflow_y": null,
            "padding": null,
            "right": null,
            "top": null,
            "visibility": null,
            "width": null
          }
        },
        "a66f30c859c34633bb47a26d40d5559d": {
          "model_module": "@jupyter-widgets/controls",
          "model_name": "ProgressStyleModel",
          "model_module_version": "1.5.0",
          "state": {
            "_model_module": "@jupyter-widgets/controls",
            "_model_module_version": "1.5.0",
            "_model_name": "ProgressStyleModel",
            "_view_count": null,
            "_view_module": "@jupyter-widgets/base",
            "_view_module_version": "1.2.0",
            "_view_name": "StyleView",
            "bar_color": null,
            "description_width": ""
          }
        },
        "ca12a3bb7cdd477a909009bbe3b62adc": {
          "model_module": "@jupyter-widgets/base",
          "model_name": "LayoutModel",
          "model_module_version": "1.2.0",
          "state": {
            "_model_module": "@jupyter-widgets/base",
            "_model_module_version": "1.2.0",
            "_model_name": "LayoutModel",
            "_view_count": null,
            "_view_module": "@jupyter-widgets/base",
            "_view_module_version": "1.2.0",
            "_view_name": "LayoutView",
            "align_content": null,
            "align_items": null,
            "align_self": null,
            "border": null,
            "bottom": null,
            "display": null,
            "flex": null,
            "flex_flow": null,
            "grid_area": null,
            "grid_auto_columns": null,
            "grid_auto_flow": null,
            "grid_auto_rows": null,
            "grid_column": null,
            "grid_gap": null,
            "grid_row": null,
            "grid_template_areas": null,
            "grid_template_columns": null,
            "grid_template_rows": null,
            "height": null,
            "justify_content": null,
            "justify_items": null,
            "left": null,
            "margin": null,
            "max_height": null,
            "max_width": null,
            "min_height": null,
            "min_width": null,
            "object_fit": null,
            "object_position": null,
            "order": null,
            "overflow": null,
            "overflow_x": null,
            "overflow_y": null,
            "padding": null,
            "right": null,
            "top": null,
            "visibility": null,
            "width": null
          }
        },
        "3f21506f7e2b417db3285132891a9fce": {
          "model_module": "@jupyter-widgets/controls",
          "model_name": "DescriptionStyleModel",
          "model_module_version": "1.5.0",
          "state": {
            "_model_module": "@jupyter-widgets/controls",
            "_model_module_version": "1.5.0",
            "_model_name": "DescriptionStyleModel",
            "_view_count": null,
            "_view_module": "@jupyter-widgets/base",
            "_view_module_version": "1.2.0",
            "_view_name": "StyleView",
            "description_width": ""
          }
        },
        "85943e0edced47aa9d14b680b6386fb1": {
          "model_module": "@jupyter-widgets/controls",
          "model_name": "HBoxModel",
          "model_module_version": "1.5.0",
          "state": {
            "_dom_classes": [],
            "_model_module": "@jupyter-widgets/controls",
            "_model_module_version": "1.5.0",
            "_model_name": "HBoxModel",
            "_view_count": null,
            "_view_module": "@jupyter-widgets/controls",
            "_view_module_version": "1.5.0",
            "_view_name": "HBoxView",
            "box_style": "",
            "children": [
              "IPY_MODEL_7392c0504b994a41b96cc0e5027c0368",
              "IPY_MODEL_0ad017b07de440bc9152dd5cacbe42cb",
              "IPY_MODEL_5c70d1905d5243a8a9a286f9198cf623"
            ],
            "layout": "IPY_MODEL_a745bb2cb4954d8eacc5abcad137d157"
          }
        },
        "7392c0504b994a41b96cc0e5027c0368": {
          "model_module": "@jupyter-widgets/controls",
          "model_name": "HTMLModel",
          "model_module_version": "1.5.0",
          "state": {
            "_dom_classes": [],
            "_model_module": "@jupyter-widgets/controls",
            "_model_module_version": "1.5.0",
            "_model_name": "HTMLModel",
            "_view_count": null,
            "_view_module": "@jupyter-widgets/controls",
            "_view_module_version": "1.5.0",
            "_view_name": "HTMLView",
            "description": "",
            "description_tooltip": null,
            "layout": "IPY_MODEL_5f47b07316f24c22848ac4f628209f72",
            "placeholder": "​",
            "style": "IPY_MODEL_1f4aaa951c5b4daa88c8b2b062034eef",
            "value": "100%"
          }
        },
        "0ad017b07de440bc9152dd5cacbe42cb": {
          "model_module": "@jupyter-widgets/controls",
          "model_name": "FloatProgressModel",
          "model_module_version": "1.5.0",
          "state": {
            "_dom_classes": [],
            "_model_module": "@jupyter-widgets/controls",
            "_model_module_version": "1.5.0",
            "_model_name": "FloatProgressModel",
            "_view_count": null,
            "_view_module": "@jupyter-widgets/controls",
            "_view_module_version": "1.5.0",
            "_view_name": "ProgressView",
            "bar_style": "success",
            "description": "",
            "description_tooltip": null,
            "layout": "IPY_MODEL_6141ceee7dbd47e9a6f60dcfbb8560b5",
            "max": 2297,
            "min": 0,
            "orientation": "horizontal",
            "style": "IPY_MODEL_7f7cc994e9d5472f88f6a735426c9cf1",
            "value": 2297
          }
        },
        "5c70d1905d5243a8a9a286f9198cf623": {
          "model_module": "@jupyter-widgets/controls",
          "model_name": "HTMLModel",
          "model_module_version": "1.5.0",
          "state": {
            "_dom_classes": [],
            "_model_module": "@jupyter-widgets/controls",
            "_model_module_version": "1.5.0",
            "_model_name": "HTMLModel",
            "_view_count": null,
            "_view_module": "@jupyter-widgets/controls",
            "_view_module_version": "1.5.0",
            "_view_name": "HTMLView",
            "description": "",
            "description_tooltip": null,
            "layout": "IPY_MODEL_037bc19f4a124264b43ec8a0af4e5f31",
            "placeholder": "​",
            "style": "IPY_MODEL_ef77321f2ef7481588a91923e04c254c",
            "value": " 2297/2297 [00:00&lt;00:00, 42527.35it/s]"
          }
        },
        "a745bb2cb4954d8eacc5abcad137d157": {
          "model_module": "@jupyter-widgets/base",
          "model_name": "LayoutModel",
          "model_module_version": "1.2.0",
          "state": {
            "_model_module": "@jupyter-widgets/base",
            "_model_module_version": "1.2.0",
            "_model_name": "LayoutModel",
            "_view_count": null,
            "_view_module": "@jupyter-widgets/base",
            "_view_module_version": "1.2.0",
            "_view_name": "LayoutView",
            "align_content": null,
            "align_items": null,
            "align_self": null,
            "border": null,
            "bottom": null,
            "display": null,
            "flex": null,
            "flex_flow": null,
            "grid_area": null,
            "grid_auto_columns": null,
            "grid_auto_flow": null,
            "grid_auto_rows": null,
            "grid_column": null,
            "grid_gap": null,
            "grid_row": null,
            "grid_template_areas": null,
            "grid_template_columns": null,
            "grid_template_rows": null,
            "height": null,
            "justify_content": null,
            "justify_items": null,
            "left": null,
            "margin": null,
            "max_height": null,
            "max_width": null,
            "min_height": null,
            "min_width": null,
            "object_fit": null,
            "object_position": null,
            "order": null,
            "overflow": null,
            "overflow_x": null,
            "overflow_y": null,
            "padding": null,
            "right": null,
            "top": null,
            "visibility": null,
            "width": null
          }
        },
        "5f47b07316f24c22848ac4f628209f72": {
          "model_module": "@jupyter-widgets/base",
          "model_name": "LayoutModel",
          "model_module_version": "1.2.0",
          "state": {
            "_model_module": "@jupyter-widgets/base",
            "_model_module_version": "1.2.0",
            "_model_name": "LayoutModel",
            "_view_count": null,
            "_view_module": "@jupyter-widgets/base",
            "_view_module_version": "1.2.0",
            "_view_name": "LayoutView",
            "align_content": null,
            "align_items": null,
            "align_self": null,
            "border": null,
            "bottom": null,
            "display": null,
            "flex": null,
            "flex_flow": null,
            "grid_area": null,
            "grid_auto_columns": null,
            "grid_auto_flow": null,
            "grid_auto_rows": null,
            "grid_column": null,
            "grid_gap": null,
            "grid_row": null,
            "grid_template_areas": null,
            "grid_template_columns": null,
            "grid_template_rows": null,
            "height": null,
            "justify_content": null,
            "justify_items": null,
            "left": null,
            "margin": null,
            "max_height": null,
            "max_width": null,
            "min_height": null,
            "min_width": null,
            "object_fit": null,
            "object_position": null,
            "order": null,
            "overflow": null,
            "overflow_x": null,
            "overflow_y": null,
            "padding": null,
            "right": null,
            "top": null,
            "visibility": null,
            "width": null
          }
        },
        "1f4aaa951c5b4daa88c8b2b062034eef": {
          "model_module": "@jupyter-widgets/controls",
          "model_name": "DescriptionStyleModel",
          "model_module_version": "1.5.0",
          "state": {
            "_model_module": "@jupyter-widgets/controls",
            "_model_module_version": "1.5.0",
            "_model_name": "DescriptionStyleModel",
            "_view_count": null,
            "_view_module": "@jupyter-widgets/base",
            "_view_module_version": "1.2.0",
            "_view_name": "StyleView",
            "description_width": ""
          }
        },
        "6141ceee7dbd47e9a6f60dcfbb8560b5": {
          "model_module": "@jupyter-widgets/base",
          "model_name": "LayoutModel",
          "model_module_version": "1.2.0",
          "state": {
            "_model_module": "@jupyter-widgets/base",
            "_model_module_version": "1.2.0",
            "_model_name": "LayoutModel",
            "_view_count": null,
            "_view_module": "@jupyter-widgets/base",
            "_view_module_version": "1.2.0",
            "_view_name": "LayoutView",
            "align_content": null,
            "align_items": null,
            "align_self": null,
            "border": null,
            "bottom": null,
            "display": null,
            "flex": null,
            "flex_flow": null,
            "grid_area": null,
            "grid_auto_columns": null,
            "grid_auto_flow": null,
            "grid_auto_rows": null,
            "grid_column": null,
            "grid_gap": null,
            "grid_row": null,
            "grid_template_areas": null,
            "grid_template_columns": null,
            "grid_template_rows": null,
            "height": null,
            "justify_content": null,
            "justify_items": null,
            "left": null,
            "margin": null,
            "max_height": null,
            "max_width": null,
            "min_height": null,
            "min_width": null,
            "object_fit": null,
            "object_position": null,
            "order": null,
            "overflow": null,
            "overflow_x": null,
            "overflow_y": null,
            "padding": null,
            "right": null,
            "top": null,
            "visibility": null,
            "width": null
          }
        },
        "7f7cc994e9d5472f88f6a735426c9cf1": {
          "model_module": "@jupyter-widgets/controls",
          "model_name": "ProgressStyleModel",
          "model_module_version": "1.5.0",
          "state": {
            "_model_module": "@jupyter-widgets/controls",
            "_model_module_version": "1.5.0",
            "_model_name": "ProgressStyleModel",
            "_view_count": null,
            "_view_module": "@jupyter-widgets/base",
            "_view_module_version": "1.2.0",
            "_view_name": "StyleView",
            "bar_color": null,
            "description_width": ""
          }
        },
        "037bc19f4a124264b43ec8a0af4e5f31": {
          "model_module": "@jupyter-widgets/base",
          "model_name": "LayoutModel",
          "model_module_version": "1.2.0",
          "state": {
            "_model_module": "@jupyter-widgets/base",
            "_model_module_version": "1.2.0",
            "_model_name": "LayoutModel",
            "_view_count": null,
            "_view_module": "@jupyter-widgets/base",
            "_view_module_version": "1.2.0",
            "_view_name": "LayoutView",
            "align_content": null,
            "align_items": null,
            "align_self": null,
            "border": null,
            "bottom": null,
            "display": null,
            "flex": null,
            "flex_flow": null,
            "grid_area": null,
            "grid_auto_columns": null,
            "grid_auto_flow": null,
            "grid_auto_rows": null,
            "grid_column": null,
            "grid_gap": null,
            "grid_row": null,
            "grid_template_areas": null,
            "grid_template_columns": null,
            "grid_template_rows": null,
            "height": null,
            "justify_content": null,
            "justify_items": null,
            "left": null,
            "margin": null,
            "max_height": null,
            "max_width": null,
            "min_height": null,
            "min_width": null,
            "object_fit": null,
            "object_position": null,
            "order": null,
            "overflow": null,
            "overflow_x": null,
            "overflow_y": null,
            "padding": null,
            "right": null,
            "top": null,
            "visibility": null,
            "width": null
          }
        },
        "ef77321f2ef7481588a91923e04c254c": {
          "model_module": "@jupyter-widgets/controls",
          "model_name": "DescriptionStyleModel",
          "model_module_version": "1.5.0",
          "state": {
            "_model_module": "@jupyter-widgets/controls",
            "_model_module_version": "1.5.0",
            "_model_name": "DescriptionStyleModel",
            "_view_count": null,
            "_view_module": "@jupyter-widgets/base",
            "_view_module_version": "1.2.0",
            "_view_name": "StyleView",
            "description_width": ""
          }
        },
        "7f729516b6d74dbc904e1a82e08ebe2f": {
          "model_module": "@jupyter-widgets/controls",
          "model_name": "HBoxModel",
          "model_module_version": "1.5.0",
          "state": {
            "_dom_classes": [],
            "_model_module": "@jupyter-widgets/controls",
            "_model_module_version": "1.5.0",
            "_model_name": "HBoxModel",
            "_view_count": null,
            "_view_module": "@jupyter-widgets/controls",
            "_view_module_version": "1.5.0",
            "_view_name": "HBoxView",
            "box_style": "",
            "children": [
              "IPY_MODEL_7b52f099aafd4ffbb93bd705bb410050",
              "IPY_MODEL_5d1f6e1f018c47e7b4e95b696eaa1a67",
              "IPY_MODEL_973ebae34f534b02b388a0fa0109fe36"
            ],
            "layout": "IPY_MODEL_fcdda5781e554f5696b2e0a992c4bb3f"
          }
        },
        "7b52f099aafd4ffbb93bd705bb410050": {
          "model_module": "@jupyter-widgets/controls",
          "model_name": "HTMLModel",
          "model_module_version": "1.5.0",
          "state": {
            "_dom_classes": [],
            "_model_module": "@jupyter-widgets/controls",
            "_model_module_version": "1.5.0",
            "_model_name": "HTMLModel",
            "_view_count": null,
            "_view_module": "@jupyter-widgets/controls",
            "_view_module_version": "1.5.0",
            "_view_name": "HTMLView",
            "description": "",
            "description_tooltip": null,
            "layout": "IPY_MODEL_88807c1581f8492fb4f5afadcda9b1d9",
            "placeholder": "​",
            "style": "IPY_MODEL_d2a6b935714c4065b231405e147fa0a5",
            "value": "100%"
          }
        },
        "5d1f6e1f018c47e7b4e95b696eaa1a67": {
          "model_module": "@jupyter-widgets/controls",
          "model_name": "FloatProgressModel",
          "model_module_version": "1.5.0",
          "state": {
            "_dom_classes": [],
            "_model_module": "@jupyter-widgets/controls",
            "_model_module_version": "1.5.0",
            "_model_name": "FloatProgressModel",
            "_view_count": null,
            "_view_module": "@jupyter-widgets/controls",
            "_view_module_version": "1.5.0",
            "_view_name": "ProgressView",
            "bar_style": "success",
            "description": "",
            "description_tooltip": null,
            "layout": "IPY_MODEL_690ee7034676475fb671b171dad176d1",
            "max": 787,
            "min": 0,
            "orientation": "horizontal",
            "style": "IPY_MODEL_14bdeebc2de845698ac08ad099ed50d3",
            "value": 787
          }
        },
        "973ebae34f534b02b388a0fa0109fe36": {
          "model_module": "@jupyter-widgets/controls",
          "model_name": "HTMLModel",
          "model_module_version": "1.5.0",
          "state": {
            "_dom_classes": [],
            "_model_module": "@jupyter-widgets/controls",
            "_model_module_version": "1.5.0",
            "_model_name": "HTMLModel",
            "_view_count": null,
            "_view_module": "@jupyter-widgets/controls",
            "_view_module_version": "1.5.0",
            "_view_name": "HTMLView",
            "description": "",
            "description_tooltip": null,
            "layout": "IPY_MODEL_a72a27d888874d78b16174615e5d2aa2",
            "placeholder": "​",
            "style": "IPY_MODEL_5bbf470ef0d74d44bd6a40d4b98386ba",
            "value": " 787/787 [00:07&lt;00:00, 368.36it/s]"
          }
        },
        "fcdda5781e554f5696b2e0a992c4bb3f": {
          "model_module": "@jupyter-widgets/base",
          "model_name": "LayoutModel",
          "model_module_version": "1.2.0",
          "state": {
            "_model_module": "@jupyter-widgets/base",
            "_model_module_version": "1.2.0",
            "_model_name": "LayoutModel",
            "_view_count": null,
            "_view_module": "@jupyter-widgets/base",
            "_view_module_version": "1.2.0",
            "_view_name": "LayoutView",
            "align_content": null,
            "align_items": null,
            "align_self": null,
            "border": null,
            "bottom": null,
            "display": null,
            "flex": null,
            "flex_flow": null,
            "grid_area": null,
            "grid_auto_columns": null,
            "grid_auto_flow": null,
            "grid_auto_rows": null,
            "grid_column": null,
            "grid_gap": null,
            "grid_row": null,
            "grid_template_areas": null,
            "grid_template_columns": null,
            "grid_template_rows": null,
            "height": null,
            "justify_content": null,
            "justify_items": null,
            "left": null,
            "margin": null,
            "max_height": null,
            "max_width": null,
            "min_height": null,
            "min_width": null,
            "object_fit": null,
            "object_position": null,
            "order": null,
            "overflow": null,
            "overflow_x": null,
            "overflow_y": null,
            "padding": null,
            "right": null,
            "top": null,
            "visibility": null,
            "width": null
          }
        },
        "88807c1581f8492fb4f5afadcda9b1d9": {
          "model_module": "@jupyter-widgets/base",
          "model_name": "LayoutModel",
          "model_module_version": "1.2.0",
          "state": {
            "_model_module": "@jupyter-widgets/base",
            "_model_module_version": "1.2.0",
            "_model_name": "LayoutModel",
            "_view_count": null,
            "_view_module": "@jupyter-widgets/base",
            "_view_module_version": "1.2.0",
            "_view_name": "LayoutView",
            "align_content": null,
            "align_items": null,
            "align_self": null,
            "border": null,
            "bottom": null,
            "display": null,
            "flex": null,
            "flex_flow": null,
            "grid_area": null,
            "grid_auto_columns": null,
            "grid_auto_flow": null,
            "grid_auto_rows": null,
            "grid_column": null,
            "grid_gap": null,
            "grid_row": null,
            "grid_template_areas": null,
            "grid_template_columns": null,
            "grid_template_rows": null,
            "height": null,
            "justify_content": null,
            "justify_items": null,
            "left": null,
            "margin": null,
            "max_height": null,
            "max_width": null,
            "min_height": null,
            "min_width": null,
            "object_fit": null,
            "object_position": null,
            "order": null,
            "overflow": null,
            "overflow_x": null,
            "overflow_y": null,
            "padding": null,
            "right": null,
            "top": null,
            "visibility": null,
            "width": null
          }
        },
        "d2a6b935714c4065b231405e147fa0a5": {
          "model_module": "@jupyter-widgets/controls",
          "model_name": "DescriptionStyleModel",
          "model_module_version": "1.5.0",
          "state": {
            "_model_module": "@jupyter-widgets/controls",
            "_model_module_version": "1.5.0",
            "_model_name": "DescriptionStyleModel",
            "_view_count": null,
            "_view_module": "@jupyter-widgets/base",
            "_view_module_version": "1.2.0",
            "_view_name": "StyleView",
            "description_width": ""
          }
        },
        "690ee7034676475fb671b171dad176d1": {
          "model_module": "@jupyter-widgets/base",
          "model_name": "LayoutModel",
          "model_module_version": "1.2.0",
          "state": {
            "_model_module": "@jupyter-widgets/base",
            "_model_module_version": "1.2.0",
            "_model_name": "LayoutModel",
            "_view_count": null,
            "_view_module": "@jupyter-widgets/base",
            "_view_module_version": "1.2.0",
            "_view_name": "LayoutView",
            "align_content": null,
            "align_items": null,
            "align_self": null,
            "border": null,
            "bottom": null,
            "display": null,
            "flex": null,
            "flex_flow": null,
            "grid_area": null,
            "grid_auto_columns": null,
            "grid_auto_flow": null,
            "grid_auto_rows": null,
            "grid_column": null,
            "grid_gap": null,
            "grid_row": null,
            "grid_template_areas": null,
            "grid_template_columns": null,
            "grid_template_rows": null,
            "height": null,
            "justify_content": null,
            "justify_items": null,
            "left": null,
            "margin": null,
            "max_height": null,
            "max_width": null,
            "min_height": null,
            "min_width": null,
            "object_fit": null,
            "object_position": null,
            "order": null,
            "overflow": null,
            "overflow_x": null,
            "overflow_y": null,
            "padding": null,
            "right": null,
            "top": null,
            "visibility": null,
            "width": null
          }
        },
        "14bdeebc2de845698ac08ad099ed50d3": {
          "model_module": "@jupyter-widgets/controls",
          "model_name": "ProgressStyleModel",
          "model_module_version": "1.5.0",
          "state": {
            "_model_module": "@jupyter-widgets/controls",
            "_model_module_version": "1.5.0",
            "_model_name": "ProgressStyleModel",
            "_view_count": null,
            "_view_module": "@jupyter-widgets/base",
            "_view_module_version": "1.2.0",
            "_view_name": "StyleView",
            "bar_color": null,
            "description_width": ""
          }
        },
        "a72a27d888874d78b16174615e5d2aa2": {
          "model_module": "@jupyter-widgets/base",
          "model_name": "LayoutModel",
          "model_module_version": "1.2.0",
          "state": {
            "_model_module": "@jupyter-widgets/base",
            "_model_module_version": "1.2.0",
            "_model_name": "LayoutModel",
            "_view_count": null,
            "_view_module": "@jupyter-widgets/base",
            "_view_module_version": "1.2.0",
            "_view_name": "LayoutView",
            "align_content": null,
            "align_items": null,
            "align_self": null,
            "border": null,
            "bottom": null,
            "display": null,
            "flex": null,
            "flex_flow": null,
            "grid_area": null,
            "grid_auto_columns": null,
            "grid_auto_flow": null,
            "grid_auto_rows": null,
            "grid_column": null,
            "grid_gap": null,
            "grid_row": null,
            "grid_template_areas": null,
            "grid_template_columns": null,
            "grid_template_rows": null,
            "height": null,
            "justify_content": null,
            "justify_items": null,
            "left": null,
            "margin": null,
            "max_height": null,
            "max_width": null,
            "min_height": null,
            "min_width": null,
            "object_fit": null,
            "object_position": null,
            "order": null,
            "overflow": null,
            "overflow_x": null,
            "overflow_y": null,
            "padding": null,
            "right": null,
            "top": null,
            "visibility": null,
            "width": null
          }
        },
        "5bbf470ef0d74d44bd6a40d4b98386ba": {
          "model_module": "@jupyter-widgets/controls",
          "model_name": "DescriptionStyleModel",
          "model_module_version": "1.5.0",
          "state": {
            "_model_module": "@jupyter-widgets/controls",
            "_model_module_version": "1.5.0",
            "_model_name": "DescriptionStyleModel",
            "_view_count": null,
            "_view_module": "@jupyter-widgets/base",
            "_view_module_version": "1.2.0",
            "_view_name": "StyleView",
            "description_width": ""
          }
        },
        "4ec1f7f9cdc947838a574399b0b87f35": {
          "model_module": "@jupyter-widgets/controls",
          "model_name": "HBoxModel",
          "model_module_version": "1.5.0",
          "state": {
            "_dom_classes": [],
            "_model_module": "@jupyter-widgets/controls",
            "_model_module_version": "1.5.0",
            "_model_name": "HBoxModel",
            "_view_count": null,
            "_view_module": "@jupyter-widgets/controls",
            "_view_module_version": "1.5.0",
            "_view_name": "HBoxView",
            "box_style": "",
            "children": [
              "IPY_MODEL_14e23bb1c6004b9f829646a83ccc7ffc",
              "IPY_MODEL_b6b5d4c968304e4799d942642e914654",
              "IPY_MODEL_65534dc6654244eaadcf236c955dd3e4"
            ],
            "layout": "IPY_MODEL_406a87c427464c2cbea68d81fd2e16f5"
          }
        },
        "14e23bb1c6004b9f829646a83ccc7ffc": {
          "model_module": "@jupyter-widgets/controls",
          "model_name": "HTMLModel",
          "model_module_version": "1.5.0",
          "state": {
            "_dom_classes": [],
            "_model_module": "@jupyter-widgets/controls",
            "_model_module_version": "1.5.0",
            "_model_name": "HTMLModel",
            "_view_count": null,
            "_view_module": "@jupyter-widgets/controls",
            "_view_module_version": "1.5.0",
            "_view_name": "HTMLView",
            "description": "",
            "description_tooltip": null,
            "layout": "IPY_MODEL_7715587bf7eb44e8bcf3fa660cbe312f",
            "placeholder": "​",
            "style": "IPY_MODEL_817b799462ae4e71bec34684090cad87",
            "value": "100%"
          }
        },
        "b6b5d4c968304e4799d942642e914654": {
          "model_module": "@jupyter-widgets/controls",
          "model_name": "FloatProgressModel",
          "model_module_version": "1.5.0",
          "state": {
            "_dom_classes": [],
            "_model_module": "@jupyter-widgets/controls",
            "_model_module_version": "1.5.0",
            "_model_name": "FloatProgressModel",
            "_view_count": null,
            "_view_module": "@jupyter-widgets/controls",
            "_view_module_version": "1.5.0",
            "_view_name": "ProgressView",
            "bar_style": "success",
            "description": "",
            "description_tooltip": null,
            "layout": "IPY_MODEL_7b5f0fde32eb4ee1b95c9f3c33b6da5f",
            "max": 352,
            "min": 0,
            "orientation": "horizontal",
            "style": "IPY_MODEL_5781579f842f4b99ba5b920b666cd2db",
            "value": 352
          }
        },
        "65534dc6654244eaadcf236c955dd3e4": {
          "model_module": "@jupyter-widgets/controls",
          "model_name": "HTMLModel",
          "model_module_version": "1.5.0",
          "state": {
            "_dom_classes": [],
            "_model_module": "@jupyter-widgets/controls",
            "_model_module_version": "1.5.0",
            "_model_name": "HTMLModel",
            "_view_count": null,
            "_view_module": "@jupyter-widgets/controls",
            "_view_module_version": "1.5.0",
            "_view_name": "HTMLView",
            "description": "",
            "description_tooltip": null,
            "layout": "IPY_MODEL_bbcfe461a9f340759ef288b00f223e33",
            "placeholder": "​",
            "style": "IPY_MODEL_d711b8b6d8aa4f35a5e7ac905938e0a5",
            "value": " 352/352 [00:01&lt;00:00, 398.77it/s]"
          }
        },
        "406a87c427464c2cbea68d81fd2e16f5": {
          "model_module": "@jupyter-widgets/base",
          "model_name": "LayoutModel",
          "model_module_version": "1.2.0",
          "state": {
            "_model_module": "@jupyter-widgets/base",
            "_model_module_version": "1.2.0",
            "_model_name": "LayoutModel",
            "_view_count": null,
            "_view_module": "@jupyter-widgets/base",
            "_view_module_version": "1.2.0",
            "_view_name": "LayoutView",
            "align_content": null,
            "align_items": null,
            "align_self": null,
            "border": null,
            "bottom": null,
            "display": null,
            "flex": null,
            "flex_flow": null,
            "grid_area": null,
            "grid_auto_columns": null,
            "grid_auto_flow": null,
            "grid_auto_rows": null,
            "grid_column": null,
            "grid_gap": null,
            "grid_row": null,
            "grid_template_areas": null,
            "grid_template_columns": null,
            "grid_template_rows": null,
            "height": null,
            "justify_content": null,
            "justify_items": null,
            "left": null,
            "margin": null,
            "max_height": null,
            "max_width": null,
            "min_height": null,
            "min_width": null,
            "object_fit": null,
            "object_position": null,
            "order": null,
            "overflow": null,
            "overflow_x": null,
            "overflow_y": null,
            "padding": null,
            "right": null,
            "top": null,
            "visibility": null,
            "width": null
          }
        },
        "7715587bf7eb44e8bcf3fa660cbe312f": {
          "model_module": "@jupyter-widgets/base",
          "model_name": "LayoutModel",
          "model_module_version": "1.2.0",
          "state": {
            "_model_module": "@jupyter-widgets/base",
            "_model_module_version": "1.2.0",
            "_model_name": "LayoutModel",
            "_view_count": null,
            "_view_module": "@jupyter-widgets/base",
            "_view_module_version": "1.2.0",
            "_view_name": "LayoutView",
            "align_content": null,
            "align_items": null,
            "align_self": null,
            "border": null,
            "bottom": null,
            "display": null,
            "flex": null,
            "flex_flow": null,
            "grid_area": null,
            "grid_auto_columns": null,
            "grid_auto_flow": null,
            "grid_auto_rows": null,
            "grid_column": null,
            "grid_gap": null,
            "grid_row": null,
            "grid_template_areas": null,
            "grid_template_columns": null,
            "grid_template_rows": null,
            "height": null,
            "justify_content": null,
            "justify_items": null,
            "left": null,
            "margin": null,
            "max_height": null,
            "max_width": null,
            "min_height": null,
            "min_width": null,
            "object_fit": null,
            "object_position": null,
            "order": null,
            "overflow": null,
            "overflow_x": null,
            "overflow_y": null,
            "padding": null,
            "right": null,
            "top": null,
            "visibility": null,
            "width": null
          }
        },
        "817b799462ae4e71bec34684090cad87": {
          "model_module": "@jupyter-widgets/controls",
          "model_name": "DescriptionStyleModel",
          "model_module_version": "1.5.0",
          "state": {
            "_model_module": "@jupyter-widgets/controls",
            "_model_module_version": "1.5.0",
            "_model_name": "DescriptionStyleModel",
            "_view_count": null,
            "_view_module": "@jupyter-widgets/base",
            "_view_module_version": "1.2.0",
            "_view_name": "StyleView",
            "description_width": ""
          }
        },
        "7b5f0fde32eb4ee1b95c9f3c33b6da5f": {
          "model_module": "@jupyter-widgets/base",
          "model_name": "LayoutModel",
          "model_module_version": "1.2.0",
          "state": {
            "_model_module": "@jupyter-widgets/base",
            "_model_module_version": "1.2.0",
            "_model_name": "LayoutModel",
            "_view_count": null,
            "_view_module": "@jupyter-widgets/base",
            "_view_module_version": "1.2.0",
            "_view_name": "LayoutView",
            "align_content": null,
            "align_items": null,
            "align_self": null,
            "border": null,
            "bottom": null,
            "display": null,
            "flex": null,
            "flex_flow": null,
            "grid_area": null,
            "grid_auto_columns": null,
            "grid_auto_flow": null,
            "grid_auto_rows": null,
            "grid_column": null,
            "grid_gap": null,
            "grid_row": null,
            "grid_template_areas": null,
            "grid_template_columns": null,
            "grid_template_rows": null,
            "height": null,
            "justify_content": null,
            "justify_items": null,
            "left": null,
            "margin": null,
            "max_height": null,
            "max_width": null,
            "min_height": null,
            "min_width": null,
            "object_fit": null,
            "object_position": null,
            "order": null,
            "overflow": null,
            "overflow_x": null,
            "overflow_y": null,
            "padding": null,
            "right": null,
            "top": null,
            "visibility": null,
            "width": null
          }
        },
        "5781579f842f4b99ba5b920b666cd2db": {
          "model_module": "@jupyter-widgets/controls",
          "model_name": "ProgressStyleModel",
          "model_module_version": "1.5.0",
          "state": {
            "_model_module": "@jupyter-widgets/controls",
            "_model_module_version": "1.5.0",
            "_model_name": "ProgressStyleModel",
            "_view_count": null,
            "_view_module": "@jupyter-widgets/base",
            "_view_module_version": "1.2.0",
            "_view_name": "StyleView",
            "bar_color": null,
            "description_width": ""
          }
        },
        "bbcfe461a9f340759ef288b00f223e33": {
          "model_module": "@jupyter-widgets/base",
          "model_name": "LayoutModel",
          "model_module_version": "1.2.0",
          "state": {
            "_model_module": "@jupyter-widgets/base",
            "_model_module_version": "1.2.0",
            "_model_name": "LayoutModel",
            "_view_count": null,
            "_view_module": "@jupyter-widgets/base",
            "_view_module_version": "1.2.0",
            "_view_name": "LayoutView",
            "align_content": null,
            "align_items": null,
            "align_self": null,
            "border": null,
            "bottom": null,
            "display": null,
            "flex": null,
            "flex_flow": null,
            "grid_area": null,
            "grid_auto_columns": null,
            "grid_auto_flow": null,
            "grid_auto_rows": null,
            "grid_column": null,
            "grid_gap": null,
            "grid_row": null,
            "grid_template_areas": null,
            "grid_template_columns": null,
            "grid_template_rows": null,
            "height": null,
            "justify_content": null,
            "justify_items": null,
            "left": null,
            "margin": null,
            "max_height": null,
            "max_width": null,
            "min_height": null,
            "min_width": null,
            "object_fit": null,
            "object_position": null,
            "order": null,
            "overflow": null,
            "overflow_x": null,
            "overflow_y": null,
            "padding": null,
            "right": null,
            "top": null,
            "visibility": null,
            "width": null
          }
        },
        "d711b8b6d8aa4f35a5e7ac905938e0a5": {
          "model_module": "@jupyter-widgets/controls",
          "model_name": "DescriptionStyleModel",
          "model_module_version": "1.5.0",
          "state": {
            "_model_module": "@jupyter-widgets/controls",
            "_model_module_version": "1.5.0",
            "_model_name": "DescriptionStyleModel",
            "_view_count": null,
            "_view_module": "@jupyter-widgets/base",
            "_view_module_version": "1.2.0",
            "_view_name": "StyleView",
            "description_width": ""
          }
        }
      }
    }
  },
  "nbformat": 4,
  "nbformat_minor": 0
}