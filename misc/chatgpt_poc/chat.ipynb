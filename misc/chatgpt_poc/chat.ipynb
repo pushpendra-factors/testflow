{
 "cells": [
  {
   "cell_type": "code",
   "execution_count": 1,
   "metadata": {},
   "outputs": [],
   "source": [
    "import openai\n",
    "import json\n",
    "import pandas as pd\n",
    "from pprint import pprint"
   ]
  },
  {
   "cell_type": "code",
   "execution_count": 2,
   "metadata": {},
   "outputs": [],
   "source": [
    "# Set up the ChatGPT API credentials\n",
    "openai.api_key = json.load(open('key.json', 'r'))['key']\n",
    "\n",
    "data_path = \"chatgpt_training_data_v1.0.tsv\"\n",
    "df = pd.read_csv(data_path, sep='\\t')\n",
    "df.columns = ['question', 'project_dashboard', 'result', 'query', 'concat']\n",
    "examples = \"\\n\".join(df.apply(lambda x: f\"{x['question']}: {x['result']}\", axis=1))"
   ]
  },
  {
   "cell_type": "code",
   "execution_count": 76,
   "metadata": {},
   "outputs": [],
   "source": [
    "def ask_gpt(examples=examples, question=None, prepend_question=False, prelude=None):\n",
    "    prompt = examples if question is None else f\"{examples}\\n\\n{question}:\"\n",
    "    if prelude is not None:\n",
    "        prompt = prelude + '\\n\\n' + prompt\n",
    "    response = openai.Completion.create(\n",
    "        engine=\"text-davinci-003\",\n",
    "        prompt=prompt,\n",
    "        max_tokens=1024,\n",
    "        n=1,\n",
    "        stop=None,\n",
    "        temperature=0.7\n",
    "    )\n",
    "    answer = response.choices[0].text.strip()\n",
    "    if prepend_question:\n",
    "        return f\"Q: {question}<br>A: {answer}<br><br>\"\n",
    "    else:\n",
    "        return answer"
   ]
  },
  {
   "cell_type": "code",
   "execution_count": 82,
   "metadata": {},
   "outputs": [
    {
     "name": "stdout",
     "output_type": "stream",
     "text": [
      "\n",
      "Allowed JSON keys are K1--K10, and range of values for key Ki are Vi.1--Vi.ni, where ni is the number of allowed values of key Ki. If you don't find any appropriate key or value, return the whole answer as NA (with reason included):\n",
      "K1. 'end_time'\n",
      "\tV1.1. 31-jan-2023, V1.2. default\n",
      "K2. 'query_breakdown_1'\n",
      "\tV2.1. $channel, V2.2. $initial_channel, V2.3. none\n",
      "K3. 'query_breakdown_2'\n",
      "\tV3.1. $channel, V3.2. $initial_channel, V3.3. none\n",
      "K4. 'query_entity_1'\n",
      "\tV4.1. $form_submitted, V4.2. average_page_views_per_session, V4.3. form_submission, V4.4. new_users, V4.5. repeat_users, V4.6. total_sessions, V4.7. unique_users, V4.8. website_session\n",
      "K5. 'query_entity_2'\n",
      "\tV5.1. $form_submitted, V5.2. average_page_views_per_session, V5.3. form_submission, V5.4. new_users, V5.5. repeat_users, V5.6. total_sessions, V5.7. unique_users, V5.8. website_session\n",
      "K6. 'query_filter_1'\n",
      "\tV6.1. is_first_session equals true, V6.2. none\n",
      "K7. 'query_filter_2'\n",
      "\tV7.1. is_first_session equals true, V7.2. none\n",
      "K8. 'query_type'\n",
      "\tV8.1. funnel, V8.2. kpi\n",
      "K9. 'start_time'\n",
      "\tV9.1. 01-jan-2023, V9.2. default\n",
      "K10. 'time_range'\n",
      "\tV10.1. default, V10.2. last_month, V10.3. last_quarter, V10.4. last_week, V10.5. none, V10.6. this_month, V10.7. this_quarter, V10.8. this_week, V10.9. today\n"
     ]
    }
   ],
   "source": [
    "from functools import reduce\n",
    "from collections import defaultdict\n",
    "\n",
    "keys = df['result'].apply(json.loads).apply(set)\n",
    "values = df['result'].apply(json.loads).apply(lambda x: set(x.values()))\n",
    "key_values = df['result'].apply(json.loads).to_list()\n",
    "all_keys = reduce(lambda x, y: x | y, keys)\n",
    "all_values = reduce(lambda x, y: x | y, values)\n",
    "all_key_values = defaultdict(set)\n",
    "for kvs in key_values:\n",
    "    for k, v in kvs.items():\n",
    "        if k.endswith('_1') or k.endswith('_2'):\n",
    "            k = k[:-1] + 'i'\n",
    "        all_key_values[k].add(v)\n",
    "all_key_values\n",
    "\n",
    "json_keys_str = \"\\n\".join([f\"K{i+1}. '{k}'\" for i, k in enumerate(sorted(all_keys))])\n",
    "# print(f'Allowed JSON keys are the following (from K1 to K{len(all_keys)}):')\n",
    "\n",
    "# print(json_keys_str)\n",
    "print('')\n",
    "prelude = f'Allowed JSON keys are K1--K{len(all_keys)}, and range of values for key Ki are Vi.1--Vi.ni, where ni is the number of allowed values of key Ki. If you don\\'t find any appropriate key or value, return the whole answer as NA (with reason included):'\n",
    "json_kvs_str = '\\n'.join([f\"K{i+1}. '{k}'\\n\\t{', '.join(['V' + str(i+1) + '.' + str(j+1) + '. ' + v for j, v in enumerate(sorted(all_key_values[k[:-1] + 'i' if k.endswith('_1') or k.endswith('_2') else k]))])}\" for i, k in enumerate(sorted(all_keys))])\n",
    "\n",
    "prelude += '\\n'+json_kvs_str\n",
    "print(prelude)"
   ]
  },
  {
   "cell_type": "code",
   "execution_count": 85,
   "metadata": {},
   "outputs": [
    {
     "name": "stdout",
     "output_type": "stream",
     "text": [
      "Q: how many sessions last to last month?\n",
      "A: NA (time range allowed values do not include 'last to last month' value)\n"
     ]
    }
   ],
   "source": [
    "question = input('Q: ')\n",
    "\n",
    "if len(question) < 5:\n",
    "    answer = 'Your question should be at least 5 characters long.'\n",
    "else:\n",
    "    try:\n",
    "        answer = ask_gpt(question=question, prelude=prelude)\n",
    "    except openai.error.AuthenticationError:\n",
    "        openai.api_key = input('API Key Error. Enter correct key: ')\n",
    "        answer = ask_gpt(question=question, prelude=prelude)\n",
    "print('Q: ', end='')\n",
    "print(question)\n",
    "print('A: ', end='')\n",
    "try:\n",
    "    pprint(json.loads(answer))\n",
    "except:\n",
    "    print(answer)"
   ]
  },
  {
   "cell_type": "code",
   "execution_count": 73,
   "metadata": {},
   "outputs": [
    {
     "name": "stdout",
     "output_type": "stream",
     "text": [
      "['Total Sessions',\n",
      " 'Total number of Sessions in the last month',\n",
      " 'Total number of Sessions in the last week',\n",
      " 'How many new users we had this week?',\n",
      " 'How many users this month visited our website this month?',\n",
      " 'How many repeat users did we have in last quarter?',\n",
      " \"What's the breakdown of website sessions by channel this quarter\",\n",
      " 'Sessions By Channel',\n",
      " \"What's the average page views and time spent per session in the month of Jan\",\n",
      " 'First Session that led to Form Button Clicks',\n",
      " \"What's the conversion rate from first session to a Form Button Click\",\n",
      " 'Which Channels are leading to Form Button Clicks today']\n"
     ]
    }
   ],
   "source": [
    "pprint(df['question'].to_list())"
   ]
  },
  {
   "cell_type": "code",
   "execution_count": null,
   "metadata": {},
   "outputs": [],
   "source": []
  }
 ],
 "metadata": {
  "kernelspec": {
   "display_name": "base",
   "language": "python",
   "name": "python3"
  },
  "language_info": {
   "codemirror_mode": {
    "name": "ipython",
    "version": 3
   },
   "file_extension": ".py",
   "mimetype": "text/x-python",
   "name": "python",
   "nbconvert_exporter": "python",
   "pygments_lexer": "ipython3",
   "version": "3.8.3"
  },
  "orig_nbformat": 4
 },
 "nbformat": 4,
 "nbformat_minor": 2
}
